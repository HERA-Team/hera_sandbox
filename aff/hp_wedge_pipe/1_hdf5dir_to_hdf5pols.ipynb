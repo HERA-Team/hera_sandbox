{
 "cells": [
  {
   "cell_type": "code",
   "execution_count": null,
   "metadata": {},
   "outputs": [],
   "source": [
    "\"\"\"This script will convert N*4 hdf5 files into 4 hdf5 files that each represent N files of one polarization.\"\"\"\n",
    "# Python Standard Library Packages\n",
    "import os\n",
    "# import copy\n",
    "import glob\n",
    "\n",
    "# Community Developed Packages\n",
    "import numpy as np\n",
    "# import astropy.units as u\n",
    "# import astropy.constants as c\n",
    "# import matplotlib.pyplot as plt\n",
    "\n",
    "# HERA Collaboration Packages\n",
    "# import hera_pspec as hp\n",
    "# from hera_pspec.data import DATA_PATH\n",
    "from pyuvdata import UVData\n",
    "# from hera_cal import redcal"
   ]
  },
  {
   "cell_type": "code",
   "execution_count": null,
   "metadata": {},
   "outputs": [],
   "source": [
    "hdf5_DATA_PATH = '/lustre/aoc/projects/hera/afortino/zen_2458111_one_1pol_HH_uvOCRS_hdf5/'\n",
    "SAVE_PATH = '/lustre/aoc/projects/hera/afortino/zen_2458111_all_1pol_HH_uvOCRS_hdf5'\n",
    "EXTENSION = 'uvOCRS'"
   ]
  },
  {
   "cell_type": "code",
   "execution_count": null,
   "metadata": {},
   "outputs": [],
   "source": [
    "hdf5_DFILES = {\n",
    "    'xx': sorted(glob.glob(os.path.join(hdf5_DATA_PATH, 'zen.2458111.?????.xx.HH.{ext}.hdf5'.format(\n",
    "        ext=EXTENSION)))),\n",
    "    'xy': sorted(glob.glob(os.path.join(hdf5_DATA_PATH, 'zen.2458111.?????.xy.HH.{ext}.hdf5'.format(\n",
    "        ext=EXTENSION)))),\n",
    "    'yx': sorted(glob.glob(os.path.join(hdf5_DATA_PATH, 'zen.2458111.?????.yx.HH.{ext}.hdf5'.format(\n",
    "        ext=EXTENSION)))),\n",
    "    'yy': sorted(glob.glob(os.path.join(hdf5_DATA_PATH, 'zen.2458111.?????.yy.HH.{ext}.hdf5'.format(\n",
    "        ext=EXTENSION))))}"
   ]
  },
  {
   "cell_type": "code",
   "execution_count": null,
   "metadata": {},
   "outputs": [],
   "source": [
    "for pol in sorted(hdf5_DFILES):\n",
    "    uvd = UVData()\n",
    "    uvdf = UVData()\n",
    "    uvd.read_uvh5(hdf5_DFILES[pol])\n",
    "    uvdf.read_uvh5(hdf5_DFILES[pol][-1])\n",
    "    \n",
    "    JDt0 = np.round(np.unique(uvd.time_array)[0], 5)\n",
    "    JDtf = np.round(np.unique(uvdf.time_array)[0], 5)\n",
    "    JD = str(int(JDt0))\n",
    "    JDt0 = '{:.5f}'.format(JDt0).split('.')[-1]\n",
    "    JDtf = '{:.5f}'.format(JDtf).split('.')[-1]\n",
    "    numfiles = str(len(hdf5_DFILES[pol]))\n",
    "    \n",
    "    uvd.extra_keywords['JDt0'] = JDt0\n",
    "    uvd.extra_keywords['JDtf'] = JDtf\n",
    "    uvd.extra_keywords['JD'] = JD\n",
    "    uvd.extra_keywords['numfiles'] = numfiles\n",
    "    uvd.extra_keywords['ext'] = EXTENSION\n",
    "    \n",
    "    hdf5 = 'zen.{JD}.{JDt0}_{numfiles}_{JDtf}.{pol}.HH.{ext}'.format(\n",
    "        JD=JD,\n",
    "        JDt0=JDt0,\n",
    "        numfiles=numfiles,\n",
    "        JDtf=JDtf,\n",
    "        pol=pol,\n",
    "        ext=EXTENSION)\n",
    "    hdf5 = os.path.join(SAVE_PATH, hdf5)\n",
    "    print hdf5\n",
    "    uvd.write_uvh5(hdf5)"
   ]
  },
  {
   "cell_type": "code",
   "execution_count": null,
   "metadata": {},
   "outputs": [],
   "source": []
  }
 ],
 "metadata": {
  "kernelspec": {
   "display_name": "Python 2",
   "language": "python",
   "name": "python2"
  },
  "language_info": {
   "codemirror_mode": {
    "name": "ipython",
    "version": 2
   },
   "file_extension": ".py",
   "mimetype": "text/x-python",
   "name": "python",
   "nbconvert_exporter": "python",
   "pygments_lexer": "ipython2",
   "version": "2.7.15"
  }
 },
 "nbformat": 4,
 "nbformat_minor": 2
}
