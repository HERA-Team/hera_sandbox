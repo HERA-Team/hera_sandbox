{
 "cells": [
  {
   "cell_type": "code",
   "execution_count": 21,
   "metadata": {},
   "outputs": [],
   "source": [
    "import os\n",
    "from glob import glob\n",
    "\n",
    "import numpy as np\n",
    "\n",
    "from pyuvdata import UVData"
   ]
  },
  {
   "cell_type": "code",
   "execution_count": 61,
   "metadata": {},
   "outputs": [],
   "source": [
    "SAVEPATH = '/lustre/aoc/projects/hera/afortino/2458111'\n",
    "dfiles = sorted(glob('/lustre/aoc/projects/hera/afortino/2458111/zen.2458111.?????.??.HH.uvOCRS'))"
   ]
  },
  {
   "cell_type": "code",
   "execution_count": 71,
   "metadata": {},
   "outputs": [
    {
     "name": "stdout",
     "output_type": "stream",
     "text": [
      "xx, yy, xy, and yx files are present in equal numbers\n"
     ]
    }
   ],
   "source": [
    "if len([dfile for dfile in dfiles if 'xx' in dfile]) == \\\n",
    "len([dfile for dfile in dfiles if 'yy' in dfile]) == \\\n",
    "len([dfile for dfile in dfiles if 'xy' in dfile]) == \\\n",
    "len([dfile for dfile in dfiles if 'yx' in dfile]):\n",
    "    print 'xx, yy, xy, and yx files are present in equal numbers'\n",
    "else: raise Exception('xx, yy, xy, and yx files are NOT present in equal numbers')"
   ]
  },
  {
   "cell_type": "code",
   "execution_count": 74,
   "metadata": {
    "scrolled": true
   },
   "outputs": [
    {
     "name": "stdout",
     "output_type": "stream",
     "text": [
      "73\n"
     ]
    },
    {
     "ename": "AttributeError",
     "evalue": "'numpy.ndarray' object has no attribute 'join'",
     "output_type": "error",
     "traceback": [
      "\u001b[0;31m---------------------------------------------------------------------------\u001b[0m",
      "\u001b[0;31mAttributeError\u001b[0m                            Traceback (most recent call last)",
      "\u001b[0;32m<ipython-input-74-41ab4a6ddf6e>\u001b[0m in \u001b[0;36m<module>\u001b[0;34m()\u001b[0m\n\u001b[1;32m     16\u001b[0m     \u001b[0mJD\u001b[0m \u001b[0;34m=\u001b[0m \u001b[0mJDT\u001b[0m\u001b[0;34m.\u001b[0m\u001b[0msplit\u001b[0m\u001b[0;34m(\u001b[0m\u001b[0;34m'.'\u001b[0m\u001b[0;34m)\u001b[0m\u001b[0;34m[\u001b[0m\u001b[0;36m0\u001b[0m\u001b[0;34m]\u001b[0m\u001b[0;34m\u001b[0m\u001b[0m\n\u001b[1;32m     17\u001b[0m     \u001b[0mJDdec\u001b[0m \u001b[0;34m=\u001b[0m \u001b[0mJDT\u001b[0m\u001b[0;34m.\u001b[0m\u001b[0msplit\u001b[0m\u001b[0;34m(\u001b[0m\u001b[0;34m'.'\u001b[0m\u001b[0;34m)\u001b[0m\u001b[0;34m[\u001b[0m\u001b[0;36m1\u001b[0m\u001b[0;34m]\u001b[0m\u001b[0;34m\u001b[0m\u001b[0m\n\u001b[0;32m---> 18\u001b[0;31m     \u001b[0mpols\u001b[0m \u001b[0;34m=\u001b[0m \u001b[0muvd\u001b[0m\u001b[0;34m.\u001b[0m\u001b[0mpolarization_array\u001b[0m\u001b[0;34m.\u001b[0m\u001b[0mjoin\u001b[0m\u001b[0;34m(\u001b[0m\u001b[0;34m'_'\u001b[0m\u001b[0;34m)\u001b[0m\u001b[0;34m\u001b[0m\u001b[0m\n\u001b[0m\u001b[1;32m     19\u001b[0m \u001b[0;34m\u001b[0m\u001b[0m\n\u001b[1;32m     20\u001b[0m     hdf5_file = 'zen.{JD}.{JDdec}.{pols}.HH.uvOCRS.hdf5'.format(\n",
      "\u001b[0;31mAttributeError\u001b[0m: 'numpy.ndarray' object has no attribute 'join'"
     ]
    }
   ],
   "source": [
    "numfiles_uniq = len(dfiles) / 4\n",
    "print numfiles_uniq\n",
    "\n",
    "for batch_4pol in np.array_split(dfiles, numfiles_uniq):\n",
    "    batch_4pol = batch_4pol.tolist()\n",
    "    uvd = UVData()\n",
    "    uvd.read_miriad(\n",
    "        batch_4pol,\n",
    "        run_check=False,\n",
    "        check_extra=False,\n",
    "        run_check_acceptability=False,\n",
    "        ant_str='cross')\n",
    "    \n",
    "    JDT = np.round(np.unique(uvd.time_array)[0], 5)\n",
    "    JDT = '{:.5f}'.format(JDT)\n",
    "    JD = JDT.split('.')[0]\n",
    "    JDdec = JDT.split('.')[1]\n",
    "    pols = uvd.polarization_array.join('_')\n",
    "    \n",
    "    hdf5_file = 'zen.{JD}.{JDdec}.{pols}.HH.uvOCRS.hdf5'.format(\n",
    "        JD=JD,\n",
    "        JDdec=JDdec,\n",
    "        pols=pols)\n",
    "    print hdf5_file\n",
    "    break\n",
    "    uvd.write_uvh5(hdf5_file, clobber=True)\n",
    "    del uvd"
   ]
  },
  {
   "cell_type": "code",
   "execution_count": 55,
   "metadata": {},
   "outputs": [
    {
     "name": "stdout",
     "output_type": "stream",
     "text": [
      "File exists; clobbering\n"
     ]
    }
   ],
   "source": [
    "testhdf5 = os.path.join(SAVEPATH, 'test.hdf5')\n",
    "uvd.write_uvh5(testhdf5, clobber=True)"
   ]
  },
  {
   "cell_type": "code",
   "execution_count": 64,
   "metadata": {},
   "outputs": [],
   "source": [
    "uvd.read_miriad??"
   ]
  },
  {
   "cell_type": "code",
   "execution_count": null,
   "metadata": {
    "scrolled": true
   },
   "outputs": [],
   "source": [
    "%%time\n",
    "for dfile in dfiles:\n",
    "    print dfile\n",
    "    print 'Loading UVdata object...'\n",
    "    uvd = UVData()\n",
    "    print 'Loading data file...'\n",
    "    uvd.read_miriad(\n",
    "        dfile,\n",
    "        run_check=False,\n",
    "        check_extra=False,\n",
    "        run_check_acceptability=False,\n",
    "        ant_str='cross')\n",
    "    print 'Writing to hdf5...'\n",
    "    uvd.write_uvh5(dfile + '.hdf5', clobber=True)    \n",
    "    del uvd"
   ]
  },
  {
   "cell_type": "markdown",
   "metadata": {},
   "source": []
  },
  {
   "cell_type": "code",
   "execution_count": null,
   "metadata": {
    "scrolled": true
   },
   "outputs": [],
   "source": [
    "batch_mid = np.array(batch[1:-1])\n",
    "numbatches = len(batch) / 8\n",
    "\n",
    "uvd = UVData()\n",
    "uvd.read_miriad(batch[0])\n",
    "print batch[0]\n",
    "\n",
    "for batch_small in np.array_split(batch_mid, numbatches):\n",
    "    uvd_batch_small = UVData()\n",
    "    uvd_batch_small.read_miriad(batch_small[0])\n",
    "    print batch_small[0]\n",
    "    \n",
    "    for dfile in batch_small[1:]:\n",
    "        uvdi = UVData()\n",
    "        uvdi.read_miriad(dfile)\n",
    "        print dfile\n",
    "\n",
    "        uvd_batch_small += uvdi\n",
    "        del uvdi\n",
    "    uvd += uvd_batch_small\n",
    "    del uvd_batch_small\n",
    "else:\n",
    "    uvdf = UVData()\n",
    "    uvdf.read_miriad(batch[-1])\n",
    "    print batch[-1]\n",
    "    uvd += uvdf"
   ]
  },
  {
   "cell_type": "code",
   "execution_count": null,
   "metadata": {},
   "outputs": [],
   "source": [
    "batch_jd_start = np.round(np.unique(uvd.time_array)[0], 5)\n",
    "batch_jd_stop = np.round(np.unique(uvdf.time_array)[0], 5)\n",
    "JD0 = '{:.5f}'.format(batch_jd_start)\n",
    "JDf = '{:.5f}'.format(batch_jd_stop)\n",
    "JD = JD0.split('.')[0]\n",
    "JD0 = JD0.split('.')[1]\n",
    "JDf = JDf.split('.')[1]\n",
    "numfiles = str(len(batch))\n",
    "pols = '_'.join([pol.lower() for pol in uvd.get_pols()])\n",
    "\n",
    "dirname = 'zen.{JD}.{JD0}_{numfiles}_{JDf}.{pols}.HH.{ext}'.format(\n",
    "    JD=JD,\n",
    "    JD0=JD0,\n",
    "    JDf=JDf,\n",
    "    numfiles=numfiles,\n",
    "    pols=pols,\n",
    "    ext=ext)\n",
    "dirname = os.path.join(SAVEPATH, dirname)\n",
    "print dirname"
   ]
  },
  {
   "cell_type": "code",
   "execution_count": null,
   "metadata": {},
   "outputs": [],
   "source": [
    "os.system('mkdir -p {dirname}'.format(dirname=dirname))"
   ]
  },
  {
   "cell_type": "code",
   "execution_count": null,
   "metadata": {},
   "outputs": [],
   "source": [
    "uvd.batch_jd_start = np.unique(uvd.time_array)[0]\n",
    "uvd.batch_jd_stop = np.unique(uvdf.time_array)[0]\n",
    "uvd.batch_numfiles = len(batch)\n",
    "uvd.batch_pols = uvd.get_pols()\n",
    "uvd.batch_dirname = dirname\n",
    "uvd.batch_ext = ext\n",
    "uvd.batch_hdf5name = 'UVD.hdf5'"
   ]
  },
  {
   "cell_type": "code",
   "execution_count": null,
   "metadata": {},
   "outputs": [],
   "source": [
    "hdf5name = os.path.join(dirname, 'UVD.hdf5')\n",
    "print hdf5name"
   ]
  },
  {
   "cell_type": "code",
   "execution_count": null,
   "metadata": {},
   "outputs": [],
   "source": [
    "uvd.write_uvh5(hdf5name)"
   ]
  }
 ],
 "metadata": {
  "kernelspec": {
   "display_name": "Python 2",
   "language": "python",
   "name": "python2"
  },
  "language_info": {
   "codemirror_mode": {
    "name": "ipython",
    "version": 2
   },
   "file_extension": ".py",
   "mimetype": "text/x-python",
   "name": "python",
   "nbconvert_exporter": "python",
   "pygments_lexer": "ipython2",
   "version": "2.7.15"
  }
 },
 "nbformat": 4,
 "nbformat_minor": 2
}
