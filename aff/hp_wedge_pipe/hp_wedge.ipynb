{
 "cells": [
  {
   "cell_type": "code",
   "execution_count": 1,
   "metadata": {},
   "outputs": [],
   "source": [
    "import os\n",
    "import copy\n",
    "import glob\n",
    "\n",
    "import numpy as np\n",
    "import astropy.units as u\n",
    "import astropy.constants as c\n",
    "import matplotlib.pyplot as plt\n",
    "\n",
    "import hera_pspec as hp\n",
    "from hera_pspec.data import DATA_PATH\n",
    "from pyuvdata import UVData\n",
    "from hera_cal import redcal"
   ]
  },
  {
   "cell_type": "code",
   "execution_count": 6,
   "metadata": {
    "scrolled": false
   },
   "outputs": [
    {
     "data": {
      "text/plain": [
       "['/lustre/aoc/projects/hera/H1C_IDR2/IDR2_1/2458111/zen.2458111.30448.xx.HH.uvOCRS']"
      ]
     },
     "execution_count": 6,
     "metadata": {},
     "output_type": "execute_result"
    }
   ],
   "source": [
    "# Locate data\n",
    "dfiles = sorted(glob.glob(\"/lustre/aoc/projects/hera/H1C_IDR2/IDR2_1/2458111/zen.2458111.30???.xx.HH.uvOCRS\"))\n",
    "dfiles"
   ]
  },
  {
   "cell_type": "code",
   "execution_count": 3,
   "metadata": {},
   "outputs": [],
   "source": [
    "%%time\n",
    "# Initialize UVData object to read and contain MIRIAD information\n",
    "uvd = UVData()\n",
    "uvd.read_miriad(dfiles)"
   ]
  },
  {
   "cell_type": "code",
   "execution_count": 7,
   "metadata": {},
   "outputs": [],
   "source": [
    "# %%time\n",
    "# # Initialize UVData object to read and contain MIRIAD information\n",
    "# uvd = UVData()\n",
    "# uvd.read_miriad(dfiles[0])\n",
    "# for dfile in dfiles[1:]:\n",
    "#         uvdi = UVData()\n",
    "#         uvdi.read_miriad(dfile)\n",
    "#         uvd += uvdi\n",
    "#         del uvdi"
   ]
  },
  {
   "cell_type": "code",
   "execution_count": 8,
   "metadata": {},
   "outputs": [
    {
     "name": "stdout",
     "output_type": "stream",
     "text": [
      "CPU times: user 252 ms, sys: 32 ms, total: 284 ms\n",
      "Wall time: 301 ms\n"
     ]
    }
   ],
   "source": [
    "%%time\n",
    "# Apply flags\n",
    "uvd.data_array *= np.logical_not(uvd.flag_array)"
   ]
  },
  {
   "cell_type": "code",
   "execution_count": 9,
   "metadata": {},
   "outputs": [
    {
     "name": "stdout",
     "output_type": "stream",
     "text": [
      "CPU times: user 15 ms, sys: 24 ms, total: 39 ms\n",
      "Wall time: 166 ms\n"
     ]
    }
   ],
   "source": [
    "%%time\n",
    "# Intialize a cosmology and a beam\n",
    "cosmo = hp.conversions.Cosmo_Conversions()\n",
    "beamfile = os.path.join(DATA_PATH, 'NF_HERA_Beams.beamfits')\n",
    "uvb = hp.pspecbeam.PSpecBeamUV(beamfile, cosmo=cosmo)"
   ]
  },
  {
   "cell_type": "code",
   "execution_count": 10,
   "metadata": {},
   "outputs": [],
   "source": [
    "# Convert to cosmological units (mK)\n",
    "Jy_to_mK = uvb.Jy_to_mK(np.unique(uvd.freq_array), pol=\"xx\")\n",
    "uvd.data_array *= Jy_to_mK[None, None, :, None]"
   ]
  },
  {
   "cell_type": "code",
   "execution_count": 11,
   "metadata": {},
   "outputs": [
    {
     "name": "stdout",
     "output_type": "stream",
     "text": [
      "CPU times: user 837 ms, sys: 2.46 s, total: 3.3 s\n",
      "Wall time: 3.29 s\n"
     ]
    }
   ],
   "source": [
    "%%time\n",
    "# Shift data and load datasets\n",
    "uvd1 = uvd.select(times=np.unique(uvd.time_array)[:-1:2], inplace=False)\n",
    "uvd2 = uvd.select(times=np.unique(uvd.time_array)[1::2], inplace=False)\n",
    "ds = hp.PSpecData(dsets=[uvd1, uvd2], wgts=[None, None], beam=uvb)"
   ]
  },
  {
   "cell_type": "code",
   "execution_count": 12,
   "metadata": {},
   "outputs": [
    {
     "name": "stdout",
     "output_type": "stream",
     "text": [
      "CPU times: user 4.38 s, sys: 1 ms, total: 4.38 s\n",
      "Wall time: 4.51 s\n"
     ]
    }
   ],
   "source": [
    "%%time\n",
    "# Phase data (What does this do?)\n",
    "ds.rephase_to_dset(0)"
   ]
  },
  {
   "cell_type": "code",
   "execution_count": 13,
   "metadata": {},
   "outputs": [],
   "source": [
    "%%time\n",
    "ds.dsets[0].vis_units = 'mK'\n",
    "ds.dsets[1].vis_units = 'mK'"
   ]
  },
  {
   "cell_type": "code",
   "execution_count": 14,
   "metadata": {},
   "outputs": [
    {
     "name": "stdout",
     "output_type": "stream",
     "text": [
      "CPU times: user 1.44 s, sys: 0 ns, total: 1.44 s\n",
      "Wall time: 1.51 s\n"
     ]
    }
   ],
   "source": [
    "%%time\n",
    "# Categorize baselines into physical separation length\n",
    "BIN_WIDTH = 0.3\n",
    "NORM_BINS = np.arange(0.0, 10000.0, BIN_WIDTH)\n",
    "\n",
    "antpos = {ant: pos for ant, pos in zip(uvd.get_ENU_antpos()[1], uvd.get_ENU_antpos()[0])}\n",
    "\n",
    "redundant_groups = redcal.get_pos_reds(antpos, bl_error_tol=1.0, low_hi=True)\n",
    "xants1, xants2 = hp.utils.calc_reds(uvd1, uvd2)[3:]\n",
    "xants = np.unique(xants1 + xants2)\n",
    "\n",
    "reds = {}\n",
    "for group in redundant_groups:\n",
    "    for antpair in group:\n",
    "        ant0 = antpair[0]\n",
    "        ant1 = antpair[1]\n",
    "        if (ant0 in xants) or (ant1 in xants) or (ant0 >= ant1):\n",
    "            continue\n",
    "        norm = np.linalg.norm(antpos[ant0] - antpos[ant1])\n",
    "        norm = np.round(np.digitize(norm, NORM_BINS) * BIN_WIDTH, 1)\n",
    "        \n",
    "        if norm in reds:\n",
    "            reds[norm].append(antpair)\n",
    "        else:\n",
    "            reds[norm] = [antpair]\n",
    "norms = sorted(reds.keys())"
   ]
  },
  {
   "cell_type": "code",
   "execution_count": 15,
   "metadata": {
    "scrolled": true
   },
   "outputs": [
    {
     "name": "stdout",
     "output_type": "stream",
     "text": [
      "CPU times: user 50min 38s, sys: 1h 25min 59s, total: 2h 16min 37s\n",
      "Wall time: 17min 49s\n"
     ]
    }
   ],
   "source": [
    "%%time\n",
    "# Initialize UVPspec objects for each baseline bin\n",
    "uvps = [] \n",
    "for norm in norms:\n",
    "    uvp = ds.pspec(\n",
    "        reds[norm],\n",
    "        reds[norm],\n",
    "        (0, 1),\n",
    "        pols=(\"xx\", \"xx\"),\n",
    "        spw_ranges=[(580,680)],\n",
    "        taper=\"blackman-harris\",\n",
    "        verbose=False)\n",
    "    uvps.append(uvp)"
   ]
  },
  {
   "cell_type": "code",
   "execution_count": null,
   "metadata": {},
   "outputs": [],
   "source": [
    "%%time\n",
    "# Average each UVPspec object in time and baseline bin\n",
    "for uvp, norm in zip(uvps, norms):\n",
    "    blpairs = [[(bl, bl) for bl in reds[norm]]]\n",
    "    uvp.average_spectra(blpair_groups=blpairs, time_avg=True)\n",
    "\n",
    "# Fold into wedge\n",
    "for uvp in uvps:\n",
    "    uvp.fold_spectra()\n",
    "    uvp.data_array[0] = uvp.data_array[0].reshape((len(uvp.freq_array)))[np.nonzero(uvp.data_array[0].reshape((len(uvp.freq_array))))]"
   ]
  },
  {
   "cell_type": "code",
   "execution_count": null,
   "metadata": {},
   "outputs": [],
   "source": [
    "%%time\n",
    "# Load data from UVPspec objects into an array\n",
    "wedge = np.array([uvp.data_array[0] for uvp in uvps])\n",
    "wedge = wedge.T\n",
    "\n",
    "# Make a copy of a uvp object to get freq_array and kparas\n",
    "UVP = copy.deepcopy(uvps[0])\n",
    "\n",
    "# Find bandwidth and central frequency in MHz for naming\n",
    "BAND_START = (UVP.freq_array[0] * u.Hz).to(u.MHz)\n",
    "BAND_STOP = (UVP.freq_array[-1] * u.Hz).to(u.MHz)\n",
    "BANDWIDTH = (BAND_STOP - BAND_START)\n",
    "CENTRAL_FREQ = ((BANDWIDTH / UVP.Nfreqs) + BAND_START)\n",
    "\n",
    "# Generate x-values to plot against\n",
    "kparas = (UVP.get_kparas(0)/u.Mpc).insert(0, 0)\n",
    "\n",
    "# Plot the data\n",
    "plt.figure(figsize=(10, 10))\n",
    "plt.plot(kparas, np.log10(np.abs(wedge)))\n",
    "plt.legend([str(norm) + \" m\" for norm in norms], loc=\"upper right\")\n",
    "\n",
    "# x-axis\n",
    "plt.xlim((0, UVP.get_kparas(0)[-1]))\n",
    "plt.xlabel(r\"$k_{\\parallel}\\ [\\rm\\ Mpc^{-1}\\ h]$\", size=20)\n",
    "\n",
    "# y-axis\n",
    "plt.ylim((0, 20))\n",
    "plt.ylabel(r\"$P(k)\\ \\rm [\\log_{10}({mK^2\\ Mpc^3\\ h^{-3}})]$\", size=20)\n",
    "\n",
    "\n",
    "\n",
    "# Titles\n",
    "plt.suptitle(\"pol: xx; Bandwidth: {BW}; Central Frequency: {CF}\".format(\n",
    "    BW=np.round(BANDWIDTH, 2),\n",
    "    CF=np.round(CENTRAL_FREQ, 1)))\n",
    "plt.title(os.path.basename(dfiles[0]) + \"\\nto\\n\" + os.path.basename(dfiles[-1]))\n",
    "\n",
    "# Plot noise estimates\n",
    "noise = UVP.generate_noise_spectra(0, 'xx', 300)\n",
    "noise = noise[noise.keys()[0]]\n",
    "noise = np.insert(noise, 0, noise[0, 0], axis=1)\n",
    "noise = noise.reshape(len(kparas))\n",
    "noise = np.log10(noise)\n",
    "plt.plot(kparas, noise, color='k', ls='--', lw=3)\n",
    "\n",
    "# Save and show the plot with a grid\n",
    "plt.grid()\n",
    "plt.savefig(\"xx.{BW}_{CF}.{JD0}_{JDf}{DFext}.pdf\".format(\n",
    "    BW=np.round(BANDWIDTH.value, 2),\n",
    "    CF=np.round(CENTRAL_FREQ.value, 1),\n",
    "    JD0=dfiles[0].split(\".\")[2],\n",
    "    JDf=dfiles[-1].split(\".\")[2],\n",
    "    DFext=os.path.splitext(dfiles[0])[1]))\n",
    "plt.show()"
   ]
  },
  {
   "cell_type": "code",
   "execution_count": null,
   "metadata": {},
   "outputs": [],
   "source": [
    "# Make a folder to save all uvp objects\n",
    "dirname = \"{DF0}—{DFf}\".format(DF0=os.path.basename(dfiles[0]), DFf=os.path.basename(dfiles[-1]))\n",
    "os.mkdir(dirname)"
   ]
  },
  {
   "cell_type": "code",
   "execution_count": null,
   "metadata": {},
   "outputs": [],
   "source": [
    "for uvp, norm in zip(uvps, norms):\n",
    "    uvp.write_hdf5(os.path.join(dirname, \"uvp.{norm}.hd5f\".format(norm=norm))"
   ]
  },
  {
   "cell_type": "code",
   "execution_count": null,
   "metadata": {},
   "outputs": [],
   "source": [
    "# Flip the wedge data so that the peak a delay=kpara=0 is at the bottom\n",
    "# wedge = np.flip(wedge, 0)"
   ]
  },
  {
   "cell_type": "code",
   "execution_count": null,
   "metadata": {
    "scrolled": false
   },
   "outputs": [],
   "source": [
    "# plt.figure(figsize=(10, 10))\n",
    "# plt.imshow(np.log10(np.abs(wedge)), interpolation=\"nearest\", aspect=\"auto\")\n",
    "\n",
    "# plt.tick_params(axis='both', direction='inout')\n",
    "\n",
    "# plt.xticks([])\n",
    "# plt.xlabel(str(norms[i]) + \" m\", rotation=45, ha=\"center\")\n",
    "\n",
    "# horizon = ((norms[i]*u.m / c.c).to(u.ns)).value\n",
    "# plt.axhline(y=horizon, color=\"w\", ls=\":\")\n",
    "# plt.axhline(y=-horizon, color=\"w\", ls=\":\")\n",
    "\n",
    "# plt.ylim((uvp.get_dlys(0)[0]*1e9 / 2., uvp.get_dlys(0)[-1]*1e9 / 2.))\n",
    "    \n",
    "# plt.text(0.07, 0.5, r\"$\\tau$ [ns]\", ha=\"center\", rotation=\"vertical\", size=20)\n",
    "# plt.text(0.5, 0.04, \"Redundant Baseline Group\", ha=\"center\", size=20)\n",
    "# plt.subplots_adjust(wspace=0, hspace=0)\n",
    "# cbar_ax = fig.add_axes([0.9125, 0.25, 0.025, 0.5])\n",
    "# cbar = fig.colorbar(im, cax=cbar_ax)\n",
    "# cbar.set_label(r\"$P(k)\\ \\rm [mK^2\\ h^{-3}\\ Mpc^3]$\", fontsize=20, ha='center')\n",
    "# plt.show()\n",
    "# plt.clf()"
   ]
  },
  {
   "cell_type": "code",
   "execution_count": null,
   "metadata": {},
   "outputs": [],
   "source": []
  }
 ],
 "metadata": {
  "kernelspec": {
   "display_name": "Python 2",
   "language": "python",
   "name": "python2"
  },
  "language_info": {
   "codemirror_mode": {
    "name": "ipython",
    "version": 2
   },
   "file_extension": ".py",
   "mimetype": "text/x-python",
   "name": "python",
   "nbconvert_exporter": "python",
   "pygments_lexer": "ipython2",
   "version": "2.7.15"
  }
 },
 "nbformat": 4,
 "nbformat_minor": 2
}
