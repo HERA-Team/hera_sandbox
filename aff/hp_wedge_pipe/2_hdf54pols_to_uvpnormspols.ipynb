{
 "cells": [
  {
   "cell_type": "code",
   "execution_count": 1,
   "metadata": {},
   "outputs": [],
   "source": [
    "\"\"\"This script will convert 4 hdf5 files into N*4 hdf5 files containing \n",
    "UVPspec objects where N is the number of redundnant baseline groups.\"\"\"\n",
    "# Python Standard Library Packages\n",
    "import os\n",
    "# import copy\n",
    "import glob\n",
    "\n",
    "# Community Developed Packages\n",
    "import numpy as np\n",
    "# import astropy.units as u\n",
    "# import astropy.constants as c\n",
    "# import matplotlib.pyplot as plt\n",
    "\n",
    "# HERA Collaboration Packages\n",
    "# import hera_pspec as hp\n",
    "# from hera_pspec.data import DATA_PATH\n",
    "from pyuvdata import UVData\n",
    "# from hera_cal import redcal"
   ]
  },
  {
   "cell_type": "code",
   "execution_count": 2,
   "metadata": {},
   "outputs": [],
   "source": [
    "# For tomorrow: write this script and also experiment with saving an extra attriubute on the UVP objects works"
   ]
  },
  {
   "cell_type": "code",
   "execution_count": null,
   "metadata": {},
   "outputs": [],
   "source": [
    "# For the hp_wedge script, reverse the suptitle and the title, i think it would look better"
   ]
  },
  {
   "cell_type": "code",
   "execution_count": null,
   "metadata": {},
   "outputs": [],
   "source": []
  }
 ],
 "metadata": {
  "kernelspec": {
   "display_name": "Python 2",
   "language": "python",
   "name": "python2"
  },
  "language_info": {
   "codemirror_mode": {
    "name": "ipython",
    "version": 2
   },
   "file_extension": ".py",
   "mimetype": "text/x-python",
   "name": "python",
   "nbconvert_exporter": "python",
   "pygments_lexer": "ipython2",
   "version": "2.7.15"
  }
 },
 "nbformat": 4,
 "nbformat_minor": 2
}
