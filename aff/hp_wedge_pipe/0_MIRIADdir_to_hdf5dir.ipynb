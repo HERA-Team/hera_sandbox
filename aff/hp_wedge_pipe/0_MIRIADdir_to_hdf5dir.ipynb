{
 "cells": [
  {
   "cell_type": "code",
   "execution_count": null,
   "metadata": {},
   "outputs": [],
   "source": [
    "\"\"\"This script will convert N MIRIAD data files into N hdf5 files.\"\"\"\n",
    "# Python Standard Library Packages\n",
    "import os\n",
    "# import copy\n",
    "import glob\n",
    "\n",
    "# Community Developed Packages\n",
    "import numpy as np\n",
    "# import astropy.units as u\n",
    "# import astropy.constants as c\n",
    "# import matplotlib.pyplot as plt\n",
    "\n",
    "# HERA Collaboration Packages\n",
    "# import hera_pspec as hp\n",
    "# from hera_pspec.data import DATA_PATH\n",
    "from pyuvdata import UVData\n",
    "# from hera_cal import redcal"
   ]
  },
  {
   "cell_type": "code",
   "execution_count": null,
   "metadata": {},
   "outputs": [],
   "source": [
    "MIRIAD_DATA_PATH = '/lustre/aoc/projects/hera/H1C_IDR2/IDR2_1/2458111/'\n",
    "SAVE_PATH = '/lustre/aoc/projects/hera/afortino/zen_2458111_all_1pol_HH_uvOCRS_hdf5/'\n",
    "EXTENSION = 'uvOCRS'"
   ]
  },
  {
   "cell_type": "code",
   "execution_count": null,
   "metadata": {},
   "outputs": [],
   "source": [
    "MIRIAD_DFILES = np.array(sorted(glob.glob(os.path.join(MIRIAD_DATA_PATH, 'zen.2458111.?????.??.HH.{ext}'.format(\n",
    "    ext=EXTENSION)))))"
   ]
  },
  {
   "cell_type": "code",
   "execution_count": null,
   "metadata": {},
   "outputs": [],
   "source": [
    "for dfile in MIRIAD_DFILES:\n",
    "    hdf5 = os.path.join(SAVE_PATH, os.path.basename(dfile)) + '.hdf5'\n",
    "    uvd = UVData()\n",
    "    uvd.read_miriad(dfile)\n",
    "    uvd.write_uvh5(hdf5, clobber=True)"
   ]
  }
 ],
 "metadata": {
  "kernelspec": {
   "display_name": "Python 2",
   "language": "python",
   "name": "python2"
  },
  "language_info": {
   "codemirror_mode": {
    "name": "ipython",
    "version": 2
   },
   "file_extension": ".py",
   "mimetype": "text/x-python",
   "name": "python",
   "nbconvert_exporter": "python",
   "pygments_lexer": "ipython2",
   "version": "2.7.15"
  }
 },
 "nbformat": 4,
 "nbformat_minor": 2
}
