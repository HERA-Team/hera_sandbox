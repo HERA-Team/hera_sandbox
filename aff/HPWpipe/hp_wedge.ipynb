{
 "cells": [
  {
   "cell_type": "code",
   "execution_count": 1,
   "metadata": {},
   "outputs": [],
   "source": [
    "import os\n",
    "import copy\n",
    "import glob\n",
    "import argparse\n",
    "\n",
    "import numpy as np\n",
    "import astropy.units as u\n",
    "import astropy.constants as c\n",
    "import astropy.coordinates as aco\n",
    "# import matplotlib\n",
    "# matplotlib.use('Agg')\n",
    "import matplotlib.pyplot as plt\n",
    "\n",
    "import hera_pspec as hp\n",
    "from hera_pspec.data import DATA_PATH\n",
    "from pyuvdata import UVData"
   ]
  },
  {
   "cell_type": "code",
   "execution_count": 2,
   "metadata": {},
   "outputs": [
    {
     "data": {
      "text/plain": [
       "_StoreAction(option_strings=['-X', '--xants'], dest='xants', nargs=None, const=None, default=None, type=None, choices=None, help='Input a comma delimitted list of antenna numbers that should be excluded from     analysis for the chosen data files (e.g.: \"0,50,98\").', metavar=None)"
      ]
     },
     "execution_count": 2,
     "metadata": {},
     "output_type": "execute_result"
    }
   ],
   "source": [
    "parser = argparse.ArgumentParser()\n",
    "parser.add_argument(\n",
    "    '-F',\n",
    "    '--files',\n",
    "    help='Designate the hdf5 files to be analyzed.',\n",
    "    nargs='*',\n",
    "    required=True)\n",
    "parser.add_argument(\n",
    "    '-L',\n",
    "    '--LSTrange',\n",
    "    help='Designate which LST in hours that will be analyzed (e.g.: \"6.0 7.0\").',\n",
    "    type=float,\n",
    "    nargs=2,\n",
    "    required=True)\n",
    "parser.add_argument(\n",
    "    '-C',\n",
    "    '--freq_chans',\n",
    "    help='Designate which frequency channels that will be analyzed (e.g.: \"580 680\").',\n",
    "    type=int,\n",
    "    nargs=2,\n",
    "    required=True)\n",
    "parser.add_argument(\n",
    "    '-X',\n",
    "    '--xants',\n",
    "    help='Input a comma delimitted list of antenna numbers that should be excluded from \\\n",
    "    analysis for the chosen data files (e.g.: \"0,50,98\").')"
   ]
  },
  {
   "cell_type": "code",
   "execution_count": null,
   "metadata": {},
   "outputs": [],
   "source": [
    "\"\"\"Uncomment this code when running as .py\"\"\"\n",
    "# args = parser.parse_args()\n",
    "# dfiles = np.array(sorted(args.files))"
   ]
  },
  {
   "cell_type": "code",
   "execution_count": 3,
   "metadata": {},
   "outputs": [],
   "source": [
    "\"\"\"Uncomment this code when running as .ipynb\"\"\"\n",
    "args = parser.parse_args(\n",
    "    \"-F /lustre/aoc/projects/hera/H1C_IDR2/IDR2_1/2458111/zen.2458111.?????.xx.HH.uvh5.OCRS \\\n",
    "    -L 5.0 6.0 \\\n",
    "    -C 580 680 \\\n",
    "    -X 0,136,50\".split())\n",
    "dfiles = sorted(glob.glob(args.files[0]))"
   ]
  },
  {
   "cell_type": "code",
   "execution_count": 4,
   "metadata": {},
   "outputs": [],
   "source": [
    "LSTrange = args.LSTrange\n",
    "freq_chans = np.arange(args.freq_chans[0], args.freq_chans[-1] + 1)\n",
    "if args.xants is not None:\n",
    "    xants = sorted([int(xant) for xant in args.xants.split(',')])\n",
    "else:\n",
    "    xants = []"
   ]
  },
  {
   "cell_type": "code",
   "execution_count": 5,
   "metadata": {},
   "outputs": [],
   "source": [
    "uvd = UVData()\n",
    "files = []\n",
    "times = []\n",
    "lsts = []\n",
    "for dfile in dfiles:\n",
    "    uvd.read_uvh5(dfile, read_data=False)\n",
    "    LSTrads = np.unique(uvd.lst_array * u.rad)\n",
    "    LSThours = aco.Angle(LSTrads).hour\n",
    "    LSTindices = np.where(np.logical_and(LSThours >= LSTrange[0], LSThours <= LSTrange[-1]))[0]\n",
    "    \n",
    "    if LSTindices.size > 0:\n",
    "        JDtimes = np.take(np.unique(uvd.time_array), LSTindices)\n",
    "        files.append(dfile)\n",
    "        times.append(JDtimes.tolist())\n",
    "        lsts.append(LSThours.tolist())"
   ]
  },
  {
   "cell_type": "code",
   "execution_count": 6,
   "metadata": {},
   "outputs": [],
   "source": [
    "uvd = UVData()\n",
    "uvd.read_uvh5(\n",
    "    files[0],\n",
    "    ant_str='cross',\n",
    "    freq_chans=freq_chans,\n",
    "    times=times[0])\n",
    "for file, time in zip(files[1:], times[1:]):\n",
    "    uvdi = UVData()\n",
    "    uvdi.read_uvh5(\n",
    "        file, \n",
    "        ant_str='cross',\n",
    "        freq_chans=freq_chans,\n",
    "        times=time)\n",
    "    uvd += uvdi"
   ]
  },
  {
   "cell_type": "code",
   "execution_count": 13,
   "metadata": {
    "scrolled": true
   },
   "outputs": [
    {
     "data": {
      "text/plain": [
       "array([5.00049754, 5.00348832, 5.00647911, 5.00946989, 5.01246067,\n",
       "       5.01545145, 5.01844224, 5.02143302, 5.0244238 , 5.02741458,\n",
       "       5.03040537, 5.03339615, 5.03638693, 5.03937771, 5.0423685 ,\n",
       "       5.04535928, 5.04835006, 5.05134084, 5.05433163, 5.05732241,\n",
       "       5.06031319, 5.06330397, 5.06629476, 5.06928554, 5.07227632,\n",
       "       5.0752671 , 5.07825789, 5.08124867, 5.08423944, 5.08723022,\n",
       "       5.09022101, 5.09321179, 5.09620257, 5.09919335, 5.10218414,\n",
       "       5.10517492, 5.1081657 , 5.11115648, 5.11414727, 5.11713805,\n",
       "       5.12012883, 5.12311961, 5.1261104 , 5.12910118, 5.13209196,\n",
       "       5.13508274, 5.13807353, 5.14106431, 5.14405509, 5.14704587,\n",
       "       5.15003666, 5.15302744, 5.15601822, 5.159009  , 5.16199979,\n",
       "       5.16499057, 5.16798135, 5.17097213, 5.17396292, 5.1769537 ,\n",
       "       5.17994448, 5.18293526, 5.18592605, 5.18891683, 5.19190761,\n",
       "       5.19489839, 5.19788918, 5.20087996, 5.20387074, 5.20686152,\n",
       "       5.20985231, 5.21284309, 5.21583387, 5.21882464, 5.22181542,\n",
       "       5.22480621, 5.22779699, 5.23078777, 5.23377855, 5.23676934,\n",
       "       5.23976012, 5.2427509 , 5.24574168, 5.24873247, 5.25172325,\n",
       "       5.25471403, 5.25770481, 5.2606956 , 5.26368638, 5.26667716,\n",
       "       5.26966794, 5.27265873, 5.27564951, 5.27864029, 5.28163107,\n",
       "       5.28462186, 5.28761264, 5.29060342, 5.2935942 , 5.29658499,\n",
       "       5.29957577, 5.30256655, 5.30555733, 5.30854812, 5.3115389 ,\n",
       "       5.31452968, 5.31752046, 5.32051125, 5.32350203, 5.32649281,\n",
       "       5.32948359, 5.33247438, 5.33546516, 5.33845594, 5.34144672,\n",
       "       5.34443751, 5.34742829, 5.35041907, 5.35340984, 5.35640063,\n",
       "       5.35939141, 5.36238219, 5.36537297, 5.36836376, 5.37135454,\n",
       "       5.37434532, 5.3773361 , 5.38032689, 5.38331767, 5.38630845,\n",
       "       5.38929923, 5.39229002, 5.3952808 , 5.39827158, 5.40126236,\n",
       "       5.40425315, 5.40724393, 5.41023471, 5.41322549, 5.41621628,\n",
       "       5.41920706, 5.42219784, 5.42518862, 5.42817941, 5.43117019,\n",
       "       5.43416097, 5.43715175, 5.44014254, 5.44313332, 5.4461241 ,\n",
       "       5.44911488, 5.45210567, 5.45509645, 5.45808723, 5.46107801,\n",
       "       5.4640688 , 5.46705958, 5.47005036, 5.47304114, 5.47603193,\n",
       "       5.47902271, 5.48201349, 5.48500427, 5.48799505, 5.49098583,\n",
       "       5.49397661, 5.49696739, 5.49995818, 5.50294896, 5.50593974,\n",
       "       5.50893052, 5.51192131, 5.51491209, 5.51790287, 5.52089365,\n",
       "       5.52388444, 5.52687522, 5.529866  , 5.53285678, 5.53584757,\n",
       "       5.53883835, 5.54182913, 5.54481991, 5.5478107 , 5.55080148,\n",
       "       5.55379226, 5.55678304, 5.55977383, 5.56276461, 5.56575539,\n",
       "       5.56874617, 5.57173696, 5.57472774, 5.57771852, 5.5807093 ,\n",
       "       5.58370009, 5.58669087, 5.58968165, 5.59267243, 5.59566322,\n",
       "       5.598654  , 5.60164478, 5.60463556, 5.60762635, 5.61061713,\n",
       "       5.61360791, 5.61659869, 5.61958948, 5.62258026, 5.62557103,\n",
       "       5.62856181, 5.63155259, 5.63454338, 5.63753416, 5.64052494,\n",
       "       5.64351572, 5.64650651, 5.64949729, 5.65248807, 5.65547885,\n",
       "       5.65846964, 5.66146042, 5.6644512 , 5.66744198, 5.67043277,\n",
       "       5.67342355, 5.67641433, 5.67940512, 5.6823959 , 5.68538668,\n",
       "       5.68837746, 5.69136825, 5.69435903, 5.69734981, 5.70034059,\n",
       "       5.70333138, 5.70632216, 5.70931294, 5.71230372, 5.71529451,\n",
       "       5.71828529, 5.72127607, 5.72426685, 5.72725764, 5.73024842,\n",
       "       5.7332392 , 5.73622998, 5.73922077, 5.74221155, 5.74520233,\n",
       "       5.74819311, 5.7511839 , 5.75417468, 5.75716546, 5.76015623,\n",
       "       5.76314701, 5.7661378 , 5.76912858, 5.77211936, 5.77511014,\n",
       "       5.77810093, 5.78109171, 5.78408249, 5.78707327, 5.79006406,\n",
       "       5.79305484, 5.79604562, 5.7990364 , 5.80202719, 5.80501797,\n",
       "       5.80800875, 5.81099953, 5.81399032, 5.8169811 , 5.81997188,\n",
       "       5.82296266, 5.82595345, 5.82894423, 5.83193501, 5.83492579,\n",
       "       5.83791658, 5.84090736, 5.84389814, 5.84688892, 5.84987971,\n",
       "       5.85287049, 5.85586127, 5.85885205, 5.86184284, 5.86483362,\n",
       "       5.8678244 , 5.87081518, 5.87380597, 5.87679675, 5.87978753,\n",
       "       5.88277831, 5.8857691 , 5.88875988, 5.89175066, 5.89474144,\n",
       "       5.89773222, 5.900723  , 5.90371378, 5.90670456, 5.90969535,\n",
       "       5.91268613, 5.91567691, 5.91866769, 5.92165848, 5.92464926,\n",
       "       5.92764004, 5.93063082, 5.93362161, 5.93661239, 5.93960317,\n",
       "       5.94259395, 5.94558474, 5.94857552, 5.9515663 , 5.95455708,\n",
       "       5.95754787, 5.96053865, 5.96352943, 5.96652021, 5.969511  ,\n",
       "       5.97250178, 5.97549256, 5.97848334, 5.98147413, 5.98446491,\n",
       "       5.98745569, 5.99044647, 5.99343726, 5.99642804, 5.99941882])"
      ]
     },
     "execution_count": 13,
     "metadata": {},
     "output_type": "execute_result"
    }
   ],
   "source": [
    "np.unique(aco.Angle(uvd.lst_array*u.rad).hour)"
   ]
  },
  {
   "cell_type": "code",
   "execution_count": 24,
   "metadata": {},
   "outputs": [
    {
     "data": {
      "text/plain": [
       "[u'cminfo', u'st_type', u'stopt', u'startt', u'obsid', u'cmver', u'duration']"
      ]
     },
     "execution_count": 24,
     "metadata": {},
     "output_type": "execute_result"
    }
   ],
   "source": [
    "uvd.extra_keywords.keys()"
   ]
  },
  {
   "cell_type": "code",
   "execution_count": null,
   "metadata": {},
   "outputs": [],
   "source": [
    "# Apply flags\n",
    "uvd.data_array *= np.logical_not(uvd.flag_array)\n",
    "\n",
    "# Intialize a cosmology and a beam\n",
    "cosmo = hp.conversions.Cosmo_Conversions()\n",
    "beamfile = os.path.join(DATA_PATH, 'NF_HERA_Beams.beamfits')\n",
    "uvb = hp.pspecbeam.PSpecBeamUV(beamfile, cosmo=cosmo)\n",
    "\n",
    "# Convert to cosmological units (mK)\n",
    "Jy_to_mK = uvb.Jy_to_mK(np.unique(uvd.freq_array), pol=\"xx\")\n",
    "uvd.data_array *= Jy_to_mK[None, None, :, None]\n",
    "\n",
    "# Shift data and load datasets\n",
    "uvd1 = uvd.select(times=np.unique(uvd.time_array)[:-1:2], inplace=False)\n",
    "uvd2 = uvd.select(times=np.unique(uvd.time_array)[1::2], inplace=False)\n",
    "ds = hp.PSpecData(dsets=[uvd1, uvd2], wgts=[None, None], beam=uvb)\n",
    "\n",
    "ds.dsets[0].vis_units = 'mK'\n",
    "ds.dsets[1].vis_units = 'mK'"
   ]
  },
  {
   "cell_type": "code",
   "execution_count": null,
   "metadata": {},
   "outputs": [],
   "source": [
    "# Phase data (What does this do?)\n",
    "ds.rephase_to_dset(0)"
   ]
  },
  {
   "cell_type": "code",
   "execution_count": null,
   "metadata": {},
   "outputs": [],
   "source": [
    "# Categorize baselines into physical separation length\n",
    "BIN_WIDTH = 0.3\n",
    "NORM_BINS = np.arange(0.0, 10000.0, BIN_WIDTH)\n",
    "\n",
    "antpos = {ant: pos for ant, pos in zip(uvd.get_ENU_antpos()[1], uvd.get_ENU_antpos()[0])}\n",
    "\n",
    "antpairs = uvd.get_antpairs()\n",
    "xants1, xants2 = hp.utils.calc_reds(uvd1, uvd2)[3:]\n",
    "xants = np.unique(xants1 + xants2)\n",
    "\n",
    "reds = {}\n",
    "for antpair in antpairs:\n",
    "    ant0, ant1 = antpair\n",
    "    if (ant0 in xants) or (ant1 in xants) or (ant0 >= ant1):\n",
    "        continue\n",
    "    norm = np.linalg.norm(antpos[ant0] - antpos[ant1])\n",
    "    norm = np.round(np.digitize(norm, NORM_BINS) * BIN_WIDTH, 1)\n",
    "\n",
    "    if norm in reds:\n",
    "        reds[norm].append(antpair)\n",
    "    else:\n",
    "        reds[norm] = [antpair]\n",
    "norms = sorted(reds.keys())"
   ]
  },
  {
   "cell_type": "code",
   "execution_count": null,
   "metadata": {
    "scrolled": true
   },
   "outputs": [],
   "source": [
    "# Initialize UVPspec objects for each baseline bin\n",
    "uvps = [] \n",
    "for norm in norms:\n",
    "    uvp = ds.pspec(\n",
    "        reds[norm],\n",
    "        reds[norm],\n",
    "        (0, 1),\n",
    "        pols=(\"xx\", \"xx\"),\n",
    "        spw_ranges=[(0, freq_chans.size)],\n",
    "        taper=\"blackman-harris\",\n",
    "        verbose=False)\n",
    "    uvps.append(uvp)"
   ]
  },
  {
   "cell_type": "code",
   "execution_count": null,
   "metadata": {},
   "outputs": [],
   "source": [
    "# Average each UVPspec object in time and baseline bin and fold into wedge\n",
    "for uvp, norm in zip(uvps, norms):\n",
    "    blpairs = [[(bl, bl) for bl in reds[norm]]]\n",
    "    uvp.average_spectra(blpair_groups=blpairs, time_avg=True)\n",
    "    uvp.fold_spectra()\n",
    "    uvp.data_array[0] = uvp.data_array[0].reshape(\n",
    "        (len(uvp.freq_array)))[np.nonzero(uvp.data_array[0].reshape((len(uvp.freq_array))))]"
   ]
  },
  {
   "cell_type": "code",
   "execution_count": null,
   "metadata": {},
   "outputs": [],
   "source": [
    "# Load data from UVPspec objects into an array\n",
    "wedge = np.array([uvp.data_array[0] for uvp in uvps])"
   ]
  },
  {
   "cell_type": "code",
   "execution_count": null,
   "metadata": {},
   "outputs": [],
   "source": [
    "\"\"\"Plotting\"\"\"\n",
    "def get_cmap(n, name='jet'):\n",
    "    return plt.cm.get_cmap(name, n)\n",
    "cmap = get_cmap(len(uvps))\n",
    "\n",
    "# Make a copy of a uvp object to get freq_array and kparas\n",
    "UVP = copy.deepcopy(uvps[0])\n",
    "\n",
    "# Find bandwidth and central frequency in MHz for naming\n",
    "BAND_START = (UVP.freq_array[0] * u.Hz).to(u.MHz)\n",
    "BAND_STOP = (UVP.freq_array[-1] * u.Hz).to(u.MHz)\n",
    "BANDWIDTH = (BAND_STOP - BAND_START)\n",
    "CENTRAL_FREQ = ((BANDWIDTH / UVP.Nfreqs) + BAND_START)\n",
    "\n",
    "# Generate x-values to plot against\n",
    "kparas = (UVP.get_kparas(0)/u.Mpc).insert(0, 0)\n",
    "\n",
    "Tsys = 360\n",
    "plt.figure(figsize=(10, 10))\n",
    "for i, (uvp, norm, pspec) in enumerate(zip(uvps, norms, wedge)):\n",
    "    plt.plot(\n",
    "        kparas,\n",
    "        np.log10(np.abs(pspec)),\n",
    "        c=cmap(i),\n",
    "        ls='-',\n",
    "        lw=1,\n",
    "        label='{norm}m ({ants} ants)'.format(norm=norm, ants=len(reds[norm])))\n",
    "\n",
    "    noise = uvp.generate_noise_spectra(0, 'xx', Tsys)\n",
    "    noise = noise[noise.keys()[0]]\n",
    "    noise = np.insert(noise, 0, noise[0, 0], axis=1)\n",
    "    noise = noise.reshape(len(kparas))\n",
    "    noise = np.log10(noise)\n",
    "    plt.plot(\n",
    "        kparas,\n",
    "        noise,\n",
    "        c=cmap(i),\n",
    "        ls='--',\n",
    "        lw=1,\n",
    "        label='{norm}m {Tsys}K'.format(norm=norm, Tsys=Tsys))\n",
    "    \n",
    "    \n",
    "plt.legend(loc='upper right', ncol=3)\n",
    "\n",
    "# x-axis\n",
    "plt.xlim((0, UVP.get_kparas(0)[-1]))\n",
    "plt.xlabel(r\"$k_{\\parallel}\\ [\\rm\\ Mpc^{-1}\\ h]$\", size=20)\n",
    "\n",
    "# y-axis\n",
    "plt.ylim((8, 15))\n",
    "plt.ylabel(r\"$P(k)\\ \\rm [\\log_{10}({mK^2\\ Mpc^3\\ h^{-3}})]$\", size=20)\n",
    "\n",
    "# Titles\n",
    "plt.title(\"XX\")\n",
    "plt.suptitle(\"Bandwidth: {BW}\\nCentral Frequency: {CF}\\nExcluded Antennae: {XANTS}\".format(\n",
    "    BW=np.round(BANDWIDTH, 2),\n",
    "    CF=np.round(CENTRAL_FREQ, 1),\n",
    "    XANTS=', '.join([str(xant) for xant in xants])))\n",
    "\n",
    "# Save and show the plot with a grid\n",
    "plt.grid()\n",
    "plt.savefig(\"zen.{JD}.{JD0}_{JDf}.xx.HH{DFext}.pdf\".format(\n",
    "    BW=np.round(BANDWIDTH.value, 2),\n",
    "    CF=np.round(CENTRAL_FREQ.value, 1),\n",
    "    JD=files[0].split(\".\")[1],\n",
    "    JD0=files[0].split(\".\")[2],\n",
    "    JDf=files[-1].split(\".\")[2],\n",
    "    DFext=os.path.splitext(files[0])[1]))\n",
    "plt.show()"
   ]
  },
  {
   "cell_type": "code",
   "execution_count": null,
   "metadata": {
    "scrolled": false
   },
   "outputs": [],
   "source": [
    "# plt.figure(figsize=(10, 10))\n",
    "# plt.imshow(np.log10(np.abs(wedge)), interpolation=\"nearest\", aspect=\"auto\")\n",
    "\n",
    "# plt.tick_params(axis='both', direction='inout')\n",
    "\n",
    "# plt.xticks([])\n",
    "# plt.xlabel(str(norms[i]) + \" m\", rotation=45, ha=\"center\")\n",
    "\n",
    "# horizon = ((norms[i]*u.m / c.c).to(u.ns)).value\n",
    "# plt.axhline(y=horizon, color=\"w\", ls=\":\")\n",
    "# plt.axhline(y=-horizon, color=\"w\", ls=\":\")\n",
    "\n",
    "# plt.ylim((uvp.get_dlys(0)[0]*1e9 / 2., uvp.get_dlys(0)[-1]*1e9 / 2.))\n",
    "    \n",
    "# plt.text(0.07, 0.5, r\"$\\tau$ [ns]\", ha=\"center\", rotation=\"vertical\", size=20)\n",
    "# plt.text(0.5, 0.04, \"Redundant Baseline Group\", ha=\"center\", size=20)\n",
    "# plt.subplots_adjust(wspace=0, hspace=0)\n",
    "# cbar_ax = fig.add_axes([0.9125, 0.25, 0.025, 0.5])\n",
    "# cbar = fig.colorbar(im, cax=cbar_ax)\n",
    "# cbar.set_label(r\"$P(k)\\ \\rm [mK^2\\ h^{-3}\\ Mpc^3]$\", fontsize=20, ha='center')\n",
    "# plt.show()\n",
    "# plt.clf()"
   ]
  },
  {
   "cell_type": "code",
   "execution_count": null,
   "metadata": {},
   "outputs": [],
   "source": [
    "# Plot each baselines divided by or subtracted by its noise estimate in 2d wedge format"
   ]
  },
  {
   "cell_type": "code",
   "execution_count": null,
   "metadata": {},
   "outputs": [],
   "source": []
  }
 ],
 "metadata": {
  "kernelspec": {
   "display_name": "Python 2",
   "language": "python",
   "name": "python2"
  },
  "language_info": {
   "codemirror_mode": {
    "name": "ipython",
    "version": 2
   },
   "file_extension": ".py",
   "mimetype": "text/x-python",
   "name": "python",
   "nbconvert_exporter": "python",
   "pygments_lexer": "ipython2",
   "version": "2.7.15"
  }
 },
 "nbformat": 4,
 "nbformat_minor": 2
}
