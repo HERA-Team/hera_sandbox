{
 "cells": [
  {
   "cell_type": "code",
   "execution_count": null,
   "metadata": {},
   "outputs": [],
   "source": [
    "\"\"\"This script will convert N MIRIAD data files into N hdf5 files.\"\"\"\n",
    "# Python Standard Library Packages\n",
    "import os\n",
    "import glob\n",
    "import argparse\n",
    "\n",
    "# Community Developed Packages\n",
    "import numpy as np\n",
    "\n",
    "# HERA Collaboration Packages\n",
    "from pyuvdata import UVData"
   ]
  },
  {
   "cell_type": "code",
   "execution_count": null,
   "metadata": {},
   "outputs": [],
   "source": [
    "parser = argparse.ArgumentParser()\n",
    "parser.add_argument(\"-d\",\n",
    "    \"--day\",\n",
    "    help=\"Designate the night of IDR2.1 observation to be analyzed.\",\n",
    "    required=True)\n",
    "parser.add_argument(\"-e\",\n",
    "    \"--ext\",\n",
    "    help=\"Designate the file extension of the files to be analyzed.\",\n",
    "    required=True)\n",
    "args = parser.parse_args()\n",
    "DAY = args.day\n",
    "EXT = args.ext"
   ]
  },
  {
   "cell_type": "code",
   "execution_count": null,
   "metadata": {},
   "outputs": [],
   "source": [
    "# DAY = '2458111'\n",
    "# EXT = 'uvOCRSD'"
   ]
  },
  {
   "cell_type": "code",
   "execution_count": null,
   "metadata": {},
   "outputs": [],
   "source": [
    "# Path to MIRIAD files\n",
    "IDR2_1 = '/lustre/aoc/projects/hera/H1C_IDR2/IDR2_1/{}'.format(DAY)\n",
    "\n",
    "# Retrieves MIRIAD files\n",
    "FILE_SKELETON = '*{}*{}'.format(DAY, EXT)\n",
    "FILE_SKELETON = os.path.join(IDR2_1, FILE_SKELETON)\n",
    "MIRIAD_DFILES = np.array(sorted(glob.glob(FILE_SKELETON)))\n",
    "\n",
    "# Saves new hdf5 files\n",
    "SAVE_PATH = '/lustre/aoc/projects/hera/afortino/{}/zen_{}_1time_1pol_HH_{}_hdf5/'.format(DAY, DAY, EXT)\n",
    "os.system('mkdir -p {}'.format(SAVE_PATH))"
   ]
  },
  {
   "cell_type": "code",
   "execution_count": null,
   "metadata": {},
   "outputs": [],
   "source": [
    "for dfile in MIRIAD_DFILES:\n",
    "    print 'Reading: {}'.format(dfile)\n",
    "    hdf5 = os.path.join(SAVE_PATH, os.path.basename(dfile)) + '.hdf5'\n",
    "    uvd = UVData()\n",
    "    uvd.read_miriad(dfile, ant_str='cross')\n",
    "    uvd.write_uvh5(hdf5, clobber=True)"
   ]
  }
 ],
 "metadata": {
  "kernelspec": {
   "display_name": "Python 2",
   "language": "python",
   "name": "python2"
  },
  "language_info": {
   "codemirror_mode": {
    "name": "ipython",
    "version": 2
   },
   "file_extension": ".py",
   "mimetype": "text/x-python",
   "name": "python",
   "nbconvert_exporter": "python",
   "pygments_lexer": "ipython2",
   "version": "2.7.15"
  }
 },
 "nbformat": 4,
 "nbformat_minor": 2
}
