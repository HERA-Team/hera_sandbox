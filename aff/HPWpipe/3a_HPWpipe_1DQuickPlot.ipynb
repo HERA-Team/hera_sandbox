{
 "cells": [
  {
   "cell_type": "code",
   "execution_count": null,
   "metadata": {},
   "outputs": [],
   "source": [
    "# Python Standard Library Packages\n",
    "import os\n",
    "import glob\n",
    "import argparse\n",
    "import datetime\n",
    "\n",
    "# Community Developed Packages\n",
    "import numpy as np\n",
    "# import matplotlib\n",
    "# matplotlib.use('Agg')\n",
    "import matplotlib.pyplot as plt\n",
    "\n",
    "# HERA Collaboration Packages\n",
    "import hera_pspec as hp"
   ]
  },
  {
   "cell_type": "code",
   "execution_count": null,
   "metadata": {},
   "outputs": [],
   "source": [
    "now = datetime.datetime.now()"
   ]
  },
  {
   "cell_type": "code",
   "execution_count": null,
   "metadata": {},
   "outputs": [],
   "source": [
    "parser = argparse.ArgumentParser()\n",
    "parser.add_argument(\n",
    "    '-F',\n",
    "    '--files',\n",
    "    help='Designate the hdf5 files to be concatenated in time.',\n",
    "    nargs='*',\n",
    "    required=True)\n",
    "parser.add_argument(\n",
    "    '-W',\n",
    "    '--wedge',\n",
    "    help='Turn wedge folding on',\n",
    "    action='store_true')\n",
    "parser.add_argument(\n",
    "    '-S',\n",
    "    '--savepath',\n",
    "    help='Designate the path where the new hdf5 files will be saved. Default is path to data files.')"
   ]
  },
  {
   "cell_type": "code",
   "execution_count": null,
   "metadata": {},
   "outputs": [],
   "source": [
    "\"\"\"Uncomment this code when running as .py:\"\"\"\n",
    "args = parser.parse_args()\n",
    "dfiles = np.array(sorted(args.files))"
   ]
  },
  {
   "cell_type": "code",
   "execution_count": null,
   "metadata": {},
   "outputs": [],
   "source": [
    "\"\"\"Uncomment this code when running as .ipynb:\"\"\"\n",
    "# args = parser.parse_args(\n",
    "#     \"-F /lustre/aoc/projects/hera/afortino/H1C_IDR2_1/OCRS/2458098/LSThrs_5.0_to_6.0/*.??.HH.hdf5.*.UVP\".split())\n",
    "# dfiles = sorted(glob.glob(args.files[0]))"
   ]
  },
  {
   "cell_type": "code",
   "execution_count": null,
   "metadata": {},
   "outputs": [],
   "source": [
    "\"\"\"Formatting command line arguments:\"\"\"\n",
    "wedge = args.wedge\n",
    "if args.savepath is None:\n",
    "    savepath = os.path.dirname(args.files[0])\n",
    "else:\n",
    "    savepath = args.savepath\n",
    "print 'Saving files to:\\n{}'.format(savepath)"
   ]
  },
  {
   "cell_type": "code",
   "execution_count": null,
   "metadata": {},
   "outputs": [],
   "source": [
    "\"\"\"Loading metadata:\"\"\"\n",
    "# This will be deprecated once the UVPspec objects supports adding additional attributes\n",
    "metadata = np.load(os.path.join(os.path.dirname(dfiles[0]), 'metadata.npz'))\n",
    "\n",
    "FREQrng = metadata['FREQrng'].tolist()\n",
    "antpos = metadata['antpos'].tolist()\n",
    "blp_reds = metadata['blp_reds'].tolist()\n",
    "blpairs = [(tuple(blpair[0]), tuple(blpair[1])) for blpair in metadata['blpairs'].tolist()]\n",
    "bls_reds = metadata['bls_reds'].tolist()\n",
    "baselines = metadata['baselines'].tolist()\n",
    "norms = metadata['norms'].tolist()\n",
    "\n",
    "LSTrng = metadata['uvd_extra_keywords'].tolist()['LSTrng'].tolist()\n",
    "JD = metadata['uvd_extra_keywords'].tolist()['JD']\n",
    "JDt0 = metadata['uvd_extra_keywords'].tolist()['JDt0']\n",
    "JDtf = metadata['uvd_extra_keywords'].tolist()['JDtf']\n",
    "numfiles = metadata['uvd_extra_keywords'].tolist()['numfiles']\n",
    "ext = metadata['uvd_extra_keywords'].tolist()['ext']\n",
    "xants = metadata['uvd_extra_keywords'].tolist()['xants'].tolist()"
   ]
  },
  {
   "cell_type": "code",
   "execution_count": null,
   "metadata": {},
   "outputs": [],
   "source": [
    "\"\"\"Creating dictionary for converting between pol integers and pol strings:\"\"\"\n",
    "pol_int_to_str = {1: 'pI', 2: 'pQ', 3: 'pU', 4: 'pV', -5: 'XX', -6: 'YY', -7: 'XY', -8: 'YX'}"
   ]
  },
  {
   "cell_type": "code",
   "execution_count": null,
   "metadata": {},
   "outputs": [],
   "source": [
    "\"\"\"Making plots:\"\"\"\n",
    "# Determine how many rows and columns are needed\n",
    "if (len(dfiles) <= 4) or (len(dfiles) > 8):\n",
    "    ncols = len(dfiles)\n",
    "    nrows = 1\n",
    "else:\n",
    "    ncols = 4\n",
    "    nrows = 2\n",
    "\n",
    "# Initialize the axes objects\n",
    "f, axes = plt.subplots(\n",
    "    ncols=ncols,\n",
    "    nrows=nrows,\n",
    "    sharex=True,\n",
    "    sharey=True,\n",
    "    figsize=(5 * len(dfiles), 2 * len(dfiles)))\n",
    "plt.subplots_adjust(wspace=0, hspace=0)\n",
    "\n",
    "# Plot each file\n",
    "for dfile, ax in zip(dfiles, axes.flatten()):\n",
    "    # Load in UVPspec objects\n",
    "    uvp = hp.UVPSpec()\n",
    "    uvp.read_hdf5(dfile)\n",
    "    \n",
    "    # Average the spectra along redundant baseline groups and time\n",
    "    uvp.average_spectra(blpair_groups=blp_reds.values(), time_avg=True)\n",
    "    blp_groups = [bl[0] for bl in blp_reds.values()]\n",
    "    hp.plot.delay_spectrum(\n",
    "        uvp,\n",
    "        blp_groups,\n",
    "        0,\n",
    "        uvp.pol_array[0],\n",
    "        fold=wedge,\n",
    "        delay=False,\n",
    "        ax=ax,\n",
    "        component='abs')\n",
    "    \n",
    "    ax.set_title(pol_int_to_str[uvp.pol_array[0]], fontsize=20)\n",
    "f.suptitle('Frequency Channel Range: {} to {} | Excluded Antennae: {}\\n\\\n",
    "    JD {} from {} to {} | {} Files | LST hour from {} to {}'.format(\n",
    "    FREQrng[0],\n",
    "    FREQrng[1],\n",
    "    str(xants),\n",
    "    JD,\n",
    "    JDt0,\n",
    "    JDtf,\n",
    "    numfiles,\n",
    "    LSTrng[0],\n",
    "    LSTrng[1]))\n",
    "\n",
    "f.savefig('QuickPlot_at_{mon}:{day}_{hr}:{min}:{sec}.pdf'.format(\n",
    "    mon=now.month,\n",
    "    day=now.day,\n",
    "    hr=now.hour,\n",
    "    min=now.minute,\n",
    "    sec=now.second))"
   ]
  },
  {
   "cell_type": "code",
   "execution_count": null,
   "metadata": {},
   "outputs": [],
   "source": []
  }
 ],
 "metadata": {
  "kernelspec": {
   "display_name": "Python 2",
   "language": "python",
   "name": "python2"
  },
  "language_info": {
   "codemirror_mode": {
    "name": "ipython",
    "version": 2
   },
   "file_extension": ".py",
   "mimetype": "text/x-python",
   "name": "python",
   "nbconvert_exporter": "python",
   "pygments_lexer": "ipython2",
   "version": "2.7.15"
  }
 },
 "nbformat": 4,
 "nbformat_minor": 2
}
