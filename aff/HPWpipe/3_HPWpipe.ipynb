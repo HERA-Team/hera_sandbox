{
 "cells": [
  {
   "cell_type": "code",
   "execution_count": 1,
   "metadata": {},
   "outputs": [],
   "source": [
    "# Python Standard Library Packages\n",
    "import os\n",
    "import copy\n",
    "import glob\n",
    "\n",
    "# Community Developed Packages\n",
    "import numpy as np\n",
    "import astropy.units as u\n",
    "import astropy.constants as c\n",
    "import matplotlib.pyplot as plt\n",
    "\n",
    "# HERA Collaboration Packages\n",
    "import hera_pspec as hp\n",
    "from hera_pspec.data import DATA_PATH\n",
    "from pyuvdata import UVData\n",
    "from hera_cal import redcal"
   ]
  },
  {
   "cell_type": "code",
   "execution_count": null,
   "metadata": {},
   "outputs": [],
   "source": [
    "parser = argparse.ArgumentParser()\n",
    "parser.add_argument(\"-d\",\n",
    "    \"--day\",\n",
    "    help=\"Designate the night of IDR2.1 observation to be analyzed.\",\n",
    "    required=True)\n",
    "parser.add_argument(\"-e\",\n",
    "    \"--ext\",\n",
    "    help=\"Designate the file extension of the files to be analyzed.\",\n",
    "    required=True)\n",
    "parser.add_argument(\"-s\",\n",
    "    \"--spw\",\n",
    "    help=\"Designate the spectral window range in channels (i.e., 0_1023).\",\n",
    "    Nargs=*,\n",
    "    required=True)\n",
    "args = parser.parse_args()\n",
    "DAY = args.day\n",
    "EXT = args.ext\n",
    "SPW = [(rng.split('_')[0], rng.split('_')[1]) for rng in args.spw]"
   ]
  },
  {
   "cell_type": "code",
   "execution_count": null,
   "metadata": {},
   "outputs": [],
   "source": [
    "DAY = '2458111'\n",
    "EXT = 'uvOCRSD'\n",
    "SPW = [(580, 680)]"
   ]
  },
  {
   "cell_type": "code",
   "execution_count": null,
   "metadata": {},
   "outputs": [],
   "source": [
    "# Path to hdf5 files\n",
    "hdf5_DATA_PATH = '/lustre/aoc/projects/hera/afortino/{}/zen_{}_times_1pol_PS_{}_hdf5/'.format(DAY, DAY, EXT)\n",
    "\n",
    "# Retrieves hdf5 files\n",
    "FILE_SKELETON = '*{}*{}.hdf5'.format(DAY, EXT)\n",
    "FILE_SKELETON = os.path.join(hdf5_DATA_PATH, FILE_SKELETON)\n",
    "hdf5_FILES = np.array(sorted(glob.glob(FILE_SKELETON)))\n",
    "metadata = os.path.join(hdf5_DATA_PATH, 'metadata.npz')\n",
    "\n",
    "# Saves new pdf files\n",
    "SAVE_PATH = '/lustre/aoc/projects/hera/afortino/{}/zen_{}_times_1pol_PS_{}_pdf/'.format(DAY, DAY, EXT)\n",
    "os.system('mkdir -p {}'.format(SAVE_PATH))"
   ]
  },
  {
   "cell_type": "code",
   "execution_count": null,
   "metadata": {},
   "outputs": [],
   "source": [
    "metadata = np.load(metadata)\n",
    "for"
   ]
  }
 ],
 "metadata": {
  "kernelspec": {
   "display_name": "Python 2",
   "language": "python",
   "name": "python2"
  },
  "language_info": {
   "codemirror_mode": {
    "name": "ipython",
    "version": 2
   },
   "file_extension": ".py",
   "mimetype": "text/x-python",
   "name": "python",
   "nbconvert_exporter": "python",
   "pygments_lexer": "ipython2",
   "version": "2.7.15"
  }
 },
 "nbformat": 4,
 "nbformat_minor": 2
}
