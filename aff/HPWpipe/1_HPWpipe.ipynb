{
 "cells": [
  {
   "cell_type": "code",
   "execution_count": null,
   "metadata": {},
   "outputs": [],
   "source": [
    "\"\"\"This script will convert N*4 uvf5 files into 4 hdf5 files that each represent N files of one polarization.\"\"\"\n",
    "import os\n",
    "from glob import glob\n",
    "import argparse\n",
    "import numpy as np\n",
    "import astropy.units as u\n",
    "import astropy.coordinates as aco\n",
    "from pyuvdata import UVData"
   ]
  },
  {
   "cell_type": "code",
   "execution_count": null,
   "metadata": {},
   "outputs": [],
   "source": [
    "parser = argparse.ArgumentParser()"
   ]
  },
  {
   "cell_type": "code",
   "execution_count": null,
   "metadata": {},
   "outputs": [],
   "source": [
    "\"\"\"Arguments that determine which files from the directory are grabbed.\"\"\"\n",
    "parser.add_argument(\n",
    "    '-F',\n",
    "    '--files',\n",
    "    help='Designate the hdf5 files to be concatenated in time.',\n",
    "    nargs='*',\n",
    "    required=True)\n",
    "parser.add_argument(\n",
    "    '-P',\n",
    "    '--pols',\n",
    "    help='Designate which polarizations to analyze.',\n",
    "    nargs='*',\n",
    "    required=True)\n",
    "parser.add_argument(\n",
    "    '-D',\n",
    "    '--day',\n",
    "    help='Designate which JD the hdf5 files come from.',\n",
    "    required=True)\n",
    "parser.add_argument(\n",
    "    '-E',\n",
    "    '--ext',\n",
    "    help='Designate which file extension (i.e., uvOCRS) the designated hdf5 files are.',\n",
    "    required=True)"
   ]
  },
  {
   "cell_type": "code",
   "execution_count": null,
   "metadata": {},
   "outputs": [],
   "source": [
    "\"\"\"Arguments that determine what data from the files are used.\"\"\"\n",
    "parser.add_argument(\n",
    "    '-L',\n",
    "    '--LSTrange',\n",
    "    help='Designate which LST in hours that will be analyzed (e.g.: \"6.0 7.0\").',\n",
    "    type=float,\n",
    "    nargs=2,\n",
    "    required=True)\n",
    "parser.add_argument(\n",
    "    '-R',\n",
    "    '--FREQrange',\n",
    "    help='Designate which frequency channels that will be analyzed (e.g.: \"580 680\").',\n",
    "    type=int,\n",
    "    nargs=2,\n",
    "    required=True)\n",
    "parser.add_argument(\n",
    "    '-X',\n",
    "    '--xants',\n",
    "    help='Designate which antenna numbers that should be excluded from analysis (e.g.: \"0 50 98\").',\n",
    "    type=int,\n",
    "    nargs='*',\n",
    "    default=list())"
   ]
  },
  {
   "cell_type": "code",
   "execution_count": null,
   "metadata": {},
   "outputs": [],
   "source": [
    "parser.add_argument(\n",
    "    '-S',\n",
    "    '--savepath',\n",
    "    help='Designate the path where the new hdf5 files will be saved.',\n",
    "    required=True)"
   ]
  },
  {
   "cell_type": "code",
   "execution_count": null,
   "metadata": {},
   "outputs": [],
   "source": [
    "\"\"\"Uncomment this code when running as .py:\"\"\"\n",
    "args = parser.parse_args()\n",
    "files = np.array(sorted(args.files))"
   ]
  },
  {
   "cell_type": "code",
   "execution_count": null,
   "metadata": {},
   "outputs": [],
   "source": [
    "\"\"\"Uncomment this code when running as .ipynb:\"\"\"\n",
    "# args = parser.parse_args(\n",
    "#     \"-F /lustre/aoc/projects/hera/H1C_IDR2/IDR2_1/2458098/zen.2458098.?????.??.HH.uvh5.OCRS \\\n",
    "#     -P xx xy yx yy\\\n",
    "#     -D 2458098 \\\n",
    "#     -E OCRS \\\n",
    "#     -L 5.0 6.0 \\\n",
    "#     -R 530 730 \\\n",
    "#     -X 0 136 50 2 \\\n",
    "#     -S /lustre/aoc/projects/hera/afortino/H1C_IDR2_1/\".split())\n",
    "# files = sorted(glob(args.files[0]))"
   ]
  },
  {
   "cell_type": "code",
   "execution_count": null,
   "metadata": {},
   "outputs": [],
   "source": [
    "POLS = sorted(args.pols)\n",
    "DAY = args.day\n",
    "EXT = args.ext\n",
    "LSTrange = args.LSTrange\n",
    "FREQchans = np.arange(args.FREQrange[0], args.FREQrange[-1] + 1)\n",
    "XANTS = sorted(args.xants)\n",
    "SAVEPATH = os.path.join(args.savepath, '{EXT}/{DAY}/FREQchans_{FREQ0}_to_{FREQf}/LSThours_{LST0}_to_{LSTf}'.format(\n",
    "    DAY=DAY,\n",
    "    LST0=LSTrange[0],\n",
    "    LSTf=LSTrange[-1],\n",
    "    FREQ0=FREQchans[0],\n",
    "    FREQf=FREQchans[-1],\n",
    "    EXT=EXT))\n",
    "os.system('mkdir -p {}'.format(SAVEPATH))\n",
    "print 'Saving files to:\\n{}'.format(SAVEPATH)\n",
    "print 'Polarizations: {}'.format(POLS)\n",
    "print 'Extension: {}'.format(EXT)\n",
    "print 'LST Range: Hour {} to Hour {} '.format(LSTrange[0], LSTrange[-1])\n",
    "print 'Frequency Channels Range : Channel {} to Channel {}'.format(FREQchans[0], FREQchans[-1])\n",
    "print 'Excluded Antennae: {}'.format(XANTS)"
   ]
  },
  {
   "cell_type": "code",
   "execution_count": null,
   "metadata": {},
   "outputs": [],
   "source": [
    "pol_files = {pol: sorted([file for file in files if pol in file]) for pol in POLS}"
   ]
  },
  {
   "cell_type": "code",
   "execution_count": null,
   "metadata": {},
   "outputs": [],
   "source": [
    "print 'Looping through each polarization...'\n",
    "for pol, dfiles in pol_files.items():\n",
    "    print pol\n",
    "    \n",
    "    print 'Finding the correct files based on the provided LST range...'\n",
    "    uvd = UVData()\n",
    "    files = []\n",
    "    times = []\n",
    "    for dfile in dfiles:\n",
    "        uvd.read_uvh5(dfile, read_data=False)\n",
    "        LSTrads = np.unique(uvd.lst_array * u.rad)\n",
    "        LSThours = aco.Angle(LSTrads).hour\n",
    "        LSTindices = np.where(np.logical_and(LSThours >= LSTrange[0], LSThours <= LSTrange[-1]))[0]\n",
    "\n",
    "        if LSTindices.size > 0:\n",
    "            JDtimes = np.take(np.unique(uvd.time_array), LSTindices)\n",
    "            files.append(dfile)\n",
    "            times.append(JDtimes.tolist())\n",
    "\n",
    "    print 'Loading in the correct data based on the provided LST range...'\n",
    "    uvd = UVData()\n",
    "    uvd.read_uvh5(\n",
    "        files[0],\n",
    "        ant_str='cross',\n",
    "        freq_chans=FREQchans,\n",
    "        times=times[0])\n",
    "    for file, time in zip(files[1:], times[1:]):\n",
    "        uvdi = UVData()\n",
    "        uvdi.read_uvh5(\n",
    "            file, \n",
    "            ant_str='cross',\n",
    "            freq_chans=FREQchans,\n",
    "            times=time)\n",
    "        uvd += uvdi\n",
    "\n",
    "    print 'Making new metadata...'\n",
    "    UVD0 = UVData()\n",
    "    UVDf = UVData()\n",
    "    UVD0.read_uvh5(files[0], read_data=False)\n",
    "    UVDf.read_uvh5(files[-1], read_data=False)\n",
    "\n",
    "    JDt0 = np.round(np.unique(UVD0.time_array)[0], 5)\n",
    "    JDtf = np.round(np.unique(UVDf.time_array)[0], 5)\n",
    "    JD = str(int(JDt0))\n",
    "    JDt0 = '{:.5f}'.format(JDt0).split('.')[-1]\n",
    "    JDtf = '{:.5f}'.format(JDtf).split('.')[-1]\n",
    "    numfiles = len(files)\n",
    "\n",
    "    print 'Saving new metadata...'\n",
    "    uvd.extra_keywords['JDt0'] = JDt0\n",
    "    uvd.extra_keywords['JDtf'] = JDtf\n",
    "    uvd.extra_keywords['JD'] = JD\n",
    "    uvd.extra_keywords['numfiles'] = numfiles\n",
    "    uvd.extra_keywords['EXT'] = EXT\n",
    "    uvd.extra_keywords['FREQchans'] = FREQchans\n",
    "    uvd.extra_keywords['LSTrange'] = LSTrange\n",
    "    uvd.extra_keywords['XANTS'] = XANTS\n",
    "    \n",
    "    print 'Naming new UVdata object...'\n",
    "    hdf5 = 'zen.{JD}.{JDt0}_{JDtf}.{pol}.HH.hdf5.{ext}'.format(\n",
    "        JD=JD,\n",
    "        JDt0=JDt0,\n",
    "        JDtf=JDtf,\n",
    "        pol=pol,\n",
    "        ext=EXT)\n",
    "    hdf5 = os.path.join(SAVEPATH, hdf5)\n",
    "    print 'Writing:'\n",
    "    print hdf5\n",
    "    uvd.write_uvh5(hdf5, clobber=True)"
   ]
  }
 ],
 "metadata": {
  "kernelspec": {
   "display_name": "Python 2",
   "language": "python",
   "name": "python2"
  },
  "language_info": {
   "codemirror_mode": {
    "name": "ipython",
    "version": 2
   },
   "file_extension": ".py",
   "mimetype": "text/x-python",
   "name": "python",
   "nbconvert_exporter": "python",
   "pygments_lexer": "ipython2",
   "version": "2.7.15"
  }
 },
 "nbformat": 4,
 "nbformat_minor": 2
}
