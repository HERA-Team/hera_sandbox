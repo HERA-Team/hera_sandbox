{
 "cells": [
  {
   "cell_type": "code",
   "execution_count": null,
   "metadata": {},
   "outputs": [],
   "source": [
    "\"\"\"This script will convert N*4 hdf5 files into 4 hdf5 files that each represent N files of one polarization.\"\"\"\n",
    "import os\n",
    "from time import time\n",
    "from glob import glob\n",
    "import argparse\n",
    "import numpy as np\n",
    "from pyuvdata import UVData"
   ]
  },
  {
   "cell_type": "code",
   "execution_count": null,
   "metadata": {},
   "outputs": [],
   "source": [
    "parser = argparse.ArgumentParser()\n",
    "parser.add_argument(\n",
    "    '-f',\n",
    "    '--files',\n",
    "    help='Designate the hdf5 files to be concatenated in time.',\n",
    "    nargs='*',\n",
    "    required=True)\n",
    "parser.add_argument(\n",
    "    '-d',\n",
    "    '--day',\n",
    "    help='Designate which JD the hdf5 files come from.',\n",
    "    required=True)\n",
    "parser.add_argument(\n",
    "    '-e',\n",
    "    '--ext',\n",
    "    help='Designate which file extension (i.e., uvOCRS) the designated hdf5 files are.',\n",
    "    required=True)\n",
    "parser.add_argument(\n",
    "    '-s',\n",
    "    '--savepath',\n",
    "    help='Designate the path where the new hdf5 files will be saved.',\n",
    "    required=True)\n",
    "parser.add_argument(\n",
    "    '-p',\n",
    "    '--pols',\n",
    "    help='Designate which polarizations to analyze.',\n",
    "    nargs='*',\n",
    "    required=True)\n",
    "# args = parser.parse_args(\"-f /lustre/aoc/projects/hera/afortino/H1C_IDR2_1/2458111/zen_2458111_1time_1pol_HH_uvOCRS_hdf5/*hdf5 -d 2458111 -e uvOCRS -s /lustre/aoc/projects/hera/afortino/H1C_IDR2_1/ -p xx xy yx yy\".split())\n",
    "args = parser.parse_args()"
   ]
  },
  {
   "cell_type": "code",
   "execution_count": null,
   "metadata": {},
   "outputs": [],
   "source": [
    "files = np.array(sorted(args.files))\n",
    "day = args.day\n",
    "ext = args.ext\n",
    "savepath = os.path.join(args.savepath, '{day}/zen_{day}_times_1pol_HH_{ext}_hdf5'.format(day=day, ext=ext))\n",
    "pols = np.array(sorted(args.pols))\n",
    "os.system('mkdir -p {}'.format(savepath))"
   ]
  },
  {
   "cell_type": "code",
   "execution_count": null,
   "metadata": {},
   "outputs": [],
   "source": [
    "# Uncomment this when running in jupyter notebook\n",
    "# files = sorted(glob(args.files[0]))"
   ]
  },
  {
   "cell_type": "code",
   "execution_count": null,
   "metadata": {},
   "outputs": [],
   "source": [
    "pol_files = {pol: sorted([file for file in files if pol in file]) for pol in pols}"
   ]
  },
  {
   "cell_type": "code",
   "execution_count": null,
   "metadata": {},
   "outputs": [],
   "source": [
    "UVD0 = UVData()\n",
    "UVDf = UVData()\n",
    "UVD0.read_uvh5(pol_files[pols[0]][0])\n",
    "UVDf.read_uvh5(pol_files[pols[0]][-1])\n",
    "\n",
    "JDt0 = np.round(np.unique(UVD0.time_array)[0], 5)\n",
    "JDtf = np.round(np.unique(UVDf.time_array)[0], 5)\n",
    "JD = str(int(JDt0))\n",
    "JDt0 = '{:.5f}'.format(JDt0).split('.')[-1]\n",
    "JDtf = '{:.5f}'.format(JDtf).split('.')[-1]\n",
    "numfiles = len(pol_files[pols[0]])"
   ]
  },
  {
   "cell_type": "code",
   "execution_count": null,
   "metadata": {
    "scrolled": true
   },
   "outputs": [],
   "source": [
    "for pol in pols:\n",
    "    t0 = time()\n",
    "    print 'Reading: {} files'.format(pol)\n",
    "    stack = 0\n",
    "    while len(pol_files[pol]) > 3:\n",
    "        num_groups = int(np.ceil(len(pol_files[pol]) / 2.))\n",
    "        for i, file_group in enumerate(np.array_split(pol_files[pol], num_groups)):\n",
    "            uvd = UVData()\n",
    "            uvd.read_uvh5(file_group.tolist())\n",
    "\n",
    "            temp_hdf5 = os.path.join(savepath, '{}.{}.hdf5'.format(stack, str(i).zfill(3)))\n",
    "            uvd.write_uvh5(temp_hdf5, clobber=True)\n",
    "        \n",
    "        if stack != 0:\n",
    "            for file in new_files:\n",
    "                os.remove(file)\n",
    "            new_files = sorted(glob(os.path.join(savepath, '{}.*.hdf5'.format(stack))))\n",
    "            pol_files[pol] = new_files\n",
    "        else:\n",
    "            new_files = sorted(glob(os.path.join(savepath, '{}.*.hdf5'.format(stack))))\n",
    "            pol_files[pol] = new_files\n",
    "        \n",
    "        stack += 1\n",
    "    \n",
    "    uvd = UVData()\n",
    "    uvd.read_uvh5(pol_files[pol])\n",
    "    \n",
    "    uvd.extra_keywords['JDt0'] = JDt0\n",
    "    uvd.extra_keywords['JDtf'] = JDtf\n",
    "    uvd.extra_keywords['JD'] = JD\n",
    "    uvd.extra_keywords['numfiles'] = numfiles\n",
    "    uvd.extra_keywords['ext'] = ext\n",
    "    \n",
    "    hdf5 = 'zen.{JD}.{JDt0}_{numfiles}_{JDtf}.{pol}.HH.{ext}.hdf5'.format(\n",
    "        JD=JD,\n",
    "        JDt0=JDt0,\n",
    "        numfiles=numfiles,\n",
    "        JDtf=JDtf,\n",
    "        pol=pol,\n",
    "        ext=ext)\n",
    "    hdf5 = os.path.join(savepath, hdf5)\n",
    "    \n",
    "    print 'Writing: {}'.format(hdf5)\n",
    "    uvd.write_uvh5(hdf5)\n",
    "\n",
    "    tf = time()\n",
    "    print 'That took {} minutes'.format(np.round((tf - t0) / 60., 2))\n",
    "    \n",
    "    for file in new_files:\n",
    "        os.remove(file)\n",
    "    \n",
    "    print "
   ]
  }
 ],
 "metadata": {
  "kernelspec": {
   "display_name": "Python 2",
   "language": "python",
   "name": "python2"
  },
  "language_info": {
   "codemirror_mode": {
    "name": "ipython",
    "version": 2
   },
   "file_extension": ".py",
   "mimetype": "text/x-python",
   "name": "python",
   "nbconvert_exporter": "python",
   "pygments_lexer": "ipython2",
   "version": "2.7.15"
  }
 },
 "nbformat": 4,
 "nbformat_minor": 2
}
