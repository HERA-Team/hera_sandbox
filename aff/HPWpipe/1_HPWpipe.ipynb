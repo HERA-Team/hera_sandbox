{
 "cells": [
  {
   "cell_type": "code",
   "execution_count": null,
   "metadata": {},
   "outputs": [],
   "source": [
    "\"\"\"This script will convert N*4 hdf5 files into 4 hdf5 files that each represent N files of one polarization.\"\"\"\n",
    "# Python Standard Library Packages\n",
    "import os\n",
    "import glob\n",
    "import argparse\n",
    "\n",
    "# Community Developed Packages\n",
    "import numpy as np\n",
    "\n",
    "# HERA Collaboration Packages\n",
    "from pyuvdata import UVData"
   ]
  },
  {
   "cell_type": "code",
   "execution_count": null,
   "metadata": {},
   "outputs": [],
   "source": [
    "parser = argparse.ArgumentParser()\n",
    "parser.add_argument(\"-d\",\n",
    "    \"--day\",\n",
    "    help=\"Designate the night of IDR2.1 observation to be analyzed.\",\n",
    "    required=True)\n",
    "parser.add_argument(\"-e\",\n",
    "    \"--ext\",\n",
    "    help=\"Designate the file extension of the files to be analyzed.\",\n",
    "    required=True)\n",
    "args = parser.parse_args()\n",
    "DAY = args.day\n",
    "EXT = args.ext"
   ]
  },
  {
   "cell_type": "code",
   "execution_count": null,
   "metadata": {},
   "outputs": [],
   "source": [
    "# DAY = '2458111'\n",
    "# EXT = 'uvOCRSD'"
   ]
  },
  {
   "cell_type": "code",
   "execution_count": null,
   "metadata": {},
   "outputs": [],
   "source": [
    "# Path to hdf5 files\n",
    "hdf5_DATA_PATH = '/lustre/aoc/projects/hera/afortino/{}/zen_{}_1time_1pol_HH_{}_hdf5/'.format(DAY, DAY, EXT)\n",
    "\n",
    "# Retrieves hdf5 files\n",
    "FILE_SKELETON = '*{}*{}.hdf5'.format(DAY, EXT)\n",
    "FILE_SKELETON = os.path.join(hdf5_DATA_PATH, FILE_SKELETON)\n",
    "hdf5_FILES = np.array(sorted(glob.glob(FILE_SKELETON)))\n",
    "\n",
    "# Saves new hdf5 files\n",
    "SAVE_PATH = '/lustre/aoc/projects/hera/afortino/{}/zen_{}_times_1pol_HH_{}_hdf5/'.format(DAY, DAY, EXT)\n",
    "os.system('mkdir -p {}'.format(SAVE_PATH))"
   ]
  },
  {
   "cell_type": "code",
   "execution_count": null,
   "metadata": {},
   "outputs": [],
   "source": [
    "hdf5_DFILES = {\n",
    "    'xx': [dfile for dfile in hdf5_FILES if 'xx' in dfile],\n",
    "    'xy': [dfile for dfile in hdf5_FILES if 'xy' in dfile],\n",
    "    'yx': [dfile for dfile in hdf5_FILES if 'yx' in dfile],\n",
    "    'yy': [dfile for dfile in hdf5_FILES if 'yy' in dfile]}"
   ]
  },
  {
   "cell_type": "code",
   "execution_count": null,
   "metadata": {},
   "outputs": [],
   "source": [
    "SAMPLE_POL = sorted(hdf5_DFILES.keys())[0]\n",
    "\n",
    "UVD0 = UVData()\n",
    "UVDf = UVData()\n",
    "UVD0.read_uvh5(hdf5_DFILES[SAMPLE_POL][0])\n",
    "UVDf.read_uvh5(hdf5_DFILES[SAMPLE_POL][-1])\n",
    "\n",
    "JDt0 = np.round(np.unique(UVD0.time_array)[0], 5)\n",
    "JDtf = np.round(np.unique(UVDf.time_array)[0], 5)\n",
    "JD = str(int(JDt0))\n",
    "JDt0 = '{:.5f}'.format(JDt0).split('.')[-1]\n",
    "JDtf = '{:.5f}'.format(JDtf).split('.')[-1]\n",
    "numfiles = str(len(hdf5_DFILES[SAMPLE_POL]))\n",
    "\n",
    "for pol in sorted(hdf5_DFILES):\n",
    "    print 'Reading: {} files from {}'.format(pol, hdf5_DATA_PATH)\n",
    "    uvd = UVData()\n",
    "    uvd.read_uvh5(hdf5_DFILES[pol])\n",
    "    \n",
    "    uvd.extra_keywords['JDt0'] = JDt0\n",
    "    uvd.extra_keywords['JDtf'] = JDtf\n",
    "    uvd.extra_keywords['JD'] = JD\n",
    "    uvd.extra_keywords['numfiles'] = numfiles\n",
    "    uvd.extra_keywords['ext'] = EXT\n",
    "    \n",
    "    hdf5 = 'zen.{JD}.{JDt0}_{numfiles}_{JDtf}.{pol}.HH.{ext}.hdf5'.format(\n",
    "        JD=JD,\n",
    "        JDt0=JDt0,\n",
    "        numfiles=numfiles,\n",
    "        JDtf=JDtf,\n",
    "        pol=pol,\n",
    "        ext=EXT)\n",
    "    hdf5 = os.path.join(SAVE_PATH, hdf5)\n",
    "    uvd.write_uvh5(hdf5)"
   ]
  },
  {
   "cell_type": "code",
   "execution_count": null,
   "metadata": {},
   "outputs": [],
   "source": []
  }
 ],
 "metadata": {
  "kernelspec": {
   "display_name": "Python 2",
   "language": "python",
   "name": "python2"
  },
  "language_info": {
   "codemirror_mode": {
    "name": "ipython",
    "version": 2
   },
   "file_extension": ".py",
   "mimetype": "text/x-python",
   "name": "python",
   "nbconvert_exporter": "python",
   "pygments_lexer": "ipython2",
   "version": "2.7.15"
  }
 },
 "nbformat": 4,
 "nbformat_minor": 2
}
