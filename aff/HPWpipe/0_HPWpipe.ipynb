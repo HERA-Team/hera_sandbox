{
 "cells": [
  {
   "cell_type": "code",
   "execution_count": null,
   "metadata": {},
   "outputs": [],
   "source": [
    "\"\"\"This script will convert MIRIAD data files into an equal number of hdf5 files.\"\"\"\n",
    "import os\n",
    "import argparse\n",
    "import numpy as np\n",
    "from pyuvdata import UVData"
   ]
  },
  {
   "cell_type": "code",
   "execution_count": null,
   "metadata": {},
   "outputs": [],
   "source": [
    "parser = argparse.ArgumentParser()\n",
    "parser.add_argument(\n",
    "    '-f',\n",
    "    '--files',\n",
    "    help='Designate the MIRIAD files to be converted, one by one, to hdf5 files.',\n",
    "    nargs='*',\n",
    "    required=True)\n",
    "parser.add_argument(\n",
    "    '-d',\n",
    "    '--day',\n",
    "    help='Designate which JD the MIRIAD files come from.',\n",
    "    required=True)\n",
    "parser.add_argument(\n",
    "    '-e',\n",
    "    '--ext',\n",
    "    help='Designate which file extension (i.e., uvOCRS) the designated MIRIAD files are.',\n",
    "    required=True)\n",
    "parser.add_argument(\n",
    "    '-s',\n",
    "    '--savepath',\n",
    "    help='Designate the path where the new hdf5 files will be saved.',\n",
    "    required=True)\n",
    "args = parser.parse_args()"
   ]
  },
  {
   "cell_type": "code",
   "execution_count": null,
   "metadata": {},
   "outputs": [],
   "source": [
    "files = np.array(sorted(args.files))\n",
    "day = args.day\n",
    "ext = args.ext\n",
    "savepath = os.path.join(args.savepath, '{day}/zen_{day}_1time_1pol_HH_{ext}_hdf5'.format(day=day, ext=ext))\n",
    "os.system('mkdir -p {}'.format(savepath))"
   ]
  },
  {
   "cell_type": "code",
   "execution_count": null,
   "metadata": {},
   "outputs": [],
   "source": [
    "for dfile in files:\n",
    "    hdf5 = os.path.join(savepath, os.path.basename(dfile)) + '.hdf5'\n",
    "    uvd = UVData()\n",
    "\n",
    "    print 'Reading: {}'.format(dfile)\n",
    "    uvd.read_miriad(dfile, ant_str='cross')\n",
    "\n",
    "    print 'Writing: {}'.format(hdf5)\n",
    "    uvd.write_uvh5(hdf5, clobber=True)\n",
    "    \n",
    "    print"
   ]
  }
 ],
 "metadata": {
  "kernelspec": {
   "display_name": "Python 2",
   "language": "python",
   "name": "python2"
  },
  "language_info": {
   "codemirror_mode": {
    "name": "ipython",
    "version": 2
   },
   "file_extension": ".py",
   "mimetype": "text/x-python",
   "name": "python",
   "nbconvert_exporter": "python",
   "pygments_lexer": "ipython2",
   "version": "2.7.15"
  }
 },
 "nbformat": 4,
 "nbformat_minor": 2
}
