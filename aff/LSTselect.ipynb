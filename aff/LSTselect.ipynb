{
 "cells": [
  {
   "cell_type": "code",
   "execution_count": 1,
   "metadata": {},
   "outputs": [],
   "source": [
    "import os\n",
    "import copy\n",
    "import glob\n",
    "\n",
    "import numpy as np\n",
    "import astropy.units as u\n",
    "import astropy.constants as c\n",
    "import astropy.coordinates as aco\n",
    "import matplotlib.pyplot as plt\n",
    "\n",
    "import hera_pspec as hp\n",
    "from hera_pspec.data import DATA_PATH\n",
    "from pyuvdata import UVData"
   ]
  },
  {
   "cell_type": "code",
   "execution_count": 2,
   "metadata": {},
   "outputs": [],
   "source": [
    "# From Command Line Arguments\n",
    "dfiles = sorted(glob.glob('/lustre/aoc/projects/hera/H1C_IDR2/IDR2_1/2458111/zen.2458111.?????.xx.HH.uvh5.OCRS'))\n",
    "lst_range = (5.0, 6.0)\n",
    "freq_chans = np.arange(580, 680 + 1)"
   ]
  },
  {
   "cell_type": "code",
   "execution_count": 3,
   "metadata": {},
   "outputs": [
    {
     "name": "stdout",
     "output_type": "stream",
     "text": [
      "CPU times: user 835 ms, sys: 227 ms, total: 1.06 s\n",
      "Wall time: 1.15 s\n"
     ]
    }
   ],
   "source": [
    "%%time\n",
    "uvd = UVData()\n",
    "files = []\n",
    "times = []\n",
    "for dfile in dfiles:\n",
    "    uvd.read_uvh5(dfile, read_data=False)\n",
    "    LSTrads = np.unique(uvd.lst_array * u.rad)\n",
    "    LSThours = aco.Angle(LSTrads).hour\n",
    "    LSTindices = np.where(np.logical_and(LSThours >= lst_range[0], LSThours <= lst_range[-1]))[0]\n",
    "    \n",
    "    if LSTindices.size > 0:\n",
    "        JDtimes = np.take(np.unique(uvd.time_array), LSTindices)\n",
    "        files.append(dfile)\n",
    "        times.append(JDtimes.tolist())"
   ]
  },
  {
   "cell_type": "code",
   "execution_count": 5,
   "metadata": {},
   "outputs": [
    {
     "name": "stdout",
     "output_type": "stream",
     "text": [
      "CPU times: user 16.5 s, sys: 5.7 s, total: 22.2 s\n",
      "Wall time: 22.1 s\n"
     ]
    }
   ],
   "source": [
    "%%time\n",
    "uvd = UVData()\n",
    "uvd.read_uvh5(\n",
    "    files[0],\n",
    "    ant_str='cross',\n",
    "    freq_chans=freq_chans,\n",
    "    times=times[0])\n",
    "for file, time in zip(files[1:], times[1:]):\n",
    "    uvdi = UVData()\n",
    "    uvdi.read_uvh5(\n",
    "        file, \n",
    "        ant_str='cross',\n",
    "        freq_chans=freq_chans,\n",
    "        times=time)\n",
    "    uvd += uvdi"
   ]
  }
 ],
 "metadata": {
  "kernelspec": {
   "display_name": "Python 2",
   "language": "python",
   "name": "python2"
  },
  "language_info": {
   "codemirror_mode": {
    "name": "ipython",
    "version": 2
   },
   "file_extension": ".py",
   "mimetype": "text/x-python",
   "name": "python",
   "nbconvert_exporter": "python",
   "pygments_lexer": "ipython2",
   "version": "2.7.15"
  }
 },
 "nbformat": 4,
 "nbformat_minor": 2
}
