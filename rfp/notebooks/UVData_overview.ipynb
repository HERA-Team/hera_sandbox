{
 "cells": [
  {
   "cell_type": "code",
   "execution_count": null,
   "metadata": {
    "ExecuteTime": {
     "end_time": "2021-07-01T19:26:43.431778Z",
     "start_time": "2021-07-01T19:26:41.875245Z"
    }
   },
   "outputs": [],
   "source": [
    "import numpy as np\n",
    "import matplotlib.pyplot as plt\n",
    "from astropy import units, constants\n",
    "from astropy.time import Time\n",
    "\n",
    "import hera_sim\n",
    "import uvtools\n",
    "from hera_sim import Simulator\n",
    "from pyuvdata import UVData"
   ]
  },
  {
   "cell_type": "code",
   "execution_count": null,
   "metadata": {
    "ExecuteTime": {
     "end_time": "2021-07-01T19:26:43.444505Z",
     "start_time": "2021-07-01T19:26:43.433551Z"
    }
   },
   "outputs": [],
   "source": [
    "# Set some of the default parameters for hera_sim to those\n",
    "# appropriate for the H1C observing season\n",
    "hera_sim.defaults.set(\"h1c\")"
   ]
  },
  {
   "cell_type": "code",
   "execution_count": null,
   "metadata": {
    "ExecuteTime": {
     "end_time": "2021-07-01T19:26:44.503500Z",
     "start_time": "2021-07-01T19:26:43.446749Z"
    }
   },
   "outputs": [],
   "source": [
    "# Use the Simulator to easily set up some mock data\n",
    "sim_params = dict(\n",
    "    Ntimes=100,\n",
    "    start_time=2456658.5,  # 1 Jan 2014 in Julian Date\n",
    "    integration_time=10.73,  # seconds\n",
    "    Nfreqs=200,\n",
    "    start_freq=100e6,   # Hz\n",
    "    channel_width=100e6/1024,\n",
    "    array_layout=hera_sim.antpos.hex_array(2, split_core=False, outriggers=0),\n",
    ")\n",
    "sim = Simulator(**sim_params)\n",
    "uvd = sim.data  # The Simulator has a UVData object as its data attribute"
   ]
  },
  {
   "cell_type": "markdown",
   "metadata": {},
   "source": [
    "The above cell sets up a ``Simulator`` object with 100 integrations of 10.73 seconds each, observing at frequencies from 100 MHz to about 120 MHz, with an array of 7 antennas configured into a hexagon. The next few cells investigate the different attributes of the underlying ``UVData`` object that the ``Simulator`` uses to store the data/metadata."
   ]
  },
  {
   "cell_type": "code",
   "execution_count": null,
   "metadata": {
    "ExecuteTime": {
     "end_time": "2021-07-01T19:26:44.743108Z",
     "start_time": "2021-07-01T19:26:44.505050Z"
    }
   },
   "outputs": [],
   "source": [
    "# Take a look at the array layout\n",
    "fig = sim.plot_array()"
   ]
  },
  {
   "cell_type": "code",
   "execution_count": null,
   "metadata": {
    "ExecuteTime": {
     "end_time": "2021-07-01T19:26:44.962408Z",
     "start_time": "2021-07-01T19:26:44.745459Z"
    }
   },
   "outputs": [],
   "source": [
    "# Equivalent code for producing the above plot using a UVData object\n",
    "pos, ants = uvd.get_ENU_antpos()\n",
    "dx = 0.25  # offset for labeling antennas\n",
    "fig = plt.figure(figsize=(6,6), dpi=100)\n",
    "ax = fig.add_subplot(111)\n",
    "for ant, (e, n, u) in zip(ants, pos):\n",
    "    ax.plot(e, n, marker='o', ms=3.5, color='k')\n",
    "    ax.text(e + dx, n + dx, ant)\n",
    "ax.set_xlabel(\"East Position [m]\")\n",
    "ax.set_ylabel(\"North Position [m]\")\n",
    "ax.set_aspect(\"equal\");"
   ]
  },
  {
   "cell_type": "code",
   "execution_count": null,
   "metadata": {
    "ExecuteTime": {
     "end_time": "2021-07-01T19:26:45.188269Z",
     "start_time": "2021-07-01T19:26:44.964936Z"
    }
   },
   "outputs": [],
   "source": [
    "# Take a look at the frequency array\n",
    "fig, ax = plt.subplots(figsize=(6,4), dpi=100)\n",
    "ax.plot(uvd.freq_array.flatten() / 1e6)\n",
    "ax.text(\n",
    "    0.1,  # Close to the left side of the plot\n",
    "    0.9,  # Close to the top of the plot\n",
    "    f\"Channel Width: {uvd.channel_width / 1e3} kHz\",\n",
    "    transform=ax.transAxes,  # Use normalized coordinates for placing text\n",
    "    horizontalalignment=\"left\",\n",
    "    verticalalignment=\"bottom\",\n",
    ")\n",
    "ax.set_xlabel(\"Channel Number\")\n",
    "ax.set_ylabel(\"Frequency [MHz]\");"
   ]
  },
  {
   "cell_type": "code",
   "execution_count": null,
   "metadata": {
    "ExecuteTime": {
     "end_time": "2021-07-01T19:26:45.382444Z",
     "start_time": "2021-07-01T19:26:45.190116Z"
    }
   },
   "outputs": [],
   "source": [
    "# Take a look at the timing information\n",
    "times_jd, inds = np.unique(uvd.time_array, return_index=True)\n",
    "start_time = times_jd[0]\n",
    "start_date = Time(start_time, format=\"jd\").to_datetime()\n",
    "year = start_date.year\n",
    "month = start_date.month\n",
    "day = start_date.day\n",
    "lsts = uvd.lst_array[inds]\n",
    "lsts_hr = lsts * units.day.to(\"hr\") * units.rad.to(\"cycle\")\n",
    "fig, ax = plt.subplots(figsize=(6,4), dpi=100)\n",
    "ax.plot(times_jd - np.floor(start_time), lsts_hr)\n",
    "ax.set_xlabel(f\"JD - {int(np.floor(start_time))}\")\n",
    "ax.set_ylabel(\"Local Sidereal Time [hours]\")\n",
    "ax.text(\n",
    "    0.1,\n",
    "    0.9,\n",
    "    f\"Start Date (YYYY-MM-DD): {year}-{month:02d}-{day:02d}\",\n",
    "    transform=ax.transAxes,\n",
    "    horizontalalignment=\"left\",\n",
    "    verticalalignment=\"bottom\",\n",
    ")\n",
    "ax.text(\n",
    "    0.1,\n",
    "    0.85,\n",
    "    f\"Integration Time: {uvd.integration_time[0]:.2f} s\",\n",
    "    transform=ax.transAxes,\n",
    "    horizontalalignment=\"left\",\n",
    "    verticalalignment=\"bottom\",\n",
    ");"
   ]
  },
  {
   "cell_type": "markdown",
   "metadata": {},
   "source": [
    "You'll notice in the previous cell that the times were extracted using ``np.unique``. This is because the time and LST arrays actually have multiple copies of the same times, which is a result of the way data is actually stored in a ``UVData`` object. ``UVData`` objects combine the baseline and time axes to form a baseline-time axis, and then an order on that axis is defined so that various ``UVData`` methods know how to slice along it in order to retrieve data. Let's see how this works for the default case:"
   ]
  },
  {
   "cell_type": "code",
   "execution_count": null,
   "metadata": {
    "ExecuteTime": {
     "end_time": "2021-07-01T19:26:45.388462Z",
     "start_time": "2021-07-01T19:26:45.384242Z"
    }
   },
   "outputs": [],
   "source": [
    "# By default, each time is repeated for as many baselines as there are in the data\n",
    "np.all(uvd.time_array[0] == uvd.time_array[:uvd.Nbls])"
   ]
  },
  {
   "cell_type": "code",
   "execution_count": null,
   "metadata": {
    "ExecuteTime": {
     "end_time": "2021-07-01T19:26:45.395448Z",
     "start_time": "2021-07-01T19:26:45.390323Z"
    }
   },
   "outputs": [],
   "source": [
    "# This is an alternate way of showing that:\n",
    "np.all(times_jd == uvd.time_array[::uvd.Nbls])"
   ]
  },
  {
   "cell_type": "code",
   "execution_count": null,
   "metadata": {
    "ExecuteTime": {
     "end_time": "2021-07-01T19:26:45.399669Z",
     "start_time": "2021-07-01T19:26:45.396944Z"
    }
   },
   "outputs": [],
   "source": [
    "# Just to show that this is the case for the default baseline-time ordering\n",
    "uvd.blt_order is None"
   ]
  },
  {
   "cell_type": "code",
   "execution_count": null,
   "metadata": {
    "ExecuteTime": {
     "end_time": "2021-07-01T19:26:45.456963Z",
     "start_time": "2021-07-01T19:26:45.401269Z"
    }
   },
   "outputs": [],
   "source": [
    "# If you want to change the ordering so that the time axis is sorted\n",
    "# to cycle through the times for each baseline, then you can do this:\n",
    "uvd.reorder_blts(\"baseline\", \"time\")"
   ]
  },
  {
   "cell_type": "code",
   "execution_count": null,
   "metadata": {
    "ExecuteTime": {
     "end_time": "2021-07-01T19:26:45.467016Z",
     "start_time": "2021-07-01T19:26:45.458864Z"
    }
   },
   "outputs": [],
   "source": [
    "# So now the time axis is segmented into Nbls chunks of length Ntimes\n",
    "np.all(times_jd == uvd.time_array[:uvd.Ntimes])"
   ]
  },
  {
   "cell_type": "code",
   "execution_count": null,
   "metadata": {
    "ExecuteTime": {
     "end_time": "2021-07-01T19:26:45.477279Z",
     "start_time": "2021-07-01T19:26:45.471350Z"
    }
   },
   "outputs": [],
   "source": [
    "np.all(uvd.time_array[0] == uvd.time_array[::uvd.Ntimes])"
   ]
  },
  {
   "cell_type": "markdown",
   "metadata": {},
   "source": [
    "Now let's experiment a bit with the data-like attributes."
   ]
  },
  {
   "cell_type": "code",
   "execution_count": null,
   "metadata": {
    "ExecuteTime": {
     "end_time": "2021-07-01T19:26:46.449704Z",
     "start_time": "2021-07-01T19:26:45.480177Z"
    }
   },
   "outputs": [],
   "source": [
    "# Actually mock up some data, but let's cover more times\n",
    "new_params = sim_params.copy()\n",
    "new_params.update(dict(Ntimes=200, integration_time=30))\n",
    "sim = Simulator(**new_params)\n",
    "uvd = sim.data\n",
    "sim.add(\"diffuse_foreground\", seed=\"redundant\")"
   ]
  },
  {
   "cell_type": "code",
   "execution_count": null,
   "metadata": {
    "ExecuteTime": {
     "end_time": "2021-07-01T19:26:46.454925Z",
     "start_time": "2021-07-01T19:26:46.451192Z"
    }
   },
   "outputs": [],
   "source": [
    "# First: the shape of the data-like arrays\n",
    "uvd.data_array.shape == (uvd.Nblts, 1, uvd.Nfreqs, uvd.Npols)"
   ]
  },
  {
   "cell_type": "code",
   "execution_count": null,
   "metadata": {
    "ExecuteTime": {
     "end_time": "2021-07-01T19:26:46.459208Z",
     "start_time": "2021-07-01T19:26:46.456397Z"
    }
   },
   "outputs": [],
   "source": [
    "# If we want to retrieve data for a particular baseline/polarization,\n",
    "# then we just do this:\n",
    "vis = uvd.get_data(1, 5, \"xx\")  # Baseline (0, 1), polarization \"xx\""
   ]
  },
  {
   "cell_type": "code",
   "execution_count": null,
   "metadata": {
    "ExecuteTime": {
     "end_time": "2021-07-01T19:26:46.464327Z",
     "start_time": "2021-07-01T19:26:46.460693Z"
    }
   },
   "outputs": [],
   "source": [
    "# This gives us a \"waterfall\", with time on the 0-th axis\n",
    "# and frequency on the 1-th axis:\n",
    "vis.shape == (uvd.Ntimes, uvd.Nfreqs)"
   ]
  },
  {
   "cell_type": "code",
   "execution_count": null,
   "metadata": {
    "ExecuteTime": {
     "end_time": "2021-07-01T19:26:47.342577Z",
     "start_time": "2021-07-01T19:26:46.465744Z"
    }
   },
   "outputs": [],
   "source": [
    "# Here's what it looks like:\n",
    "fig = uvtools.plot.labeled_waterfall(uvd, antpairpol=(1, 5, \"xx\"))"
   ]
  },
  {
   "cell_type": "code",
   "execution_count": null,
   "metadata": {},
   "outputs": [],
   "source": []
  }
 ],
 "metadata": {
  "kernelspec": {
   "display_name": "Python 3",
   "language": "python",
   "name": "python3"
  },
  "language_info": {
   "codemirror_mode": {
    "name": "ipython",
    "version": 3
   },
   "file_extension": ".py",
   "mimetype": "text/x-python",
   "name": "python",
   "nbconvert_exporter": "python",
   "pygments_lexer": "ipython3",
   "version": "3.7.3"
  },
  "toc": {
   "base_numbering": 1,
   "nav_menu": {},
   "number_sections": true,
   "sideBar": true,
   "skip_h1_title": false,
   "title_cell": "Table of Contents",
   "title_sidebar": "Contents",
   "toc_cell": false,
   "toc_position": {},
   "toc_section_display": true,
   "toc_window_display": false
  }
 },
 "nbformat": 4,
 "nbformat_minor": 2
}
