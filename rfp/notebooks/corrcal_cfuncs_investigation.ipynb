{
 "cells": [
  {
   "cell_type": "code",
   "execution_count": 1,
   "metadata": {},
   "outputs": [],
   "source": [
    "import corrcal\n",
    "import numpy as np\n",
    "import matplotlib.pyplot as plt\n",
    "import ctypes\n",
    "import numba"
   ]
  },
  {
   "cell_type": "markdown",
   "metadata": {},
   "source": [
    "The first goal in this notebook is to investigate the `corrcal.cfuncs.apply_gains_to_matrix` function (`apply_gains_to_mat` function in the C code). This involves the following:\n",
    "\n",
    "* Simulate some data and build the covariance matrix.\n",
    "* Simulate per-antenna gains.\n",
    "* Apply the gains using `numpy`, basic python (with and without `numba`), and `corrcal`.\n",
    "* Compare the results."
   ]
  },
  {
   "cell_type": "code",
   "execution_count": 2,
   "metadata": {},
   "outputs": [],
   "source": [
    "# First, make the antenna arrays.\n",
    "ant1 = np.array([0, 1])\n",
    "ant2 = np.array([1, 2])\n",
    "ants = set(ant1).union(set(ant2))\n",
    "\n",
    "# Make the gains here because it's easy.\n",
    "gains = np.array(\n",
    "    list(\n",
    "        np.random.uniform() + 1j * np.random.uniform()\n",
    "        for ant in ants\n",
    "    )\n",
    ")\n",
    "\n",
    "# Simulate the data\n",
    "data = np.array(\n",
    "    list(\n",
    "        np.random.uniform() + 1j * np.random.uniform()\n",
    "        for ant in ant1\n",
    "    )\n",
    ")\n",
    "\n",
    "# Make the complex-valued covariance\n",
    "cov = np.outer(data, np.conj(data))"
   ]
  },
  {
   "cell_type": "code",
   "execution_count": 4,
   "metadata": {},
   "outputs": [],
   "source": [
    "# Step 1: brute force\n",
    "def apply_gains_simple(mat, gains, ant1, ant2):\n",
    "    out = np.zeros_like(mat)\n",
    "    for i, ai in enumerate(ant1):\n",
    "        for j, aj in enumerate(ant2):\n",
    "            out[i,j] = mat[i,j] * gains[ai] * np.conj(gains[aj])\n",
    "    return out\n",
    "\n",
    "# Step 2: numba-fied brute force\n",
    "@numba.njit\n",
    "def apply_gains_numba(mat, gains, ant1, ant2):\n",
    "    out = np.zeros_like(mat)\n",
    "    for i, ai in enumerate(ant1):\n",
    "        for j, aj in enumerate(ant2):\n",
    "            out[i,j] = mat[i,j] * gains[ai] * np.conj(gains[aj])\n",
    "    return out\n",
    "\n",
    "# Step 3: corrcal version\n",
    "def apply_gains_corrcal(mat, gains, ant1, ant2):\n",
    "    out = mat.copy()\n",
    "    corrcal.cfuncs.apply_gains_to_matrix(\n",
    "        out.ctypes.data,\n",
    "        gains.ctypes.data,\n",
    "        ant1.ctypes.data,\n",
    "        ant2.ctypes.data,\n",
    "        len(ant1),\n",
    "        len(ant1),\n",
    "    )\n",
    "    return out"
   ]
  },
  {
   "cell_type": "code",
   "execution_count": 5,
   "metadata": {},
   "outputs": [
    {
     "data": {
      "text/plain": [
       "(True, False)"
      ]
     },
     "execution_count": 5,
     "metadata": {},
     "output_type": "execute_result"
    }
   ],
   "source": [
    "# Check that all results are equivalent\n",
    "simple_numba_match = np.allclose(\n",
    "    apply_gains_simple(cov, gains, ant1, ant2),\n",
    "    apply_gains_numba(cov, gains, ant1, ant2),\n",
    ")\n",
    "simple_corrcal_match = np.allclose(\n",
    "    apply_gains_simple(cov, gains, ant1, ant2),\n",
    "    apply_gains_corrcal(cov, gains, ant1, ant2),\n",
    ")\n",
    "simple_numba_match, simple_corrcal_match"
   ]
  },
  {
   "cell_type": "code",
   "execution_count": 6,
   "metadata": {},
   "outputs": [
    {
     "data": {
      "text/plain": [
       "array([[0.0428176 -0.02820719j, 0.06377239-0.01017758j],\n",
       "       [0.02621248+0.01261466j, 0.02354736+0.02807006j]])"
      ]
     },
     "execution_count": 6,
     "metadata": {},
     "output_type": "execute_result"
    }
   ],
   "source": [
    "apply_gains_simple(cov, gains, ant1, ant2)"
   ]
  },
  {
   "cell_type": "code",
   "execution_count": 7,
   "metadata": {},
   "outputs": [
    {
     "data": {
      "text/plain": [
       "array([[0.0428176 -0.02820719j, 0.03939508+0.01779453j],\n",
       "       [0.04306916-0.00580549j, 0.02354736+0.02807006j]])"
      ]
     },
     "execution_count": 7,
     "metadata": {},
     "output_type": "execute_result"
    }
   ],
   "source": [
    "apply_gains_corrcal(cov, gains, ant1, ant2)"
   ]
  },
  {
   "cell_type": "code",
   "execution_count": 8,
   "metadata": {
    "scrolled": false
   },
   "outputs": [
    {
     "data": {
      "text/plain": [
       "array([[0.16902426+0.j        , 0.1290911 -0.06212464j],\n",
       "       [0.1290911 +0.06212464j, 0.12142625+0.j        ]])"
      ]
     },
     "execution_count": 8,
     "metadata": {},
     "output_type": "execute_result"
    }
   ],
   "source": [
    "cov"
   ]
  },
  {
   "cell_type": "code",
   "execution_count": 9,
   "metadata": {},
   "outputs": [],
   "source": [
    "# Now do timing tests"
   ]
  },
  {
   "cell_type": "code",
   "execution_count": 10,
   "metadata": {},
   "outputs": [
    {
     "name": "stdout",
     "output_type": "stream",
     "text": [
      "14.9 µs ± 676 ns per loop (mean ± std. dev. of 7 runs, 10000 loops each)\n"
     ]
    }
   ],
   "source": [
    "%%timeit\n",
    "_ = apply_gains_simple(cov, gains, ant1, ant2)"
   ]
  },
  {
   "cell_type": "code",
   "execution_count": 11,
   "metadata": {},
   "outputs": [
    {
     "name": "stdout",
     "output_type": "stream",
     "text": [
      "678 ns ± 45.9 ns per loop (mean ± std. dev. of 7 runs, 1000000 loops each)\n"
     ]
    }
   ],
   "source": [
    "%%timeit\n",
    "_ = apply_gains_numba(cov, gains, ant1, ant2)"
   ]
  },
  {
   "cell_type": "code",
   "execution_count": 12,
   "metadata": {},
   "outputs": [
    {
     "name": "stdout",
     "output_type": "stream",
     "text": [
      "6.6 µs ± 166 ns per loop (mean ± std. dev. of 7 runs, 100000 loops each)\n"
     ]
    }
   ],
   "source": [
    "%%timeit\n",
    "_ = apply_gains_corrcal(cov, gains, ant1, ant2)"
   ]
  }
 ],
 "metadata": {
  "kernelspec": {
   "display_name": "Python 3",
   "language": "python",
   "name": "python3"
  },
  "language_info": {
   "codemirror_mode": {
    "name": "ipython",
    "version": 3
   },
   "file_extension": ".py",
   "mimetype": "text/x-python",
   "name": "python",
   "nbconvert_exporter": "python",
   "pygments_lexer": "ipython3",
   "version": "3.8.10"
  }
 },
 "nbformat": 4,
 "nbformat_minor": 2
}
