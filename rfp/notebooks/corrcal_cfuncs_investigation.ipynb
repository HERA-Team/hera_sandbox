{
 "cells": [
  {
   "cell_type": "code",
   "execution_count": 1,
   "metadata": {},
   "outputs": [],
   "source": [
    "import corrcal\n",
    "import numpy as np\n",
    "import matplotlib.pyplot as plt\n",
    "import ctypes\n",
    "import numba"
   ]
  },
  {
   "cell_type": "markdown",
   "metadata": {},
   "source": [
    "The first goal in this notebook is to investigate the `corrcal.cfuncs.apply_gains_to_matrix` function (`apply_gains_to_mat` function in the C code). This involves the following:\n",
    "\n",
    "* Simulate some data and build the covariance matrix.\n",
    "* Simulate per-antenna gains.\n",
    "* Apply the gains using `numpy`, basic python (with and without `numba`), and `corrcal`.\n",
    "* Compare the results."
   ]
  },
  {
   "cell_type": "code",
   "execution_count": 2,
   "metadata": {},
   "outputs": [],
   "source": [
    "# First, make the antenna arrays.\n",
    "ant1 = np.array([0, 1])\n",
    "ant2 = np.array([1, 2])\n",
    "ants = set(ant1).union(set(ant2))\n",
    "\n",
    "# Make the gains here because it's easy.\n",
    "gains = np.array(\n",
    "    list(\n",
    "        np.random.uniform() + 1j * np.random.uniform()\n",
    "        for ant in ants\n",
    "    )\n",
    ")\n",
    "\n",
    "# Simulate the data\n",
    "data = np.array(\n",
    "    list(\n",
    "        np.random.uniform() + 1j * np.random.uniform()\n",
    "        for ant in ant1\n",
    "    )\n",
    ")\n",
    "\n",
    "# Make the complex-valued covariance\n",
    "cov = np.outer(data, np.conj(data))"
   ]
  },
  {
   "cell_type": "code",
   "execution_count": 3,
   "metadata": {},
   "outputs": [],
   "source": [
    "# Step 1: brute force\n",
    "def apply_gains_simple(mat, gains, ant1, ant2):\n",
    "    out = np.zeros_like(mat)\n",
    "    for i, ai in enumerate(ant1):\n",
    "        for j, aj in enumerate(ant2):\n",
    "            out[i,j] = mat[i,j] * gains[ai] * np.conj(gains[aj])\n",
    "    return out\n",
    "\n",
    "# Step 2: numba-fied brute force\n",
    "@numba.njit\n",
    "def apply_gains_numba(mat, gains, ant1, ant2):\n",
    "    out = np.zeros_like(mat)\n",
    "    for i, ai in enumerate(ant1):\n",
    "        for j, aj in enumerate(ant2):\n",
    "            out[i,j] = mat[i,j] * gains[ai] * np.conj(gains[aj])\n",
    "    return out\n",
    "\n",
    "# Step 3: corrcal version\n",
    "def apply_gains_corrcal(mat, gains, ant1, ant2):\n",
    "    out = mat.copy()\n",
    "    corrcal.cfuncs.apply_gains_to_matrix(\n",
    "        out.ctypes.data,\n",
    "        gains.ctypes.data,\n",
    "        ant1.ctypes.data,\n",
    "        ant2.ctypes.data,\n",
    "        len(ant1),\n",
    "        len(ant1),\n",
    "    )\n",
    "    return out"
   ]
  },
  {
   "cell_type": "code",
   "execution_count": 4,
   "metadata": {},
   "outputs": [
    {
     "data": {
      "text/plain": [
       "(True, False)"
      ]
     },
     "execution_count": 4,
     "metadata": {},
     "output_type": "execute_result"
    }
   ],
   "source": [
    "# Check that all results are equivalent\n",
    "simple_numba_match = np.allclose(\n",
    "    apply_gains_simple(cov, gains, ant1, ant2),\n",
    "    apply_gains_numba(cov, gains, ant1, ant2),\n",
    ")\n",
    "simple_corrcal_match = np.allclose(\n",
    "    apply_gains_simple(cov, gains, ant1, ant2),\n",
    "    apply_gains_corrcal(cov, gains, ant1, ant2),\n",
    ")\n",
    "simple_numba_match, simple_corrcal_match"
   ]
  },
  {
   "cell_type": "code",
   "execution_count": 5,
   "metadata": {},
   "outputs": [
    {
     "data": {
      "text/plain": [
       "array([[0.09979591-0.82627705j, 0.14211986-0.22948016j],\n",
       "       [0.59986345+0.04844559j, 0.16987461+0.09611428j]])"
      ]
     },
     "execution_count": 5,
     "metadata": {},
     "output_type": "execute_result"
    }
   ],
   "source": [
    "apply_gains_simple(cov, gains, ant1, ant2)"
   ]
  },
  {
   "cell_type": "code",
   "execution_count": 6,
   "metadata": {},
   "outputs": [
    {
     "data": {
      "text/plain": [
       "array([[0.09979591-0.82627705j, 0.27964347+0.12970971j],\n",
       "       [0.1050968 -0.51638523j, 0.16987461+0.09611428j]])"
      ]
     },
     "execution_count": 6,
     "metadata": {},
     "output_type": "execute_result"
    }
   ],
   "source": [
    "apply_gains_corrcal(cov, gains, ant1, ant2)"
   ]
  },
  {
   "cell_type": "code",
   "execution_count": 7,
   "metadata": {
    "scrolled": false
   },
   "outputs": [
    {
     "data": {
      "text/plain": [
       "array([[1.23759637+0.j        , 0.78105948-0.06307917j],\n",
       "       [0.78105948+0.06307917j, 0.49614956+0.j        ]])"
      ]
     },
     "execution_count": 7,
     "metadata": {},
     "output_type": "execute_result"
    }
   ],
   "source": [
    "cov"
   ]
  },
  {
   "cell_type": "code",
   "execution_count": 8,
   "metadata": {},
   "outputs": [],
   "source": [
    "# Now do timing tests"
   ]
  },
  {
   "cell_type": "code",
   "execution_count": 9,
   "metadata": {},
   "outputs": [
    {
     "name": "stdout",
     "output_type": "stream",
     "text": [
      "15.9 µs ± 2.75 µs per loop (mean ± std. dev. of 7 runs, 10000 loops each)\n"
     ]
    }
   ],
   "source": [
    "%%timeit\n",
    "_ = apply_gains_simple(cov, gains, ant1, ant2)"
   ]
  },
  {
   "cell_type": "code",
   "execution_count": 10,
   "metadata": {},
   "outputs": [
    {
     "name": "stdout",
     "output_type": "stream",
     "text": [
      "700 ns ± 16.2 ns per loop (mean ± std. dev. of 7 runs, 1000000 loops each)\n"
     ]
    }
   ],
   "source": [
    "%%timeit\n",
    "_ = apply_gains_numba(cov, gains, ant1, ant2)"
   ]
  },
  {
   "cell_type": "code",
   "execution_count": 11,
   "metadata": {},
   "outputs": [
    {
     "name": "stdout",
     "output_type": "stream",
     "text": [
      "7.17 µs ± 99.8 ns per loop (mean ± std. dev. of 7 runs, 100000 loops each)\n"
     ]
    }
   ],
   "source": [
    "%%timeit\n",
    "_ = apply_gains_corrcal(cov, gains, ant1, ant2)"
   ]
  },
  {
   "cell_type": "code",
   "execution_count": 12,
   "metadata": {},
   "outputs": [],
   "source": [
    "# Do the dense versions. First, setup data.\n",
    "cov_dense = np.zeros((len(data), 2 * len(data)), dtype=float)\n",
    "cov_dense[:,::2] = cov.real\n",
    "cov_dense[:,1::2] = cov.imag\n",
    "\n",
    "gains_dense = np.zeros(2 * len(gains), dtype=float)\n",
    "gains_dense[::2] = gains.real\n",
    "gains_dense[1::2] = gains.imag"
   ]
  },
  {
   "cell_type": "code",
   "execution_count": 13,
   "metadata": {},
   "outputs": [
    {
     "data": {
      "text/plain": [
       "array([[1.23759637+0.j        , 0.78105948-0.06307917j],\n",
       "       [0.78105948+0.06307917j, 0.49614956+0.j        ]])"
      ]
     },
     "execution_count": 13,
     "metadata": {},
     "output_type": "execute_result"
    }
   ],
   "source": [
    "cov"
   ]
  },
  {
   "cell_type": "code",
   "execution_count": 14,
   "metadata": {},
   "outputs": [
    {
     "data": {
      "text/plain": [
       "array([[ 1.23759637,  0.        ,  0.78105948, -0.06307917],\n",
       "       [ 0.78105948,  0.06307917,  0.49614956,  0.        ]])"
      ]
     },
     "execution_count": 14,
     "metadata": {},
     "output_type": "execute_result"
    }
   ],
   "source": [
    "cov_dense"
   ]
  },
  {
   "cell_type": "markdown",
   "metadata": {},
   "source": [
    "If $z = a + ib$ and $w = c + id$, then $zw = ac - bd + i(bc + ad)$ and $z\\bar{w} = ac + bd + i(bc - ad)$."
   ]
  },
  {
   "cell_type": "code",
   "execution_count": 15,
   "metadata": {},
   "outputs": [],
   "source": [
    "def apply_gains_simple_dense(mat, gains, ant1, ant2):\n",
    "    out = np.zeros_like(mat)\n",
    "    for i, ai in enumerate(ant1):\n",
    "        for j, aj in enumerate(ant2):\n",
    "            re_i = 2 * ai\n",
    "            im_i = 2 * ai + 1\n",
    "            re_j = 2 * aj\n",
    "            im_j = 2 * aj + 1\n",
    "            re_ij = (i, 2 * j)\n",
    "            im_ij = (i, 2 * j + 1)\n",
    "            gigj_re = gains[re_i] * gains[re_j] + gains[im_i] * gains[im_j]\n",
    "            gigj_im = gains[im_i] * gains[re_j] - gains[re_i] * gains[im_j]\n",
    "            out[re_ij] = mat[re_ij] * gigj_re - mat[im_ij] * gigj_im\n",
    "            out[im_ij] = mat[im_ij] * gigj_re + mat[re_ij] * gigj_im\n",
    "    return out\n",
    "\n",
    "@numba.njit\n",
    "def apply_gains_numba_dense(mat, gains, ant1, ant2):\n",
    "    out = np.zeros_like(mat)\n",
    "    for i, ai in enumerate(ant1):\n",
    "        for j, aj in enumerate(ant2):\n",
    "            re_i = 2 * ai\n",
    "            im_i = 2 * ai + 1\n",
    "            re_j = 2 * aj\n",
    "            im_j = 2 * aj + 1\n",
    "            re_ij = (i, 2 * j)\n",
    "            im_ij = (i, 2 * j + 1)\n",
    "            gigj_re = gains[re_i] * gains[re_j] + gains[im_i] * gains[im_j]\n",
    "            gigj_im = gains[im_i] * gains[re_j] - gains[re_i] * gains[im_j]\n",
    "            out[re_ij] = mat[re_ij] * gigj_re - mat[im_ij] * gigj_im\n",
    "            out[im_ij] = mat[im_ij] * gigj_re + mat[re_ij] * gigj_im\n",
    "    return out\n",
    "\n",
    "def apply_gains_corrcal_dense(mat, gains, ant1, ant2, use_alt=False):\n",
    "    out = mat.copy()\n",
    "    if use_alt:\n",
    "        apply_gains = corrcal.cfuncs.apply_gains_to_mat_dense_c\n",
    "    else:\n",
    "        apply_gains = corrcal.cfuncs.apply_gains_to_matrix\n",
    "    # This is the same signature as is used in corrcal\n",
    "    # See e.g. sparse_2level.apply_gains_to_mat in corrcal2\n",
    "    # or body of optimize.get_chisq_dense in my version.\n",
    "    apply_gains(\n",
    "        out.ctypes.data,\n",
    "        gains.ctypes.data,\n",
    "        ant1.ctypes.data,\n",
    "        ant2.ctypes.data,\n",
    "        mat.shape[1] // 2,\n",
    "        mat.shape[0],\n",
    "    )\n",
    "    return out"
   ]
  },
  {
   "cell_type": "code",
   "execution_count": 16,
   "metadata": {},
   "outputs": [
    {
     "data": {
      "text/plain": [
       "(True, True, False, False)"
      ]
     },
     "execution_count": 16,
     "metadata": {},
     "output_type": "execute_result"
    }
   ],
   "source": [
    "dense_scaled_cov = apply_gains_simple_dense(cov_dense, gains_dense, ant1, ant2)\n",
    "dense_matches_complex = np.allclose(\n",
    "    dense_scaled_cov[:,::2] + 1j * dense_scaled_cov[:,1::2],\n",
    "    apply_gains_numba(cov, gains, ant1, ant2),\n",
    ")\n",
    "simple_matches_numba_dense = np.allclose(\n",
    "    apply_gains_simple_dense(cov_dense, gains_dense, ant1, ant2),\n",
    "    apply_gains_numba_dense(cov_dense, gains_dense, ant1, ant2),\n",
    ")\n",
    "simple_matches_corrcal_dense = np.allclose(\n",
    "    apply_gains_simple_dense(cov_dense, gains_dense, ant1, ant2),\n",
    "    apply_gains_corrcal_dense(cov_dense, gains_dense, ant1, ant2),\n",
    ")\n",
    "corrcal_cfuncs_match = np.allclose(\n",
    "    apply_gains_corrcal_dense(cov_dense, gains_dense, ant1, ant2, False),\n",
    "    apply_gains_corrcal_dense(cov_dense, gains_dense, ant1, ant2, True),\n",
    ")\n",
    "(\n",
    "    dense_matches_complex,\n",
    "    simple_matches_numba_dense,\n",
    "    simple_matches_corrcal_dense,\n",
    "    corrcal_cfuncs_match,\n",
    ")"
   ]
  },
  {
   "cell_type": "code",
   "execution_count": 17,
   "metadata": {},
   "outputs": [
    {
     "data": {
      "text/plain": [
       "array([[ 0.09979591, -0.82627705,  0.14211986, -0.22948016],\n",
       "       [ 0.59986345,  0.04844559,  0.16987461,  0.09611428]])"
      ]
     },
     "execution_count": 17,
     "metadata": {},
     "output_type": "execute_result"
    }
   ],
   "source": [
    "dense_scaled_cov"
   ]
  },
  {
   "cell_type": "code",
   "execution_count": 18,
   "metadata": {},
   "outputs": [
    {
     "data": {
      "text/plain": [
       "array([[ 0.09979591, -0.82627705,  0.27964347,  0.12970971],\n",
       "       [ 0.1050968 , -0.51638523,  0.16987461,  0.09611428]])"
      ]
     },
     "execution_count": 18,
     "metadata": {},
     "output_type": "execute_result"
    }
   ],
   "source": [
    "apply_gains_corrcal_dense(cov_dense, gains_dense, ant1, ant2, False)"
   ]
  },
  {
   "cell_type": "code",
   "execution_count": 19,
   "metadata": {},
   "outputs": [
    {
     "data": {
      "text/plain": [
       "array([[ 0.09979591, -0.82627705,  0.0208676 , -0.52655824],\n",
       "       [ 0.78105948,  0.06307917,  0.49614956,  0.        ]])"
      ]
     },
     "execution_count": 19,
     "metadata": {},
     "output_type": "execute_result"
    }
   ],
   "source": [
    "apply_gains_corrcal_dense(cov_dense, gains_dense, ant1, ant2, True)"
   ]
  },
  {
   "cell_type": "code",
   "execution_count": 20,
   "metadata": {},
   "outputs": [],
   "source": [
    "# Some timing tests"
   ]
  },
  {
   "cell_type": "code",
   "execution_count": 21,
   "metadata": {},
   "outputs": [
    {
     "name": "stdout",
     "output_type": "stream",
     "text": [
      "16.6 µs ± 233 ns per loop (mean ± std. dev. of 7 runs, 10000 loops each)\n"
     ]
    }
   ],
   "source": [
    "%%timeit\n",
    "_ = apply_gains_simple_dense(cov_dense, gains_dense, ant1, ant2)"
   ]
  },
  {
   "cell_type": "code",
   "execution_count": 22,
   "metadata": {},
   "outputs": [
    {
     "name": "stdout",
     "output_type": "stream",
     "text": [
      "729 ns ± 5.23 ns per loop (mean ± std. dev. of 7 runs, 1000000 loops each)\n"
     ]
    }
   ],
   "source": [
    "%%timeit\n",
    "_ = apply_gains_numba_dense(cov_dense, gains_dense, ant1, ant2)"
   ]
  },
  {
   "cell_type": "code",
   "execution_count": 23,
   "metadata": {},
   "outputs": [
    {
     "name": "stdout",
     "output_type": "stream",
     "text": [
      "7.41 µs ± 315 ns per loop (mean ± std. dev. of 7 runs, 100000 loops each)\n"
     ]
    }
   ],
   "source": [
    "%%timeit\n",
    "_ = apply_gains_corrcal_dense(cov_dense, gains_dense, ant1, ant2)"
   ]
  },
  {
   "cell_type": "code",
   "execution_count": null,
   "metadata": {},
   "outputs": [],
   "source": []
  }
 ],
 "metadata": {
  "kernelspec": {
   "display_name": "Python 3",
   "language": "python",
   "name": "python3"
  },
  "language_info": {
   "codemirror_mode": {
    "name": "ipython",
    "version": 3
   },
   "file_extension": ".py",
   "mimetype": "text/x-python",
   "name": "python",
   "nbconvert_exporter": "python",
   "pygments_lexer": "ipython3",
   "version": "3.8.10"
  }
 },
 "nbformat": 4,
 "nbformat_minor": 2
}
