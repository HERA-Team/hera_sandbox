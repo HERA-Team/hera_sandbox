{
 "cells": [
  {
   "cell_type": "code",
   "execution_count": 69,
   "metadata": {
    "collapsed": false
   },
   "outputs": [
    {
     "name": "stdout",
     "output_type": "stream",
     "text": [
      "(393, 203)\n",
      "393 393\n",
      "(203,)\n"
     ]
    }
   ],
   "source": [
    "#loads the data and match times\n",
    "import numpy as n, aipy as a, capo, os\n",
    "DIR1 = '/Users/yunfanzhang/local/simuDATA/64_UV/0_26/'\n",
    "DIR2 = '/Users/yunfanzhang/local/simuDATA/64_UV/0_38/'\n",
    "F1 = os.listdir(DIR1)\n",
    "F2 = os.listdir(DIR2)\n",
    "for i in range(len(F1)): F1[i] = DIR1+F1[i] \n",
    "for i in range(len(F2)): F2[i] = DIR2+F2[i] \n",
    "t026 = 2456249.2666900107\n",
    "t038 = 2456249.3086900176\n",
    "dt = -(t038-t026)\n",
    "df = 100./203\n",
    "#freql = n.arange(100,200,df)*1.E6\n",
    "#phsfac = n.exp(-2*n.pi*3000*n.sin(dt*2*n.pi)*freql/a.phs.const.c*1.j)\n",
    "T1, dat1, flg1 = capo.arp.get_dict_of_uv_data(F1,antstr='0_26',polstr='xx')\n",
    "T2, dat2, flg2 = capo.arp.get_dict_of_uv_data(F2,antstr='0_38',polstr='xx')\n",
    "print dat1[283]['xx'].shape\n",
    "data1 = dat1[283]['xx']\n",
    "data2 = dat2[295]['xx']\n",
    "print len(T1), len(T2)\n",
    "\n",
    "while T1[0]+dt>T2[0]: \n",
    "    T2 = T2[1:]\n",
    "    data2 = data2[1:]\n",
    "while len(T1)>len(T2): \n",
    "    T1 = T1[:-1]\n",
    "    data1 = data1[:-1]\n",
    "\n",
    "while T1[0]+dt<T2[0]: \n",
    "    T1 = T1[1:]\n",
    "    data1 = data1[1:]\n",
    "while len(T2)>len(T1): \n",
    "    T2 = T2[:-1]\n",
    "    data2 = data2[:-1]\n",
    "#for i in range(data2.shape[0]):\n",
    "#    data2[i] = n.multiply(data2[i],phsfac)\n",
    "dataave = n.mean(data1*data2.conj(),axis=0)\n",
    "print dataave.shape\n",
    "\n"
   ]
  },
  {
   "cell_type": "code",
   "execution_count": null,
   "metadata": {
    "collapsed": false
   },
   "outputs": [
    {
     "name": "stdout",
     "output_type": "stream",
     "text": [
      "(308, 203)\n",
      "(308, 203)\n"
     ]
    }
   ],
   "source": [
    "#Phase data to original source\n",
    "import numpy as n, aipy as a, capo, get_files as gf\n",
    "DIR1 = '/Users/yunfanzhang/local/simuDATA/64_UV/0_26/'\n",
    "DIR2 = '/Users/yunfanzhang/local/simuDATA/64_UV/0_38/'\n",
    "uv1 = a.miriad.UV(DIR1+'pspec_2456249.26525.uv/')\n",
    "uv2 = a.miriad.UV(DIR2+'pspec_0_38_2456249.30497.uv/')\n",
    "polstr = 'xx'\n",
    "nchan = 203\n",
    "schan = 0\n",
    "freqlist = n.array((uv1['sfreq'] + uv1['sdf']*schan + uv1['sdf']*n.arange(nchan)))  #GHz\n",
    "aa = a.cal.get_aa('psa6240_v003',freqlist)\n",
    "aa.set_active_pol(polstr)\n",
    "src = a.fit.RadioFixedBody(0, aa.lat, janskies=0., mfreq=.15)\n",
    "src.compute(aa)\n",
    "phs1, phs2 = n.zeros(data1.shape,dtype='complex64'), n.zeros(data2.shape,dtype='complex64')\n",
    "ind = 0\n",
    "aa.set_jultime(t026)\n",
    "src.compute(aa)\n",
    "for t1 in T1:\n",
    "    phs1[ind][:] = aa.gen_phs(src,0,26)\n",
    "    ind = ind+1\n",
    "ind = 0\n",
    "aa.set_jultime(t038)\n",
    "src.compute(aa)\n",
    "for t2 in T2:\n",
    "    phs2[ind][:] = aa.gen_phs(src,0,38)\n",
    "    ind = ind+1\n",
    "print data2.shape\n",
    "print phs2.shape\n",
    "#dapa1, dapa2 = n.multiply(data1,phs1),n.multiply(data2,phs2)\n",
    "dapa1, dapa2 = n.multiply(data1,phs1.conj()),n.multiply(data2,phs2.conj())\n",
    "#print data2\n"
   ]
  },
  {
   "cell_type": "code",
   "execution_count": null,
   "metadata": {
    "collapsed": false
   },
   "outputs": [],
   "source": [
    "import matplotlib.pyplot as P\n",
    "\n",
    "fig = P.figure()\n",
    "ax = fig.add_subplot(331)\n",
    "capo.arp.waterfall(data1,mode='real')\n",
    "ax.set_title(\"data1\")\n",
    "#ax.set_xlabel(\"channel\")\n",
    "ax = fig.add_subplot(332)\n",
    "ax.set_title(\"data2\")\n",
    "capo.arp.waterfall(data2,mode='real')\n",
    "ax = fig.add_subplot(334)\n",
    "capo.arp.waterfall(phs1,mode='phs')\n",
    "ax.set_title(\"phs1\")\n",
    "#ax.set_xlabel(\"channel\")\n",
    "ax = fig.add_subplot(335)\n",
    "ax.set_title(\"phs2\")\n",
    "capo.arp.waterfall(phs2,mode='phs')\n",
    "ax = fig.add_subplot(336)\n",
    "ax.set_title(\"phs1phs2\")\n",
    "capo.arp.waterfall(phs1*phs2.conj(),mode='phs')\n",
    "ax = fig.add_subplot(337)\n",
    "capo.arp.waterfall(dapa1,mode='real')\n",
    "ax.set_title(\"d1phs1\")\n",
    "#ax.set_xlabel(\"channel\")\n",
    "ax = fig.add_subplot(338)\n",
    "ax.set_title(\"d2phs2\")\n",
    "capo.arp.waterfall(dapa2,mode='real')\n",
    "ax = fig.add_subplot(333)\n",
    "capo.arp.waterfall(data1*data2.conj(),mode='phs')\n",
    "#ax = fig.add_subplot(255)\n",
    "#capo.arp.waterfall(data1*data2.conj())\n",
    "ax = fig.add_subplot(339)\n",
    "capo.arp.waterfall(dapa1*dapa2.conj(),mode='phs')\n",
    "#ax = fig.add_subplot(2510)\n",
    "#capo.arp.waterfall(dapa1*dapa2.conj())\n",
    "P.show()\n",
    "         "
   ]
  },
  {
   "cell_type": "code",
   "execution_count": 16,
   "metadata": {
    "collapsed": false
   },
   "outputs": [
    {
     "data": {
      "text/plain": [
       "2"
      ]
     },
     "execution_count": 16,
     "metadata": {},
     "output_type": "execute_result"
    }
   ],
   "source": [
    "1+1"
   ]
  },
  {
   "cell_type": "code",
   "execution_count": 17,
   "metadata": {
    "collapsed": false
   },
   "outputs": [
    {
     "data": {
      "text/plain": [
       "2"
      ]
     },
     "execution_count": 17,
     "metadata": {},
     "output_type": "execute_result"
    }
   ],
   "source": [
    "1+1"
   ]
  },
  {
   "cell_type": "code",
   "execution_count": 20,
   "metadata": {
    "collapsed": false
   },
   "outputs": [
    {
     "data": {
      "text/plain": [
       "0.26084150628989716"
      ]
     },
     "execution_count": 20,
     "metadata": {},
     "output_type": "execute_result"
    }
   ],
   "source": [
    "-n.sin(dt*2*n.pi)"
   ]
  },
  {
   "cell_type": "code",
   "execution_count": null,
   "metadata": {
    "collapsed": true
   },
   "outputs": [],
   "source": []
  }
 ],
 "metadata": {
  "kernelspec": {
   "display_name": "Python 2",
   "language": "python",
   "name": "python2"
  },
  "language_info": {
   "codemirror_mode": {
    "name": "ipython",
    "version": 2
   },
   "file_extension": ".py",
   "mimetype": "text/x-python",
   "name": "python",
   "nbconvert_exporter": "python",
   "pygments_lexer": "ipython2",
   "version": "2.7.9"
  }
 },
 "nbformat": 4,
 "nbformat_minor": 0
}
