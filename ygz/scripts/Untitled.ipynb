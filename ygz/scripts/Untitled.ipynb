{
 "cells": [
  {
   "cell_type": "code",
   "execution_count": 27,
   "metadata": {
    "collapsed": false
   },
   "outputs": [
    {
     "name": "stdout",
     "output_type": "stream",
     "text": [
      "(8, 203)\n",
      "[ 2456249.26525  2456249.26574  2456249.26624  2456249.26674  2456249.26723\n",
      "  2456249.26773  2456249.26822  2456249.26872]\n",
      "[ 2456249.30725  2456249.30774  2456249.30824  2456249.30874  2456249.30923\n",
      "  2456249.30973  2456249.31022  2456249.31072]\n",
      "[ 2456249.30497  2456249.30546  2456249.30596  2456249.30646  2456249.30695\n",
      "  2456249.30745  2456249.30795  2456249.30844]\n"
     ]
    }
   ],
   "source": [
    "import numpy as n, aipy as a, capo, get_files as gf\n",
    "DIR1 = '/Users/yunfanzhang/local/simuDATA/64_UV/0_26/'\n",
    "DIR2 = '/Users/yunfanzhang/local/simuDATA/64_UV/0_38/'\n",
    "uv1 = [DIR1+'pspec_2456249.26525.uv/']\n",
    "uv2 = [DIR2+'pspec_0_38_2456249.30497.uv/']\n",
    "dt = .30968-.26768\n",
    "T1, dat1, flg1 = capo.arp.get_dict_of_uv_data(uv1,antstr='0_26',polstr='xx')\n",
    "T2, dat2, flg2 = capo.arp.get_dict_of_uv_data(uv2,antstr='0_38',polstr='xx')\n",
    "print dat1[283]['xx'].shape\n",
    "print T1\n",
    "print T1+dt\n",
    "print T2"
   ]
  },
  {
   "cell_type": "code",
   "execution_count": 47,
   "metadata": {
    "collapsed": false
   },
   "outputs": [
    {
     "name": "stdout",
     "output_type": "stream",
     "text": [
      "(775, 203)\n",
      "775 783\n"
     ]
    }
   ],
   "source": [
    "import numpy as n, aipy as a, capo\n",
    "DIR1 = '/Users/yunfanzhang/local/simuDATA/64_UV/0_26/'\n",
    "DIR2 = '/Users/yunfanzhang/local/simuDATA/64_UV/0_38/'\n",
    "F1 = os.listdir(DIR1)\n",
    "F2 = os.listdir(DIR2)\n",
    "for i in range(len(F1)): F1[i] = DIR1+F1[i] \n",
    "for i in range(len(F2)): F2[i] = DIR2+F2[i] \n",
    "dt = .30968-.26768\n",
    "T1, dat1, flg1 = capo.arp.get_dict_of_uv_data(F1,antstr='0_26',polstr='xx')\n",
    "T2, dat2, flg2 = capo.arp.get_dict_of_uv_data(F2,antstr='0_38',polstr='xx')\n",
    "print dat1[283]['xx'].shape\n",
    "data1 = dat1[283]['xx']\n",
    "data2 = dat2[295]['xx']\n",
    "print len(T1), len(T2)\n",
    "dt = -dt\n",
    "T1 = T1+dt\n",
    "if dt>0:\n",
    "    while T1[0]>T2[0]: \n",
    "        T2 = T2[1:]\n",
    "        data2 = data2[1:]\n",
    "    while len(T1)>len(T2): \n",
    "        T1 = T1[:-1]\n",
    "        data1 = data1[:-1]\n",
    "elif dt<0:\n",
    "    while T2[0]>T1[0]: \n",
    "        T1 = T1[1:]\n",
    "        data1 = data1[1:]\n",
    "    while len(T2)>len(T1): \n",
    "        T2 = T2[:-1]\n",
    "        data2 = data2[:-1]\n",
    "\n",
    "\n",
    "import matplotlib.pyplot as P\n",
    "\n",
    "fig = P.figure()\n",
    "ax = fig.add_subplot(131)\n",
    "capo.arp.waterfall(data1,mode='real')\n",
    "ax.set_title(\"0_26\")\n",
    "ax.set_xlabel(\"channel\")\n",
    "ax = fig.add_subplot(132)\n",
    "ax.set_title(\"0_38\")\n",
    "capo.arp.waterfall(data2,mode='real')\n",
    "ax = fig.add_subplot(133)\n",
    "capo.arp.waterfall(data1*data2.conj(),mode='phs')\n",
    "#P.colorbar()\n",
    "P.show()\n",
    "               \n"
   ]
  },
  {
   "cell_type": "code",
   "execution_count": 29,
   "metadata": {
    "collapsed": false
   },
   "outputs": [
    {
     "data": {
      "text/plain": [
       "2"
      ]
     },
     "execution_count": 29,
     "metadata": {},
     "output_type": "execute_result"
    }
   ],
   "source": [
    "l = [1,2,3]\n",
    "l[-2]"
   ]
  },
  {
   "cell_type": "code",
   "execution_count": 41,
   "metadata": {
    "collapsed": false
   },
   "outputs": [],
   "source": [
    "capo.arp.waterfall??"
   ]
  },
  {
   "cell_type": "code",
   "execution_count": null,
   "metadata": {
    "collapsed": true
   },
   "outputs": [],
   "source": []
  }
 ],
 "metadata": {
  "kernelspec": {
   "display_name": "Python 2",
   "language": "python",
   "name": "python2"
  },
  "language_info": {
   "codemirror_mode": {
    "name": "ipython",
    "version": 2
   },
   "file_extension": ".py",
   "mimetype": "text/x-python",
   "name": "python",
   "nbconvert_exporter": "python",
   "pygments_lexer": "ipython2",
   "version": "2.7.9"
  }
 },
 "nbformat": 4,
 "nbformat_minor": 0
}
