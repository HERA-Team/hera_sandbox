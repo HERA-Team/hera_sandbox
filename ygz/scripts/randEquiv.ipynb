{
 "cells": [
  {
   "cell_type": "code",
   "execution_count": 1,
   "metadata": {
    "collapsed": true
   },
   "outputs": [],
   "source": [
    "__author__ = 'yunfanzhang'\n",
    "import aipy as a, numpy as n, capo\n",
    "import matplotlib.pyplot as p\n",
    "import delay_transform as dl_tr, plot_pspec as plotp\n",
    "import random\n",
    "\n",
    "#o = optparse.OptionParser()\n",
    "#a.scripting.add_standard_options(o, chan=True, ant=True, pol=True)\n",
    "##a.scripting.add_standard_options(o, ant=True, pol=True)\n",
    "#o.add_option('-t', '--lst', dest='lst', default=-1, help='Choose the time points to include')\n",
    "#opts,args = o.parse_args(sys.argv[1:])\n",
    "#print opts, args\n",
    "\n",
    "c = 299792458.\n",
    "Mpc2m = 3.086E22 #meters\n",
    "kB = 1.3806488E-23  #m2 kg s-2 K-1\n",
    "nu = n.arange(100, 200, 10)*1.E6\n",
    "nu0 = 150\n",
    "lamb = c/nu0*1.E6  #m\n",
    "pref = (2*kB/lamb*lamb)*(2*kB/lamb*lamb)   #(kg s-2 K-1)2\n",
    "z, Omm, hub = 8.5, 0.27, 0.75\n",
    "#Y = 17 (((1+z)/10)/(Omm*hub*hub/0.15))^0.5 #Mpc/MHz\n",
    "#X = 1.9 ((1+z)/10)^0.2/hub                 # Mpc/arcmin\n",
    "Y = 17*(((1+z)/10)/(Omm/0.15))**0.5 #h Mpc/MHz\n",
    "X = 1.9*((1+z)/10)**0.2                # h Mpc/arcmin\n",
    "XSY = 540*((1+z)/10)**0.9  #hub-3 Mpc3 sr-1 Hz-1\n",
    "B = 10E6   #Hz\n",
    "W = 0.31  #sr\n",
    "\n",
    "nchan = 20\n",
    "nT = 1000\n",
    "sdf = 100./203  #df in MHz\n",
    "random.seed()\n",
    "taulist = n.fft.fftfreq(nchan,sdf)\n",
    "taulist = n.fft.ifftshift(taulist)\n",
    "cnt = 0\n"
   ]
  },
  {
   "cell_type": "code",
   "execution_count": 2,
   "metadata": {
    "collapsed": false
   },
   "outputs": [
    {
     "name": "stdout",
     "output_type": "stream",
     "text": [
      "Average over 1000 time points\n",
      "datashapes (1000, 20) (1000, 20)\n",
      "20 20\n"
     ]
    },
    {
     "name": "stderr",
     "output_type": "stream",
     "text": [
      "/System/Library/Frameworks/Python.framework/Versions/2.7/lib/python2.7/site-packages/numpy/core/numeric.py:462: ComplexWarning: Casting complex values to real discards the imaginary part\n",
      "  return array(a, dtype, copy=False, order=order)\n"
     ]
    }
   ],
   "source": [
    "sig = 10\n",
    "data1, data2, summ = [],[],[]\n",
    "for n1 in n.arange(nT):\n",
    "    datnu = []\n",
    "    for n2 in n.arange(nchan): datnu.append(random.gauss(0,0.5)+random.gauss(0,0.5)*1.j)\n",
    "    #datnu[len(datnu)/2] = datnu[len(datnu)/2] + sig\n",
    "    datatau = dl_tr.nu2tau(datnu)\n",
    "\n",
    "    data1.append(n.array(datatau).transpose())\n",
    "    #data1.append(n.array(datnu).transpose())\n",
    "#data1 = n.array(data1).transpose()\n",
    "\n",
    "#p.plot(n.arange(nchan),datnu)\n",
    "#p.title('datnu')\n",
    "#p.show()\n",
    "#p.plot(taulist,datatau)\n",
    "#p.title('datatau')\n",
    "#p.show()\n",
    "\n",
    "for n1 in n.arange(nT):\n",
    "    datnu = []\n",
    "    for n2 in n.arange(nchan):\n",
    "        datnu.append(random.gauss(0,0.5)+random.gauss(0,0.5)*1.j)\n",
    "        #datnu.append(1.)\n",
    "    datnu[len(datnu)/2] = datnu[len(datnu)/2] + sig\n",
    "    datatau = dl_tr.nu2tau(datnu)\n",
    "    data2.append(n.array(datatau).transpose())\n",
    "    #data2.append(n.array(datnu).transpose())\n",
    "    #print tauchan, datatau[tauchan]\n",
    "\n",
    "#print \"data shapes\", data1.shape, data2.shape\n",
    "print \"Average over %d time points\" % len(data1)\n",
    "data1, data2 = n.array(data1),n.array(data2)\n",
    "print \"datashapes\", data1.shape, data2.shape\n",
    "for ind in range(len(taulist)): summ.append(0.)\n",
    "for ind in range(len(taulist)):\n",
    "    for ine in range(len(data1)): #loop over nT\n",
    "        summ[ind] = summ[ind] + n.conjugate(data1[ine][ind])*data1[ine][ind]\n",
    "\n",
    "result = {}\n",
    "P=[]\n",
    "for ind in n.arange(len(summ)):\n",
    "    #result[taulist[ind]] = sum[ind]/cnt\n",
    "    #P.append(abs(sum[ind])/cnt/pref*XSY/B/W*1.E-52*1.E12)   #1Jy=E-26W/m2/Hz\n",
    "    P.append(summ[ind]/nT*1.E12)\n",
    "print len(taulist), len(P)\n",
    "kz = taulist*2*n.pi/Y\n",
    "plotp.P_v_Eta(kz,P)"
   ]
  },
  {
   "cell_type": "code",
   "execution_count": 6,
   "metadata": {
    "collapsed": false
   },
   "outputs": [
    {
     "name": "stdout",
     "output_type": "stream",
     "text": [
      "(20, 100)\n"
     ]
    },
    {
     "ename": "KeyboardInterrupt",
     "evalue": "",
     "output_type": "error",
     "traceback": [
      "\u001b[0;31m---------------------------------------------------------------------------\u001b[0m",
      "\u001b[0;31mKeyboardInterrupt\u001b[0m                         Traceback (most recent call last)",
      "\u001b[0;32m/System/Library/Frameworks/Python.framework/Versions/2.7/lib/python2.7/site-packages/matplotlib/backends/backend_macosx.pyc\u001b[0m in \u001b[0;36mclose\u001b[0;34m(self)\u001b[0m\n\u001b[1;32m    380\u001b[0m             \u001b[0mself\u001b[0m\u001b[0;34m.\u001b[0m\u001b[0mshow\u001b[0m\u001b[0;34m(\u001b[0m\u001b[0;34m)\u001b[0m\u001b[0;34m\u001b[0m\u001b[0m\n\u001b[1;32m    381\u001b[0m \u001b[0;34m\u001b[0m\u001b[0m\n\u001b[0;32m--> 382\u001b[0;31m     \u001b[0;32mdef\u001b[0m \u001b[0mclose\u001b[0m\u001b[0;34m(\u001b[0m\u001b[0mself\u001b[0m\u001b[0;34m)\u001b[0m\u001b[0;34m:\u001b[0m\u001b[0;34m\u001b[0m\u001b[0m\n\u001b[0m\u001b[1;32m    383\u001b[0m         \u001b[0mGcf\u001b[0m\u001b[0;34m.\u001b[0m\u001b[0mdestroy\u001b[0m\u001b[0;34m(\u001b[0m\u001b[0mself\u001b[0m\u001b[0;34m.\u001b[0m\u001b[0mnum\u001b[0m\u001b[0;34m)\u001b[0m\u001b[0;34m\u001b[0m\u001b[0m\n\u001b[1;32m    384\u001b[0m \u001b[0;34m\u001b[0m\u001b[0m\n",
      "\u001b[0;31mKeyboardInterrupt\u001b[0m: "
     ]
    }
   ],
   "source": [
    "\n",
    "B = 100\n",
    "datab1 = data1\n",
    "\n",
    "boot = []\n",
    "for b in range(B):\n",
    "    temps = []\n",
    "    for i in range(len(data1[0])):\n",
    "        temps.append(0.)\n",
    "        for j in range(len(data1)):\n",
    "            poin = random.choice(data1)[i]\n",
    "            temps[i] = temps[i] + n.conjugate(poin)*poin/len(data1)\n",
    "    boot.append(temps)\n",
    "boot = n.array(boot).transpose()\n",
    "print boot.shape\n",
    "bootmean,bootsig = [],[]\n",
    "for ch in range(len(boot)):\n",
    "    mean = n.sum(boot[ch])/B\n",
    "    sig = n.sqrt(n.sum((boot[ch]-mean)**2)/B)\n",
    "    bootmean.append(mean)\n",
    "    bootsig.append(sig)\n",
    "#p.hist(boot[5])\n",
    "#p.show()\n",
    "\n",
    "fig, ax = p.subplots()\n",
    "ax.errorbar(n.arange(nchan), bootmean, yerr=bootsig, fmt='ok', ecolor='gray', alpha=0.5)\n",
    "p.show()\n"
   ]
  },
  {
   "cell_type": "code",
   "execution_count": null,
   "metadata": {
    "collapsed": true
   },
   "outputs": [],
   "source": []
  }
 ],
 "metadata": {
  "kernelspec": {
   "display_name": "Python 2",
   "language": "python",
   "name": "python2"
  },
  "language_info": {
   "codemirror_mode": {
    "name": "ipython",
    "version": 2
   },
   "file_extension": ".py",
   "mimetype": "text/x-python",
   "name": "python",
   "nbconvert_exporter": "python",
   "pygments_lexer": "ipython2",
   "version": "2.7.9"
  }
 },
 "nbformat": 4,
 "nbformat_minor": 0
}
