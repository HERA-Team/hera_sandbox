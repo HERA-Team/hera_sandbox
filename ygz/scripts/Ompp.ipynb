{
 "cells": [
  {
   "cell_type": "code",
   "execution_count": 3,
   "metadata": {
    "collapsed": false
   },
   "outputs": [
    {
     "name": "stdout",
     "output_type": "stream",
     "text": [
      "0.225483745943\n"
     ]
    }
   ],
   "source": [
    "import export_beam as eb, numpy as n, aipy as a\n",
    "\n",
    "sz = 200\n",
    "d = 1./sz\n",
    "img = a.img.Img(200,res=0.5)\n",
    "X,Y,Z = img.get_top(center=(200,200))\n",
    "shape0 = X.shape\n",
    "X,Y,Z = X.flatten(),Y.flatten(),Z.flatten()\n",
    "aa = a.cal.get_aa('psa6622_v001',n.array([.15, .18]))\n",
    "aa.set_jultime(2456240.2)\n",
    "peak = []\n",
    "sample_ant = 1\n",
    "ntop = n.array([X,Y,Z])  #note all beams are the same\n",
    "bmp_list = eb.beam_real(aa[sample_ant], ntop, shape0, 'x',sq=True)\n",
    "bmp = bmp_list[1]\n",
    "freq, fbmamp = eb.beam_fourier(bmp, d, 400)\n",
    "bm_inter = eb.beam_interpol(freq, fbmamp)\n",
    "print eb.get_overlap(bm_inter, 0, 0.1)\n",
    "\n"
   ]
  },
  {
   "cell_type": "code",
   "execution_count": null,
   "metadata": {
    "collapsed": true
   },
   "outputs": [],
   "source": []
  }
 ],
 "metadata": {
  "kernelspec": {
   "display_name": "Python 2",
   "language": "python",
   "name": "python2"
  },
  "language_info": {
   "codemirror_mode": {
    "name": "ipython",
    "version": 2
   },
   "file_extension": ".py",
   "mimetype": "text/x-python",
   "name": "python",
   "nbconvert_exporter": "python",
   "pygments_lexer": "ipython2",
   "version": "2.7.9"
  }
 },
 "nbformat": 4,
 "nbformat_minor": 0
}
