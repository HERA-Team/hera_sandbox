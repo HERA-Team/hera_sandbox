{
 "cells": [
  {
   "cell_type": "code",
   "execution_count": 1,
   "metadata": {
    "collapsed": false
   },
   "outputs": [],
   "source": [
    "import numpy as np\n",
    "from astropy import constants as const\n",
    "from astropy.coordinates import Angle\n",
    "from astropy import units"
   ]
  },
  {
   "cell_type": "code",
   "execution_count": 2,
   "metadata": {
    "collapsed": false
   },
   "outputs": [],
   "source": [
    "max_decorr = 0.1\n",
    "frequency = (250. * 1e6 * units.Hz)\n",
    "wavelength = const.c / frequency.to(1/units.s)\n",
    "max_baseline_m = (870 * units.m)\n",
    "earth_rot_speed = (Angle(360, units.deg) / units.sday).to(units.arcminute/units.s)\n",
    "corr_FoV_min = Angle(10., units.degree)\n",
    "corr_FoV_max = Angle(90., units.degree)\n",
    "hera_latitude = Angle('-30:43:17.5', units.deg)"
   ]
  },
  {
   "cell_type": "code",
   "execution_count": 3,
   "metadata": {
    "collapsed": false
   },
   "outputs": [
    {
     "data": {
      "text/latex": [
       "$4.73844\\mathrm{{}^{\\prime}}$"
      ],
      "text/plain": [
       "<Angle 4.738440830953493 arcmin>"
      ]
     },
     "execution_count": 3,
     "metadata": {},
     "output_type": "execute_result"
    }
   ],
   "source": [
    "max_resolution = Angle(np.arcsin(wavelength/max_baseline_m), units.radian)\n",
    "max_resolution.to(units.arcminute)"
   ]
  },
  {
   "cell_type": "code",
   "execution_count": 4,
   "metadata": {
    "collapsed": false
   },
   "outputs": [
    {
     "data": {
      "text/latex": [
       "$1.8902011 \\; \\mathrm{s}$"
      ],
      "text/plain": [
       "<Quantity 1.8902011330061352 s>"
      ]
     },
     "execution_count": 4,
     "metadata": {},
     "output_type": "execute_result"
    }
   ],
   "source": [
    "integration_time = (max_resolution * max_decorr).to(units.arcminute)/earth_rot_speed\n",
    "integration_time"
   ]
  },
  {
   "cell_type": "code",
   "execution_count": 5,
   "metadata": {
    "collapsed": false
   },
   "outputs": [
    {
     "data": {
      "text/latex": [
       "$198.44091 \\; \\mathrm{kHz}$"
      ],
      "text/plain": [
       "<Quantity 198.44091473557216 kHz>"
      ]
     },
     "execution_count": 5,
     "metadata": {},
     "output_type": "execute_result"
    }
   ],
   "source": [
    "channel_width_max = ((const.c * max_decorr) / (max_baseline_m*np.sin(corr_FoV_min.to(units.rad)))).to(units.kHz)\n",
    "channel_width_max # for a 10 degree correlator FoV"
   ]
  },
  {
   "cell_type": "code",
   "execution_count": 6,
   "metadata": {
    "collapsed": false
   },
   "outputs": [
    {
     "data": {
      "text/latex": [
       "$34.458903 \\; \\mathrm{kHz}$"
      ],
      "text/plain": [
       "<Quantity 34.45890321839081 kHz>"
      ]
     },
     "execution_count": 6,
     "metadata": {},
     "output_type": "execute_result"
    }
   ],
   "source": [
    "channel_width_min = ((const.c * max_decorr) / (max_baseline_m*np.sin(corr_FoV_max.to(units.rad)))).to(units.kHz)\n",
    "channel_width_min # for a 90 degree correlator FoV"
   ]
  },
  {
   "cell_type": "code",
   "execution_count": 7,
   "metadata": {
    "collapsed": false
   },
   "outputs": [
    {
     "data": {
      "text/latex": [
       "$-21.307418 \\; \\mathrm{s}$"
      ],
      "text/plain": [
       "<Quantity -21.307418105017184 s>"
      ]
     },
     "execution_count": 7,
     "metadata": {},
     "output_type": "execute_result"
    }
   ],
   "source": [
    "fringe_stopped_int_time_max = ((max_resolution.to(units.arcminute) * max_decorr)/\n",
    "                               (np.sin(corr_FoV_min.radian) * earth_rot_speed * np.sin(hera_latitude)))\n",
    "fringe_stopped_int_time_max # for a 10 degree correlator FoV"
   ]
  },
  {
   "cell_type": "code",
   "execution_count": 8,
   "metadata": {
    "collapsed": false
   },
   "outputs": [
    {
     "data": {
      "text/latex": [
       "$-3.6999943 \\; \\mathrm{s}$"
      ],
      "text/plain": [
       "<Quantity -3.6999943247235914 s>"
      ]
     },
     "execution_count": 8,
     "metadata": {},
     "output_type": "execute_result"
    }
   ],
   "source": [
    "fringe_stopped_int_time_min = ((max_resolution.to(units.arcminute) * max_decorr) /\n",
    "                               (np.sin(corr_FoV_max.radian) * earth_rot_speed * np.sin(hera_latitude)))\n",
    "fringe_stopped_int_time_min # for a 90 degree correlator FoV"
   ]
  },
  {
   "cell_type": "markdown",
   "metadata": {},
   "source": [
    "Now invert these equations to calculate the decorrelation caused by some suggested correlator settings"
   ]
  },
  {
   "cell_type": "code",
   "execution_count": 9,
   "metadata": {
    "collapsed": false
   },
   "outputs": [],
   "source": [
    "corr_chan_width = (250 * units.MHz) / 4096\n",
    "corr_integration_time = 2 * units.s\n",
    "corr_fringe_stop_time = 10 * units.s"
   ]
  },
  {
   "cell_type": "code",
   "execution_count": 10,
   "metadata": {
    "collapsed": false
   },
   "outputs": [
    {
     "data": {
      "text/latex": [
       "$0.10580885 \\; \\mathrm{}$"
      ],
      "text/plain": [
       "<Quantity 0.10580884568719114>"
      ]
     },
     "execution_count": 10,
     "metadata": {},
     "output_type": "execute_result"
    }
   ],
   "source": [
    "decorr_int_time = corr_integration_time * earth_rot_speed / max_resolution.to(units.arcminute)\n",
    "decorr_int_time # decorrelation due to integration time"
   ]
  },
  {
   "cell_type": "code",
   "execution_count": null,
   "metadata": {
    "collapsed": true
   },
   "outputs": [],
   "source": [
    "decorr_chan_width = corr_chan_width.to(1/units.s) * max_baseline_m / const.c\\n\", \n",
    "    \"decorr\" "
   ]
  },
  {
   "cell_type": "code",
   "execution_count": 11,
   "metadata": {
    "collapsed": false
   },
   "outputs": [
    {
     "data": {
      "text/latex": [
       "$34^\\circ22{}^\\prime21.9391{}^{\\prime\\prime}$"
      ],
      "text/plain": [
       "<Angle 34.372760870741885 deg>"
      ]
     },
     "execution_count": 11,
     "metadata": {},
     "output_type": "execute_result"
    }
   ],
   "source": [
    "corr_FoV_max_decorr = Angle(np.arcsin((const.c * max_decorr) / \n",
    "                                      (max_baseline_m * corr_chan_width.to(1/units.s))), units.radian)\n",
    "corr_FoV_max_decorr.to(units.degree) # correlator FoV with decorrelation =< max_decorr (10%)"
   ]
  },
  {
   "cell_type": "code",
   "execution_count": 12,
   "metadata": {
    "collapsed": false
   },
   "outputs": [
    {
     "data": {
      "text/latex": [
       "$-0.27027068 \\; \\mathrm{}$"
      ],
      "text/plain": [
       "<Quantity -0.27027068482725447>"
      ]
     },
     "execution_count": 12,
     "metadata": {},
     "output_type": "execute_result"
    }
   ],
   "source": [
    "decorr_fringe_stop = (corr_fringe_stop_time * (np.sin(corr_FoV_max.radian) * earth_rot_speed * np.sin(hera_latitude)) / \n",
    "                      max_resolution.to(units.arcminute))\n",
    "decorr_fringe_stop # decorrelation after fringe stopping for a 90 degree correlator FoV"
   ]
  },
  {
   "cell_type": "code",
   "execution_count": 13,
   "metadata": {
    "collapsed": false
   },
   "outputs": [
    {
     "data": {
      "text/latex": [
       "$-21^\\circ42{}^\\prime56.0962{}^{\\prime\\prime}$"
      ],
      "text/plain": [
       "<Angle -21.715582282378335 deg>"
      ]
     },
     "execution_count": 13,
     "metadata": {},
     "output_type": "execute_result"
    }
   ],
   "source": [
    "corr_FoV_fringe_stop_max_decorr =  Angle(np.arcsin(max_resolution.to(units.arcminute) * max_decorr / \n",
    "                                                   (corr_fringe_stop_time * earth_rot_speed * np.sin(hera_latitude))), units.radian)\n",
    "corr_FoV_fringe_stop_max_decorr.to(units.degree) # correlator FoV after fringe stopping with decorrelation =< max_decorr (10%)"
   ]
  },
  {
   "cell_type": "code",
   "execution_count": null,
   "metadata": {
    "collapsed": true
   },
   "outputs": [],
   "source": []
  }
 ],
 "metadata": {
  "kernelspec": {
   "display_name": "Python 3",
   "language": "python",
   "name": "python3"
  },
  "language_info": {
   "codemirror_mode": {
    "name": "ipython",
    "version": 3
   },
   "file_extension": ".py",
   "mimetype": "text/x-python",
   "name": "python",
   "nbconvert_exporter": "python",
   "pygments_lexer": "ipython3",
   "version": "3.5.2"
  }
 },
 "nbformat": 4,
 "nbformat_minor": 0
}
