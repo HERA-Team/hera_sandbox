{
 "cells": [
  {
   "cell_type": "code",
   "execution_count": 1,
   "metadata": {
    "collapsed": false
   },
   "outputs": [],
   "source": [
    "import numpy as np\n",
    "from astropy import constants as const\n",
    "from astropy.coordinates import Angle\n",
    "from astropy import units\n",
    "import textwrap\n",
    "wrap_len = 100"
   ]
  },
  {
   "cell_type": "code",
   "execution_count": 2,
   "metadata": {
    "collapsed": false
   },
   "outputs": [],
   "source": [
    "max_decorr = 0.1\n",
    "frequency = (250. * 1e6 * units.Hz)\n",
    "wavelength = const.c / frequency.to(1/units.s)\n",
    "max_baseline_m = (870 * units.m)\n",
    "earth_rot_speed = (Angle(360, units.deg) / units.sday).to(units.arcminute/units.s)\n",
    "corr_FoV_min = Angle(10., units.degree)\n",
    "corr_FoV_max = Angle(90., units.degree)\n",
    "hera_latitude = Angle('-30:43:17.5', units.deg)"
   ]
  },
  {
   "cell_type": "code",
   "execution_count": 3,
   "metadata": {
    "collapsed": false
   },
   "outputs": [
    {
     "name": "stdout",
     "output_type": "stream",
     "text": [
      "Max resolution\n"
     ]
    },
    {
     "data": {
      "text/latex": [
       "$4.73844\\mathrm{{}^{\\prime}}$"
      ],
      "text/plain": [
       "<Angle 4.738440830953493 arcmin>"
      ]
     },
     "execution_count": 3,
     "metadata": {},
     "output_type": "execute_result"
    }
   ],
   "source": [
    "max_resolution = Angle(np.arcsin(wavelength/max_baseline_m), units.radian)\n",
    "print(textwrap.fill('Max resolution', width=wrap_len))\n",
    "max_resolution.to(units.arcminute)"
   ]
  },
  {
   "cell_type": "code",
   "execution_count": 4,
   "metadata": {
    "collapsed": false
   },
   "outputs": [
    {
     "name": "stdout",
     "output_type": "stream",
     "text": [
      "Max integration time required to keep the decorrelation due to time integrating under max_decorr on\n",
      "the longest baselines\n"
     ]
    },
    {
     "data": {
      "text/latex": [
       "$1.8902011 \\; \\mathrm{s}$"
      ],
      "text/plain": [
       "<Quantity 1.8902011330061352 s>"
      ]
     },
     "execution_count": 4,
     "metadata": {},
     "output_type": "execute_result"
    }
   ],
   "source": [
    "integration_time = (max_resolution * max_decorr).to(units.arcminute)/earth_rot_speed\n",
    "print(textwrap.fill('Max integration time required to keep the decorrelation due to time integrating '\n",
    "      'under max_decorr on the longest baselines', width=wrap_len))\n",
    "integration_time"
   ]
  },
  {
   "cell_type": "code",
   "execution_count": 5,
   "metadata": {
    "collapsed": false
   },
   "outputs": [
    {
     "name": "stdout",
     "output_type": "stream",
     "text": [
      "Max channel width to keep the decorrelation due to channel width under max_decorr for a 10 degree\n",
      "correlator FoV on the longest baselines\n"
     ]
    },
    {
     "data": {
      "text/latex": [
       "$198.44091 \\; \\mathrm{kHz}$"
      ],
      "text/plain": [
       "<Quantity 198.44091473557216 kHz>"
      ]
     },
     "execution_count": 5,
     "metadata": {},
     "output_type": "execute_result"
    }
   ],
   "source": [
    "channel_width_max = ((const.c * max_decorr) / (max_baseline_m*np.sin(corr_FoV_min.to(units.rad)))).to(units.kHz)\n",
    "print(textwrap.fill('Max channel width to keep the decorrelation due to channel width under max_decorr '\n",
    "      'for a 10 degree correlator FoV on the longest baselines', width=wrap_len))\n",
    "channel_width_max"
   ]
  },
  {
   "cell_type": "code",
   "execution_count": 6,
   "metadata": {
    "collapsed": false
   },
   "outputs": [
    {
     "name": "stdout",
     "output_type": "stream",
     "text": [
      "Max channel width to keep the decorrelation due to channel width under max_decorr for a 90 degree\n",
      "correlator FoV on the longest baselines\n"
     ]
    },
    {
     "data": {
      "text/latex": [
       "$34.458903 \\; \\mathrm{kHz}$"
      ],
      "text/plain": [
       "<Quantity 34.45890321839081 kHz>"
      ]
     },
     "execution_count": 6,
     "metadata": {},
     "output_type": "execute_result"
    }
   ],
   "source": [
    "channel_width_min = ((const.c * max_decorr) / (max_baseline_m*np.sin(corr_FoV_max.to(units.rad)))).to(units.kHz)\n",
    "print(textwrap.fill('Max channel width to keep the decorrelation due to channel width under max_decorr '\n",
    "      'for a 90 degree correlator FoV on the longest baselines', width=wrap_len))\n",
    "channel_width_min"
   ]
  },
  {
   "cell_type": "code",
   "execution_count": 7,
   "metadata": {
    "collapsed": false
   },
   "outputs": [
    {
     "name": "stdout",
     "output_type": "stream",
     "text": [
      "Max integration time to keep the decorrelation due to time integrating after fringe stopping under\n",
      "max_decorr for a 10 degree correlator FoV on the longest baselines\n"
     ]
    },
    {
     "data": {
      "text/latex": [
       "$21.307418 \\; \\mathrm{s}$"
      ],
      "text/plain": [
       "<Quantity 21.307418105017184 s>"
      ]
     },
     "execution_count": 7,
     "metadata": {},
     "output_type": "execute_result"
    }
   ],
   "source": [
    "# After fringe stopping, the rotation is from the sky rotating in the beam\n",
    "# This is slower, so we can sum in time to longer integrations\n",
    "# (this summing does cause more decorrelation but it's better than without fringe stopping and it decreases data rates)\n",
    "fringe_stopped_int_time_max = ((max_resolution.to(units.arcminute) * max_decorr)/\n",
    "                               (np.sin(corr_FoV_min.radian) * earth_rot_speed * abs(np.sin(hera_latitude))))\n",
    "print(textwrap.fill('Max integration time to keep the decorrelation due to time '\n",
    "                    'integrating after fringe stopping under max_decorr for a 10 '\n",
    "                    'degree correlator FoV on the longest baselines', width=wrap_len))\n",
    "fringe_stopped_int_time_max"
   ]
  },
  {
   "cell_type": "code",
   "execution_count": 8,
   "metadata": {
    "collapsed": false
   },
   "outputs": [
    {
     "name": "stdout",
     "output_type": "stream",
     "text": [
      "Max integration time to keep the decorrelation due to time integrating after fringe stopping under\n",
      "max_decorr for a 90 degree correlator FoV on the longest baselines\n"
     ]
    },
    {
     "data": {
      "text/latex": [
       "$3.6999943 \\; \\mathrm{s}$"
      ],
      "text/plain": [
       "<Quantity 3.6999943247235914 s>"
      ]
     },
     "execution_count": 8,
     "metadata": {},
     "output_type": "execute_result"
    }
   ],
   "source": [
    "fringe_stopped_int_time_min = ((max_resolution.to(units.arcminute) * max_decorr) /\n",
    "                               (np.sin(corr_FoV_max.radian) * earth_rot_speed * abs(np.sin(hera_latitude))))\n",
    "print(textwrap.fill('Max integration time to keep the decorrelation due to time '\n",
    "                    'integrating after fringe stopping under max_decorr '\n",
    "                    'for a 90 degree correlator FoV on the longest baselines', width=wrap_len))\n",
    "fringe_stopped_int_time_min"
   ]
  },
  {
   "cell_type": "markdown",
   "metadata": {},
   "source": [
    "Now invert these equations to calculate the decorrelation caused by some suggested correlator settings"
   ]
  },
  {
   "cell_type": "code",
   "execution_count": 9,
   "metadata": {
    "collapsed": false
   },
   "outputs": [
    {
     "name": "stdout",
     "output_type": "stream",
     "text": [
      "proposed channel width:  61.03515625 kHz\n",
      "proposed pre fringe stopping integration time:  100.0 ms\n",
      "proposed post fringe stopping integration time:  10.0 s\n"
     ]
    }
   ],
   "source": [
    "# This is the max number of channels that Jack can do 'easily'\n",
    "n_channels = 4096\n",
    "corr_chan_width = (250 * units.MHz) / n_channels\n",
    "# Since we will integrate longer after fringe stopping, there's no need to integrate more here\n",
    "corr_integration_time = .1 * units.s\n",
    "# after fringe stopping, we can sum in time to longer integrations\n",
    "corr_post_fringe_stop_int_time = 10 * units.s\n",
    "print('proposed channel width: ', corr_chan_width.to(units.kHz))\n",
    "print('proposed pre fringe stopping integration time: ', corr_integration_time.to(units.ms))\n",
    "print('proposed post fringe stopping integration time: ', corr_post_fringe_stop_int_time)"
   ]
  },
  {
   "cell_type": "code",
   "execution_count": 10,
   "metadata": {
    "collapsed": false
   },
   "outputs": [
    {
     "name": "stdout",
     "output_type": "stream",
     "text": [
      "Decorrelation fraction due to integration time on the longest baseline\n"
     ]
    },
    {
     "data": {
      "text/latex": [
       "$0.0052904423 \\; \\mathrm{}$"
      ],
      "text/plain": [
       "<Quantity 0.005290442284359557>"
      ]
     },
     "execution_count": 10,
     "metadata": {},
     "output_type": "execute_result"
    }
   ],
   "source": [
    "decorr_int_time = corr_integration_time * earth_rot_speed / max_resolution.to(units.arcminute)\n",
    "print(textwrap.fill('Decorrelation fraction due to integration time on the longest baseline', width=wrap_len))\n",
    "decorr_int_time"
   ]
  },
  {
   "cell_type": "code",
   "execution_count": 11,
   "metadata": {
    "collapsed": false
   },
   "outputs": [
    {
     "name": "stdout",
     "output_type": "stream",
     "text": [
      "Decorrelation due to channel width for a 90 degree correlator FoV for the longest baseline\n"
     ]
    },
    {
     "data": {
      "text/latex": [
       "$0.17712449 \\; \\mathrm{}$"
      ],
      "text/plain": [
       "<Quantity 0.17712448902733904>"
      ]
     },
     "execution_count": 11,
     "metadata": {},
     "output_type": "execute_result"
    }
   ],
   "source": [
    "decorr_chan_width_max = corr_chan_width.to(1/units.s) * max_baseline_m * np.sin(corr_FoV_max.to(units.rad)) / const.c \n",
    "print(textwrap.fill('Decorrelation due to channel width for a 90 degree '\n",
    "                    'correlator FoV for the longest baseline', width=wrap_len))\n",
    "decorr_chan_width_max"
   ]
  },
  {
   "cell_type": "code",
   "execution_count": 12,
   "metadata": {
    "collapsed": false
   },
   "outputs": [
    {
     "name": "stdout",
     "output_type": "stream",
     "text": [
      "Decorrelation due to channel width for a 10 degree correlator FoV for the longest baseline\n"
     ]
    },
    {
     "data": {
      "text/latex": [
       "$0.030757345 \\; \\mathrm{}$"
      ],
      "text/plain": [
       "<Quantity 0.030757344739783626>"
      ]
     },
     "execution_count": 12,
     "metadata": {},
     "output_type": "execute_result"
    }
   ],
   "source": [
    "decorr_chan_width_min = corr_chan_width.to(1/units.s) * max_baseline_m * np.sin(corr_FoV_min.to(units.rad)) / const.c \n",
    "print(textwrap.fill('Decorrelation due to channel width for a 10 degree '\n",
    "                    'correlator FoV for the longest baseline', width=wrap_len))\n",
    "decorr_chan_width_min"
   ]
  },
  {
   "cell_type": "code",
   "execution_count": 13,
   "metadata": {
    "collapsed": false
   },
   "outputs": [
    {
     "name": "stdout",
     "output_type": "stream",
     "text": [
      "Correlator FoV with decorrelation due to channel width under max_decorr (10%) for the longest\n",
      "baseline\n"
     ]
    },
    {
     "data": {
      "text/latex": [
       "$34^\\circ22{}^\\prime21.9391{}^{\\prime\\prime}$"
      ],
      "text/plain": [
       "<Angle 34.372760870741885 deg>"
      ]
     },
     "execution_count": 13,
     "metadata": {},
     "output_type": "execute_result"
    }
   ],
   "source": [
    "corr_FoV_max_decorr = Angle(np.arcsin(min([1, (const.c * max_decorr) / \n",
    "                                              (max_baseline_m * corr_chan_width.to(1/units.s))])), units.radian)\n",
    "print(textwrap.fill('Correlator FoV with decorrelation due to channel '\n",
    "                    'width under max_decorr (10%) for the longest baseline', width=wrap_len))\n",
    "corr_FoV_max_decorr.to(units.degree)"
   ]
  },
  {
   "cell_type": "code",
   "execution_count": 14,
   "metadata": {
    "collapsed": false
   },
   "outputs": [
    {
     "name": "stdout",
     "output_type": "stream",
     "text": [
      "Decorrelation due to time integrating after fringe stopping for a 90 degree correlator FoV for the\n",
      "longest baseline\n"
     ]
    },
    {
     "data": {
      "text/latex": [
       "$0.27027068 \\; \\mathrm{}$"
      ],
      "text/plain": [
       "<Quantity 0.27027068482725447>"
      ]
     },
     "execution_count": 14,
     "metadata": {},
     "output_type": "execute_result"
    }
   ],
   "source": [
    "decorr_fringe_stop_max = (corr_post_fringe_stop_int_time * np.sin(corr_FoV_max.radian) * earth_rot_speed * \n",
    "                          abs(np.sin(hera_latitude))) / max_resolution.to(units.arcminute)\n",
    "print(textwrap.fill('Decorrelation due to time integrating after fringe '\n",
    "                    'stopping for a 90 degree correlator FoV for the longest baseline', width=wrap_len))\n",
    "decorr_fringe_stop_max"
   ]
  },
  {
   "cell_type": "code",
   "execution_count": 15,
   "metadata": {
    "collapsed": false
   },
   "outputs": [
    {
     "name": "stdout",
     "output_type": "stream",
     "text": [
      "correlation due to time integrating after fringe stopping for a 10 degree correlator FoV for the\n",
      "longest baseline\n"
     ]
    },
    {
     "data": {
      "text/latex": [
       "$0.046932012 \\; \\mathrm{}$"
      ],
      "text/plain": [
       "<Quantity 0.046932011897046017>"
      ]
     },
     "execution_count": 15,
     "metadata": {},
     "output_type": "execute_result"
    }
   ],
   "source": [
    "decorr_fringe_stop_min = (corr_post_fringe_stop_int_time * np.sin(corr_FoV_min.radian) * earth_rot_speed * \n",
    "                          abs(np.sin(hera_latitude))) / max_resolution.to(units.arcminute)\n",
    "print(textwrap.fill('correlation due to time integrating after fringe '\n",
    "                    'stopping for a 10 degree correlator FoV for the longest baseline', width=wrap_len))\n",
    "decorr_fringe_stop_min"
   ]
  },
  {
   "cell_type": "code",
   "execution_count": 16,
   "metadata": {
    "collapsed": false
   },
   "outputs": [
    {
     "name": "stdout",
     "output_type": "stream",
     "text": [
      "Correlator FoV with decorrelation just due to time integrating after fringe stopping under\n",
      "max_decorr (10%) for the longest baseline\n"
     ]
    },
    {
     "data": {
      "text/latex": [
       "$21^\\circ42{}^\\prime56.0962{}^{\\prime\\prime}$"
      ],
      "text/plain": [
       "<Angle 21.715582282378335 deg>"
      ]
     },
     "execution_count": 16,
     "metadata": {},
     "output_type": "execute_result"
    }
   ],
   "source": [
    "corr_FoV_fringe_stop_max_decorr =  Angle(np.arcsin(min([1, max_resolution.to(units.arcminute) * max_decorr / \n",
    "                                                   (corr_post_fringe_stop_int_time * earth_rot_speed * \n",
    "                                                    abs(np.sin(hera_latitude)))])), units.radian)\n",
    "print(textwrap.fill('Correlator FoV with decorrelation just due to time '\n",
    "                    'integrating after fringe stopping under max_decorr (10%) for the longest baseline', width=wrap_len))\n",
    "corr_FoV_fringe_stop_max_decorr.to(units.degree)"
   ]
  },
  {
   "cell_type": "markdown",
   "metadata": {},
   "source": [
    "Decorrelation factors actually need to be combined"
   ]
  },
  {
   "cell_type": "code",
   "execution_count": 17,
   "metadata": {
    "collapsed": false
   },
   "outputs": [
    {
     "name": "stdout",
     "output_type": "stream",
     "text": [
      "Net decorrelation before fringe stopping due to integration time and channel width for 90 degree\n",
      "correlator FoV for the longest baseline\n"
     ]
    },
    {
     "data": {
      "text/latex": [
       "$0.18147786 \\; \\mathrm{}$"
      ],
      "text/plain": [
       "<Quantity 0.18147786442535274>"
      ]
     },
     "execution_count": 17,
     "metadata": {},
     "output_type": "execute_result"
    }
   ],
   "source": [
    "pre_fs_total_decorr_max = 1- (1-decorr_int_time) * (1-decorr_chan_width_max)\n",
    "print(textwrap.fill('Net decorrelation before fringe stopping due to integration '\n",
    "                    'time and channel width for 90 degree correlator FoV for the longest baseline', width=wrap_len))\n",
    "pre_fs_total_decorr_max"
   ]
  },
  {
   "cell_type": "code",
   "execution_count": 18,
   "metadata": {
    "collapsed": false
   },
   "outputs": [
    {
     "name": "stdout",
     "output_type": "stream",
     "text": [
      "Net decorrelation before fringe stopping due to integration time and channel width for 10 degree\n",
      "correlator FoV for the longest baseline\n"
     ]
    },
    {
     "data": {
      "text/latex": [
       "$0.035885067 \\; \\mathrm{}$"
      ],
      "text/plain": [
       "<Quantity 0.03588506706697725>"
      ]
     },
     "execution_count": 18,
     "metadata": {},
     "output_type": "execute_result"
    }
   ],
   "source": [
    "pre_fs_total_decorr_min = 1- (1-decorr_int_time) * (1-decorr_chan_width_min)\n",
    "print(textwrap.fill('Net decorrelation before fringe stopping due to integration '\n",
    "                    'time and channel width for 10 degree correlator FoV for the longest baseline', width=wrap_len))\n",
    "pre_fs_total_decorr_min"
   ]
  },
  {
   "cell_type": "code",
   "execution_count": 19,
   "metadata": {
    "collapsed": false
   },
   "outputs": [
    {
     "name": "stdout",
     "output_type": "stream",
     "text": [
      "Correlator FoV before fringe stopping with decorrelation due to integration time and channel width\n",
      "under max_decorr (10%) for the longest baseline\n"
     ]
    },
    {
     "data": {
      "text/latex": [
       "$32^\\circ31{}^\\prime01.2555{}^{\\prime\\prime}$"
      ],
      "text/plain": [
       "<Angle 32.51701540992716 deg>"
      ]
     },
     "execution_count": 19,
     "metadata": {},
     "output_type": "execute_result"
    }
   ],
   "source": [
    "pre_fs_corr_FoV_max_decorr = Angle(np.arcsin(min([1, ((1-(1-max_decorr)/(1-decorr_int_time)) * const.c) / \n",
    "                                              (max_baseline_m * corr_chan_width.to(1/units.s))])), units.radian)\n",
    "print(textwrap.fill('Correlator FoV before fringe stopping with decorrelation due to '\n",
    "                    'integration time and channel width under max_decorr (10%) for the longest baseline', width=wrap_len))\n",
    "pre_fs_corr_FoV_max_decorr.to(units.degree)"
   ]
  },
  {
   "cell_type": "code",
   "execution_count": 20,
   "metadata": {
    "collapsed": false
   },
   "outputs": [
    {
     "name": "stdout",
     "output_type": "stream",
     "text": [
      "Total decorrelation after fringe stopping and integrating for a 90 degree correlator FoV\n"
     ]
    },
    {
     "data": {
      "text/latex": [
       "$0.4027004 \\; \\mathrm{}$"
      ],
      "text/plain": [
       "<Quantity 0.40270040255337947>"
      ]
     },
     "execution_count": 20,
     "metadata": {},
     "output_type": "execute_result"
    }
   ],
   "source": [
    "post_fs_total_decorr_max = 1-(1-pre_fs_total_decorr_max) * (1-decorr_fringe_stop_max)\n",
    "print(textwrap.fill('Total decorrelation after fringe stopping and '\n",
    "                    'integrating for a 90 degree correlator FoV', width=wrap_len))\n",
    "post_fs_total_decorr_max"
   ]
  },
  {
   "cell_type": "code",
   "execution_count": 21,
   "metadata": {
    "collapsed": false
   },
   "outputs": [
    {
     "name": "stdout",
     "output_type": "stream",
     "text": [
      "Total decorrelation after fringe stopping and integrating for a 10 degree correlator FoV\n"
     ]
    },
    {
     "data": {
      "text/latex": [
       "$0.081132921 \\; \\mathrm{}$"
      ],
      "text/plain": [
       "<Quantity 0.0811329205695096>"
      ]
     },
     "execution_count": 21,
     "metadata": {},
     "output_type": "execute_result"
    }
   ],
   "source": [
    "post_fs_total_decorr_min = 1-(1-pre_fs_total_decorr_min) * (1-decorr_fringe_stop_min)\n",
    "print(textwrap.fill('Total decorrelation after fringe stopping and '\n",
    "                    'integrating for a 10 degree correlator FoV', width=wrap_len))\n",
    "post_fs_total_decorr_min"
   ]
  },
  {
   "cell_type": "code",
   "execution_count": 22,
   "metadata": {
    "collapsed": false
   },
   "outputs": [
    {
     "name": "stdout",
     "output_type": "stream",
     "text": [
      "Correlator FoV after fringe stopping and integrating with total decorrelation under max_decorr (10%)\n",
      "for the longest baseline\n"
     ]
    },
    {
     "data": {
      "text/latex": [
       "$12^\\circ35{}^\\prime08.0119{}^{\\prime\\prime}$"
      ],
      "text/plain": [
       "<Angle 12.585558849043819 deg>"
      ]
     },
     "execution_count": 22,
     "metadata": {},
     "output_type": "execute_result"
    }
   ],
   "source": [
    "# calculate correlator FoV after fringe stopping and integrating with\n",
    "# total decorrelation under max_decorr (10%) for the longest baseline\n",
    "# This is a quadratic in sin(FoV), so takes some setup\n",
    "# form: a_term * sin(FoV)**2 + b_term * sin(FoV) + c_term\n",
    "a_term = (max_baseline_m * corr_chan_width.to(1/units.s) * corr_post_fringe_stop_int_time * \n",
    "          earth_rot_speed * abs(np.sin(hera_latitude)))/(const.c * max_resolution.to(units.arcminute))\n",
    "b_term = (-1) * (max_baseline_m * corr_chan_width.to(1/units.s)/const.c + \n",
    "                 corr_post_fringe_stop_int_time * earth_rot_speed * abs(np.sin(hera_latitude))/\n",
    "                 (max_resolution.to(units.arcminute)))\n",
    "c_term = 1 - (1-max_decorr)/(1-decorr_int_time)\n",
    "sin_fov = ((-1) * b_term - np.sqrt(b_term**2 - 4 * a_term * c_term))/(2 * a_term)\n",
    "post_fs_corr_FoV_max_decorr = Angle(np.arcsin(sin_fov), units.rad)\n",
    "print(textwrap.fill('Correlator FoV after fringe stopping and integrating with '\n",
    "                    'total decorrelation under max_decorr (10%) for the longest baseline', width=wrap_len))\n",
    "post_fs_corr_FoV_max_decorr.to(units.degree)"
   ]
  },
  {
   "cell_type": "markdown",
   "metadata": {
    "collapsed": true
   },
   "source": [
    "Data rate calculations:"
   ]
  },
  {
   "cell_type": "code",
   "execution_count": 23,
   "metadata": {
    "collapsed": true
   },
   "outputs": [],
   "source": [
    "n_antennas = 350\n",
    "channels_to_keep = n_channels * 3/4\n",
    "sum_diff_factor = 2\n",
    "bytes_per_vis = (8 * units.byte)\n",
    "n_polarizations = 4"
   ]
  },
  {
   "cell_type": "code",
   "execution_count": 24,
   "metadata": {
    "collapsed": false
   },
   "outputs": [
    {
     "name": "stdout",
     "output_type": "stream",
     "text": [
      "Naive (correlator internal):\n",
      "data rate:  120.76646400000001 Gbyte / s\n",
      "channel width:  61.03515625 kHz\n",
      "integration time:  0.1 s\n"
     ]
    }
   ],
   "source": [
    "Naive_data_rate = (channels_to_keep * (n_antennas*(n_antennas+1)/2) * n_polarizations * \n",
    "                   bytes_per_vis * sum_diff_factor  / corr_integration_time)\n",
    "print('Naive (correlator internal):')\n",
    "print('data rate: ', Naive_data_rate.to(units.Gbyte/units.s))\n",
    "print('channel width: ', corr_chan_width.to(units.kHz))\n",
    "print('integration time: ', corr_integration_time)"
   ]
  },
  {
   "cell_type": "code",
   "execution_count": 25,
   "metadata": {
    "collapsed": false
   },
   "outputs": [
    {
     "name": "stdout",
     "output_type": "stream",
     "text": [
      "post fringe stopping:\n",
      "data rate:  1.2076646400000002 Gbyte / s\n",
      "channel width:  61.03515625 kHz\n",
      "integration time:  10.0 s\n"
     ]
    }
   ],
   "source": [
    "post_fringe_stop_data_rate = (channels_to_keep * (n_antennas*(n_antennas+1)/2) * n_polarizations * \n",
    "                              bytes_per_vis * sum_diff_factor  / corr_post_fringe_stop_int_time)\n",
    "print('post fringe stopping:')\n",
    "print('data rate: ', post_fringe_stop_data_rate.to(units.Gbyte/units.s))\n",
    "print('channel width: ', corr_chan_width.to(units.kHz))\n",
    "print('integration time: ', corr_post_fringe_stop_int_time)"
   ]
  }
 ],
 "metadata": {
  "kernelspec": {
   "display_name": "Python 3",
   "language": "python",
   "name": "python3"
  },
  "language_info": {
   "codemirror_mode": {
    "name": "ipython",
    "version": 3
   },
   "file_extension": ".py",
   "mimetype": "text/x-python",
   "name": "python",
   "nbconvert_exporter": "python",
   "pygments_lexer": "ipython3",
   "version": "3.5.2"
  }
 },
 "nbformat": 4,
 "nbformat_minor": 0
}
