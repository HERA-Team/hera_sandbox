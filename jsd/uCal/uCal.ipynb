{
 "cells": [
  {
   "cell_type": "code",
   "execution_count": 1,
   "metadata": {
    "ExecuteTime": {
     "end_time": "2017-08-26T00:43:33.821362Z",
     "start_time": "2017-08-26T00:43:31.944252Z"
    },
    "run_control": {
     "frozen": false,
     "read_only": false
    }
   },
   "outputs": [],
   "source": [
    "import numpy as np\n",
    "import hera_cal.redcal as rc\n",
    "import matplotlib.pyplot as plt\n",
    "import scipy.cluster\n",
    "from scipy import constants, signal\n",
    "import scipy\n",
    "import linsolve\n",
    "\n",
    "%matplotlib inline "
   ]
  },
  {
   "cell_type": "markdown",
   "metadata": {
    "run_control": {
     "frozen": false,
     "read_only": false
    }
   },
   "source": [
    "# Settings"
   ]
  },
  {
   "cell_type": "code",
   "execution_count": 2,
   "metadata": {
    "ExecuteTime": {
     "end_time": "2017-08-26T00:43:33.826931Z",
     "start_time": "2017-08-26T00:43:33.822772Z"
    },
    "collapsed": true,
    "run_control": {
     "frozen": false,
     "read_only": false
    }
   },
   "outputs": [],
   "source": [
    "hexnum = 5\n",
    "min_ubl_per_orient = 4\n",
    "freqs = np.linspace(.1,.2,128) # in GHz\n",
    "coarse_Du_target = .5\n",
    "u_coverage_min = 2\n",
    "beam_window_target = 5 # in units of wavelengths"
   ]
  },
  {
   "cell_type": "code",
   "execution_count": 3,
   "metadata": {
    "ExecuteTime": {
     "end_time": "2017-08-26T00:43:33.833123Z",
     "start_time": "2017-08-26T00:43:33.828582Z"
    },
    "collapsed": true,
    "run_control": {
     "frozen": false,
     "read_only": false
    }
   },
   "outputs": [],
   "source": [
    "uc_kwargs = {'u_coverage_min': u_coverage_min, 'coarse_Du_target': coarse_Du_target, 'beam_window_target': beam_window_target}\n",
    "chans = {n: freq for n,freq in enumerate(freqs)}\n",
    "freqs = np.array(sorted(chans.values()))\n",
    "c = constants.c / 1e9 # in m/ns"
   ]
  },
  {
   "cell_type": "markdown",
   "metadata": {
    "run_control": {
     "frozen": false,
     "read_only": false
    }
   },
   "source": [
    "# Figure out which orientations to consider"
   ]
  },
  {
   "cell_type": "code",
   "execution_count": 4,
   "metadata": {
    "ExecuteTime": {
     "end_time": "2017-08-26T00:43:33.840902Z",
     "start_time": "2017-08-26T00:43:33.834514Z"
    },
    "collapsed": true,
    "run_control": {
     "frozen": false,
     "read_only": false
    }
   },
   "outputs": [],
   "source": [
    "def build_hex_array(hexNum, sep=14.7):\n",
    "    antpos, i = {}, 0\n",
    "    for row in range(hexNum-1,-(hexNum),-1):\n",
    "        for col in range(2*hexNum-abs(row)-1):\n",
    "            xPos = ((-(2*hexNum-abs(row))+2)/2.0 + col)*sep;\n",
    "            yPos = row*sep*3**.5/2;\n",
    "            antpos[i] = np.array([xPos, yPos, 0])\n",
    "            i += 1\n",
    "    return antpos"
   ]
  },
  {
   "cell_type": "code",
   "execution_count": 5,
   "metadata": {
    "ExecuteTime": {
     "end_time": "2017-08-26T00:43:33.875872Z",
     "start_time": "2017-08-26T00:43:33.842085Z"
    },
    "collapsed": true,
    "run_control": {
     "frozen": false,
     "read_only": false
    },
    "scrolled": true
   },
   "outputs": [],
   "source": [
    "def Get_Unique_Orientations(pos, pos_reds, min_ubl_per_orient = 0):\n",
    "    \"\"\"TODO: Document\"\"\"\n",
    "    ubl_pairs = [red[0] for red in pos_reds]\n",
    "    ubl_pairs = [bl for length,bl in sorted(zip([np.linalg.norm(pos[i] - pos[j]) for (i,j) in ubl_pairs], ubl_pairs))]\n",
    "    ors = [(pos[i] - pos[j])/np.linalg.norm(pos[i] - pos[j]) for (i,j) in ubl_pairs]\n",
    "\n",
    "    clusters = scipy.cluster.hierarchy.fclusterdata(ors,1e-10, criterion='distance')\n",
    "    uors = [[] for i in range(np.max(clusters))]\n",
    "    for cluster, bl in zip(clusters,ubl_pairs):\n",
    "        uors[cluster-1].append(bl)\n",
    "    uors = [uor for uor in uors if len(uor) > min_ubl_per_orient]\n",
    "    return uors\n",
    "\n",
    "pos = build_hex_array(hexnum)\n",
    "pos_reds = rc.get_pos_reds(pos)\n",
    "uors = Get_Unique_Orientations(pos, pos_reds, min_ubl_per_orient = min_ubl_per_orient)"
   ]
  },
  {
   "cell_type": "markdown",
   "metadata": {
    "run_control": {
     "frozen": false,
     "read_only": false
    }
   },
   "source": [
    "## Plotting"
   ]
  },
  {
   "cell_type": "code",
   "execution_count": 6,
   "metadata": {
    "ExecuteTime": {
     "end_time": "2017-08-26T00:43:34.013704Z",
     "start_time": "2017-08-26T00:43:33.878970Z"
    },
    "run_control": {
     "frozen": false,
     "read_only": false
    }
   },
   "outputs": [
    {
     "name": "stdout",
     "output_type": "stream",
     "text": [
      "3 unique orientations are being used.\n"
     ]
    },
    {
     "data": {
      "image/png": "[encoded data removed]",
      "text/plain": [
       "<matplotlib.figure.Figure at 0x123ad0bd0>"
      ]
     },
     "metadata": {},
     "output_type": "display_data"
    }
   ],
   "source": [
    "print len(uors), 'unique orientations are being used.'\n",
    "plt.figure()\n",
    "plt.scatter(np.array(pos.values())[:,0], np.array(pos.values())[:,1])\n",
    "ax = plt.axes()\n",
    "for uor in uors:\n",
    "    i,j = uor[0]\n",
    "    ax.arrow(pos[i][0],pos[i][1], pos[j][0]-pos[i][0], pos[j][1]-pos[i][1], width=1)"
   ]
  },
  {
   "cell_type": "markdown",
   "metadata": {
    "run_control": {
     "frozen": false,
     "read_only": false
    }
   },
   "source": [
    "# Simulate visibilities"
   ]
  },
  {
   "cell_type": "code",
   "execution_count": 7,
   "metadata": {
    "ExecuteTime": {
     "end_time": "2017-08-26T00:43:34.084666Z",
     "start_time": "2017-08-26T00:43:34.015175Z"
    },
    "collapsed": true,
    "run_control": {
     "frozen": false,
     "read_only": false
    }
   },
   "outputs": [],
   "source": [
    "class SourceCatalog():\n",
    "    def __init__(self):\n",
    "        self.ras, self.decs, self.refFluxes, self.refFreqs, self.alphas = (np.array([]) for i in range(5))\n",
    "        self.LST = 0.0\n",
    "    \n",
    "    def addSource(self, ra, dec, refFlux, refFreq, alpha):\n",
    "        \"\"\"Used for manually adding a power-law source by hand.\"\"\"\n",
    "        self.ras = np.append(self.ras,ra)\n",
    "        self.decs = np.append(self.decs,dec)\n",
    "        self.refFluxes = np.append(self.refFluxes,refFlux)\n",
    "        self.refFreqs = np.append(self.refFreqs,refFreq)\n",
    "        self.alphas = np.append(self.alphas,alpha)\n",
    "\n",
    "    def update_horizontal_coords(self, LST, arrayLatInRad = -0.53619181096511):\n",
    "        \"\"\" Convert RAs and Decs in radians to altitudes and azimuths in radians, given an LST and array location in the specs object \"\"\"\n",
    "        self.LST = LST\n",
    "        RAs = self.ras*np.pi/180. #convert to radians\n",
    "        decs = self.decs*np.pi/180.\n",
    "        lha = np.pi/12.0*self.LST - RAs #local hour angle\n",
    "        self.alts = np.arcsin(np.sin(arrayLatInRad) * np.sin(decs) + np.cos(arrayLatInRad) * np.cos(decs) * np.cos(lha))\n",
    "        self.azs = np.arctan2( np.sin(lha) * np.cos(decs), np.cos(lha) * np.cos(decs) * np.sin(arrayLatInRad) - np.sin(decs) * np.cos(arrayLatInRad)) + np.pi\n",
    "        self.carts = np.array([np.sin(self.azs)*np.cos(self.alts), np.cos(self.azs)*np.cos(self.alts), np.sin(self.alts)])\n",
    "    \n",
    "    def visibilities(self, baseline, freqs, beamSize = 30.0):\n",
    "        \"\"\"baseline = [x,y,z]\"\"\"\n",
    "        sigmas = beamSize*2.*np.pi/360./2.355 *(freqs/.150)**-1.\n",
    "        fluxes = np.array([self.refFluxes * (freq/self.refFreqs)**(-0*self.alphas) for freq in freqs])\n",
    "        # NOTE: For now, not including spectral indicies\n",
    "        beams = np.array([(self.alts > 0) * np.exp(-(np.pi/2.-self.alts)**2./(2.*sigma**2)) for sigma in sigmas])\n",
    "        beams = np.ones_like(beams)\n",
    "        # NOTE: For now, I'm using unit beams\n",
    "        exponents = np.array([np.exp(-2.0j*np.pi/(c/freq)*baseline.dot(self.carts)) for freq in freqs])\n",
    "        visibility = np.sum(fluxes * beams * exponents, axis=1)\n",
    "        return visibility"
   ]
  },
  {
   "cell_type": "code",
   "execution_count": 8,
   "metadata": {
    "ExecuteTime": {
     "end_time": "2017-08-26T00:43:34.090666Z",
     "start_time": "2017-08-26T00:43:34.086794Z"
    },
    "collapsed": true,
    "run_control": {
     "frozen": false,
     "read_only": false
    }
   },
   "outputs": [],
   "source": [
    "sc = SourceCatalog()\n",
    "sc.addSource(10,-30,10,.15,.6)\n",
    "sc.addSource(0,-35,20,.15,.6)\n",
    "sc.addSource(20,-25,15,.15,.6)\n",
    "sc.update_horizontal_coords(LST = 0)"
   ]
  },
  {
   "cell_type": "code",
   "execution_count": 9,
   "metadata": {
    "ExecuteTime": {
     "end_time": "2017-08-26T00:43:34.154153Z",
     "start_time": "2017-08-26T00:43:34.092113Z"
    },
    "collapsed": true,
    "run_control": {
     "frozen": false,
     "read_only": false
    }
   },
   "outputs": [],
   "source": [
    "true_vis = {}\n",
    "for uor in uors:\n",
    "    for bl in uor:\n",
    "        bl_vec = pos[bl[0]] - pos[bl[1]]\n",
    "        vis = sc.visibilities(bl_vec, freqs, beamSize = 30.0)\n",
    "        for findex, chan in enumerate(sorted(chans.keys())):\n",
    "            true_vis[(bl,chan)] = vis[findex]"
   ]
  },
  {
   "cell_type": "markdown",
   "metadata": {
    "run_control": {
     "frozen": false,
     "read_only": false
    }
   },
   "source": [
    "## Plotting"
   ]
  },
  {
   "cell_type": "code",
   "execution_count": 10,
   "metadata": {
    "ExecuteTime": {
     "end_time": "2017-08-26T00:43:34.319196Z",
     "start_time": "2017-08-26T00:43:34.157164Z"
    },
    "run_control": {
     "frozen": false,
     "read_only": false
    }
   },
   "outputs": [
    {
     "data": {
      "image/png": "[encoded data removed]",
      "text/plain": [
       "<matplotlib.figure.Figure at 0x123c6a510>"
      ]
     },
     "metadata": {},
     "output_type": "display_data"
    }
   ],
   "source": [
    "plt.figure()\n",
    "for bl in uors[0]:\n",
    "    u = np.linalg.norm(pos[bl[0]] - pos[bl[1]]) / (c / freqs)\n",
    "    plt.plot(u, np.real([true_vis[(bl,chan)] for chan in chans.keys()]),'.')# * (freqs/.15)**.6,'.')"
   ]
  },
  {
   "cell_type": "markdown",
   "metadata": {
    "ExecuteTime": {
     "end_time": "2017-08-01T01:05:36.354282Z",
     "start_time": "2017-08-01T01:05:36.350022Z"
    },
    "run_control": {
     "frozen": false,
     "read_only": false
    }
   },
   "source": [
    "# Build up geometric information about all orientations"
   ]
  },
  {
   "cell_type": "code",
   "execution_count": 11,
   "metadata": {
    "ExecuteTime": {
     "end_time": "2017-08-26T00:43:34.393208Z",
     "start_time": "2017-08-26T00:43:34.320655Z"
    },
    "collapsed": true,
    "run_control": {
     "frozen": false,
     "read_only": false
    }
   },
   "outputs": [],
   "source": [
    "def Compute_Fine_u_Grid(bl_len_dict, chans, beam_window):\n",
    "    '''TODO: document'''\n",
    "    freqs = sorted(chans.values())\n",
    "    shortest_bl = np.min(bl_len_dict.values())\n",
    "    longest_bl = np.max(bl_len_dict.values())\n",
    "\n",
    "    df = np.median(np.ediff1d(freqs))\n",
    "    # TODO: this may not be right...need to reconsider for split hex...may need to be finer spacing        \n",
    "    fine_Du = np.linalg.norm(shortest_bl) / (constants.c / (1e9 * df))\n",
    "    fine_us = np.arange(0.0, longest_bl/(c/freqs[-1]) + beam_window, fine_Du)\n",
    "    return fine_us, fine_Du\n",
    "\n",
    "\n",
    "def Compute_u_Coverage(bl_len_dict, chans, us):\n",
    "    '''TODO: document'''\n",
    "    Du = us[1] - us[0]\n",
    "    freqs = sorted(chans.values())\n",
    "    coverage = np.zeros_like(us)\n",
    "    for bl_len in bl_len_dict.values():\n",
    "        uMin = bl_len / (constants.c / (1e9*freqs[0]))\n",
    "        uMax = bl_len / (constants.c / (1e9*freqs[-1]))\n",
    "        coverage += 1.0 * (us >= uMin) * (us < uMax)    \n",
    "    return dict(zip(us, coverage))\n",
    "\n",
    "def Determine_bl_chan_Pairs(bl_len_dict, chans, fine_Du, u_coverage_dict, u_coverage_min = 2):\n",
    "    '''TODO: document'''\n",
    "    bl_chan_pairs = {}\n",
    "    for bl, bl_len in bl_len_dict.items():\n",
    "        for chan, freq in chans.items():\n",
    "            u = int(np.round((bl_len / (constants.c / (1e9*freq))) / fine_Du)) * fine_Du\n",
    "            if u_coverage_dict.has_key(u):\n",
    "                if u_coverage_dict[u] > u_coverage_min:\n",
    "                    bl_chan_pairs[(bl,chan)] = u                    \n",
    "            else:\n",
    "                raise KeyError('Cannot find u = ' + str(u) + ' in coverage dict.')\n",
    "    return bl_chan_pairs\n",
    "\n",
    "def Find_Closest_N_Coarse_us(u, coarse_us, N):\n",
    "    '''TODO: document'''\n",
    "    return np.array(sorted([coarse_u for (diff,coarse_u) in sorted(zip(np.abs(coarse_us-u),coarse_us))[0:N]]))\n",
    "        \n",
    "\n",
    "class uCal_Orientation:\n",
    "    \n",
    "    def __init__(self, bls, pos, chans, u_coverage_min = 2, coarse_Du_target = .5, beam_window_target = 5):\n",
    "        '''TODO: Document'''\n",
    "        self.bls = bls\n",
    "        self.u_coverage_min, self.coarse_Du_target, self.beam_window_target = u_coverage_min, coarse_Du_target, beam_window_target\n",
    "        \n",
    "        self.bl_len_dict = {bl: np.linalg.norm(pos[bl[0]] - pos[bl[1]]) for bl in self.bls}\n",
    "        # Maps bl index pair to baseline length\n",
    "        fine_us, self.fine_Du = Compute_Fine_u_Grid(self.bl_len_dict, chans, beam_window_target)\n",
    "        fine_u_coverage = Compute_u_Coverage(self.bl_len_dict, chans, fine_us)\n",
    "        self.u_coverage_dict = dict(zip(fine_us, fine_u_coverage)) \n",
    "        # Maps fine_u to number of baselines that overlap with it\n",
    "\n",
    "        self.fine_per_coarse = 2*int(np.round(coarse_Du_target / 2 / self.fine_Du)) - 1\n",
    "        self.coarse_Du = self.fine_per_coarse*self.fine_Du\n",
    "        self.beam_bins = (2*int(np.ceil((beam_window_target-self.coarse_Du) / (2*self.coarse_Du))) + 1)\n",
    "        coarse_us = fine_us[0::self.fine_per_coarse]\n",
    "        coarse_u_included = [np.any(np.abs(u-fine_us[fine_u_coverage >= u_coverage_min]) \n",
    "                             <= self.coarse_Du * self.beam_bins) for u in coarse_us]\n",
    "        self.coarse_us = coarse_us[coarse_u_included]\n",
    "        \n",
    "        self.bl_chan_pairs = Determine_bl_chan_Pairs(self.bl_len_dict, chans, self.fine_Du, self.u_coverage_dict, u_coverage_min = u_coverage_min)\n",
    "        # Maps all included bl_chan_pairs to their fine_u value\n",
    "        self.nearest_coarse_us = {u: Find_Closest_N_Coarse_us(u, self.coarse_us, self.beam_bins) for u in self.bl_chan_pairs.values()}\n",
    "        # Maps fine u to the closest coarse u bins\n",
    "        self.fine_offset = {u: int(np.round((u - self.nearest_coarse_us[u][(self.beam_bins-1)/2]) / self.fine_Du)) for u in self.bl_chan_pairs.values()}\n",
    "        # maps fine u to how many fine u bins its offset from the nearest coarse bin (the center bin in self.nearest_coarse_us)\n",
    "\n"
   ]
  },
  {
   "cell_type": "markdown",
   "metadata": {
    "run_control": {
     "frozen": false,
     "read_only": false
    }
   },
   "source": [
    "# Build the uCal model"
   ]
  },
  {
   "cell_type": "code",
   "execution_count": 24,
   "metadata": {
    "ExecuteTime": {
     "end_time": "2017-08-26T00:45:14.641838Z",
     "start_time": "2017-08-26T00:45:14.341228Z"
    },
    "run_control": {
     "frozen": false,
     "read_only": false
    }
   },
   "outputs": [
    {
     "name": "stdout",
     "output_type": "stream",
     "text": [
      "There are 128 channels and 558 coarse u bins. There are 3012 unique visibilitiy equations.\n"
     ]
    }
   ],
   "source": [
    "\n",
    "def FourierInterpolate(toInterp, factor):\n",
    "    \"\"\"Takes some evenly spaced function and returns a Fourier interpolation of that function at the fine_per_coarse level.\"\"\"\n",
    "    pad = factor/2\n",
    "    toPad = np.fft.fftshift(np.fft.fft(toInterp))\n",
    "    padded = np.concatenate((np.zeros(int(np.ceil(len(toInterp)*pad+.5))), toPad, np.zeros(int(np.floor(len(toInterp)*pad-.5)))))\n",
    "    interpolated = np.roll((2*pad+1)*np.fft.ifft(np.fft.fftshift(padded)),int(np.floor(pad)))\n",
    "    return interpolated\n",
    "\n",
    "\n",
    "\n",
    "\n",
    "class uCal_Model:\n",
    "    \n",
    "    def __init__(self, unique_ors, pos, chans, **kwargs):\n",
    "        '''TODO: Document'''\n",
    "        self.chans = chans\n",
    "        self.ornts = [uCal_Orientation(uor, pos, chans, **kwargs) for uor in unique_ors]\n",
    "        self.model_to_bl_chan, self.bl_chan_to_model = {}, {}\n",
    "        self.Fourier_Coeffs = {}\n",
    "        \n",
    "    def Report_Equation_Summary(self):\n",
    "        '''TODO: Document'''\n",
    "        chansUsed = sorted(list(set([chan for uCal_or in self.ornts for (bl,chan) in uCal_or.bl_chan_pairs.keys()])))\n",
    "        nus = [len(set([u for nearest in uCal_or.nearest_coarse_us.values() for u in nearest])) for uCal_or in self.ornts]\n",
    "        neq = [len(uCal_or.bl_chan_pairs) for uCal_or in self.ornts]\n",
    "        print 'There are ' + str(len(chansUsed)) + ' channels and ' + str(np.sum(nus)) + ' coarse u bins. There are ' + str(np.sum(neq)) + ' unique visibilitiy equations.'\n",
    "\n",
    "    def Build_Model_String_0th_Order(self, or_index, bl, chan):\n",
    "        '''TODO: Document'''\n",
    "        ornt = self.ornts[or_index]\n",
    "        u = ornt.bl_chan_pairs[(bl,chan)]\n",
    "        nearest = ornt.nearest_coarse_us[u]\n",
    "        coarse_u = nearest[(len(nearest)-1)/2]\n",
    "        model_str = ('or' + str(or_index) + 'u' + str(coarse_u)).replace('.','_')\n",
    "        self.model_to_bl_chan[model_str] = (bl,chan)\n",
    "        self.bl_chan_to_model[(bl,chan)] = model_str\n",
    "        return model_str\n",
    "\n",
    "        \n",
    "    def Build_Model_String_Linear(self, or_index, bl, chan):\n",
    "        '''TODO: Document'''\n",
    "        ornt = self.ornts[or_index]\n",
    "        u = ornt.bl_chan_pairs[(bl,chan)]\n",
    "        nearest = ornt.nearest_coarse_us[u]\n",
    "        offset = ornt.fine_offset[u]\n",
    "        ratio1 = 1.0*(ornt.fine_per_coarse - np.abs(offset))/ornt.fine_per_coarse\n",
    "        coarse_u = nearest[(len(nearest)-1)/2]\n",
    "        term1 = ('or' + str(or_index) + 'u' + str(coarse_u)).replace('.','_')\n",
    "        ratio2 = 1.0*(np.abs(offset))/ornt.fine_per_coarse\n",
    "        if offset < 0:\n",
    "            coarse_u2 = nearest[(len(nearest)-1)/2 - 1]\n",
    "        else:\n",
    "            coarse_u2 = nearest[(len(nearest)-1)/2 + 1]\n",
    "        term2 = ('or' + str(or_index) + 'u' + str(coarse_u2)).replace('.','_')\n",
    "        model_str = str(ratio1) + '*' + term1 + ' + ' + str(ratio2) + '*' + term2\n",
    "        self.model_to_bl_chan[model_str] = (bl,chan)\n",
    "        self.bl_chan_to_model[(bl,chan)] = model_str\n",
    "        return model_str\n",
    "    \n",
    "    \n",
    "    def Fourier_Interp_Coeffs(self, chan, beam_bins, offset, fine_per_coarse):\n",
    "        '''TODO: Document'''        \n",
    "        if not self.Fourier_Coeffs.has_key((beam_bins, offset)):\n",
    "            coeffs = np.zeros(beam_bins)\n",
    "            coarse_taper = signal.gaussian(beam_bins, beam_bins/8.0)\n",
    "            for n in range(beam_bins):\n",
    "                to_interp = np.zeros(beam_bins, dtype=complex)\n",
    "                to_interp[n] = 1.0 + 0.0j\n",
    "                interpolated = FourierInterpolate(to_interp * coarse_taper, fine_per_coarse)\n",
    "                fine_taper = signal.gaussian(len(interpolated),len(interpolated)/8.0)\n",
    "                interpolated /= (fine_taper * np.mean(coarse_taper) / np.mean(fine_taper))\n",
    "                coeffs[n] = interpolated[((fine_per_coarse) * beam_bins) / 2 + offset]\n",
    "            self.Fourier_Coeffs[(beam_bins, offset)] = coeffs\n",
    "        return self.Fourier_Coeffs[(beam_bins, offset)]\n",
    "        \n",
    "        \n",
    "    def Build_Model_String_Fourier(self, or_index, bl, chan):\n",
    "        '''TODO: Document'''\n",
    "        ornt = self.ornts[or_index]\n",
    "        u = ornt.bl_chan_pairs[(bl,chan)]\n",
    "        nearest = ornt.nearest_coarse_us[u]\n",
    "        coeffs = self.Fourier_Interp_Coeffs(chan, ornt.beam_bins, ornt.fine_offset[u], ornt.fine_per_coarse)\n",
    "        variables = ['or' + str(or_index) + 'u' + str(coarse_u).replace('.','_') for coarse_u in ornt.nearest_coarse_us[u]]        \n",
    "        model_str = ' + '.join([str(coeff) + '*' + var for coeff,var in zip(coeffs, variables)])\n",
    "        self.model_to_bl_chan[model_str] = (bl,chan)\n",
    "        self.bl_chan_to_model[(bl,chan)] = model_str\n",
    "        return model_str\n",
    "\n",
    "uc = uCal_Model(uors, pos, chans, **uc_kwargs)\n",
    "uc.Report_Equation_Summary()\n",
    "\n"
   ]
  },
  {
   "cell_type": "code",
   "execution_count": 25,
   "metadata": {
    "ExecuteTime": {
     "end_time": "2017-08-26T00:45:15.861650Z",
     "start_time": "2017-08-26T00:45:15.730710Z"
    },
    "run_control": {
     "frozen": false,
     "read_only": false
    },
    "scrolled": false
   },
   "outputs": [
    {
     "name": "stderr",
     "output_type": "stream",
     "text": [
      "/Users/jsdillon/anaconda2/lib/python2.7/site-packages/ipykernel_launcher.py:73: ComplexWarning: Casting complex values to real discards the imaginary part\n"
     ]
    }
   ],
   "source": [
    "data = {}\n",
    "for or_index, ornt in enumerate(uc.ornts):\n",
    "    for (bl,chan) in ornt.bl_chan_pairs.keys():\n",
    "#        data[uc.Build_Model_String_0th_Order(or_index, bl, chan)] = true_vis[(bl,chan)]\n",
    "#        data[uc.Build_Model_String_Linear(or_index, bl, chan)] = true_vis[(bl,chan)]\n",
    "        data[uc.Build_Model_String_Fourier(or_index, bl, chan)] = true_vis[(bl,chan)]\n",
    "       "
   ]
  },
  {
   "cell_type": "code",
   "execution_count": 26,
   "metadata": {
    "ExecuteTime": {
     "end_time": "2017-08-26T00:45:17.417534Z",
     "start_time": "2017-08-26T00:45:16.178757Z"
    },
    "run_control": {
     "frozen": false,
     "read_only": false
    }
   },
   "outputs": [],
   "source": [
    "ls = linsolve.LinearSolver(data, sparse=True)\n",
    "sol = ls.solve()"
   ]
  },
  {
   "cell_type": "code",
   "execution_count": 27,
   "metadata": {
    "ExecuteTime": {
     "end_time": "2017-08-26T00:45:19.629801Z",
     "start_time": "2017-08-26T00:45:19.475110Z"
    }
   },
   "outputs": [
    {
     "name": "stdout",
     "output_type": "stream",
     "text": [
      "fine bins per coarse bin:  [11, 11, 11]\n",
      "coarse bins per beam window :  [13, 13, 13]\n"
     ]
    },
    {
     "data": {
      "image/png": "[encoded data removed]",
      "text/plain": [
       "<matplotlib.figure.Figure at 0x126020090>"
      ]
     },
     "metadata": {},
     "output_type": "display_data"
    }
   ],
   "source": [
    "print 'fine bins per coarse bin: ', [ornt.fine_per_coarse for ornt in uc.ornts]\n",
    "print 'coarse bins per beam window : ', [ornt.beam_bins for ornt in uc.ornts]\n",
    "plt.figure()\n",
    "for key,val in uc.Fourier_Coeffs.items():\n",
    "    plt.plot(val+key[1])"
   ]
  },
  {
   "cell_type": "code",
   "execution_count": 28,
   "metadata": {
    "ExecuteTime": {
     "end_time": "2017-08-26T00:45:20.507284Z",
     "start_time": "2017-08-26T00:45:20.330517Z"
    },
    "code_folding": [],
    "run_control": {
     "frozen": false,
     "read_only": false
    }
   },
   "outputs": [
    {
     "data": {
      "image/png": "[encoded data removed]",
      "text/plain": [
       "<matplotlib.figure.Figure at 0x1261b6e50>"
      ]
     },
     "metadata": {},
     "output_type": "display_data"
    }
   ],
   "source": [
    "or_index = 0\n",
    "sol_keys = sol.keys()\n",
    "us = [float(key.split('or' + str(or_index) + 'u')[-1].replace('_','.')) for key in sol_keys if ('or' + str(or_index)) in key]\n",
    "vals = [sol[key] for key in sol_keys if ('or' + str(or_index)) in key]\n",
    "\n",
    "plt.figure()\n",
    "plt.plot(us, np.real(vals),'o')\n",
    "for bl in uc.ornts[or_index].bls:\n",
    "    u = np.linalg.norm(pos[bl[0]] - pos[bl[1]]) / (c / freqs)\n",
    "    plt.plot(u, np.real([true_vis[(bl,chan)] for chan in chans.keys()]),'.')# * (freqs/.15)**.6,'.')a\n"
   ]
  },
  {
   "cell_type": "code",
   "execution_count": 29,
   "metadata": {
    "ExecuteTime": {
     "end_time": "2017-08-26T00:45:21.201605Z",
     "start_time": "2017-08-26T00:45:20.928503Z"
    },
    "run_control": {
     "frozen": false,
     "read_only": false
    }
   },
   "outputs": [
    {
     "data": {
      "text/plain": [
       "[<matplotlib.lines.Line2D at 0x125f4a890>]"
      ]
     },
     "execution_count": 29,
     "metadata": {},
     "output_type": "execute_result"
    },
    {
     "data": {
      "image/png": "[encoded data removed]",
      "text/plain": [
       "<matplotlib.figure.Figure at 0x123c41690>"
      ]
     },
     "metadata": {},
     "output_type": "display_data"
    }
   ],
   "source": [
    "or_index = 0\n",
    "ornt = uc.ornts[or_index]\n",
    "model_to_vissol = {eq.val: eq.eval(sol) for eq in ls.eqs}\n",
    "\n",
    "vissols = np.array([model_to_vissol[uc.bl_chan_to_model[(bl,chan)]] for bl,chan in ornt.bl_chan_pairs.keys()])\n",
    "truevis = np.array([true_vis[(bl,chan)] for bl,chan in ornt.bl_chan_pairs.keys()])\n",
    "us = ornt.bl_chan_pairs.values()\n",
    "\n",
    "plt.figure()\n",
    "plt.plot(us,np.abs(vissols-truevis),'.')\n",
    "#plt.plot(us,np.real(truevis),'.')\n",
    "#plt.plot(us,np.real(vissols),'.')"
   ]
  },
  {
   "cell_type": "code",
   "execution_count": null,
   "metadata": {
    "collapsed": true,
    "run_control": {
     "frozen": false,
     "read_only": false
    }
   },
   "outputs": [],
   "source": []
  },
  {
   "cell_type": "code",
   "execution_count": null,
   "metadata": {
    "collapsed": true,
    "run_control": {
     "frozen": false,
     "read_only": false
    }
   },
   "outputs": [],
   "source": []
  },
  {
   "cell_type": "code",
   "execution_count": null,
   "metadata": {
    "collapsed": true,
    "run_control": {
     "frozen": false,
     "read_only": false
    }
   },
   "outputs": [],
   "source": []
  },
  {
   "cell_type": "code",
   "execution_count": null,
   "metadata": {
    "collapsed": true,
    "run_control": {
     "frozen": false,
     "read_only": false
    }
   },
   "outputs": [],
   "source": []
  },
  {
   "cell_type": "markdown",
   "metadata": {
    "run_control": {
     "frozen": false,
     "read_only": false
    }
   },
   "source": [
    "## Gameplan:\n",
    "\n",
    "* ~~No bandpass, linsolver, nearest coarse bin~~\n",
    "* ~~No bandpass, linsolver, linear interpolation~~\n",
    "* ~~No bandpass, linsolver, fourier interpolation~~\n",
    "* No bandpass, linsolver, gaussian beam, gaussian sum \n",
    "* With bandpass, linproductsolver, gaussian beam, gaussian sum\n",
    "* With bandpass, linproductsolver, gaussian beam, gaussian sum, polynomials in log(freq)\n",
    "* Realistic beams???\n",
    "\n",
    "Still to figure out...what do we do with the width? Do we fit that separately?"
   ]
  },
  {
   "cell_type": "code",
   "execution_count": null,
   "metadata": {
    "collapsed": true,
    "run_control": {
     "frozen": false,
     "read_only": false
    }
   },
   "outputs": [],
   "source": []
  },
  {
   "cell_type": "code",
   "execution_count": null,
   "metadata": {
    "collapsed": true,
    "run_control": {
     "frozen": false,
     "read_only": false
    }
   },
   "outputs": [],
   "source": []
  },
  {
   "cell_type": "markdown",
   "metadata": {
    "run_control": {
     "frozen": false,
     "read_only": false
    }
   },
   "source": [
    "# Iteratively solve for uCal parameters"
   ]
  },
  {
   "cell_type": "code",
   "execution_count": null,
   "metadata": {
    "collapsed": true,
    "run_control": {
     "frozen": false,
     "read_only": false
    }
   },
   "outputs": [],
   "source": []
  },
  {
   "cell_type": "code",
   "execution_count": null,
   "metadata": {
    "collapsed": true,
    "run_control": {
     "frozen": false,
     "read_only": false
    }
   },
   "outputs": [],
   "source": []
  },
  {
   "cell_type": "code",
   "execution_count": null,
   "metadata": {
    "collapsed": true,
    "run_control": {
     "frozen": false,
     "read_only": false
    }
   },
   "outputs": [],
   "source": []
  },
  {
   "cell_type": "code",
   "execution_count": null,
   "metadata": {
    "collapsed": true,
    "run_control": {
     "frozen": false,
     "read_only": false
    }
   },
   "outputs": [],
   "source": []
  },
  {
   "cell_type": "code",
   "execution_count": null,
   "metadata": {
    "collapsed": true,
    "run_control": {
     "frozen": false,
     "read_only": false
    }
   },
   "outputs": [],
   "source": []
  },
  {
   "cell_type": "code",
   "execution_count": null,
   "metadata": {
    "collapsed": true,
    "run_control": {
     "frozen": false,
     "read_only": false
    }
   },
   "outputs": [],
   "source": []
  },
  {
   "cell_type": "code",
   "execution_count": null,
   "metadata": {
    "collapsed": true,
    "run_control": {
     "frozen": false,
     "read_only": false
    }
   },
   "outputs": [],
   "source": []
  },
  {
   "cell_type": "code",
   "execution_count": null,
   "metadata": {
    "collapsed": true,
    "run_control": {
     "frozen": false,
     "read_only": false
    }
   },
   "outputs": [],
   "source": []
  },
  {
   "cell_type": "code",
   "execution_count": null,
   "metadata": {
    "collapsed": true,
    "run_control": {
     "frozen": false,
     "read_only": false
    }
   },
   "outputs": [],
   "source": []
  },
  {
   "cell_type": "code",
   "execution_count": null,
   "metadata": {
    "collapsed": true,
    "run_control": {
     "frozen": false,
     "read_only": false
    }
   },
   "outputs": [],
   "source": []
  },
  {
   "cell_type": "code",
   "execution_count": null,
   "metadata": {
    "collapsed": true,
    "run_control": {
     "frozen": false,
     "read_only": false
    }
   },
   "outputs": [],
   "source": []
  },
  {
   "cell_type": "code",
   "execution_count": null,
   "metadata": {
    "collapsed": true,
    "run_control": {
     "frozen": false,
     "read_only": false
    }
   },
   "outputs": [],
   "source": []
  },
  {
   "cell_type": "code",
   "execution_count": null,
   "metadata": {
    "collapsed": true,
    "run_control": {
     "frozen": false,
     "read_only": false
    }
   },
   "outputs": [],
   "source": []
  },
  {
   "cell_type": "code",
   "execution_count": 18,
   "metadata": {
    "ExecuteTime": {
     "end_time": "2017-08-26T00:43:36.697899Z",
     "start_time": "2017-08-26T00:43:36.695837Z"
    },
    "collapsed": true,
    "run_control": {
     "frozen": false,
     "read_only": false
    }
   },
   "outputs": [],
   "source": [
    "# plt.figure()\n",
    "# plt.plot(uCal_ors[0].fine_us, uCal_ors[0].fine_u_coverage,'.')\n",
    "# plt.plot(uCal_ors[0].coarse_us, 2.5*np.ones_like(uCal_ors[0].coarse_us),'.')"
   ]
  },
  {
   "cell_type": "code",
   "execution_count": null,
   "metadata": {
    "collapsed": true,
    "run_control": {
     "frozen": false,
     "read_only": false
    }
   },
   "outputs": [],
   "source": []
  },
  {
   "cell_type": "code",
   "execution_count": 19,
   "metadata": {
    "ExecuteTime": {
     "end_time": "2017-08-26T00:43:36.704827Z",
     "start_time": "2017-08-26T00:43:36.699992Z"
    },
    "collapsed": true,
    "run_control": {
     "frozen": false,
     "read_only": false
    }
   },
   "outputs": [],
   "source": [
    "# plt.figure()\n",
    "# bl = uors[0][0]\n",
    "# bl_vec = pos[bl[0]] - pos[bl[1]]\n",
    "# fine_u_freqs = 1e-9 * constants.c  * (np.linalg.norm(bl_vec) / uCal_ors[0].fine_us[1:])**-1\n",
    "# fine_vis = sc.visibilities(bl_vec, fine_u_freqs, beamSize = 30.0)\n",
    "# plt.plot(uCal_ors[0].fine_us[1:], np.real(fine_vis),'.')\n",
    "\n",
    "# coarse_u_freqs = 1e-9 * constants.c  * (np.linalg.norm(bl_vec) / uCal_ors[0].coarse_us)**-1\n",
    "# coarse_vis = sc.visibilities(bl_vec, coarse_u_freqs, beamSize = 30.0)\n",
    "# coarse_vis = {u:vis for u,vis in zip(uCal_ors[0].coarse_us, coarse_vis)}\n",
    "\n",
    "\n",
    "# # for bl in uors[0]:\n",
    "# #     u = np.linalg.norm(pos[bl[0]] - pos[bl[1]]) / (((constants.c) / 1e9) / freqs)\n",
    "# #     plt.plot(u, np.real(true_vis[bl]),'.')\n",
    "\n",
    "# plt.plot(coarse_vis.keys(), coarse_vis.values(),'.')"
   ]
  },
  {
   "cell_type": "code",
   "execution_count": null,
   "metadata": {
    "ExecuteTime": {
     "end_time": "2017-08-24T23:45:04.379251Z",
     "start_time": "2017-08-24T23:45:04.290034Z"
    },
    "collapsed": true,
    "run_control": {
     "frozen": false,
     "read_only": false
    }
   },
   "outputs": [],
   "source": []
  },
  {
   "cell_type": "code",
   "execution_count": 20,
   "metadata": {
    "ExecuteTime": {
     "end_time": "2017-08-26T00:43:36.709137Z",
     "start_time": "2017-08-26T00:43:36.706595Z"
    },
    "collapsed": true,
    "run_control": {
     "frozen": false,
     "read_only": false
    }
   },
   "outputs": [],
   "source": [
    "# scipy.signal.gaussian(11,11/8.0)"
   ]
  },
  {
   "cell_type": "code",
   "execution_count": 21,
   "metadata": {
    "ExecuteTime": {
     "end_time": "2017-08-26T00:43:36.714142Z",
     "start_time": "2017-08-26T00:43:36.710439Z"
    },
    "collapsed": true,
    "run_control": {
     "frozen": false,
     "read_only": false
    }
   },
   "outputs": [],
   "source": [
    "# #TODO: add windowing function to interpolator\n",
    "\n",
    "# def interpolator(fine_u, coarse_vis, fine_Du, coarse_Du, beam_window, fine_per_coarse, gaussSize=8.0):\n",
    "#     window_coarse_bins = int(np.round(beam_window/coarse_Du))\n",
    "#     coarse_us = Find_Closest_N_Coarse_us(fine_u, coarse_vis.keys(), int(np.round(beam_window/coarse_Du)))\n",
    "#     offset = int(np.round((fine_u - coarse_us[(window_coarse_bins-1)/2])/fine_Du))\n",
    "    \n",
    "    \n",
    "    \n",
    "#     vis = np.array([coarse_vis[u] for u in coarse_us])\n",
    "#     coarse_window = scipy.signal.gaussian(len(vis),len(vis)/gaussSize)\n",
    "#     interpolatedVis = FourierInterpolate(coarse_window*vis, fine_per_coarse/2)\n",
    "#     fine_window = scipy.signal.gaussian(len(interpolatedVis),len(interpolatedVis)/gaussSize)\n",
    "#     interpolatedVis /= (fine_window * np.mean(coarse_window) / np.mean(fine_window))\n",
    "\n",
    "#     return interpolatedVis[fine_per_coarse*window_coarse_bins/2+offset]\n",
    "    "
   ]
  },
  {
   "cell_type": "code",
   "execution_count": 22,
   "metadata": {
    "ExecuteTime": {
     "end_time": "2017-08-26T00:43:36.718757Z",
     "start_time": "2017-08-26T00:43:36.715451Z"
    },
    "run_control": {
     "frozen": false,
     "read_only": false
    },
    "scrolled": false
   },
   "outputs": [],
   "source": [
    "# ornt = uc.ornts[0]\n",
    "\n",
    "# us = ornt.fine_us[300:1800]\n",
    "\n",
    "# # plt.figure()\n",
    "# # plt.plot(us, interpolated,'.-')\n",
    "# # plt.plot(coarse_vis.keys(), coarse_vis.values(),'.',ms=10)\n",
    "\n",
    "# plt.figure()\n",
    "# interpolated = np.array([interpolator(u, coarse_vis, ornt.fine_Du, ornt.coarse_Du, ornt.beam_window, ornt.fine_per_coarse) for u in us])\n",
    "# plt.semilogy(us, np.abs(fine_vis[299:1799]-interpolated))"
   ]
  },
  {
   "cell_type": "code",
   "execution_count": 23,
   "metadata": {
    "ExecuteTime": {
     "end_time": "2017-08-26T00:43:36.722869Z",
     "start_time": "2017-08-26T00:43:36.720221Z"
    },
    "run_control": {
     "frozen": false,
     "read_only": false
    }
   },
   "outputs": [],
   "source": [
    "# uc.ornts[0].nearest_coarse_us.keys()[0]"
   ]
  },
  {
   "cell_type": "code",
   "execution_count": null,
   "metadata": {
    "collapsed": true,
    "run_control": {
     "frozen": false,
     "read_only": false
    }
   },
   "outputs": [],
   "source": []
  },
  {
   "cell_type": "code",
   "execution_count": null,
   "metadata": {
    "collapsed": true,
    "run_control": {
     "frozen": false,
     "read_only": false
    }
   },
   "outputs": [],
   "source": []
  }
 ],
 "metadata": {
  "kernelspec": {
   "display_name": "Python 2",
   "language": "python",
   "name": "python2"
  },
  "language_info": {
   "codemirror_mode": {
    "name": "ipython",
    "version": 2
   },
   "file_extension": ".py",
   "mimetype": "text/x-python",
   "name": "python",
   "nbconvert_exporter": "python",
   "pygments_lexer": "ipython2",
   "version": "2.7.13"
  }
 },
 "nbformat": 4,
 "nbformat_minor": 2
}
