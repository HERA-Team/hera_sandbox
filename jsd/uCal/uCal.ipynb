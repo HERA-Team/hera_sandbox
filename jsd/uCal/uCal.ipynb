{
 "cells": [
  {
   "cell_type": "code",
   "execution_count": 1,
   "metadata": {
    "ExecuteTime": {
     "end_time": "2017-07-22T00:21:20.713527Z",
     "start_time": "2017-07-22T00:21:18.488207Z"
    },
    "run_control": {
     "frozen": false,
     "read_only": false
    }
   },
   "outputs": [],
   "source": [
    "import numpy as np\n",
    "import hera_cal.redcal as rc\n",
    "import matplotlib.pyplot as plt\n",
    "%matplotlib notebook "
   ]
  },
  {
   "cell_type": "code",
   "execution_count": 2,
   "metadata": {
    "ExecuteTime": {
     "end_time": "2017-07-22T00:21:20.721153Z",
     "start_time": "2017-07-22T00:21:20.715219Z"
    },
    "collapsed": true
   },
   "outputs": [],
   "source": [
    "def build_hex_array(hexNum, sep=14.7):\n",
    "    antpos, i = {}, 0\n",
    "    for row in range(hexNum-1,-(hexNum),-1):\n",
    "        for col in range(2*hexNum-abs(row)-1):\n",
    "            xPos = ((-(2*hexNum-abs(row))+2)/2.0 + col)*sep;\n",
    "            yPos = row*sep*3**.5/2;\n",
    "            antpos[i] = np.array([xPos, yPos, 0])\n",
    "            i += 1\n",
    "    return antpos"
   ]
  },
  {
   "cell_type": "markdown",
   "metadata": {},
   "source": [
    "# Pseudocode\n",
    "* Compute array\n",
    "* Compute all baselines\n",
    "* Figure out which orientations to consider\n",
    "* Simulate visibilities\n",
    "\n"
   ]
  },
  {
   "cell_type": "code",
   "execution_count": 3,
   "metadata": {
    "ExecuteTime": {
     "end_time": "2017-07-22T00:21:21.097527Z",
     "start_time": "2017-07-22T00:21:20.722688Z"
    }
   },
   "outputs": [
    {
     "data": {
      "text/plain": [
       "388"
      ]
     },
     "execution_count": 3,
     "metadata": {},
     "output_type": "execute_result"
    }
   ],
   "source": [
    "pos = build_hex_array(11)\n",
    "ubl_pairs = [red[0] for red in rc.get_pos_reds(pos)]\n",
    "ors = {(i,j): pos[i] - pos[j] for (i,j) in ubl_pairs}\n",
    "for key in ors.keys():\n",
    "    ors[key] = tuple([int(1000000000*comp)/1000000000. for comp in ors[key]/np.linalg.norm(ors[key])])\n",
    "\n",
    "uors = {}\n",
    "for ubl,o in ors.items():\n",
    "    if uors.has_key(o):\n",
    "        uors[o].append(ubl)\n",
    "    else:\n",
    "        uors[o] = [ubl]\n",
    "\n",
    "np.sum(np.array([len(uor) for uor in uors.values()]) > 0)"
   ]
  },
  {
   "cell_type": "code",
   "execution_count": 34,
   "metadata": {
    "ExecuteTime": {
     "end_time": "2017-07-22T00:35:59.847266Z",
     "start_time": "2017-07-22T00:35:59.829608Z"
    }
   },
   "outputs": [
    {
     "name": "stdout",
     "output_type": "stream",
     "text": [
      "1133 384\n"
     ]
    }
   ],
   "source": [
    "import scipy.cluster\n",
    "clusters = scipy.cluster.hierarchy.fclusterdata(ors.values(),1e-6, criterion='distance')\n",
    "print len(clusters), np.max(clusters)"
   ]
  },
  {
   "cell_type": "code",
   "execution_count": null,
   "metadata": {
    "collapsed": true
   },
   "outputs": [],
   "source": []
  }
 ],
 "metadata": {
  "kernelspec": {
   "display_name": "Python 2",
   "language": "python",
   "name": "python2"
  },
  "language_info": {
   "codemirror_mode": {
    "name": "ipython",
    "version": 2
   },
   "file_extension": ".py",
   "mimetype": "text/x-python",
   "name": "python",
   "nbconvert_exporter": "python",
   "pygments_lexer": "ipython2",
   "version": "2.7.13"
  }
 },
 "nbformat": 4,
 "nbformat_minor": 2
}
