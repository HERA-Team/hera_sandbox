{
 "cells": [
  {
   "cell_type": "markdown",
   "metadata": {
    "run_control": {
     "frozen": false,
     "read_only": false
    }
   },
   "source": [
    "# Figure out of a uvdata object is bl-slicable"
   ]
  },
  {
   "cell_type": "code",
   "execution_count": 1,
   "metadata": {
    "ExecuteTime": {
     "end_time": "2018-07-03T18:13:35.527563Z",
     "start_time": "2018-07-03T18:13:33.670770Z"
    },
    "collapsed": true,
    "run_control": {
     "frozen": false,
     "read_only": false
    }
   },
   "outputs": [],
   "source": [
    "import numpy as np\n",
    "from pyuvdata import UVData, UVCal\n",
    "from hera_cal import io\n",
    "from pyuvdata.utils import polnum2str, polstr2num, jnum2str, jstr2num\n",
    "from hera_cal.datacontainer import DataContainer"
   ]
  },
  {
   "cell_type": "code",
   "execution_count": 9,
   "metadata": {
    "ExecuteTime": {
     "end_time": "2018-07-03T18:26:55.814283Z",
     "start_time": "2018-07-03T18:26:55.807897Z"
    },
    "collapsed": true
   },
   "outputs": [],
   "source": [
    "%load_ext snakeviz"
   ]
  },
  {
   "cell_type": "code",
   "execution_count": 10,
   "metadata": {
    "ExecuteTime": {
     "end_time": "2018-07-03T18:26:56.563760Z",
     "start_time": "2018-07-03T18:26:56.560032Z"
    },
    "collapsed": true
   },
   "outputs": [],
   "source": [
    "uvd = UVData()"
   ]
  },
  {
   "cell_type": "code",
   "execution_count": 11,
   "metadata": {
    "ExecuteTime": {
     "end_time": "2018-07-03T18:26:57.321914Z",
     "start_time": "2018-07-03T18:26:57.311851Z"
    }
   },
   "outputs": [],
   "source": [
    "%load_ext line_profiler"
   ]
  },
  {
   "cell_type": "code",
   "execution_count": 23,
   "metadata": {
    "ExecuteTime": {
     "end_time": "2018-07-03T06:41:10.607179Z",
     "start_time": "2018-07-03T06:41:10.604248Z"
    }
   },
   "outputs": [],
   "source": [
    "from pyuvdata.miriad import Miriad"
   ]
  },
  {
   "cell_type": "code",
   "execution_count": 24,
   "metadata": {
    "ExecuteTime": {
     "end_time": "2018-07-03T06:42:17.588039Z",
     "start_time": "2018-07-03T06:41:13.983587Z"
    }
   },
   "outputs": [],
   "source": [
    "%lprun -f Miriad.read_miriad uvd.read_miriad('/Users/jsdillon/Desktop/zen.2458101.65493.xx.HH.uv/')"
   ]
  },
  {
   "cell_type": "code",
   "execution_count": 17,
   "metadata": {
    "ExecuteTime": {
     "end_time": "2018-07-03T18:28:22.093983Z",
     "start_time": "2018-07-03T18:28:17.937068Z"
    }
   },
   "outputs": [
    {
     "name": "stdout",
     "output_type": "stream",
     "text": [
      " \n",
      "*** Profile stats marshalled to file u'/var/folders/2s/n8w45_q92jgcl5bm1pdgsqr40000gr/T/tmphf6_7H'. \n"
     ]
    }
   ],
   "source": [
    "#%snakeviz uvd.read_miriad('/Users/jsdillon/Desktop/zen.2458101.65493.xx.HH.uv/')\n",
    "%snakeviz io.load_vis(uvd)"
   ]
  },
  {
   "cell_type": "markdown",
   "metadata": {},
   "source": [
    "# HERAData"
   ]
  },
  {
   "cell_type": "code",
   "execution_count": 13,
   "metadata": {
    "ExecuteTime": {
     "end_time": "2018-07-03T18:28:04.836337Z",
     "start_time": "2018-07-03T18:28:04.832629Z"
    }
   },
   "outputs": [],
   "source": [
    "uvd = UVData()\n",
    "# uvd.read_miriad('/Users/jsdillon/Desktop/zen.2458101.65493.xx.HH.uv')\n",
    "# uvd.write_uvh5('/Users/jsdillon/Desktop/zen.2458101.65493.xx.HH.h5')"
   ]
  },
  {
   "cell_type": "code",
   "execution_count": 15,
   "metadata": {
    "ExecuteTime": {
     "end_time": "2018-07-03T18:28:10.915880Z",
     "start_time": "2018-07-03T18:28:10.913243Z"
    }
   },
   "outputs": [],
   "source": [
    "#uvd.write_uvh5('/Users/jsdillon/Desktop/zen.2458101.65493.xx.HH.h5', clobber=True)"
   ]
  },
  {
   "cell_type": "code",
   "execution_count": 16,
   "metadata": {
    "ExecuteTime": {
     "end_time": "2018-07-03T18:28:14.730684Z",
     "start_time": "2018-07-03T18:28:12.912384Z"
    },
    "collapsed": true
   },
   "outputs": [],
   "source": [
    "uvd.read_uvh5('/Users/jsdillon/Desktop/zen.2458101.65493.xx.HH.h5')"
   ]
  },
  {
   "cell_type": "code",
   "execution_count": 72,
   "metadata": {
    "ExecuteTime": {
     "end_time": "2018-07-03T07:17:52.390520Z",
     "start_time": "2018-07-03T07:17:51.651008Z"
    },
    "code_folding": []
   },
   "outputs": [],
   "source": [
    "import operator\n",
    "import collections\n",
    "from collections import OrderedDict as odict\n",
    "from copy import deepcopy\n",
    "\n",
    "#todo: in legacy support in load_vis, if it's a uvdata object, set it's .__class__ to HERAData\n",
    "\n",
    "\n",
    "def split_pol(pol):\n",
    "    '''Splits visibility polarization string into anntenna polarizations.\n",
    "    Can be updated if and when we move to Jones-matrix formalism.'''\n",
    "    return pol[0], pol[1]\n",
    "\n",
    "def conj_pol(pol):\n",
    "    '''Given V_ij^(pol), return the polarization of V_ji^(conj pol) such \n",
    "    (V_ji^(conj pol))* = V_ij^(pol). This means xy -> yx and yx -> xy, but\n",
    "    psuedo-Stokes visibilities are unaffected.'''\n",
    "    if polstr2num(pol) > 0:  # this includes Stokes and pseudo-Stokes visibilities \n",
    "        return pol\n",
    "    else:\n",
    "        return pol[::-1]\n",
    "\n",
    "\n",
    "class HERACal(UVCal):\n",
    "    \n",
    "    def __init__(self, input_cal):\n",
    "        '''TODO: document'''\n",
    "        super(HERACal, self).__init__()\n",
    "        \n",
    "        # parse input_data as filepath(s)\n",
    "        if isinstance(input_cal, str):\n",
    "            self.filepaths = [input_cal]\n",
    "        elif isinstance(input_cal, collections.Iterable):  # List loading\n",
    "            if np.all([isinstance(i, str) for i in input_cal]):  # List of visibility data paths\n",
    "                self.filepaths = list(input_data)\n",
    "            else:\n",
    "                raise TypeError('If input_cal is a list, it must be a list of strings.')\n",
    "        else: \n",
    "            raise ValueError('input_cal must be a string or a list of strings.')\n",
    "            \n",
    "        # TODO: when calfits partial / metadata loading is enabled, load metadata here\n",
    "    \n",
    "    def _extract_metadata(self):\n",
    "        '''TODO: document'''\n",
    "        ants = self.ant_array\n",
    "        freqs = np.unique(self.freq_array)\n",
    "        times = np.unique(self.time_array)\n",
    "        pols = [jnum2str[j] for j in self.jones_array]\n",
    "      \n",
    "    def _build_cal_dicts(self, key):\n",
    "        '''TODO: document'''\n",
    "        gains, quals, flags, self.total_qual = odict(), odict(), odict(), odict()\n",
    "        for ip, pol in enumerate(self.jones_array):\n",
    "            if self.total_quality_array is not None:\n",
    "                self.total_qual[jonesnum2str[pol]] = self.total_quality_array[0, :, :, ip].T\n",
    "            else:\n",
    "                self.total_qual = None\n",
    "            for i, ant in enumerate(cal.ant_array):\n",
    "                gains[(ant, jnum2str[pol])] = np.array(self.gain_array[i, 0, :, :, ip].T)\n",
    "                flags[(ant, jnum2str[pol])] = np.array(self.flag_array[i, 0, :, :, ip].T)\n",
    "                quals[(ant, jnum2str[pol])] = np.array(self.quality_array[i, 0, :, :, ip].T)\n",
    "                \n",
    "        return gains, flags, quals\n",
    "\n",
    "    def read_cal(self):\n",
    "        '''TODO: document'''\n",
    "        try:\n",
    "            return self._build_cal_dicts()\n",
    "        except:\n",
    "            self.read_calfits(self.filepaths)\n",
    "            self._extract_metadata()\n",
    "            return self._build_cal_dicts()        \n",
    "        \n",
    "    \n",
    "class HERAData(UVData):\n",
    "    \n",
    "    \n",
    "    '''MY IDEA: MAKE A HERA DATA OBJECT INSTANTIATED WITH A FILE NAME THAT LOADS IN META DATA AND PUTS IT IN A NICE FORM\n",
    "    THIS THEN PROVIDES AN INTERFACE TO PARTIAL DATA LOADING AND ALSO PARTIAL DATA WRITING WHICH SPITS OUT DATA CONTAINERS WHICH HAVE COPIES\n",
    "    OF THE DATA. '''\n",
    "\n",
    "    def __init__(self, input_data, filetype='uvh5'):\n",
    "        '''TODO: document'''\n",
    "        # initialize as empty UVData object\n",
    "        super(HERAData, self).__init__()\n",
    "        self.filetype = filetype\n",
    "        \n",
    "        # parse input_data as filepath(s)\n",
    "        if isinstance(input_data, str):\n",
    "            self.filepaths = [input_data]\n",
    "        elif isinstance(input_data, collections.Iterable):  # List loading\n",
    "            if np.all([isinstance(i, str) for i in input_data]):  # List of visibility data paths\n",
    "                self.filepaths = list(input_data)\n",
    "            else:\n",
    "                raise TypeError('If input_data is a list, it must be a list of strings.')\n",
    "        else: \n",
    "            raise ValueError('input_data must be a string or a list of strings.')\n",
    "        \n",
    "        # load metadata from file\n",
    "        elif self.filetype is 'miriad':\n",
    "            self.read_miriad_metadata(self.filepaths[0])\n",
    "        elif self.filetype is 'uvfits':\n",
    "            self.read_uvfits_metadata(self.filepaths[0])\n",
    "        else:\n",
    "            raise NotImplementedError('Filetype ' + self.filetype + ' has not been implemented.')\n",
    "        self.previous_read = None\n",
    "           \n",
    "        # extract array information\n",
    "        antpos, ants = self.get_ENU_antpos()\n",
    "        self.ants = sorted(ants)\n",
    "        self.antpos = dict(zip(self.ants, antpos))\n",
    "        \n",
    "        # extra calibration and flagging data\n",
    "        self._flags = None\n",
    "        self._gains = None\n",
    "        self._cal_flags = None\n",
    "    \n",
    "  \n",
    "    def apply_vis_flags(self, vis_flags_dict):\n",
    "        '''TODO: document'''\n",
    "        self._flags = {(ant1, ant2, polstr2num(pol)): vis_flags_dict[ant1, ant2, pol] \n",
    "                                                      for (ant1, ant2, pol) in vis_flags_dict.keys()}\n",
    "\n",
    "    def apply_calibration(self, gain_dict):\n",
    "        '''TODO: document'''\n",
    "        self._gains = {(ant, jstr2num(ap)): gain_dict[ant, ap] for (ant, ap) in gain_dict.keys()}\n",
    "\n",
    "    def apply_cal_flags(self, cal_flags_dict):\n",
    "        '''TODO: document'''\n",
    "        self._cal_flags = {(ant, jstr2num(ap)): gain_dict[ant, ap] for (ant, ap) in gain_dict.keys()}\n",
    "        \n",
    "    def apply_HERACal(self, hc):\n",
    "        '''TODO: document'''\n",
    "        gains, flags, quals = hc.read_cal()\n",
    "        self.apply_calibration(gains)\n",
    "        self.apply_cal_flags(flags)\n",
    "    \n",
    "    def _extract_metadata(self):\n",
    "        '''TODO: document'''\n",
    "        self.freqs = np.unique(self.freq_array)\n",
    "        self.times = np.unique(self.time_array)\n",
    "        lst_indices = np.unique(self.lst_array.ravel(), return_index=True)[1]\n",
    "        self.lsts = self.lst_array.ravel()[np.sort(lst_indices)]\n",
    "        self.pols = np.array([polnum2str(polnum) for polnum in self.polarization_array])\n",
    "        self.antpairs = self.get_antpairs()\n",
    "        self.bls = [antpair + (pol,) for antpair in self.antpairs for pol in self.pols]\n",
    "        \n",
    "        self._determine_blt_slicing()\n",
    "        self._determine_pol_indexing()\n",
    "        self.times_by_antpair = {antpair: np.array(self.time_array[self._blt_slices[antpair]]) \n",
    "                                          for antpair in self.antpairs}\n",
    "        self.lsts_by_antpair = {antpair: np.array(self.lst_array[self._blt_slices[antpair]]) \n",
    "                                         for antpair in self.antpairs}        \n",
    "\n",
    "    def _determine_blt_slicing(self):\n",
    "        '''TODO: document'''\n",
    "        self._blt_slices = {}\n",
    "        for ant1, ant2 in self.antpairs:\n",
    "            indices = self.antpair2ind(ant1, ant2)\n",
    "            if not (len(set(np.ediff1d(indices))) == 1):\n",
    "                raise NotImplementedError('UVData objects with non-regular spacing of baselines in its baseline-times are not supported.')\n",
    "            self._blt_slices[(ant1, ant2)] = slice(indices[0], indices[-1] +1 , indices[1] - indices[0])\n",
    "         \n",
    "    def _determine_pol_indexing(self):\n",
    "        '''TODO: document'''\n",
    "        self._polnum_indices = {}\n",
    "        for i, polnum in enumerate(self.polarization_array):\n",
    "            self._polnum_indices[polnum] = i\n",
    "\n",
    "    def _get_slice(self, data_array, key):\n",
    "        '''TODO: REWRITE... Returns the data corresponding to the key. If the key is just a polarization,\n",
    "        returns all baselines for that polarization. If the key is just a baseline,\n",
    "        returns all polarizations for that baseline. If the key is of the form (0,1,'xx'),\n",
    "        returns the associated entry. Abstracts away both baseline ordering (applying the\n",
    "        complex conjugate when appropriate) and polarization capitalization.  NB: makes copies of data'''\n",
    "        if isinstance(key, tuple) and len(key) == 3:  # asking for bl-pol\n",
    "            try:\n",
    "                out = np.conj(np.squeeze(data_array[self._blt_slices[key[1::-1]], 0, :, \n",
    "                              self._polnum_indices[polstr2num(conj_pol(key[2]))]]))\n",
    "            except:\n",
    "                out = np.array(np.squeeze(self.data_array[self._blt_slices[key[0:2]], 0, :, \n",
    "                                 self._polnum_indices[polstr2num(key[2])]]))\n",
    "                \n",
    "            if self._gains is not None:  # divide out calibration solutions\n",
    "                jn_i, jn_j = jstr2num([jstr for jstr in split_pol(key[2])])\n",
    "                out = out / self._gains[key[0], jn_i] / np.conj(self._gains[key[1], jn_j])\n",
    "            \n",
    "            if self._cal_flags is not None:  # incorporate per-antenna flags\n",
    "                jn_i, jn_j = split_pol(key[2])\n",
    "                out = out | self._cal_flags[key[0], jstr2num(jn_i)] | self._cal_flags[key[1], jstr2num(jn_j)]\n",
    "\n",
    "            if self._flags is not None:  # incorporate visibility flags\n",
    "                try:\n",
    "                    out = out | self._flags[(key[0], key[1], polstr2num(key[2]))]\n",
    "                except:\n",
    "                    out = out | self._flags[key[1], key[0], polstr2num(conj_pol(key[2]))]\n",
    "               \n",
    "            return out\n",
    "        \n",
    "        elif isinstance(key, tuple) and len(key) == 2:  # asking for antpair\n",
    "            return {pol: self._get_slice(key + (pol,)) for pol in self.pols}\n",
    "        elif isinstance(key, str):  # asking for a pol\n",
    "            return {antpair: self._get_slice(antpair + (key,)) for antpair in self.antpairs}\n",
    "        else:\n",
    "            raise KeyError('Unrecognized key type for slicing data.')\n",
    "        \n",
    "    \n",
    "    def _build_datacontainers(self):\n",
    "        '''TODO: document'''\n",
    "        data, flags, nsamples = odict(), odict(), odict()\n",
    "        for bl in self.bls:\n",
    "            data[bl] = self._get_slice(self.data_array, bl)\n",
    "            flags[bl] = self._get_slice(self.flag_array, bl)\n",
    "            nsamples[bl] = self._get_slice(self.nsample_array, bl)\n",
    "\n",
    "        data = DataContainer(data)\n",
    "        flags = DataContainer(flags)\n",
    "        nsamples = DataContainer(nsamples)\n",
    "        \n",
    "        # store useful metadata inside the DataContainers\n",
    "        for dc in [data, flags, nsamples]:\n",
    "            dc.freqs = self.freqs\n",
    "            dc.times = self.times\n",
    "            dc.lsts = self.lsts\n",
    "            dc.times_by_antpair = self.times_by_antpair\n",
    "            dc.lsts_by_antpair = self.lsts_by_antpair\n",
    "            \n",
    "        return data, flags, nsamples\n",
    "     \n",
    "        \n",
    "    def avoid_double_read(read_data):\n",
    "        '''Decorator that avoids the need to re-reading data if the request matches the previous one.'''\n",
    "        def wrapper(self, **kwargs):\n",
    "            if self.previous_read == kwargs:\n",
    "                return self._build_datacontainers()\n",
    "            else:\n",
    "                self.previous_read = kwargs\n",
    "                return read_data(self, **kwargs)\n",
    "        return wrapper\n",
    "    \n",
    "    \n",
    "    @avoid_double_read\n",
    "    def read_data(self, bls=None, antenna_nums=None, polarizations=None, ant_str=None):\n",
    "        '''\n",
    "        \n",
    "        \n",
    "        TODO: implement partial loading by frequency and/or channel and time and/or integration\n",
    "        \n",
    "        Arguments:\n",
    "            bls: A list of antenna number tuples (e.g. [(0,1), (3,2)]) or a list of\n",
    "                baseline 3-tuples (e.g. [(0,1,'xx'), (2,3,'yy')]) specifying baselines\n",
    "                to keep in the object. For length-2 tuples, the  ordering of the numbers\n",
    "                within the tuple does not matter. For length-3 tuples, the polarization\n",
    "                string is in the order of the two antennas. If length-3 tuples are\n",
    "                provided, the polarizations argument below must be None.\n",
    "            antenna_nums: The antennas numbers to read into the object.\n",
    "            polarizations: List of polarization integers or strings to read-in.\n",
    "                Ex: ['xx', 'yy', ...]\n",
    "            ant_str: A string containing information about what kinds of visibility data\n",
    "                to read-in.  Can be 'auto', 'cross', 'all'. Cannot provide ant_str if\n",
    "                antenna_nums and/or bls is not None.\n",
    "        \n",
    "        Returns:\n",
    "            data: \n",
    "            flags: \n",
    "            nsamples: \n",
    "        '''\n",
    "        \n",
    "#         try:\n",
    "#             return self._build_datacontainers()\n",
    "#         except:\n",
    "        if self.filetype is 'miriad':\n",
    "            print 'reading miriad'\n",
    "            self.read_miriad(self.filepaths, bls=bls, antenna_nums=antenna_nums, \n",
    "                             polarizations=polarizations, ant_str=ant_str)\n",
    "        elif self.filetype is 'uvfits':\n",
    "            self.read_uvfits(self.filepaths, bls=bls, antenna_nums=antenna_nums, \n",
    "                             polarizations=polarizations, ant_str=ant_str)\n",
    "            self.unphase_to_drift()\n",
    "        self._extract_metadata() \n",
    "        return self._build_datacontainers()\n",
    "\n",
    "    \n",
    "    def _set_slice(self, data_array, key, value):\n",
    "        '''TODO: REWRITE... Sets the data corresponding to the key. \n",
    "        Abstracts away both baseline ordering (applying the complex conjugate when\n",
    "        appropriate) and polarization capitalization.'''\n",
    "        if isinstance(key, tuple) and len(key) == 3:  # providing bl-pol\n",
    "            try:\n",
    "                self._data_array[self._blt_slices[key[0:2]], 0, : , \n",
    "                                 self._polnum_indices[polstr2num(key[2])]] = value\n",
    "            except(KeyError):\n",
    "                self._data_array[self._blt_slices[key[1::-1]], 0, : , \n",
    "                                 self._polnum_indices[polstr2num(conj_pol(key[2]))]] = np.conj(value)\n",
    "        elif isinstance(key, tuple) and len(key) == 2:  # providing antpair with all pols\n",
    "            for pol in value.keys():\n",
    "                self._set_slice(data_array, (key + (pol,)), value[pol])\n",
    "        elif isinstance(key, str):  # providing pol with all antpairs\n",
    "            for antpair in value.keys():\n",
    "                self._set_slice(data_array, (antpair + (key,)), value[key])\n",
    "        else:\n",
    "            raise KeyError('Unrecognized key type for slicing data.')\n",
    "    \n",
    "    def set_data(self, data=None, flags=None, nsamples=None):\n",
    "        '''TODO: document'''\n",
    "        \n",
    "        if data is not None:\n",
    "            for bl in data.keys():\n",
    "                self._set_slice(self.data_array, bl, data[bl])\n",
    "        if flags is not None:\n",
    "            for bl in flags.keys():\n",
    "                self._set_slice(self.flag_array, bl, flags[bl])\n",
    "        if data is not None:\n",
    "            for bl in nsamples.keys():\n",
    "                self._set_slice(self.nsample_array, bl, nsamples[bl])\n",
    "        \n",
    "        \n",
    "    def __getitem__(self, key):\n",
    "        '''TODO: document'''\n",
    "        return self.read_data(bls=key)[0][key]\n",
    "    \n",
    "    def iterate_over_antpairs(self, nbl=1):\n",
    "        '''TODO: document'''\n",
    "        ants = deepcopy(self.ants)\n",
    "        for i, ant1 in enumerate(ants):\n",
    "            for ant2 in ants[i:]:\n",
    "                #TODO: this is not working!!!!!!!!!\n",
    "                data, flags, nsamples = self.read_data(bls=(ant1, ant2))\n",
    "                yield data, flags, nsamples\n",
    "                \n",
    "        \n",
    "        \n",
    "    \n",
    "#    def iter_read_data or read_data_by_bl / read_data_by_time / read_data_by_chan"
   ]
  },
  {
   "cell_type": "code",
   "execution_count": 73,
   "metadata": {
    "ExecuteTime": {
     "end_time": "2018-07-03T07:17:54.014935Z",
     "start_time": "2018-07-03T07:17:54.005097Z"
    }
   },
   "outputs": [],
   "source": [
    "hd = HERAData('/Users/jsdillon/Desktop/zen.2458101.65493.xx.HH.uv/')"
   ]
  },
  {
   "cell_type": "code",
   "execution_count": null,
   "metadata": {
    "collapsed": true
   },
   "outputs": [],
   "source": [
    "hd.read_uvh5()"
   ]
  },
  {
   "cell_type": "code",
   "execution_count": 76,
   "metadata": {
    "ExecuteTime": {
     "end_time": "2018-07-03T07:17:57.875135Z",
     "start_time": "2018-07-03T07:17:57.869878Z"
    }
   },
   "outputs": [
    {
     "name": "stdout",
     "output_type": "stream",
     "text": [
      "[(1, 2, 'XX')]\n"
     ]
    }
   ],
   "source": [
    "d,f,n = hd.read_data(bls=[(1,2,'XX')], polarizations=None)\n",
    "hd.get_antpairs()\n",
    "print d.keys()"
   ]
  },
  {
   "cell_type": "code",
   "execution_count": 65,
   "metadata": {
    "ExecuteTime": {
     "end_time": "2018-07-03T06:23:08.051684Z",
     "start_time": "2018-07-03T06:23:08.042644Z"
    },
    "collapsed": true
   },
   "outputs": [],
   "source": [
    "uvd = UVData()\n",
    "uvd.read_miriad_metadata('/Users/jsdillon/Desktop/zen.2458101.65493.xx.HH.uv/')"
   ]
  },
  {
   "cell_type": "code",
   "execution_count": 66,
   "metadata": {
    "ExecuteTime": {
     "end_time": "2018-07-03T06:23:08.055266Z",
     "start_time": "2018-07-03T06:23:08.052999Z"
    },
    "collapsed": true
   },
   "outputs": [],
   "source": [
    "uvd.nsample_array"
   ]
  },
  {
   "cell_type": "code",
   "execution_count": 67,
   "metadata": {
    "ExecuteTime": {
     "end_time": "2018-07-03T06:23:09.022691Z",
     "start_time": "2018-07-03T06:23:08.056745Z"
    }
   },
   "outputs": [
    {
     "name": "stdout",
     "output_type": "stream",
     "text": [
      "[(1, 2)]\n",
      "[(0, 1)]\n"
     ]
    }
   ],
   "source": [
    "uvd = UVData()\n",
    "uvd.read_miriad('/Users/jsdillon/Desktop/zen.2458101.65493.xx.HH.uv/', bls=(1,2))\n",
    "print uvd.get_antpairs()\n",
    "uvd.read_miriad('/Users/jsdillon/Desktop/zen.2458101.65493.xx.HH.uv/', bls=(0,1))\n",
    "print uvd.get_antpairs()"
   ]
  },
  {
   "cell_type": "code",
   "execution_count": 68,
   "metadata": {
    "ExecuteTime": {
     "end_time": "2018-07-03T06:23:09.028166Z",
     "start_time": "2018-07-03T06:23:09.024154Z"
    }
   },
   "outputs": [
    {
     "data": {
      "text/plain": [
       "[(0, 1)]"
      ]
     },
     "execution_count": 68,
     "metadata": {},
     "output_type": "execute_result"
    }
   ],
   "source": [
    "uvd.get_antpairs()"
   ]
  },
  {
   "cell_type": "code",
   "execution_count": 12,
   "metadata": {
    "ExecuteTime": {
     "end_time": "2018-07-03T06:33:15.542527Z",
     "start_time": "2018-07-03T06:33:15.537668Z"
    }
   },
   "outputs": [
    {
     "data": {
      "text/plain": [
       "{(1, 2): slice(0, 60, 1)}"
      ]
     },
     "execution_count": 12,
     "metadata": {},
     "output_type": "execute_result"
    }
   ],
   "source": [
    "hd._blt_slices"
   ]
  },
  {
   "cell_type": "code",
   "execution_count": 13,
   "metadata": {
    "ExecuteTime": {
     "end_time": "2018-07-03T06:33:36.471665Z",
     "start_time": "2018-07-03T06:33:17.230054Z"
    },
    "scrolled": false
   },
   "outputs": [
    {
     "name": "stdout",
     "output_type": "stream",
     "text": [
      "reading miriad\n",
      "ap1: [(0, 0)]\n",
      "ap2: [(0, 0)] [(0, 0, 'XX')]\n",
      "[(0, 0, 'XX')]\n",
      "reading miriad\n",
      "ap1: [(0, 1)]\n",
      "ap2: [(0, 1)] [(0, 1, 'XX')]\n",
      "[(0, 1, 'XX')]\n",
      "reading miriad\n",
      "ap1: [(0, 2)]\n",
      "ap2: [(0, 2)] [(0, 2, 'XX')]\n",
      "[(0, 2, 'XX')]\n",
      "reading miriad\n",
      "ap1: [(0, 11)]\n",
      "ap2: [(0, 11)] [(0, 11, 'XX')]\n",
      "[(0, 11, 'XX')]\n",
      "reading miriad\n",
      "ap1: [(0, 12)]\n",
      "ap2: [(0, 12)] [(0, 12, 'XX')]\n",
      "[(0, 12, 'XX')]\n",
      "reading miriad\n",
      "ap1: [(0, 13)]\n",
      "ap2: [(0, 13)] [(0, 13, 'XX')]\n",
      "[(0, 13, 'XX')]\n",
      "reading miriad\n",
      "ap1: [(0, 14)]\n",
      "ap2: [(0, 14)] [(0, 14, 'XX')]\n",
      "[(0, 14, 'XX')]\n",
      "reading miriad\n",
      "ap1: [(0, 23)]\n",
      "ap2: [(0, 23)] [(0, 23, 'XX')]\n",
      "[(0, 23, 'XX')]\n",
      "reading miriad\n",
      "ap1: [(0, 24)]\n",
      "ap2: [(0, 24)] [(0, 24, 'XX')]\n",
      "[(0, 24, 'XX')]\n",
      "reading miriad\n",
      "ap1: [(0, 25)]\n",
      "ap2: [(0, 25)] [(0, 25, 'XX')]\n",
      "[(0, 25, 'XX')]\n",
      "reading miriad\n",
      "ap1: [(0, 26)]\n",
      "ap2: [(0, 26)] [(0, 26, 'XX')]\n",
      "[(0, 26, 'XX')]\n",
      "reading miriad\n",
      "ap1: [(0, 27)]\n",
      "ap2: [(0, 27)] [(0, 27, 'XX')]\n",
      "[(0, 27, 'XX')]\n",
      "reading miriad\n",
      "ap1: [(0, 36)]\n",
      "ap2: [(0, 36)] [(0, 36, 'XX')]\n",
      "[(0, 36, 'XX')]\n",
      "reading miriad\n",
      "ap1: [(0, 37)]\n",
      "ap2: [(0, 37)] [(0, 37, 'XX')]\n",
      "[(0, 37, 'XX')]\n",
      "reading miriad\n",
      "ap1: [(0, 38)]\n",
      "ap2: [(0, 38)] [(0, 38, 'XX')]\n",
      "[(0, 38, 'XX')]\n",
      "reading miriad\n",
      "ap1: [(0, 39)]\n",
      "ap2: [(0, 39)] [(0, 39, 'XX')]\n",
      "[(0, 39, 'XX')]\n",
      "reading miriad\n",
      "ap1: [(0, 40)]\n",
      "ap2: [(0, 40)] [(0, 40, 'XX')]\n",
      "[(0, 40, 'XX')]\n",
      "reading miriad\n",
      "ap1: [(0, 41)]\n",
      "ap2: [(0, 41)] [(0, 41, 'XX')]\n",
      "[(0, 41, 'XX')]\n",
      "reading miriad\n",
      "ap1: [(0, 50)]\n",
      "ap2: [(0, 50)] [(0, 50, 'XX')]\n",
      "[(0, 50, 'XX')]\n",
      "reading miriad\n",
      "ap1: [(0, 51)]\n",
      "ap2: [(0, 51)] [(0, 51, 'XX')]\n",
      "[(0, 51, 'XX')]\n",
      "reading miriad\n",
      "ap1: [(0, 52)]\n",
      "ap2: [(0, 52)] [(0, 52, 'XX')]\n",
      "[(0, 52, 'XX')]\n",
      "reading miriad\n",
      "ap1: [(0, 53)]\n",
      "ap2: [(0, 53)] [(0, 53, 'XX')]\n",
      "[(0, 53, 'XX')]\n",
      "reading miriad\n",
      "ap1: [(0, 54)]\n",
      "ap2: [(0, 54)] [(0, 54, 'XX')]\n",
      "[(0, 54, 'XX')]\n",
      "reading miriad\n",
      "ap1: [(0, 55)]\n",
      "ap2: [(0, 55)] [(0, 55, 'XX')]\n",
      "[(0, 55, 'XX')]\n",
      "reading miriad\n",
      "ap1: [(0, 65)]\n",
      "ap2: [(0, 65)] [(0, 65, 'XX')]\n",
      "[(0, 65, 'XX')]\n",
      "reading miriad\n",
      "ap1: [(0, 66)]\n",
      "ap2: [(0, 66)] [(0, 66, 'XX')]\n",
      "[(0, 66, 'XX')]\n",
      "reading miriad\n",
      "ap1: [(0, 67)]\n",
      "ap2: [(0, 67)] [(0, 67, 'XX')]\n",
      "[(0, 67, 'XX')]\n",
      "reading miriad\n",
      "ap1: [(0, 68)]\n",
      "ap2: [(0, 68)] [(0, 68, 'XX')]\n",
      "[(0, 68, 'XX')]\n",
      "reading miriad\n",
      "ap1: [(0, 69)]\n",
      "ap2: [(0, 69)] [(0, 69, 'XX')]\n",
      "[(0, 69, 'XX')]\n",
      "reading miriad\n",
      "ap1: [(0, 70)]\n",
      "ap2: [(0, 70)] [(0, 70, 'XX')]\n",
      "[(0, 70, 'XX')]\n",
      "reading miriad\n",
      "ap1: [(0, 71)]\n",
      "ap2: [(0, 71)] [(0, 71, 'XX')]\n",
      "[(0, 71, 'XX')]\n",
      "reading miriad\n",
      "ap1: [(0, 82)]\n",
      "ap2: [(0, 82)] [(0, 82, 'XX')]\n",
      "[(0, 82, 'XX')]\n",
      "reading miriad\n",
      "ap1: [(0, 83)]\n",
      "ap2: [(0, 83)] [(0, 83, 'XX')]\n",
      "[(0, 83, 'XX')]\n",
      "reading miriad\n",
      "ap1: [(0, 84)]\n",
      "ap2: [(0, 84)] [(0, 84, 'XX')]\n",
      "[(0, 84, 'XX')]\n",
      "reading miriad\n",
      "ap1: [(0, 85)]\n",
      "ap2: [(0, 85)] [(0, 85, 'XX')]\n",
      "[(0, 85, 'XX')]\n",
      "reading miriad\n",
      "ap1: [(0, 86)]\n",
      "ap2: [(0, 86)] [(0, 86, 'XX')]\n",
      "[(0, 86, 'XX')]\n",
      "reading miriad\n",
      "ap1: [(0, 87)]\n",
      "ap2: [(0, 87)] [(0, 87, 'XX')]\n",
      "[(0, 87, 'XX')]\n",
      "reading miriad\n",
      "ap1: [(0, 88)]\n",
      "ap2: [(0, 88)] [(0, 88, 'XX')]\n",
      "[(0, 88, 'XX')]\n",
      "reading miriad\n",
      "ap1: [(0, 98)]\n",
      "ap2: [(0, 98)] [(0, 98, 'XX')]\n",
      "[(0, 98, 'XX')]\n",
      "reading miriad\n",
      "ap1: [(0, 120)]\n",
      "ap2: [(0, 120)] [(0, 120, 'XX')]\n",
      "[(0, 120, 'XX')]\n",
      "reading miriad\n",
      "ap1: [(0, 121)]\n",
      "ap2: [(0, 121)] [(0, 121, 'XX')]\n",
      "[(0, 121, 'XX')]\n",
      "reading miriad\n"
     ]
    },
    {
     "ename": "KeyboardInterrupt",
     "evalue": "",
     "output_type": "error",
     "traceback": [
      "\u001b[0;31m---------------------------------------------------------------------------\u001b[0m",
      "\u001b[0;31mKeyboardInterrupt\u001b[0m                         Traceback (most recent call last)",
      "\u001b[0;32m<ipython-input-13-981bc8f07c7c>\u001b[0m in \u001b[0;36m<module>\u001b[0;34m()\u001b[0m\n\u001b[0;32m----> 1\u001b[0;31m \u001b[0;32mfor\u001b[0m \u001b[0mdata\u001b[0m\u001b[0;34m,\u001b[0m \u001b[0mflags\u001b[0m\u001b[0;34m,\u001b[0m \u001b[0mnsamples\u001b[0m \u001b[0;32min\u001b[0m \u001b[0mhd\u001b[0m\u001b[0;34m.\u001b[0m\u001b[0miterate_over_antpairs\u001b[0m\u001b[0;34m(\u001b[0m\u001b[0;34m)\u001b[0m\u001b[0;34m:\u001b[0m\u001b[0;34m\u001b[0m\u001b[0m\n\u001b[0m\u001b[1;32m      2\u001b[0m     \u001b[0;32mprint\u001b[0m \u001b[0mdata\u001b[0m\u001b[0;34m.\u001b[0m\u001b[0mkeys\u001b[0m\u001b[0;34m(\u001b[0m\u001b[0;34m)\u001b[0m\u001b[0;34m\u001b[0m\u001b[0m\n",
      "\u001b[0;32m<ipython-input-9-0abdd3f9fd45>\u001b[0m in \u001b[0;36miterate_over_antpairs\u001b[0;34m(self)\u001b[0m\n\u001b[1;32m    316\u001b[0m             \u001b[0;32mfor\u001b[0m \u001b[0mant2\u001b[0m \u001b[0;32min\u001b[0m \u001b[0mants\u001b[0m\u001b[0;34m[\u001b[0m\u001b[0mi\u001b[0m\u001b[0;34m:\u001b[0m\u001b[0;34m]\u001b[0m\u001b[0;34m:\u001b[0m\u001b[0;34m\u001b[0m\u001b[0m\n\u001b[1;32m    317\u001b[0m                 \u001b[0;31m#TODO: this is not working!!!!!!!!!\u001b[0m\u001b[0;34m\u001b[0m\u001b[0;34m\u001b[0m\u001b[0m\n\u001b[0;32m--> 318\u001b[0;31m                 \u001b[0mdata\u001b[0m\u001b[0;34m,\u001b[0m \u001b[0mflags\u001b[0m\u001b[0;34m,\u001b[0m \u001b[0mnsamples\u001b[0m \u001b[0;34m=\u001b[0m \u001b[0mself\u001b[0m\u001b[0;34m.\u001b[0m\u001b[0mread_data\u001b[0m\u001b[0;34m(\u001b[0m\u001b[0mbls\u001b[0m\u001b[0;34m=\u001b[0m\u001b[0;34m(\u001b[0m\u001b[0mant1\u001b[0m\u001b[0;34m,\u001b[0m \u001b[0mant2\u001b[0m\u001b[0;34m)\u001b[0m\u001b[0;34m)\u001b[0m\u001b[0;34m\u001b[0m\u001b[0m\n\u001b[0m\u001b[1;32m    319\u001b[0m                 \u001b[0;32myield\u001b[0m \u001b[0mdata\u001b[0m\u001b[0;34m,\u001b[0m \u001b[0mflags\u001b[0m\u001b[0;34m,\u001b[0m \u001b[0mnsamples\u001b[0m\u001b[0;34m\u001b[0m\u001b[0m\n\u001b[1;32m    320\u001b[0m \u001b[0;34m\u001b[0m\u001b[0m\n",
      "\u001b[0;32m<ipython-input-9-0abdd3f9fd45>\u001b[0m in \u001b[0;36mread_data\u001b[0;34m(self, bls, antenna_nums, polarizations, ant_str)\u001b[0m\n\u001b[1;32m    261\u001b[0m                 \u001b[0;32mprint\u001b[0m \u001b[0;34m'reading miriad'\u001b[0m\u001b[0;34m\u001b[0m\u001b[0m\n\u001b[1;32m    262\u001b[0m                 self.read_miriad(self.filepaths, bls=bls, antenna_nums=antenna_nums, \n\u001b[0;32m--> 263\u001b[0;31m                                  polarizations=polarizations, ant_str=ant_str)\n\u001b[0m\u001b[1;32m    264\u001b[0m             \u001b[0;32melif\u001b[0m \u001b[0mself\u001b[0m\u001b[0;34m.\u001b[0m\u001b[0mfiletype\u001b[0m \u001b[0;32mis\u001b[0m \u001b[0;34m'uvfits'\u001b[0m\u001b[0;34m:\u001b[0m\u001b[0;34m\u001b[0m\u001b[0m\n\u001b[1;32m    265\u001b[0m                 self.read_uvfits(self.filepaths, bls=bls, antenna_nums=antenna_nums, \n",
      "\u001b[0;32m/Users/jsdillon/anaconda2/lib/python2.7/site-packages/pyuvdata-1.2.1-py2.7-macosx-10.7-x86_64.egg/pyuvdata/uvdata.pyc\u001b[0m in \u001b[0;36mread_miriad\u001b[0;34m(self, filepath, correct_lat_lon, run_check, check_extra, run_check_acceptability, phase_type, antenna_nums, ant_str, bls, polarizations, time_range)\u001b[0m\n\u001b[1;32m   1728\u001b[0m                              \u001b[0mphase_type\u001b[0m\u001b[0;34m=\u001b[0m\u001b[0mphase_type\u001b[0m\u001b[0;34m,\u001b[0m \u001b[0mantenna_nums\u001b[0m\u001b[0;34m=\u001b[0m\u001b[0mantenna_nums\u001b[0m\u001b[0;34m,\u001b[0m\u001b[0;34m\u001b[0m\u001b[0m\n\u001b[1;32m   1729\u001b[0m                              \u001b[0mant_str\u001b[0m\u001b[0;34m=\u001b[0m\u001b[0mant_str\u001b[0m\u001b[0;34m,\u001b[0m \u001b[0mbls\u001b[0m\u001b[0;34m=\u001b[0m\u001b[0mbls\u001b[0m\u001b[0;34m,\u001b[0m\u001b[0;34m\u001b[0m\u001b[0m\n\u001b[0;32m-> 1730\u001b[0;31m                              polarizations=polarizations, time_range=time_range)\n\u001b[0m\u001b[1;32m   1731\u001b[0m             \u001b[0;32mif\u001b[0m \u001b[0mlen\u001b[0m\u001b[0;34m(\u001b[0m\u001b[0mfilepath\u001b[0m\u001b[0;34m)\u001b[0m \u001b[0;34m>\u001b[0m \u001b[0;36m1\u001b[0m\u001b[0;34m:\u001b[0m\u001b[0;34m\u001b[0m\u001b[0m\n\u001b[1;32m   1732\u001b[0m                 \u001b[0;32mfor\u001b[0m \u001b[0mf\u001b[0m \u001b[0;32min\u001b[0m \u001b[0mfilepath\u001b[0m\u001b[0;34m[\u001b[0m\u001b[0;36m1\u001b[0m\u001b[0;34m:\u001b[0m\u001b[0;34m]\u001b[0m\u001b[0;34m:\u001b[0m\u001b[0;34m\u001b[0m\u001b[0m\n",
      "\u001b[0;32m/Users/jsdillon/anaconda2/lib/python2.7/site-packages/pyuvdata-1.2.1-py2.7-macosx-10.7-x86_64.egg/pyuvdata/uvdata.pyc\u001b[0m in \u001b[0;36mread_miriad\u001b[0;34m(self, filepath, correct_lat_lon, run_check, check_extra, run_check_acceptability, phase_type, antenna_nums, ant_str, bls, polarizations, time_range)\u001b[0m\n\u001b[1;32m   1747\u001b[0m                                    \u001b[0mphase_type\u001b[0m\u001b[0;34m=\u001b[0m\u001b[0mphase_type\u001b[0m\u001b[0;34m,\u001b[0m \u001b[0mantenna_nums\u001b[0m\u001b[0;34m=\u001b[0m\u001b[0mantenna_nums\u001b[0m\u001b[0;34m,\u001b[0m\u001b[0;34m\u001b[0m\u001b[0m\n\u001b[1;32m   1748\u001b[0m                                    \u001b[0mant_str\u001b[0m\u001b[0;34m=\u001b[0m\u001b[0mant_str\u001b[0m\u001b[0;34m,\u001b[0m \u001b[0mbls\u001b[0m\u001b[0;34m=\u001b[0m\u001b[0mbls\u001b[0m\u001b[0;34m,\u001b[0m\u001b[0;34m\u001b[0m\u001b[0m\n\u001b[0;32m-> 1749\u001b[0;31m                                    polarizations=polarizations, time_range=time_range)\n\u001b[0m\u001b[1;32m   1750\u001b[0m             \u001b[0mself\u001b[0m\u001b[0;34m.\u001b[0m\u001b[0m_convert_from_filetype\u001b[0m\u001b[0;34m(\u001b[0m\u001b[0mmiriad_obj\u001b[0m\u001b[0;34m)\u001b[0m\u001b[0;34m\u001b[0m\u001b[0m\n\u001b[1;32m   1751\u001b[0m             \u001b[0;32mdel\u001b[0m\u001b[0;34m(\u001b[0m\u001b[0mmiriad_obj\u001b[0m\u001b[0;34m)\u001b[0m\u001b[0;34m\u001b[0m\u001b[0m\n",
      "\u001b[0;32m/Users/jsdillon/anaconda2/lib/python2.7/site-packages/pyuvdata-1.2.1-py2.7-macosx-10.7-x86_64.egg/pyuvdata/miriad.pyc\u001b[0m in \u001b[0;36mread_miriad\u001b[0;34m(self, filepath, correct_lat_lon, run_check, check_extra, run_check_acceptability, phase_type, antenna_nums, ant_str, bls, polarizations, time_range)\u001b[0m\n\u001b[1;32m    196\u001b[0m         \u001b[0mdata_accumulator\u001b[0m \u001b[0;34m=\u001b[0m \u001b[0;34m{\u001b[0m\u001b[0;34m}\u001b[0m\u001b[0;34m\u001b[0m\u001b[0m\n\u001b[1;32m    197\u001b[0m         \u001b[0mpol_list\u001b[0m \u001b[0;34m=\u001b[0m \u001b[0;34m[\u001b[0m\u001b[0;34m]\u001b[0m\u001b[0;34m\u001b[0m\u001b[0m\n\u001b[0;32m--> 198\u001b[0;31m         \u001b[0;32mfor\u001b[0m \u001b[0;34m(\u001b[0m\u001b[0muvw\u001b[0m\u001b[0;34m,\u001b[0m \u001b[0mt\u001b[0m\u001b[0;34m,\u001b[0m \u001b[0;34m(\u001b[0m\u001b[0mi\u001b[0m\u001b[0;34m,\u001b[0m \u001b[0mj\u001b[0m\u001b[0;34m)\u001b[0m\u001b[0;34m)\u001b[0m\u001b[0;34m,\u001b[0m \u001b[0md\u001b[0m\u001b[0;34m,\u001b[0m \u001b[0mf\u001b[0m \u001b[0;32min\u001b[0m \u001b[0muv\u001b[0m\u001b[0;34m.\u001b[0m\u001b[0mall\u001b[0m\u001b[0;34m(\u001b[0m\u001b[0mraw\u001b[0m\u001b[0;34m=\u001b[0m\u001b[0mTrue\u001b[0m\u001b[0;34m)\u001b[0m\u001b[0;34m:\u001b[0m\u001b[0;34m\u001b[0m\u001b[0m\n\u001b[0m\u001b[1;32m    199\u001b[0m             \u001b[0;31m# control for the case of only a single spw not showing up in\u001b[0m\u001b[0;34m\u001b[0m\u001b[0;34m\u001b[0m\u001b[0m\n\u001b[1;32m    200\u001b[0m             \u001b[0;31m# the dimension\u001b[0m\u001b[0;34m\u001b[0m\u001b[0;34m\u001b[0m\u001b[0m\n",
      "\u001b[0;32m/Users/jsdillon/anaconda2/lib/python2.7/site-packages/pyuvdata-1.2.1-py2.7-macosx-10.7-x86_64.egg/pyuvdata/aipy_extracts.pyc\u001b[0m in \u001b[0;36mall\u001b[0;34m(self, raw)\u001b[0m\n\u001b[1;32m    497\u001b[0m         \u001b[0;32mwhile\u001b[0m \u001b[0mTrue\u001b[0m\u001b[0;34m:\u001b[0m\u001b[0;34m\u001b[0m\u001b[0m\n\u001b[1;32m    498\u001b[0m             \u001b[0;32mtry\u001b[0m\u001b[0;34m:\u001b[0m\u001b[0;34m\u001b[0m\u001b[0m\n\u001b[0;32m--> 499\u001b[0;31m                 \u001b[0;32myield\u001b[0m \u001b[0mself\u001b[0m\u001b[0;34m.\u001b[0m\u001b[0mread\u001b[0m\u001b[0;34m(\u001b[0m\u001b[0mraw\u001b[0m\u001b[0;34m=\u001b[0m\u001b[0mraw\u001b[0m\u001b[0;34m)\u001b[0m\u001b[0;34m\u001b[0m\u001b[0m\n\u001b[0m\u001b[1;32m    500\u001b[0m             \u001b[0;32mexcept\u001b[0m \u001b[0mIOError\u001b[0m\u001b[0;34m:\u001b[0m\u001b[0;34m\u001b[0m\u001b[0m\n\u001b[1;32m    501\u001b[0m                 \u001b[0;32mbreak\u001b[0m\u001b[0;34m\u001b[0m\u001b[0m\n",
      "\u001b[0;32m/Users/jsdillon/anaconda2/lib/python2.7/site-packages/pyuvdata-1.2.1-py2.7-macosx-10.7-x86_64.egg/pyuvdata/aipy_extracts.pyc\u001b[0m in \u001b[0;36mread\u001b[0;34m(self, raw)\u001b[0m\n\u001b[1;32m    479\u001b[0m \u001b[0;34m\u001b[0m\u001b[0m\n\u001b[1;32m    480\u001b[0m         \"\"\"\n\u001b[0;32m--> 481\u001b[0;31m         \u001b[0mpreamble\u001b[0m\u001b[0;34m,\u001b[0m \u001b[0mdata\u001b[0m\u001b[0;34m,\u001b[0m \u001b[0mflags\u001b[0m\u001b[0;34m,\u001b[0m \u001b[0mnread\u001b[0m \u001b[0;34m=\u001b[0m \u001b[0mself\u001b[0m\u001b[0;34m.\u001b[0m\u001b[0mraw_read\u001b[0m\u001b[0;34m(\u001b[0m\u001b[0mself\u001b[0m\u001b[0;34m.\u001b[0m\u001b[0mnchan\u001b[0m\u001b[0;34m)\u001b[0m\u001b[0;34m\u001b[0m\u001b[0m\n\u001b[0m\u001b[1;32m    482\u001b[0m \u001b[0;34m\u001b[0m\u001b[0m\n\u001b[1;32m    483\u001b[0m         \u001b[0;32mif\u001b[0m \u001b[0mnread\u001b[0m \u001b[0;34m==\u001b[0m \u001b[0;36m0\u001b[0m\u001b[0;34m:\u001b[0m\u001b[0;34m\u001b[0m\u001b[0m\n",
      "\u001b[0;31mKeyboardInterrupt\u001b[0m: "
     ]
    }
   ],
   "source": [
    "for data, flags, nsamples in hd.iterate_over_antpairs():\n",
    "    print data.keys()"
   ]
  },
  {
   "cell_type": "code",
   "execution_count": 98,
   "metadata": {
    "ExecuteTime": {
     "end_time": "2018-07-02T22:46:55.550682Z",
     "start_time": "2018-07-02T22:46:55.066369Z"
    }
   },
   "outputs": [
    {
     "name": "stdout",
     "output_type": "stream",
     "text": [
      "self.antpairs [(0, 1)]\n"
     ]
    }
   ],
   "source": [
    "d,f,s = hd.read_data(bls=[(0,1,'xx')])"
   ]
  },
  {
   "cell_type": "code",
   "execution_count": 91,
   "metadata": {
    "ExecuteTime": {
     "end_time": "2018-07-02T22:45:51.984313Z",
     "start_time": "2018-07-02T22:45:51.979966Z"
    }
   },
   "outputs": [
    {
     "data": {
      "text/plain": [
       "{(0, 1): slice(0, 60, 1)}"
      ]
     },
     "execution_count": 91,
     "metadata": {},
     "output_type": "execute_result"
    }
   ],
   "source": [
    "hd._blt_slices"
   ]
  },
  {
   "cell_type": "code",
   "execution_count": 22,
   "metadata": {
    "ExecuteTime": {
     "end_time": "2018-07-02T21:43:12.559031Z",
     "start_time": "2018-07-02T21:43:12.555338Z"
    }
   },
   "outputs": [
    {
     "data": {
      "text/plain": [
       "[(0, 1, 'XX')]"
      ]
     },
     "execution_count": 22,
     "metadata": {},
     "output_type": "execute_result"
    }
   ],
   "source": [
    "d.keys()"
   ]
  },
  {
   "cell_type": "code",
   "execution_count": 6,
   "metadata": {
    "ExecuteTime": {
     "end_time": "2018-07-02T19:19:22.883236Z",
     "start_time": "2018-07-02T19:19:22.849091Z"
    },
    "collapsed": true
   },
   "outputs": [],
   "source": [
    "uvd = UVData('/Users/jsdillon/Desktop/zen.2458101.65493.xx.HH.uv/'')\n",
    "uvd.read_miriad_metadata(/Users/jsdillon/Desktop/zen.2458101.65493.xx.HH.uv/')\n",
    "\n",
    "uvd2 = UVData()\n",
    "uvd2.read_miriad_metadata('/Users/jsdillon/Desktop/zen.2458101.65493.xx.HH.uvO/')"
   ]
  },
  {
   "cell_type": "code",
   "execution_count": 82,
   "metadata": {
    "ExecuteTime": {
     "end_time": "2018-06-29T23:57:40.907939Z",
     "start_time": "2018-06-29T23:57:40.904323Z"
    }
   },
   "outputs": [
    {
     "data": {
      "text/plain": [
       "True"
      ]
     },
     "execution_count": 82,
     "metadata": {},
     "output_type": "execute_result"
    }
   ],
   "source": [
    "uvd._Nfreqs.required"
   ]
  },
  {
   "cell_type": "code",
   "execution_count": 20,
   "metadata": {
    "ExecuteTime": {
     "end_time": "2018-07-02T19:37:41.525998Z",
     "start_time": "2018-07-02T19:37:41.521756Z"
    }
   },
   "outputs": [
    {
     "data": {
      "text/plain": [
       "<pyuvdata.parameter.UVParameter at 0x111941c10>"
      ]
     },
     "execution_count": 20,
     "metadata": {},
     "output_type": "execute_result"
    }
   ],
   "source": [
    "uvd2._antenna_names"
   ]
  },
  {
   "cell_type": "code",
   "execution_count": 12,
   "metadata": {
    "ExecuteTime": {
     "end_time": "2018-07-02T19:33:04.466147Z",
     "start_time": "2018-07-02T19:33:04.451842Z"
    },
    "scrolled": false
   },
   "outputs": [
    {
     "name": "stdout",
     "output_type": "stream",
     "text": [
      " _uvplane_reference_time <pyuvdata.parameter.UVParameter object at 0x111941710>\n",
      "_Nspws <pyuvdata.parameter.UVParameter object at 0x1118f7250>\n",
      "_antenna_numbers <pyuvdata.parameter.UVParameter object at 0x111941690>\n",
      "_vis_units <pyuvdata.parameter.UVParameter object at 0x1118f7850>\n",
      "_antenna_names <pyuvdata.parameter.UVParameter object at 0x111941c10>\n",
      "_phase_type <pyuvdata.parameter.UVParameter object at 0x111941c50>\n",
      "_nsample_array <pyuvdata.parameter.UVParameter object at 0x1118f71d0>\n",
      "_data_array <pyuvdata.parameter.UVParameter object at 0x1118f7810>\n",
      "_spw_array <pyuvdata.parameter.UVParameter object at 0x1118f77d0>\n",
      "_Nfreqs <pyuvdata.parameter.UVParameter object at 0x1118f7450>\n",
      "_gst0 <pyuvdata.parameter.UVParameter object at 0x111941fd0>\n",
      "_earth_omega <pyuvdata.parameter.UVParameter object at 0x111941d90>\n",
      "_phase_center_ra <pyuvdata.parameter.AngleParameter object at 0x111941d10>\n",
      "_Ntimes <pyuvdata.parameter.UVParameter object at 0x1118f7550>\n",
      "_Npols <pyuvdata.parameter.UVParameter object at 0x1118f7710>\n",
      "_zenith_ra <pyuvdata.parameter.AngleParameter object at 0x111941b90>\n",
      "_antenna_positions <pyuvdata.parameter.AntPositionParameter object at 0x111941bd0>\n",
      "_object_name <pyuvdata.parameter.UVParameter object at 0x111941b50>\n",
      "_channel_width <pyuvdata.parameter.UVParameter object at 0x111941e90>\n",
      "_phase_center_dec <pyuvdata.parameter.AngleParameter object at 0x111941dd0>\n",
      "pyuvdata_version_str   Read/written with pyuvdata version: 1.2.1.  Git origin: https://github.com/HERA-Team/pyuvdata.git.  Git hash: 490e9d0a6a825d5325d0f985c185df5daa5b80e4.  Git branch: add-check.  Git description: v1.2-384-g490e9d0.\n",
      "_telescope_location <pyuvdata.parameter.LocationParameter object at 0x111941cd0>\n",
      "_lst_array <pyuvdata.parameter.UVParameter object at 0x1119413d0>\n",
      "_dut1 <pyuvdata.parameter.UVParameter object at 0x111941750>\n",
      "_Nants_data <pyuvdata.parameter.UVParameter object at 0x111941a50>\n",
      "_rdate <pyuvdata.parameter.UVParameter object at 0x111941f10>\n",
      "_Nbls <pyuvdata.parameter.UVParameter object at 0x1118f7650>\n",
      "_antenna_diameters <pyuvdata.parameter.UVParameter object at 0x111941e10>\n",
      "_baseline_array <pyuvdata.parameter.UVParameter object at 0x111941c90>\n",
      "_extra_keywords <pyuvdata.parameter.UVParameter object at 0x111941ed0>\n",
      "_freq_array <pyuvdata.parameter.UVParameter object at 0x111941790>\n",
      "_polarization_array <pyuvdata.parameter.UVParameter object at 0x111941a90>\n",
      "_flag_array <pyuvdata.parameter.UVParameter object at 0x1118f7790>\n",
      "_time_array <pyuvdata.parameter.UVParameter object at 0x1118f76d0>\n",
      "_telescope_name <pyuvdata.parameter.UVParameter object at 0x1119417d0>\n",
      "_history <pyuvdata.parameter.UVParameter object at 0x1119416d0>\n",
      "_Nants_telescope <pyuvdata.parameter.UVParameter object at 0x111941ad0>\n",
      "_zenith_dec <pyuvdata.parameter.AngleParameter object at 0x111941f50>\n",
      "_ant_1_array <pyuvdata.parameter.UVParameter object at 0x1119411d0>\n",
      "_timesys <pyuvdata.parameter.UVParameter object at 0x111941f90>\n",
      "_integration_time <pyuvdata.parameter.UVParameter object at 0x1119419d0>\n",
      "_uvw_array <pyuvdata.parameter.UVParameter object at 0x1118f7750>\n",
      "_ant_2_array <pyuvdata.parameter.UVParameter object at 0x111941650>\n",
      "_x_orientation <pyuvdata.parameter.UVParameter object at 0x111941a10>\n",
      "_instrument <pyuvdata.parameter.UVParameter object at 0x111941b10>\n",
      "_phase_center_epoch <pyuvdata.parameter.UVParameter object at 0x1119415d0>\n",
      "_Nblts <pyuvdata.parameter.UVParameter object at 0x1118f7f90>\n"
     ]
    }
   ],
   "source": [
    "for key in uvd2.__dict__.keys():\n",
    "    print key, eval('uvd2.' + key)"
   ]
  },
  {
   "cell_type": "code",
   "execution_count": 8,
   "metadata": {
    "ExecuteTime": {
     "end_time": "2018-07-02T19:26:04.159278Z",
     "start_time": "2018-07-02T19:26:04.151777Z"
    },
    "scrolled": true
   },
   "outputs": [
    {
     "name": "stdout",
     "output_type": "stream",
     "text": [
      "history parameter value is a string, values are different\n",
      "_history\n",
      "history parameter value is a string, values are different\n",
      "False\n"
     ]
    }
   ],
   "source": [
    "for key, val in uvd2.__dict__.items():\n",
    "    \n",
    "    if not (uvd.__dict__[key] == val):\n",
    "        print key\n",
    "        print uvd.__dict__[key] == val"
   ]
  },
  {
   "cell_type": "code",
   "execution_count": 7,
   "metadata": {
    "ExecuteTime": {
     "end_time": "2018-07-02T19:19:29.298687Z",
     "start_time": "2018-07-02T19:19:29.277439Z"
    }
   },
   "outputs": [
    {
     "ename": "TypeError",
     "evalue": "zip argument #1 must support iteration",
     "output_type": "error",
     "traceback": [
      "\u001b[0;31m---------------------------------------------------------------------------\u001b[0m",
      "\u001b[0;31mTypeError\u001b[0m                                 Traceback (most recent call last)",
      "\u001b[0;32m<ipython-input-7-7fcac42149f5>\u001b[0m in \u001b[0;36m<module>\u001b[0;34m()\u001b[0m\n\u001b[0;32m----> 1\u001b[0;31m \u001b[0muvd\u001b[0m\u001b[0;34m.\u001b[0m\u001b[0m__add__\u001b[0m\u001b[0;34m(\u001b[0m\u001b[0muvd2\u001b[0m\u001b[0;34m,\u001b[0m \u001b[0mrun_check\u001b[0m\u001b[0;34m=\u001b[0m\u001b[0mFalse\u001b[0m\u001b[0;34m,\u001b[0m \u001b[0mcheck_extra\u001b[0m\u001b[0;34m=\u001b[0m\u001b[0mFalse\u001b[0m\u001b[0;34m,\u001b[0m \u001b[0mrun_check_acceptability\u001b[0m\u001b[0;34m=\u001b[0m\u001b[0mFalse\u001b[0m\u001b[0;34m)\u001b[0m\u001b[0;34m\u001b[0m\u001b[0m\n\u001b[0m",
      "\u001b[0;32m/Users/jsdillon/anaconda2/lib/python2.7/site-packages/pyuvdata-1.2.1-py2.7-macosx-10.7-x86_64.egg/pyuvdata/uvdata.pyc\u001b[0m in \u001b[0;36m__add__\u001b[0;34m(self, other, run_check, check_extra, run_check_acceptability, inplace)\u001b[0m\n\u001b[1;32m    818\u001b[0m         this_blts = np.array([\"_\".join([\"{1:.{0}f}\".format(prec_t, blt[0]),\n\u001b[1;32m    819\u001b[0m                                         str(blt[1]).zfill(prec_b)]) for blt in\n\u001b[0;32m--> 820\u001b[0;31m                               zip(this.time_array, this.baseline_array)])\n\u001b[0m\u001b[1;32m    821\u001b[0m         other_blts = np.array([\"_\".join([\"{1:.{0}f}\".format(prec_t, blt[0]),\n\u001b[1;32m    822\u001b[0m                                          str(blt[1]).zfill(prec_b)]) for blt in\n",
      "\u001b[0;31mTypeError\u001b[0m: zip argument #1 must support iteration"
     ]
    }
   ],
   "source": [
    "uvd.__add__(uvd2, run_check=False, check_extra=False, run_check_acceptability=False)"
   ]
  },
  {
   "cell_type": "code",
   "execution_count": 62,
   "metadata": {
    "ExecuteTime": {
     "end_time": "2018-06-29T21:47:43.299893Z",
     "start_time": "2018-06-29T21:47:43.289183Z"
    },
    "scrolled": true
   },
   "outputs": [
    {
     "name": "stdout",
     "output_type": "stream",
     "text": [
      "None\n"
     ]
    }
   ],
   "source": [
    "uvd = UVData()\n",
    "print uvd.read_miriad_metadata('/Users/jsdillon/Desktop/zen.2458101.65493.xx.HH.uv/')"
   ]
  },
  {
   "cell_type": "code",
   "execution_count": 64,
   "metadata": {
    "ExecuteTime": {
     "end_time": "2018-06-29T21:47:51.613268Z",
     "start_time": "2018-06-29T21:47:51.602127Z"
    }
   },
   "outputs": [
    {
     "name": "stdout",
     "output_type": "stream",
     "text": [
      "[136 140 121  88  41  86  36  51  50  98 123 124  65 137  82 120 143  66\n",
      "  83 122  67  68  69  70  71  85   0   1  11  12  13  14   2  23  24  25\n",
      "  26  27  37  38  39  40  52  53  54  55  84  87 141 138 142 139]\n"
     ]
    }
   ],
   "source": [
    "#hd = HERAData(uvd)\n",
    "hd = HERAData('/Users/jsdillon/Desktop/zen.2458101.65493.xx.HH.uv/')\n",
    "print hd.ants"
   ]
  },
  {
   "cell_type": "code",
   "execution_count": 65,
   "metadata": {
    "ExecuteTime": {
     "end_time": "2018-06-29T21:49:06.497730Z",
     "start_time": "2018-06-29T21:49:06.494641Z"
    },
    "collapsed": true
   },
   "outputs": [],
   "source": [
    "hd.polarization_array"
   ]
  },
  {
   "cell_type": "code",
   "execution_count": 68,
   "metadata": {
    "ExecuteTime": {
     "end_time": "2018-06-29T22:07:31.592127Z",
     "start_time": "2018-06-29T22:07:31.569668Z"
    }
   },
   "outputs": [
    {
     "ename": "ValueError",
     "evalue": "A list of files cannot be used when just reading metadata",
     "output_type": "error",
     "traceback": [
      "\u001b[0;31m---------------------------------------------------------------------------\u001b[0m",
      "\u001b[0;31mValueError\u001b[0m                                Traceback (most recent call last)",
      "\u001b[0;32m<ipython-input-68-9f54c2ae928f>\u001b[0m in \u001b[0;36m<module>\u001b[0;34m()\u001b[0m\n\u001b[0;32m----> 1\u001b[0;31m \u001b[0mhd\u001b[0m \u001b[0;34m=\u001b[0m \u001b[0mHERAData\u001b[0m\u001b[0;34m(\u001b[0m\u001b[0;34m[\u001b[0m\u001b[0;34m'/Users/jsdillon/Desktop/zen.2458101.65493.xx.HH.uv/'\u001b[0m\u001b[0;34m,\u001b[0m \u001b[0;34m'/Users/jsdillon/Desktop/zen.2458101.65493.xx.HH.uv/'\u001b[0m\u001b[0;34m]\u001b[0m\u001b[0;34m)\u001b[0m\u001b[0;34m\u001b[0m\u001b[0m\n\u001b[0m\u001b[1;32m      2\u001b[0m \u001b[0;31m# uvd.antenna_diameters /= 2\u001b[0m\u001b[0;34m\u001b[0m\u001b[0;34m\u001b[0m\u001b[0m\n\u001b[1;32m      3\u001b[0m \u001b[0;31m# print uvd.antenna_diameters\u001b[0m\u001b[0;34m\u001b[0m\u001b[0;34m\u001b[0m\u001b[0m\n\u001b[1;32m      4\u001b[0m \u001b[0;31m# print hd.antenna_diameters\u001b[0m\u001b[0;34m\u001b[0m\u001b[0;34m\u001b[0m\u001b[0m\n",
      "\u001b[0;32m<ipython-input-67-3f876d5dc7b3>\u001b[0m in \u001b[0;36m__init__\u001b[0;34m(self, input_data, filetype)\u001b[0m\n\u001b[1;32m     31\u001b[0m         \u001b[0;32mif\u001b[0m \u001b[0mself\u001b[0m\u001b[0;34m.\u001b[0m\u001b[0mfilepath\u001b[0m \u001b[0;32mis\u001b[0m \u001b[0;32mnot\u001b[0m \u001b[0mNone\u001b[0m\u001b[0;34m:\u001b[0m\u001b[0;34m\u001b[0m\u001b[0m\n\u001b[1;32m     32\u001b[0m             \u001b[0;32mif\u001b[0m \u001b[0mfiletype\u001b[0m \u001b[0;32mis\u001b[0m \u001b[0;34m'miriad'\u001b[0m\u001b[0;34m:\u001b[0m\u001b[0;34m\u001b[0m\u001b[0m\n\u001b[0;32m---> 33\u001b[0;31m                 \u001b[0mself\u001b[0m\u001b[0;34m.\u001b[0m\u001b[0mread_miriad_metadata\u001b[0m\u001b[0;34m(\u001b[0m\u001b[0mself\u001b[0m\u001b[0;34m.\u001b[0m\u001b[0mfilepath\u001b[0m\u001b[0;34m)\u001b[0m\u001b[0;34m\u001b[0m\u001b[0m\n\u001b[0m\u001b[1;32m     34\u001b[0m             \u001b[0;32melif\u001b[0m \u001b[0mfiletype\u001b[0m \u001b[0;32mis\u001b[0m \u001b[0;34m'uvfits'\u001b[0m\u001b[0;34m:\u001b[0m\u001b[0;34m\u001b[0m\u001b[0m\n\u001b[1;32m     35\u001b[0m                 \u001b[0mself\u001b[0m\u001b[0;34m.\u001b[0m\u001b[0mread_uvfits_metadata\u001b[0m\u001b[0;34m(\u001b[0m\u001b[0mself\u001b[0m\u001b[0;34m.\u001b[0m\u001b[0mfilepath\u001b[0m\u001b[0;34m)\u001b[0m\u001b[0;34m\u001b[0m\u001b[0m\n",
      "\u001b[0;32m/Users/jsdillon/anaconda2/lib/python2.7/site-packages/pyuvdata-1.2.1-py2.7-macosx-10.7-x86_64.egg/pyuvdata/uvdata.pyc\u001b[0m in \u001b[0;36mread_miriad_metadata\u001b[0;34m(self, filename, correct_lat_lon)\u001b[0m\n\u001b[1;32m   1762\u001b[0m         \u001b[0;32mfrom\u001b[0m \u001b[0;34m.\u001b[0m \u001b[0;32mimport\u001b[0m \u001b[0mmiriad\u001b[0m\u001b[0;34m\u001b[0m\u001b[0m\n\u001b[1;32m   1763\u001b[0m         \u001b[0;32mif\u001b[0m \u001b[0misinstance\u001b[0m\u001b[0;34m(\u001b[0m\u001b[0mfilename\u001b[0m\u001b[0;34m,\u001b[0m \u001b[0;34m(\u001b[0m\u001b[0mlist\u001b[0m\u001b[0;34m,\u001b[0m \u001b[0mtuple\u001b[0m\u001b[0;34m)\u001b[0m\u001b[0;34m)\u001b[0m\u001b[0;34m:\u001b[0m\u001b[0;34m\u001b[0m\u001b[0m\n\u001b[0;32m-> 1764\u001b[0;31m             \u001b[0;32mraise\u001b[0m \u001b[0mValueError\u001b[0m\u001b[0;34m(\u001b[0m\u001b[0;34m'A list of files cannot be used when just reading metadata'\u001b[0m\u001b[0;34m)\u001b[0m\u001b[0;34m\u001b[0m\u001b[0m\n\u001b[0m\u001b[1;32m   1765\u001b[0m \u001b[0;34m\u001b[0m\u001b[0m\n\u001b[1;32m   1766\u001b[0m         \u001b[0mmiriad_obj\u001b[0m \u001b[0;34m=\u001b[0m \u001b[0mself\u001b[0m\u001b[0;34m.\u001b[0m\u001b[0m_convert_to_filetype\u001b[0m\u001b[0;34m(\u001b[0m\u001b[0;34m'miriad'\u001b[0m\u001b[0;34m)\u001b[0m\u001b[0;34m\u001b[0m\u001b[0m\n",
      "\u001b[0;31mValueError\u001b[0m: A list of files cannot be used when just reading metadata"
     ]
    }
   ],
   "source": [
    "hd = HERAData(['/Users/jsdillon/Desktop/zen.2458101.65493.xx.HH.uv/', '/Users/jsdillon/Desktop/zen.2458101.65493.xx.HH.uv/'])\n",
    "# uvd.antenna_diameters /= 2\n",
    "# print uvd.antenna_diameters\n",
    "# print hd.antenna_diameters"
   ]
  },
  {
   "cell_type": "code",
   "execution_count": 31,
   "metadata": {
    "ExecuteTime": {
     "end_time": "2018-06-29T18:49:36.167517Z",
     "start_time": "2018-06-29T18:49:36.142104Z"
    }
   },
   "outputs": [
    {
     "data": {
      "text/plain": [
       "True"
      ]
     },
     "execution_count": 31,
     "metadata": {},
     "output_type": "execute_result"
    }
   ],
   "source": [
    "hd.check()"
   ]
  },
  {
   "cell_type": "code",
   "execution_count": null,
   "metadata": {
    "collapsed": true
   },
   "outputs": [],
   "source": []
  },
  {
   "cell_type": "code",
   "execution_count": null,
   "metadata": {
    "collapsed": true
   },
   "outputs": [],
   "source": []
  },
  {
   "cell_type": "code",
   "execution_count": null,
   "metadata": {
    "collapsed": true
   },
   "outputs": [],
   "source": []
  },
  {
   "cell_type": "code",
   "execution_count": null,
   "metadata": {
    "collapsed": true
   },
   "outputs": [],
   "source": []
  },
  {
   "cell_type": "code",
   "execution_count": null,
   "metadata": {
    "collapsed": true
   },
   "outputs": [],
   "source": []
  },
  {
   "cell_type": "code",
   "execution_count": null,
   "metadata": {
    "collapsed": true
   },
   "outputs": [],
   "source": []
  },
  {
   "cell_type": "code",
   "execution_count": null,
   "metadata": {
    "collapsed": true
   },
   "outputs": [],
   "source": []
  },
  {
   "cell_type": "code",
   "execution_count": null,
   "metadata": {
    "collapsed": true
   },
   "outputs": [],
   "source": []
  },
  {
   "cell_type": "code",
   "execution_count": null,
   "metadata": {
    "collapsed": true
   },
   "outputs": [],
   "source": []
  },
  {
   "cell_type": "code",
   "execution_count": null,
   "metadata": {
    "collapsed": true
   },
   "outputs": [],
   "source": []
  },
  {
   "cell_type": "code",
   "execution_count": null,
   "metadata": {
    "collapsed": true
   },
   "outputs": [],
   "source": []
  },
  {
   "cell_type": "code",
   "execution_count": null,
   "metadata": {
    "collapsed": true
   },
   "outputs": [],
   "source": []
  },
  {
   "cell_type": "code",
   "execution_count": null,
   "metadata": {
    "collapsed": true
   },
   "outputs": [],
   "source": []
  },
  {
   "cell_type": "code",
   "execution_count": null,
   "metadata": {
    "collapsed": true
   },
   "outputs": [],
   "source": []
  },
  {
   "cell_type": "code",
   "execution_count": null,
   "metadata": {
    "collapsed": true
   },
   "outputs": [],
   "source": []
  },
  {
   "cell_type": "code",
   "execution_count": null,
   "metadata": {
    "collapsed": true
   },
   "outputs": [],
   "source": []
  },
  {
   "cell_type": "code",
   "execution_count": null,
   "metadata": {
    "collapsed": true
   },
   "outputs": [],
   "source": []
  },
  {
   "cell_type": "code",
   "execution_count": null,
   "metadata": {
    "collapsed": true
   },
   "outputs": [],
   "source": []
  },
  {
   "cell_type": "code",
   "execution_count": null,
   "metadata": {
    "collapsed": true
   },
   "outputs": [],
   "source": []
  },
  {
   "cell_type": "code",
   "execution_count": 39,
   "metadata": {
    "ExecuteTime": {
     "end_time": "2018-06-27T18:49:00.919254Z",
     "start_time": "2018-06-27T18:49:00.907721Z"
    },
    "run_control": {
     "frozen": false,
     "read_only": false
    }
   },
   "outputs": [
    {
     "ename": "IndentationError",
     "evalue": "expected an indented block (<ipython-input-39-ce936cfab28f>, line 19)",
     "output_type": "error",
     "traceback": [
      "\u001b[0;36m  File \u001b[0;32m\"<ipython-input-39-ce936cfab28f>\"\u001b[0;36m, line \u001b[0;32m19\u001b[0m\n\u001b[0;31m    self._build_metadata()\u001b[0m\n\u001b[0m       ^\u001b[0m\n\u001b[0;31mIndentationError\u001b[0m\u001b[0;31m:\u001b[0m expected an indented block\n"
     ]
    }
   ],
   "source": [
    "# class HERACal(UVCal):\n",
    "    \n",
    "\n",
    "\n",
    "class HERAData(UVData):\n",
    "    \n",
    "    \n",
    "    '''MY IDEA: MAKE A HERA DATA OBJECT INSTANTIATED WITH A FILE NAME THAT LOADS IN META DATA AND PUTS IT IN A NICE FORM\n",
    "    THIS THEN PROVIDES AN INTERFACE TO PARTIAL DATA LOADING AND ALSO PARTIAL DATA WRITING WHICH SPITS OUT DATA CONTAINERS WHICH HAVE COPIES\n",
    "    OF THE DATA. '''\n",
    "\n",
    "    def __init__(self, input_data, filetype='miriad'):\n",
    "        \n",
    "        if isinstance(input_data, UVData):\n",
    "            pass \n",
    "        else:\n",
    "            super(HERAData, self).__init__()\n",
    "\n",
    "    \n",
    "    def read_data(self):\n",
    "        print(testing)\n",
    "        \n",
    "        \n",
    "#     def _build_dc(self, data_array):\n",
    "        \n",
    "#         dc = \n",
    "        \n",
    "#         self.freqs = np.unique(uvd.freq_array)\n",
    "#         self.times = np.unique(uvd.time_array)\n",
    "#         lst_indices = np.unique(uvd.lst_array.ravel(), return_index=True)[1]\n",
    "#         self.lsts = uvd.lst_array.ravel()[np.sort(lst_indices)]\n",
    "#         antpos, self.ants = uvd.get_ENU_antpos(center=True, pick_data_ants=True)\n",
    "#         self.antpos = dict(zip(self.ants, antpos))\n",
    "#         self.pols = np.array([polnum2str(polnum) for polnum in uvd.polarization_array])\n",
    "    \n",
    "#     def _determine_slicing(self)\n",
    "#         # Figure out baseline slicing\n",
    "#         self._blt_slices = {}\n",
    "#         self.antpairs = uvd.get_antpairs()\n",
    "#         for ant1, ant2 in self.antpairs:\n",
    "#             indices = uvd.antpair2ind(ant1, ant2)\n",
    "#             if not (len(set(np.ediff1d(indices))) == 1):\n",
    "#                 raise NotImplementedError('UVData objects with non-regular spacing of baselines in its baseline-times are not supported.')\n",
    "#             self._blt_slices[(ant1, ant2)] = slice(indices[0], indices[-1] +1 , indices[1] - indices[0])\n",
    "        \n",
    "#         # Figure out polarization indexing\n",
    "#         self._polnum_indices = {}\n",
    "#         for i, polnum in enumerate(uvd.polarization_array):\n",
    "#             self._polnum_indices[polnum] = i\n",
    "    \n",
    "#     def apply_cal()\n",
    "    \n",
    "#     def get_dcs(self):\n",
    "#         '''TODO: document (makes a copy of the data)'''\n",
    "#         if self.data_array is None:\n",
    "#             raise ValueError('Cannot build DataContainers if no data has been loading into this object.')\n",
    "            \n",
    "#         self._blt_slices = {}\n",
    "#         self.antpairs = uvd.get_antpairs()\n",
    "#         for ant1, ant2 in self.antpairs:\n",
    "#             indices = uvd.antpair2ind(ant1, ant2)\n",
    "#             if not (len(set(np.ediff1d(indices))) == 1):\n",
    "#                 raise NotImplementedError('UVData objects with non-regular spacing of baselines in its baseline-times are not supported.')\n",
    "#             self._blt_slices[(ant1, ant2)] = slice(indices[0], indices[-1] +1 , indices[1] - indices[0])     \n",
    "            \n",
    "#         data = self._build_dc(self.data_array)\n",
    "#         flags = self._build_dc(self.flag_array)\n",
    "#         nsamples = self._build_dc(self.nsample_array)\n",
    "        \n",
    "        \n",
    "        \n",
    "    \n",
    "#     def set_dcs(self, )"
   ]
  },
  {
   "cell_type": "raw",
   "metadata": {
    "ExecuteTime": {
     "end_time": "2018-06-27T18:32:50.638209Z",
     "start_time": "2018-06-27T18:32:32.808285Z"
    },
    "run_control": {
     "frozen": false,
     "read_only": false
    }
   },
   "source": [
    "uvdc = HERAData()\n",
    "uvdc.read_miriad('/Users/jsdillon/Desktop/zen.2458101.65493.xx.HH.uv/')\n"
   ]
  },
  {
   "cell_type": "code",
   "execution_count": null,
   "metadata": {
    "collapsed": true,
    "run_control": {
     "frozen": false,
     "read_only": false
    }
   },
   "outputs": [],
   "source": [
    "uvdc.nsample_array"
   ]
  },
  {
   "cell_type": "code",
   "execution_count": 28,
   "metadata": {
    "ExecuteTime": {
     "end_time": "2018-07-03T06:54:02.601057Z",
     "start_time": "2018-07-03T06:54:02.596970Z"
    },
    "run_control": {
     "frozen": false,
     "read_only": false
    }
   },
   "outputs": [
    {
     "ename": "SyntaxError",
     "evalue": "invalid syntax (<ipython-input-28-c67386ee7bab>, line 2)",
     "output_type": "error",
     "traceback": [
      "\u001b[0;36m  File \u001b[0;32m\"<ipython-input-28-c67386ee7bab>\"\u001b[0;36m, line \u001b[0;32m2\u001b[0m\n\u001b[0;31m    print *args\u001b[0m\n\u001b[0m          ^\u001b[0m\n\u001b[0;31mSyntaxError\u001b[0m\u001b[0;31m:\u001b[0m invalid syntax\n"
     ]
    }
   ],
   "source": [
    "def test(a=2):\n",
    "    print *args"
   ]
  },
  {
   "cell_type": "markdown",
   "metadata": {
    "run_control": {
     "frozen": false,
     "read_only": false
    }
   },
   "source": [
    "# meeting with aaron\n",
    "\n",
    "* make vis_data a subclass of UVData\n",
    "* also make cal_data a subclass UVCal\n",
    "* make vis_data generate a set of data containers\n",
    "* make data containers store useful metadata\n",
    "* make data containers instantiated from dictionaries not arrays\n",
    "* make data containers calibratable using cal_container\n",
    "\n",
    "CONCLUSION: \n",
    "* Instantiate data_containers upon read hd.data, hd.flags, hd.nsamples which are data containers with read-only views of the data\n",
    "* Allow for a hd.get_dc (which always produces copies by default) and hd.set_dc which slurps in data containers\n",
    "\n"
   ]
  },
  {
   "cell_type": "code",
   "execution_count": 22,
   "metadata": {
    "ExecuteTime": {
     "end_time": "2018-06-27T00:14:35.816384Z",
     "start_time": "2018-06-27T00:14:35.235087Z"
    },
    "code_folding": [
     15
    ],
    "collapsed": true,
    "run_control": {
     "frozen": false,
     "read_only": false
    }
   },
   "outputs": [],
   "source": [
    "\n",
    "    \n",
    "class CalDict:\n",
    "    '''TODO: document'''\n",
    "\n",
    "    def __init__(self, cal_array, ant_indices, jnum_indices):\n",
    "        '''TODO: document'''\n",
    "        self._cal_array = cal_array\n",
    "        self._ant_indices = ant_indices\n",
    "        self._jnum_indices = jnum_indices\n",
    "        \n",
    "        self.pols = sorted([jnum2str(jnum) for jnum in self._jnum_indices.keys()])\n",
    "        self.ants = sorted(ant_indices.keys())\n",
    "        self.dict = {(ant,pol): self[ant,pol] for ant in self.ants for pol in self.pols}\n",
    "    \n",
    "    def __getitem__(self, key):\n",
    "        '''TODO: document'''\n",
    "        pass\n",
    "\n",
    "    def __setitem__(self, key, value):\n",
    "        '''TODO: document'''\n",
    "        pass\n",
    "    \n",
    "    def keys(self):\n",
    "        '''TODO: document'''\n",
    "        return self.dict.keys()\n",
    "\n",
    "    def values(self):\n",
    "        '''TODO: document'''        \n",
    "        return self.dict.values()\n",
    "    \n",
    "    def items(self):\n",
    "        '''TODO: document'''\n",
    "        return self.dict.items()\n",
    "    \n",
    "    def __len__(self):\n",
    "        '''TODO: document'''        \n",
    "        return len(self.dict)\n",
    "    \n",
    "    def __contains__(self, key):\n",
    "        '''TODO: document'''\n",
    "        try:\n",
    "            self[key]\n",
    "            return True\n",
    "        except KeyError:\n",
    "            return False    \n",
    "    \n",
    "class DataDict:\n",
    "    '''TODO: document'''\n",
    "    \n",
    "    def __init__(self, data_array, blt_slices, polnum_indices):\n",
    "        '''TODO: document'''\n",
    "        self._data_array = data_array\n",
    "        self._blt_slices = blt_slices\n",
    "        self._polnum_indices = polnum_indices\n",
    "        self._gains = None\n",
    "        self._cal_flags = None\n",
    "        self._flags = None\n",
    "        \n",
    "        self.pols = sorted([polnum2str(polnum) for polnum in self._polnum_indices.keys()])\n",
    "        self.antpairs = sorted(blt_slices.keys())\n",
    "        self.dict = {antpair + (pol,): self[antpair + (pol,)] \n",
    "                     for antpair in self.antpairs for pol in self.pols}\n",
    "    \n",
    "    def apply_calibration(self, gain_dict):\n",
    "        '''TODO: document'''\n",
    "        assert(np.iscomplexobj(self._data_array))\n",
    "        self._gains = {(ant, jstr2num(ap)): gain_dict[ant, ap] for (ant, ap) in gain_dict.keys()}\n",
    "\n",
    "    def apply_cal_flags(self, cal_flags_dict):\n",
    "        '''TODO: document'''\n",
    "        assert(self._data_array.dtype is bool)\n",
    "        self._cal_flags = {(ant, jstr2num(ap)): gain_dict[ant, ap] for (ant, ap) in gain_dict.keys()}\n",
    "        \n",
    "    def apply_vis_flags(self, vis_flags_dict):\n",
    "        '''TODO: document'''\n",
    "        assert(self._data_array.dtype is bool)\n",
    "        self._flags = {(ant1, ant2, polstr2num(pol)): vis_flags_dict[ant1, ant2, pol] \n",
    "                                                      for (ant1, ant2, pol) in vis_flags_dict.keys()}\n",
    "    \n",
    "    def __getitem__(self, key):\n",
    "        '''TODO: REWRITE... Returns the data corresponding to the key. If the key is just a polarization,\n",
    "        returns all baselines for that polarization. If the key is just a baseline,\n",
    "        returns all polarizations for that baseline. If the key is of the form (0,1,'xx'),\n",
    "        returns the associated entry. Abstracts away both baseline ordering (applying the\n",
    "        complex conjugate when appropriate) and polarization capitalization.'''\n",
    "        if isinstance(key, tuple) and len(key) == 3:  # asking for bl-pol\n",
    "            try:\n",
    "                out = np.conj(np.squeeze(self._data_array[self._blt_slices[key[1::-1]], \n",
    "                                         0, : , self._polnum_indices[polstr2num(conj_pol(key[2]))]]))\n",
    "            except:\n",
    "                out = np.squeeze(self._data_array[self._blt_slices[key[0:2]], \n",
    "                                 0, : , self._polnum_indices[polstr2num(key[2])]])\n",
    "            \n",
    "            if self._gains is not None:  # divide out calibration solutions\n",
    "                jn_i, jn_j = jstr2num([jstr for jstr in split_pol(key[2])])\n",
    "                out = out / self._gains[key[0], jn_i] / np.conj(self._gains[key[1], jn_j])\n",
    "            \n",
    "            if self._cal_flags is not None:  # incorporate per-antenna flags\n",
    "                jn_i, jn_j = split_pol(key[2])\n",
    "                out = out | self._cal_flags[key[0], jstr2num(jn_i)] | self._cal_flags[key[1], jstr2num(jn_j)]\n",
    "\n",
    "            if self._cal_flags is not None:  # incorporate visibility flags\n",
    "                ap_i, ap_j = split_pol()\n",
    "                out = out | self._cal_flags[key[0], jstr2num(ap_i)] | self._cal_flags[key[1], jstr2num(ap_j)]\n",
    "                \n",
    "            out.flags.writeable = False  # creates read-only views\n",
    "            return out\n",
    "        elif isinstance(key, tuple) and len(key) == 2:  # asking for antpair\n",
    "            return {pol: self[key + (pol,)] for pol in self.pols}\n",
    "        elif isinstance(key, str):  # asking for a pol\n",
    "            return {antpair: self[antpair + (key,)] for antpair in self.antpairs}\n",
    "        else:\n",
    "            raise KeyError('Unrecognized key type for slicing data.')\n",
    "\n",
    "    def __setitem__(self, key, value):\n",
    "        '''TODO: REWRITE... Sets the data corresponding to the key. Only supports the form (0,1,'xx').\n",
    "        Abstracts away both baseline ordering (applying the complex conjugate when\n",
    "        appropriate) and polarization capitalization.'''\n",
    "        if isinstance(key, tuple) and len(key) == 3:  # providing bl-pol\n",
    "            try:\n",
    "                self._data_array[self._blt_slices[key[0:2]], 0, : , \n",
    "                                 self._polnum_indices[polstr2num(key[2])]] = value\n",
    "            except(KeyError):\n",
    "                self._data_array[self._blt_slices[key[1::-1]], 0, : , \n",
    "                                 self._polnum_indices[polstr2num(conj_pol(key[2]))]] = np.conj(value)\n",
    "        elif isinstance(key, tuple) and len(key) == 2:  # providing antpair with all pols\n",
    "            for pol in value.keys():\n",
    "                self[key + (pol,)] = value[pol]\n",
    "        elif isinstance(key, str):  # providing pol with all antpairs\n",
    "            for antpair in value.keys():\n",
    "                self[antpair + (key,)] = value[key]\n",
    "        else:\n",
    "            raise KeyError('Unrecognized key type for slicing data.')\n",
    "\n",
    "    def keys(self):\n",
    "        '''TODO: document'''\n",
    "        return self.dict.keys()\n",
    "\n",
    "    def values(self):\n",
    "        '''TODO: document'''        \n",
    "        return self.dict.values()\n",
    "    \n",
    "    def items(self):\n",
    "        '''TODO: document'''\n",
    "        return self.dict.items()\n",
    "    \n",
    "    def __len__(self):\n",
    "        '''TODO: document'''        \n",
    "        return len(self.dict)\n",
    "    \n",
    "    def __contains__(self, key):\n",
    "        '''TODO: document'''\n",
    "        try:\n",
    "            self[key]\n",
    "            return True\n",
    "        except KeyError:\n",
    "            return False\n",
    "\n",
    "    def get_data(self, *args):\n",
    "        '''TODO: document'''\n",
    "        if len(args) > 1:\n",
    "            return self[tuple(args)]\n",
    "        else:\n",
    "            return self.__getitem__(*args)\n",
    "            \n",
    "class VisData:\n",
    "    '''TODO: document'''\n",
    "\n",
    "    def __init__(self, uvd):\n",
    "        '''TODO: document\n",
    "        Arguments:\n",
    "            uvd: pyuvdata object\n",
    "        '''\n",
    "        \n",
    "        self.uvd = uvd\n",
    "        if uvd.data_array.shape[1] != 1: \n",
    "            raise NotImplementedError('Multiple spectral windows are not supported by VisData.')\n",
    "        \n",
    "        # Figure out baseline slicing\n",
    "        self._blt_slices = {}\n",
    "        self.antpairs = uvd.get_antpairs()\n",
    "        for ant1, ant2 in self.antpairs:\n",
    "            indices = uvd.antpair2ind(ant1, ant2)\n",
    "            if not (len(set(np.ediff1d(indices))) == 1):\n",
    "                raise NotImplementedError('UVData objects with non-regular spacing of baselines in its baseline-times are not supported.')\n",
    "            self._blt_slices[(ant1, ant2)] = slice(indices[0], indices[-1] +1 , indices[1] - indices[0])\n",
    "        \n",
    "        # Figure out polarization indexing\n",
    "        self._polnum_indices = {}\n",
    "        for i, polnum in enumerate(uvd.polarization_array):\n",
    "            self._polnum_indices[polnum] = i\n",
    "            \n",
    "        # Build DataDicts of data, flags, and nsamples\n",
    "        self.data = DataDict(uvd.data_array, self._blt_slices, self._polnum_indices)\n",
    "        self.flags = DataDict(uvd.flag_array, self._blt_slices, self._polnum_indices)\n",
    "        self.nsamples = DataDict(uvd.nsample_array, self._blt_slices, self._polnum_indices)\n",
    "        self._primary_array = self.data\n",
    "        \n",
    "        # Extract useful metadata\n",
    "        self.freqs = np.unique(uvd.freq_array)\n",
    "        self.times = np.unique(uvd.time_array)\n",
    "        lst_indices = np.unique(uvd.lst_array.ravel(), return_index=True)[1]\n",
    "        self.lsts = uvd.lst_array.ravel()[np.sort(lst_indices)]\n",
    "        antpos, self.ants = uvd.get_ENU_antpos(center=True, pick_data_ants=True)\n",
    "        self.antpos = dict(zip(self.ants, antpos))\n",
    "        self.pols = np.array([polnum2str(polnum) for polnum in uvd.polarization_array])\n",
    "        self.integration_time = self.uvd.integration_time\n",
    "    \n",
    "\n",
    "    def get_lsts(self, bl):\n",
    "        '''TODO: Document'''\n",
    "        pass\n",
    "    \n",
    "    def get_lsts(self, bl):\n",
    "        '''TODO: Document'''\n",
    "        pass\n",
    "    \n",
    "    def apply_calibration(self, gains=None, cal_flags=None):\n",
    "        '''TODO: Document'''\n",
    "        if gains is not None:\n",
    "            self.data.apply_calibration(gains)\n",
    "        if cal_flags is not None:\n",
    "            self.flags.apply_cal_flags(cal_flags)\n",
    "    \n",
    "    def apply_flags(self, flags=None):\n",
    "        '''TODO: Document'''\n",
    "        if flags is not None:\n",
    "            self.flags.apply_vis_flags(flags)\n",
    "        pass\n",
    "    \n",
    "    def __getitem__(self, key):\n",
    "        '''TODO: Document'''\n",
    "        return self._primary_array[key]\n",
    "\n",
    "    def __setitem__(self, key, value):\n",
    "        '''TODO: Document'''\n",
    "        self._primary_array[key] = value\n",
    "\n",
    "    def keys(self):\n",
    "        '''TODO: document'''\n",
    "        return self._primary_array.keys()\n",
    "\n",
    "    def values(self):\n",
    "        '''TODO: document'''        \n",
    "        return self._primary_array.values()\n",
    "    \n",
    "    def items(self):\n",
    "        '''TODO: document'''\n",
    "        return self._primary_array.items()\n",
    "    \n",
    "    def __len__(self):\n",
    "        '''TODO: document'''        \n",
    "        return len(self._primary_array.dict)\n",
    "    \n",
    "    def __contains__(self, key):\n",
    "        '''TODO: document'''\n",
    "        try:\n",
    "            self._primary_array[key]\n",
    "            return True\n",
    "        except KeyError:\n",
    "            return False\n",
    "\n",
    "    def get_data(self, *args):\n",
    "        '''TODO: document'''\n",
    "        if len(args) > 1:\n",
    "            return self._primary_array[tuple(args)]\n",
    "        else:\n",
    "            return self._primary_array.__getitem__(*args)"
   ]
  },
  {
   "cell_type": "code",
   "execution_count": 23,
   "metadata": {
    "ExecuteTime": {
     "end_time": "2018-06-27T00:14:37.008745Z",
     "start_time": "2018-06-27T00:14:36.257383Z"
    },
    "collapsed": true,
    "run_control": {
     "frozen": false,
     "read_only": false
    }
   },
   "outputs": [],
   "source": [
    "data = VisData(uvd)"
   ]
  },
  {
   "cell_type": "code",
   "execution_count": 24,
   "metadata": {
    "ExecuteTime": {
     "end_time": "2018-06-27T00:14:37.578716Z",
     "start_time": "2018-06-27T00:14:37.565551Z"
    },
    "run_control": {
     "frozen": false,
     "read_only": false
    }
   },
   "outputs": [
    {
     "ename": "TypeError",
     "evalue": "write_vis() takes at least 5 arguments (0 given)",
     "output_type": "error",
     "traceback": [
      "\u001b[0;31m---------------------------------------------------------------------------\u001b[0m",
      "\u001b[0;31mTypeError\u001b[0m                                 Traceback (most recent call last)",
      "\u001b[0;32m<ipython-input-24-5d1a674b8dce>\u001b[0m in \u001b[0;36m<module>\u001b[0;34m()\u001b[0m\n\u001b[0;32m----> 1\u001b[0;31m \u001b[0mio\u001b[0m\u001b[0;34m.\u001b[0m\u001b[0mwrite_vis\u001b[0m\u001b[0;34m(\u001b[0m\u001b[0;34m)\u001b[0m\u001b[0;34m\u001b[0m\u001b[0m\n\u001b[0m",
      "\u001b[0;31mTypeError\u001b[0m: write_vis() takes at least 5 arguments (0 given)"
     ]
    }
   ],
   "source": [
    "io.write_vis()"
   ]
  },
  {
   "cell_type": "code",
   "execution_count": 25,
   "metadata": {
    "ExecuteTime": {
     "end_time": "2018-06-27T00:14:42.101587Z",
     "start_time": "2018-06-27T00:14:42.097414Z"
    },
    "run_control": {
     "frozen": false,
     "read_only": false
    }
   },
   "outputs": [
    {
     "data": {
      "text/plain": [
       "{-5: 0}"
      ]
     },
     "execution_count": 25,
     "metadata": {},
     "output_type": "execute_result"
    }
   ],
   "source": [
    "data._polnum_indices"
   ]
  },
  {
   "cell_type": "code",
   "execution_count": 26,
   "metadata": {
    "ExecuteTime": {
     "end_time": "2018-06-27T00:14:42.556476Z",
     "start_time": "2018-06-27T00:14:42.550517Z"
    },
    "run_control": {
     "frozen": false,
     "read_only": false
    }
   },
   "outputs": [
    {
     "data": {
      "text/plain": [
       "array([[ True,  True,  True, ...,  True,  True,  True],\n",
       "       [ True,  True,  True, ...,  True,  True,  True],\n",
       "       [ True,  True,  True, ...,  True,  True,  True],\n",
       "       ..., \n",
       "       [ True,  True,  True, ...,  True,  True,  True],\n",
       "       [ True,  True,  True, ...,  True,  True,  True],\n",
       "       [ True,  True,  True, ...,  True,  True,  True]], dtype=bool)"
      ]
     },
     "execution_count": 26,
     "metadata": {},
     "output_type": "execute_result"
    }
   ],
   "source": [
    "data.nsamples[0,1,'xx'] == data.nsamples[1,0,'XX']"
   ]
  },
  {
   "cell_type": "code",
   "execution_count": null,
   "metadata": {
    "ExecuteTime": {
     "end_time": "2018-06-22T02:00:00.041054Z",
     "start_time": "2018-06-22T01:59:59.908686Z"
    },
    "collapsed": true,
    "run_control": {
     "frozen": false,
     "read_only": false
    }
   },
   "outputs": [],
   "source": []
  },
  {
   "cell_type": "code",
   "execution_count": 28,
   "metadata": {
    "ExecuteTime": {
     "end_time": "2018-06-27T00:16:24.623300Z",
     "start_time": "2018-06-27T00:16:24.294961Z"
    },
    "collapsed": true,
    "run_control": {
     "frozen": false,
     "read_only": false
    }
   },
   "outputs": [],
   "source": [
    "gains, gain_flags = io.load_cal('/Users/jsdillon/Desktop/zen.2458101.65493.xx.HH.uv.abs.calfits')"
   ]
  },
  {
   "cell_type": "markdown",
   "metadata": {
    "run_control": {
     "frozen": false,
     "read_only": false
    }
   },
   "source": [
    "# proto unit tests"
   ]
  },
  {
   "cell_type": "code",
   "execution_count": 29,
   "metadata": {
    "ExecuteTime": {
     "end_time": "2018-06-27T00:16:25.537997Z",
     "start_time": "2018-06-27T00:16:25.323477Z"
    },
    "run_control": {
     "frozen": false,
     "read_only": false
    }
   },
   "outputs": [
    {
     "name": "stdout",
     "output_type": "stream",
     "text": [
      "True\n",
      "True\n",
      "0j\n",
      "0j\n"
     ]
    }
   ],
   "source": [
    "data = VisData(uvd)\n",
    "test = data[53,54,'xx']\n",
    "print np.all(test == data.uvd.get_data(53,54,'xx'))\n",
    "test_conj = data[54,53,'xx']\n",
    "print np.all(test_conj == data.uvd.get_data(54,53,'xx'))\n",
    "data.apply_calibration(gains)\n",
    "print np.sum(test / gains[53,'x'] / np.conj(gains[54,'x']) - data[53,54,'xx'])\n",
    "print np.sum(test_conj / gains[54,'x'] / np.conj(gains[53,'x']) - data[54,53,'xx'])"
   ]
  },
  {
   "cell_type": "code",
   "execution_count": 30,
   "metadata": {
    "ExecuteTime": {
     "end_time": "2018-06-27T00:19:01.620273Z",
     "start_time": "2018-06-27T00:19:01.582775Z"
    },
    "collapsed": true,
    "run_control": {
     "frozen": false,
     "read_only": false
    }
   },
   "outputs": [],
   "source": [
    "for key in data.flags.keys():\n",
    "    data.flags[key] = np.ones_like(data.flags[key])"
   ]
  },
  {
   "cell_type": "code",
   "execution_count": 34,
   "metadata": {
    "ExecuteTime": {
     "end_time": "2018-06-27T00:19:49.280149Z",
     "start_time": "2018-06-27T00:19:49.269288Z"
    },
    "run_control": {
     "frozen": false,
     "read_only": false
    }
   },
   "outputs": [
    {
     "data": {
      "text/plain": [
       "True"
      ]
     },
     "execution_count": 34,
     "metadata": {},
     "output_type": "execute_result"
    }
   ],
   "source": [
    "np.all(data.uvd.flag_array)"
   ]
  },
  {
   "cell_type": "code",
   "execution_count": 351,
   "metadata": {
    "ExecuteTime": {
     "end_time": "2018-06-23T00:29:31.615047Z",
     "start_time": "2018-06-23T00:29:31.585725Z"
    },
    "run_control": {
     "frozen": false,
     "read_only": false
    }
   },
   "outputs": [
    {
     "data": {
      "text/plain": [
       "True"
      ]
     },
     "execution_count": 351,
     "metadata": {},
     "output_type": "execute_result"
    }
   ],
   "source": [
    "np.all(np.conj(data.data['xx'][0,1]) == uvd.get_data(1,0))"
   ]
  },
  {
   "cell_type": "code",
   "execution_count": 152,
   "metadata": {
    "ExecuteTime": {
     "end_time": "2018-06-22T00:57:18.351601Z",
     "start_time": "2018-06-22T00:57:18.347183Z"
    },
    "run_control": {
     "frozen": false,
     "read_only": false
    }
   },
   "outputs": [
    {
     "data": {
      "text/plain": [
       "(60, 1024)"
      ]
     },
     "execution_count": 152,
     "metadata": {},
     "output_type": "execute_result"
    }
   ],
   "source": [
    "uvd.get_data(0,1).shape"
   ]
  },
  {
   "cell_type": "code",
   "execution_count": 139,
   "metadata": {
    "ExecuteTime": {
     "end_time": "2018-06-22T00:20:52.498088Z",
     "start_time": "2018-06-22T00:20:52.493640Z"
    },
    "run_control": {
     "frozen": false,
     "read_only": false
    }
   },
   "outputs": [
    {
     "data": {
      "text/plain": [
       "array([-5])"
      ]
     },
     "execution_count": 139,
     "metadata": {},
     "output_type": "execute_result"
    }
   ],
   "source": [
    "uvd.polarization_array"
   ]
  },
  {
   "cell_type": "code",
   "execution_count": 299,
   "metadata": {
    "ExecuteTime": {
     "end_time": "2018-06-22T17:24:27.510310Z",
     "start_time": "2018-06-22T17:24:27.505770Z"
    },
    "run_control": {
     "frozen": false,
     "read_only": false
    }
   },
   "outputs": [
    {
     "data": {
      "text/plain": [
       "True"
      ]
     },
     "execution_count": 299,
     "metadata": {},
     "output_type": "execute_result"
    }
   ],
   "source": [
    "np.iscomplexobj(data.data._data_array)"
   ]
  },
  {
   "cell_type": "code",
   "execution_count": 302,
   "metadata": {
    "ExecuteTime": {
     "end_time": "2018-06-22T17:32:02.617987Z",
     "start_time": "2018-06-22T17:32:02.613768Z"
    },
    "run_control": {
     "frozen": false,
     "read_only": false
    }
   },
   "outputs": [
    {
     "data": {
      "text/plain": [
       "True"
      ]
     },
     "execution_count": 302,
     "metadata": {},
     "output_type": "execute_result"
    }
   ],
   "source": [
    "data.flags._data_array.dtype == bool"
   ]
  },
  {
   "cell_type": "code",
   "execution_count": 143,
   "metadata": {
    "ExecuteTime": {
     "end_time": "2018-06-22T00:21:13.615200Z",
     "start_time": "2018-06-22T00:21:13.601092Z"
    },
    "run_control": {
     "frozen": false,
     "read_only": false
    },
    "scrolled": true
   },
   "outputs": [
    {
     "ename": "ValueError",
     "evalue": "output array is read-only",
     "output_type": "error",
     "traceback": [
      "\u001b[0;31m---------------------------------------------------------------------------\u001b[0m",
      "\u001b[0;31mValueError\u001b[0m                                Traceback (most recent call last)",
      "\u001b[0;32m<ipython-input-143-f4fe5ef78a40>\u001b[0m in \u001b[0;36m<module>\u001b[0;34m()\u001b[0m\n\u001b[0;32m----> 1\u001b[0;31m \u001b[0mdata\u001b[0m\u001b[0;34m.\u001b[0m\u001b[0mdata\u001b[0m\u001b[0;34m[\u001b[0m\u001b[0;36m0\u001b[0m\u001b[0;34m,\u001b[0m\u001b[0;36m1\u001b[0m\u001b[0;34m,\u001b[0m\u001b[0;34m'xx'\u001b[0m\u001b[0;34m]\u001b[0m \u001b[0;34m*=\u001b[0m \u001b[0;36m2\u001b[0m\u001b[0;34m\u001b[0m\u001b[0m\n\u001b[0m",
      "\u001b[0;31mValueError\u001b[0m: output array is read-only"
     ]
    }
   ],
   "source": [
    "data.data[0,1,'xx'] *= 2"
   ]
  },
  {
   "cell_type": "code",
   "execution_count": 317,
   "metadata": {
    "ExecuteTime": {
     "end_time": "2018-06-22T18:39:53.412435Z",
     "start_time": "2018-06-22T18:39:53.408377Z"
    },
    "run_control": {
     "frozen": false,
     "read_only": false
    }
   },
   "outputs": [
    {
     "data": {
      "text/plain": [
       "True"
      ]
     },
     "execution_count": 317,
     "metadata": {},
     "output_type": "execute_result"
    }
   ],
   "source": [
    "True | False | False\n"
   ]
  },
  {
   "cell_type": "code",
   "execution_count": null,
   "metadata": {
    "collapsed": true,
    "run_control": {
     "frozen": false,
     "read_only": false
    }
   },
   "outputs": [],
   "source": [
    "data ."
   ]
  },
  {
   "cell_type": "code",
   "execution_count": null,
   "metadata": {
    "collapsed": true,
    "run_control": {
     "frozen": false,
     "read_only": false
    }
   },
   "outputs": [],
   "source": []
  },
  {
   "cell_type": "code",
   "execution_count": 38,
   "metadata": {
    "ExecuteTime": {
     "end_time": "2018-06-27T18:47:00.956423Z",
     "start_time": "2018-06-27T18:47:00.949691Z"
    },
    "run_control": {
     "frozen": false,
     "read_only": false
    }
   },
   "outputs": [
    {
     "name": "stdout",
     "output_type": "stream",
     "text": [
      "[[ 0.  0.  0.  0.  0.]\n",
      " [ 0.  0.  0.  0.  0.]\n",
      " [ 0.  0.  0.  0.  0.]\n",
      " [ 0.  0.  0.  0.  0.]\n",
      " [ 0.  0.  0.  0.  0.]]\n"
     ]
    }
   ],
   "source": [
    "test = np.zeros((5,5))\n",
    "blah = {'a': test[:,0]}\n",
    "blah['a'] = np.ones(5)\n",
    "print test"
   ]
  },
  {
   "cell_type": "code",
   "execution_count": null,
   "metadata": {
    "collapsed": true,
    "run_control": {
     "frozen": false,
     "read_only": false
    }
   },
   "outputs": [],
   "source": []
  }
 ],
 "metadata": {
  "kernelspec": {
   "display_name": "Python 2",
   "language": "python",
   "name": "python2"
  },
  "language_info": {
   "codemirror_mode": {
    "name": "ipython",
    "version": 2
   },
   "file_extension": ".py",
   "mimetype": "text/x-python",
   "name": "python",
   "nbconvert_exporter": "python",
   "pygments_lexer": "ipython2",
   "version": "2.7.13"
  }
 },
 "nbformat": 4,
 "nbformat_minor": 2
}
