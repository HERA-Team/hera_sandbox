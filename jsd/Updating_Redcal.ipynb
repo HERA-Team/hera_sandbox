{
 "cells": [
  {
   "cell_type": "code",
   "execution_count": 1,
   "metadata": {
    "ExecuteTime": {
     "end_time": "2017-06-20T00:10:19.147856Z",
     "start_time": "2017-06-20T00:10:17.224843Z"
    },
    "collapsed": true,
    "run_control": {
     "frozen": false,
     "read_only": false
    }
   },
   "outputs": [],
   "source": [
    "import numpy as np\n",
    "import matplotlib.pyplot as plt\n",
    "%matplotlib notebook  \n",
    "import capo.redcal as om\n",
    "from capo.metrics import DataContainer as dc"
   ]
  },
  {
   "cell_type": "markdown",
   "metadata": {
    "run_control": {
     "frozen": false,
     "read_only": false
    }
   },
   "source": [
    "## TODO:\n",
    "* Replace and upgrade build_reds\n",
    "* Add remove_degen\n",
    "* Add tests for remove_degen\n",
    "* Add end-to-end 2d array tests"
   ]
  },
  {
   "cell_type": "code",
   "execution_count": 2,
   "metadata": {
    "ExecuteTime": {
     "end_time": "2017-06-20T00:10:19.771117Z",
     "start_time": "2017-06-20T00:10:19.764403Z"
    },
    "collapsed": true,
    "run_control": {
     "frozen": false,
     "read_only": false
    }
   },
   "outputs": [],
   "source": [
    "def build_reds_hex(hexNum, sep=14.7):\n",
    "    antpos, i = {}, 0\n",
    "    for row in range(hexNum-1,-(hexNum),-1):\n",
    "        for col in range(2*hexNum-abs(row)-1):\n",
    "            xPos = ((-(2*hexNum-abs(row))+2)/2.0 + col)*sep;\n",
    "            yPos = row*sep*3**.5/2;\n",
    "            antpos[i] = np.array([xPos, yPos, 0])\n",
    "            i += 1\n",
    "    return om.get_reds(antpos), antpos\n"
   ]
  },
  {
   "cell_type": "code",
   "execution_count": 11,
   "metadata": {
    "ExecuteTime": {
     "end_time": "2017-06-20T00:11:13.201203Z",
     "start_time": "2017-06-20T00:11:11.344432Z"
    },
    "run_control": {
     "frozen": false,
     "read_only": false
    }
   },
   "outputs": [],
   "source": [
    "reds, antpos = build_reds_hex(3)\n",
    "rc = om.RedundantCalibrator(reds, antpos)\n",
    "#gains,d = om.sim_red_data(reds, ['xx','yy','xy','yx'], gain_scatter=.01)\n",
    "gains,true_vis,d = om.sim_red_data(reds, ['xx'], gain_scatter=.01)\n",
    "w = dict([(k,1.) for k in d.keys()])\n",
    "sol0 = dict([(k,np.ones_like(v)) for k,v in gains.items()])\n",
    "sol0.update(rc.compute_ubls(d,sol0))\n",
    "meta, sol = rc.lincal(d, sol0)"
   ]
  },
  {
   "cell_type": "code",
   "execution_count": 12,
   "metadata": {
    "ExecuteTime": {
     "end_time": "2017-06-20T00:11:13.750455Z",
     "start_time": "2017-06-20T00:11:13.688140Z"
    },
    "run_control": {
     "frozen": false,
     "read_only": false
    }
   },
   "outputs": [],
   "source": [
    "def remove_degen(sol, degen_sol=None):\n",
    "    \"\"\"This function removes the omnical degeneracies. If degen_sol is not specific, the amplitude terms are set to 1.0 and the phase terms are set to 0.0. Only full resolves degeneracies properly in the single polarization case or when Stokes V is artificially minimized by \"\"\"\n",
    "    ants = [key for key in sol.keys() if len(key)==2]\n",
    "    positions = [rc.antpos[ant[0]] for ant in ants]\n",
    "    bl_pairs = [key for key in sol.keys() if len(key)==3]\n",
    "    bl_vecs = np.array([rc.antpos[bl_pair[0]] - rc.antpos[bl_pair[1]] for bl_pair in bl_pairs])\n",
    "    \n",
    "    #Extract gain and model visibiltiy solutions\n",
    "    gainSols = np.array([sol[ant] for ant in ants])\n",
    "    visSols = np.array([sol[bl_pair] for bl_pair in bl_pairs])\n",
    "    if degen_sol is None: degenGains = np.ones_like(gainSols)\n",
    "    else: degenGains = np.array([degen_sol[ant] for ant in ants])\n",
    "    \n",
    "    #Amplitude renormalization\n",
    "    ampRenorm = (np.mean(np.abs(degenGains), axis=0) / np.mean(np.abs(gainSols), axis=0))\n",
    "    newGainSols = gainSols * ampRenorm\n",
    "    newVisSols = visSols / ampRenorm\n",
    "\n",
    "    #Fix phase degeneracies\n",
    "    Rgains = np.array([np.append(pos,1.0) for pos in positions])\n",
    "    Mgains = np.linalg.pinv(Rgains.T.dot(Rgains)).dot(Rgains.T)\n",
    "    Rvis = np.hstack((-bl_vecs, np.zeros((len(bl_pairs),1))))\n",
    "    degenRemoved = np.einsum('ij,jkl',Mgains, np.angle(newGainSols)-np.angle(degenGains))\n",
    "    newGainSols *= np.exp(-1.0j * np.einsum('ij,jkl',Rgains,degenRemoved)) \n",
    "    newVisSols *= np.exp(-1.0j * np.einsum('ij,jkl',Rvis,degenRemoved)) \n",
    "    \n",
    "    #Create new solutions dictionary\n",
    "    newSol = {}\n",
    "    for ant,gainSol in zip(ants,newGainSols): newSol[ant] = gainSol\n",
    "    for bl_pair,visSol in zip(bl_pairs,newVisSols): newSol[bl_pair] = visSol\n",
    "    return newSol\n",
    "    \n",
    "remove_degen(sol0);"
   ]
  },
  {
   "cell_type": "code",
   "execution_count": null,
   "metadata": {
    "collapsed": true,
    "run_control": {
     "frozen": false,
     "read_only": false
    }
   },
   "outputs": [],
   "source": []
  },
  {
   "cell_type": "code",
   "execution_count": null,
   "metadata": {
    "collapsed": true,
    "run_control": {
     "frozen": false,
     "read_only": false
    }
   },
   "outputs": [],
   "source": []
  },
  {
   "cell_type": "code",
   "execution_count": null,
   "metadata": {
    "collapsed": true,
    "run_control": {
     "frozen": false,
     "read_only": false
    }
   },
   "outputs": [],
   "source": []
  },
  {
   "cell_type": "code",
   "execution_count": 13,
   "metadata": {
    "ExecuteTime": {
     "end_time": "2017-06-20T00:11:15.390594Z",
     "start_time": "2017-06-20T00:11:15.384216Z"
    },
    "run_control": {
     "frozen": false,
     "read_only": false
    }
   },
   "outputs": [
    {
     "name": "stdout",
     "output_type": "stream",
     "text": [
      "[(0, 9, 'xx'), (0, 14, 'xx'), (18, 'x'), (0, 17, 'xx'), (13, 'x'), (14, 'x'), (0, 15, 'xx'), (1, 7, 'xx'), (0, 5, 'xx'), (2, 'x'), (0, 12, 'xx'), (0, 18, 'xx'), (0, 8, 'xx'), (4, 3, 'xx'), (4, 12, 'xx'), (8, 'x'), (3, 13, 'xx'), (0, 16, 'xx'), (3, 'x'), (6, 7, 'xx'), (1, 4, 'xx'), (2, 12, 'xx'), (0, 3, 'xx'), (11, 7, 'xx'), (12, 'x'), (7, 'x'), (6, 3, 'xx'), (17, 'x'), (0, 6, 'xx'), (2, 6, 'xx'), (2, 15, 'xx'), (0, 4, 'xx'), (1, 13, 'xx'), (1, 'x'), (0, 7, 'xx'), (2, 16, 'xx'), (10, 'x'), (5, 'x'), (6, 'x'), (1, 12, 'xx'), (16, 'x'), (11, 'x'), (0, 13, 'xx'), (2, 0, 'xx'), (15, 'x'), (0, 'x'), (1, 0, 'xx'), (0, 10, 'xx'), (3, 11, 'xx'), (0, 11, 'xx'), (4, 'x'), (1, 3, 'xx'), (2, 7, 'xx'), (2, 3, 'xx'), (1, 16, 'xx'), (9, 'x')] \n",
      "\n",
      "[(3, 11), (0, 11), (0, 6), (0, 15), (0, 10), (0, 18), (0, 5), (0, 14), (0, 9), (0, 17), (3, 13), (0, 4), (0, 13), (2, 6), (2, 15), (0, 8), (0, 16), (0, 3), (0, 12), (1, 4), (1, 13), (4, 3), (4, 12), (1, 0), (0, 7), (1, 16), (1, 3), (1, 12), (2, 0), (1, 7), (2, 16), (2, 3), (2, 12), (6, 3), (2, 7), (6, 7), (11, 7)] \n",
      "\n",
      "[(3, 16, 'xx'), (14, 17, 'xx'), (0, 14, 'xx'), (3, 9, 'xx'), (7, 18, 'xx'), (6, 3, 'xx'), (3, 15, 'xx'), (6, 9, 'xx'), (2, 9, 'xx'), (7, 17, 'xx'), (6, 12, 'xx'), (2, 3, 'xx'), (5, 8, 'xx'), (2, 10, 'xx'), (5, 18, 'xx'), (2, 4, 'xx'), (5, 11, 'xx'), (10, 15, 'xx'), (0, 18, 'xx'), (9, 12, 'xx'), (15, 12, 'xx'), (8, 16, 'xx'), (2, 15, 'xx'), (9, 15, 'xx'), (5, 4, 'xx'), (14, 13, 'xx'), (9, 17, 'xx'), (5, 14, 'xx'), (2, 16, 'xx'), (1, 12, 'xx'), (1, 6, 'xx'), (4, 11, 'xx'), (11, 16, 'xx'), (1, 15, 'xx'), (4, 17, 'xx'), (3, 17, 'xx'), (15, 18, 'xx'), (4, 8, 'xx'), (15, 17, 'xx'), (13, 18, 'xx'), (8, 15, 'xx'), (1, 16, 'xx'), (11, 14, 'xx'), (1, 10, 'xx'), (8, 12, 'xx'), (4, 7, 'xx'), (8, 18, 'xx'), (4, 13, 'xx'), (11, 13, 'xx'), (0, 15, 'xx'), (7, 12, 'xx'), (0, 5, 'xx'), (3, 14, 'xx'), (0, 12, 'xx'), (2, 14, 'xx'), (6, 13, 'xx'), (3, 13, 'xx'), (10, 16, 'xx'), (6, 7, 'xx'), (6, 14, 'xx'), (2, 5, 'xx'), (7, 13, 'xx'), (11, 8, 'xx'), (12, 17, 'xx'), (2, 6, 'xx'), (2, 0, 'xx'), (0, 9, 'xx'), (5, 17, 'xx'), (0, 16, 'xx'), (3, 8, 'xx'), (6, 8, 'xx'), (11, 9, 'xx'), (10, 12, 'xx'), (6, 11, 'xx'), (9, 16, 'xx'), (3, 7, 'xx'), (7, 16, 'xx'), (2, 17, 'xx'), (2, 11, 'xx'), (1, 11, 'xx'), (2, 18, 'xx'), (5, 10, 'xx'), (2, 12, 'xx'), (5, 3, 'xx'), (1, 0, 'xx'), (6, 10, 'xx'), (5, 13, 'xx'), (10, 7, 'xx'), (1, 3, 'xx'), (1, 5, 'xx'), (17, 16, 'xx'), (4, 18, 'xx'), (9, 14, 'xx'), (9, 7, 'xx'), (13, 17, 'xx'), (1, 14, 'xx'), (0, 8, 'xx'), (4, 3, 'xx'), (6, 16, 'xx'), (4, 9, 'xx'), (18, 17, 'xx'), (1, 9, 'xx'), (0, 3, 'xx'), (11, 7, 'xx'), (15, 16, 'xx'), (5, 7, 'xx'), (10, 17, 'xx'), (4, 14, 'xx'), (3, 18, 'xx'), (7, 15, 'xx'), (10, 18, 'xx'), (0, 6, 'xx'), (8, 7, 'xx'), (8, 13, 'xx'), (2, 1, 'xx'), (1, 18, 'xx'), (6, 4, 'xx'), (11, 12, 'xx'), (5, 16, 'xx'), (10, 13, 'xx'), (12, 18, 'xx'), (0, 13, 'xx'), (13, 12, 'xx'), (3, 12, 'xx'), (10, 14, 'xx'), (0, 10, 'xx'), (15, 14, 'xx'), (10, 8, 'xx'), (6, 15, 'xx'), (3, 11, 'xx'), (2, 13, 'xx'), (15, 13, 'xx'), (14, 16, 'xx'), (2, 7, 'xx'), (5, 12, 'xx'), (2, 8, 'xx'), (5, 15, 'xx'), (1, 4, 'xx'), (0, 17, 'xx'), (11, 18, 'xx'), (5, 9, 'xx'), (14, 18, 'xx'), (1, 7, 'xx'), (11, 17, 'xx'), (4, 16, 'xx'), (9, 8, 'xx'), (9, 18, 'xx'), (13, 16, 'xx'), (6, 17, 'xx'), (9, 13, 'xx'), (1, 8, 'xx'), (6, 18, 'xx'), (4, 15, 'xx'), (14, 12, 'xx'), (7, 14, 'xx'), (1, 13, 'xx'), (4, 12, 'xx'), (0, 7, 'xx'), (4, 10, 'xx'), (0, 4, 'xx'), (6, 5, 'xx'), (8, 17, 'xx'), (11, 10, 'xx'), (18, 16, 'xx'), (8, 14, 'xx'), (1, 17, 'xx'), (12, 16, 'xx'), (0, 11, 'xx'), (11, 15, 'xx'), (10, 9, 'xx'), (3, 10, 'xx')]\n"
     ]
    },
    {
     "data": {
      "text/plain": [
       "(10, 10)"
      ]
     },
     "execution_count": 13,
     "metadata": {},
     "output_type": "execute_result"
    }
   ],
   "source": [
    "print sol0.keys(), '\\n'\n",
    "print [red[0] for red in reds], '\\n'\n",
    "print d.keys()\n",
    "d.values()[0].shape"
   ]
  },
  {
   "cell_type": "code",
   "execution_count": 14,
   "metadata": {
    "ExecuteTime": {
     "end_time": "2017-06-20T00:11:16.073028Z",
     "start_time": "2017-06-20T00:11:16.069936Z"
    },
    "run_control": {
     "frozen": false,
     "read_only": false
    }
   },
   "outputs": [
    {
     "name": "stdout",
     "output_type": "stream",
     "text": [
      "[(18, 'x'), (13, 'x'), (14, 'x'), (2, 'x'), (8, 'x'), (3, 'x'), (12, 'x'), (7, 'x'), (17, 'x'), (1, 'x'), (10, 'x'), (5, 'x'), (6, 'x'), (16, 'x'), (11, 'x'), (15, 'x'), (0, 'x'), (4, 'x'), (9, 'x')]\n"
     ]
    }
   ],
   "source": [
    "ants = [key for key in sol0.keys() if len(key)==2]\n",
    "print ants"
   ]
  },
  {
   "cell_type": "code",
   "execution_count": null,
   "metadata": {
    "collapsed": true,
    "run_control": {
     "frozen": false,
     "read_only": false
    }
   },
   "outputs": [],
   "source": []
  },
  {
   "cell_type": "code",
   "execution_count": null,
   "metadata": {
    "collapsed": true
   },
   "outputs": [],
   "source": []
  }
 ],
 "metadata": {
  "kernelspec": {
   "display_name": "Python 2",
   "language": "python",
   "name": "python2"
  },
  "language_info": {
   "codemirror_mode": {
    "name": "ipython",
    "version": 2
   },
   "file_extension": ".py",
   "mimetype": "text/x-python",
   "name": "python",
   "nbconvert_exporter": "python",
   "pygments_lexer": "ipython2",
   "version": "2.7.13"
  }
 },
 "nbformat": 4,
 "nbformat_minor": 2
}
