{
 "cells": [
  {
   "cell_type": "markdown",
   "metadata": {
    "run_control": {
     "frozen": false,
     "read_only": false
    }
   },
   "source": [
    "# Devising a new unit test"
   ]
  },
  {
   "cell_type": "code",
   "execution_count": 10,
   "metadata": {
    "ExecuteTime": {
     "end_time": "2017-04-06T14:37:00.813692",
     "start_time": "2017-04-06T14:37:00.406924"
    },
    "collapsed": false,
    "run_control": {
     "frozen": false,
     "read_only": false
    }
   },
   "outputs": [],
   "source": [
    "import omnical.info as Oi, omnical.calib as Oc, omnical._omnical as _O\n",
    "from copy import deepcopy\n",
    "import numpy as np\n",
    "\n",
    "antpos = np.array([[ 14.60000038, -25.28794098,   1.], [ 21.89999962, -12.64397049,   1.], [ 14.60000038,  25.28794098,   1.], [-21.89999962, -12.64397049,   1.], [-14.60000038,   0.        ,   1.], [ 21.89999962,  12.64397049,   1.], [ 29.20000076,   0.        ,   1.], [-14.60000038, -25.28794098,   1.], [  0.        ,  25.28794098,   1.], [  0.        , -25.28794098,   1.], [  0.        ,   0.        ,   1.], [ -7.30000019, -12.64397049,   1.], [ -7.30000019,  12.64397049,   1.], [-21.89999962,  12.64397049,   1.], [-29.20000076,   0.        ,   1.], [ 14.60000038,   0.        ,   1.], [-14.60000038,  25.28794098,   1.], [  7.30000019, -12.64397049,   1.]])\n",
    "reds = [[(0, 8), (9, 16)], [(13, 15), (14, 17), (3, 0), (4, 1), (16, 5), (12, 6)], [(3, 17), (4, 15), (7, 0), (11, 1), (16, 2), (12, 5), (10, 6), (14, 10)], [(3, 6), (14, 5)], [(0, 9), (1, 17), (2, 8), (4, 14), (6, 15), (8, 16), (12, 13), (11, 3), (10, 4), (9, 7), (15, 10), (17, 11)], [(3, 8), (11, 2), (9, 5)], [(3, 9), (4, 17), (12, 15), (11, 0), (10, 1), (8, 5), (13, 10), (14, 11)], [(0, 13), (1, 16)], [(0, 4), (1, 12), (6, 8), (9, 14), (15, 16), (17, 13)], [(0, 5), (3, 16), (7, 12), (17, 2), (11, 8)], [(0, 10), (7, 14), (10, 16), (11, 13), (6, 2), (9, 4), (15, 8), (17, 12)], [(1, 9), (2, 12), (5, 10), (6, 17), (8, 13), (12, 14), (10, 3), (17, 7), (15, 11)], [(2, 3), (5, 7)], [(16, 17), (12, 0), (8, 1), (13, 9)], [(0, 17), (1, 15), (3, 14), (4, 13), (9, 11), (10, 12), (12, 16), (5, 2), (7, 3), (11, 4), (6, 5), (17, 10)], [(3, 15), (4, 5), (7, 1), (13, 2), (11, 6)], [(5, 15), (8, 12), (10, 11), (13, 14), (15, 17), (1, 0), (6, 1), (4, 3), (12, 4), (11, 7), (17, 9), (16, 13)], [(0, 15), (1, 5), (3, 13), (4, 16), (9, 10), (11, 12), (15, 2), (7, 4), (10, 8)], [(0, 6), (3, 12), (4, 8), (7, 10), (9, 15), (14, 16), (10, 2), (17, 5)], [(8, 17), (2, 1), (13, 7), (12, 9), (16, 11)], [(0, 2), (7, 16), (9, 8)], [(4, 6), (14, 15), (3, 1), (13, 5)], [(0, 14), (1, 13), (6, 16)], [(2, 14), (6, 7), (5, 3)], [(2, 9), (8, 7)], [(2, 4), (5, 11), (6, 9), (8, 14), (15, 7)], [(1, 14), (6, 13)], [(0, 8), (9, 16)], [(13, 15), (14, 17), (3, 0), (4, 1), (16, 5), (12, 6)], [(3, 17), (4, 15), (7, 0), (11, 1), (16, 2), (12, 5), (10, 6), (14, 10)], [(3, 6), (14, 5)], [(0, 9), (1, 17), (2, 8), (4, 14), (6, 15), (8, 16), (12, 13), (11, 3), (10, 4), (9, 7), (15, 10), (17, 11)], [(3, 8), (11, 2), (9, 5)], [(3, 9), (4, 17), (12, 15), (11, 0), (10, 1), (8, 5), (13, 10), (14, 11)], [(0, 13), (1, 16)], [(0, 4), (1, 12), (6, 8), (9, 14), (15, 16), (17, 13)], [(0, 5), (3, 16), (7, 12), (17, 2), (11, 8)], [(0, 10), (7, 14), (10, 16), (11, 13), (6, 2), (9, 4), (15, 8), (17, 12)], [(1, 9), (2, 12), (5, 10), (6, 17), (8, 13), (12, 14), (10, 3), (17, 7), (15, 11)], [(2, 3), (5, 7)], [(16, 17), (12, 0), (8, 1), (13, 9)], [(0, 17), (1, 15), (3, 14), (4, 13), (9, 11), (10, 12), (12, 16), (5, 2), (7, 3), (11, 4), (6, 5), (17, 10)], [(3, 15), (4, 5), (7, 1), (13, 2), (11, 6)], [(5, 15), (8, 12), (10, 11), (13, 14), (15, 17), (1, 0), (6, 1), (4, 3), (12, 4), (11, 7), (17, 9), (16, 13)], [(0, 15), (1, 5), (3, 13), (4, 16), (9, 10), (11, 12), (15, 2), (7, 4), (10, 8)], [(0, 6), (3, 12), (4, 8), (7, 10), (9, 15), (14, 16), (10, 2), (17, 5)], [(8, 17), (2, 1), (13, 7), (12, 9), (16, 11)], [(0, 2), (7, 16), (9, 8)], [(4, 6), (14, 15), (3, 1), (13, 5)], [(0, 14), (1, 13), (6, 16)], [(2, 14), (6, 7), (5, 3)], [(2, 9), (8, 7)], [(2, 4), (5, 11), (6, 9), (8, 14), (15, 7)], [(1, 14), (6, 13)], [(0, 8), (9, 16)], [(13, 15), (14, 17), (3, 0), (4, 1), (16, 5), (12, 6)], [(3, 17), (4, 15), (7, 0), (11, 1), (16, 2), (12, 5), (10, 6), (14, 10)], [(3, 6), (14, 5)], [(0, 9), (1, 17), (2, 8), (4, 14), (6, 15), (8, 16), (12, 13), (11, 3), (10, 4), (9, 7), (15, 10), (17, 11)], [(3, 8), (11, 2), (9, 5)], [(3, 9), (4, 17), (12, 15), (11, 0), (10, 1), (8, 5), (13, 10), (14, 11)], [(0, 13), (1, 16)], [(0, 4), (1, 12), (6, 8), (9, 14), (15, 16), (17, 13)], [(0, 5), (3, 16), (7, 12), (17, 2), (11, 8)], [(0, 10), (7, 14), (10, 16), (11, 13), (6, 2), (9, 4), (15, 8), (17, 12)], [(1, 9), (2, 12), (5, 10), (6, 17), (8, 13), (12, 14), (10, 3), (17, 7), (15, 11)], [(2, 3), (5, 7)], [(16, 17), (12, 0), (8, 1), (13, 9)], [(0, 17), (1, 15), (3, 14), (4, 13), (9, 11), (10, 12), (12, 16), (5, 2), (7, 3), (11, 4), (6, 5), (17, 10)], [(3, 15), (4, 5), (7, 1), (13, 2), (11, 6)], [(5, 15), (8, 12), (10, 11), (13, 14), (15, 17), (1, 0), (6, 1), (4, 3), (12, 4), (11, 7), (17, 9), (16, 13)], [(0, 15), (1, 5), (3, 13), (4, 16), (9, 10), (11, 12), (15, 2), (7, 4), (10, 8)], [(0, 6), (3, 12), (4, 8), (7, 10), (9, 15), (14, 16), (10, 2), (17, 5)], [(8, 17), (2, 1), (13, 7), (12, 9), (16, 11)], [(0, 2), (7, 16), (9, 8)], [(4, 6), (14, 15), (3, 1), (13, 5)], [(0, 14), (1, 13), (6, 16)], [(2, 14), (6, 7), (5, 3)], [(2, 9), (8, 7)], [(2, 4), (5, 11), (6, 9), (8, 14), (15, 7)], [(1, 14), (6, 13)], [(0, 8), (9, 16)], [(13, 15), (14, 17), (3, 0), (4, 1), (16, 5), (12, 6)], [(3, 17), (4, 15), (7, 0), (11, 1), (16, 2), (12, 5), (10, 6), (14, 10)], [(3, 6), (14, 5)], [(0, 9), (1, 17), (2, 8), (4, 14), (6, 15), (8, 16), (12, 13), (11, 3), (10, 4), (9, 7), (15, 10), (17, 11)], [(3, 8), (11, 2), (9, 5)], [(3, 9), (4, 17), (12, 15), (11, 0), (10, 1), (8, 5), (13, 10), (14, 11)], [(0, 13), (1, 16)], [(0, 4), (1, 12), (6, 8), (9, 14), (15, 16), (17, 13)], [(0, 5), (3, 16), (7, 12), (17, 2), (11, 8)], [(0, 10), (7, 14), (10, 16), (11, 13), (6, 2), (9, 4), (15, 8), (17, 12)], [(1, 9), (2, 12), (5, 10), (6, 17), (8, 13), (12, 14), (10, 3), (17, 7), (15, 11)], [(2, 3), (5, 7)], [(16, 17), (12, 0), (8, 1), (13, 9)], [(0, 17), (1, 15), (3, 14), (4, 13), (9, 11), (10, 12), (12, 16), (5, 2), (7, 3), (11, 4), (6, 5), (17, 10)], [(3, 15), (4, 5), (7, 1), (13, 2), (11, 6)], [(5, 15), (8, 12), (10, 11), (13, 14), (15, 17), (1, 0), (6, 1), (4, 3), (12, 4), (11, 7), (17, 9), (16, 13)], [(0, 15), (1, 5), (3, 13), (4, 16), (9, 10), (11, 12), (15, 2), (7, 4), (10, 8)], [(0, 6), (3, 12), (4, 8), (7, 10), (9, 15), (14, 16), (10, 2), (17, 5)], [(8, 17), (2, 1), (13, 7), (12, 9), (16, 11)], [(0, 2), (7, 16), (9, 8)], [(4, 6), (14, 15), (3, 1), (13, 5)], [(0, 14), (1, 13), (6, 16)], [(2, 14), (6, 7), (5, 3)], [(2, 9), (8, 7)], [(2, 4), (5, 11), (6, 9), (8, 14), (15, 7)], [(1, 14), (6, 13)]]\n",
    "freqs = np.linspace(.1,.2,16)\n",
    "times = np.arange(3)\n",
    "ants = np.arange(len(antpos))\n",
    "\n",
    "info = Oi.RedundantInfo()\n",
    "info.init_from_reds(reds, antpos)"
   ]
  },
  {
   "cell_type": "code",
   "execution_count": 11,
   "metadata": {
    "ExecuteTime": {
     "end_time": "2017-04-06T14:37:00.821358",
     "start_time": "2017-04-06T14:37:00.814937"
    },
    "collapsed": true
   },
   "outputs": [],
   "source": [
    "import matplotlib.pyplot as plt\n",
    "%matplotlib notebook "
   ]
  },
  {
   "cell_type": "code",
   "execution_count": 12,
   "metadata": {
    "ExecuteTime": {
     "end_time": "2017-04-06T14:37:00.852660",
     "start_time": "2017-04-06T14:37:00.823133"
    },
    "code_folding": [],
    "collapsed": true,
    "run_control": {
     "frozen": false,
     "read_only": false
    }
   },
   "outputs": [],
   "source": [
    "def removedegen2(info, gains, vis, gainstart):\n",
    "    '''Run removedegen.'''\n",
    "    # divide out by gainstart (e.g. firstcal gains).    \n",
    "    g,v = deepcopy(gains),deepcopy(vis)\n",
    "    for ant in gains.keys():\n",
    "        g[ant] /= gainstart[ant]\n",
    "    \n",
    "    # Calculate matrices used for projecting out degeneracies from antenna locations\n",
    "    Rgains =  np.array([np.append(ai,1) for ai in info.antloc]) \n",
    "    Mgains = np.linalg.pinv(Rgains.T.dot(Rgains)).dot(Rgains.T) \n",
    "    Rvis = np.hstack((-info.ubl, np.zeros((len(info.ubl),1))))\n",
    "    reds = info.get_reds()\n",
    "    ntimes, nfreqs = gains.values()[0].shape\n",
    "    \n",
    "    for t in range(ntimes):\n",
    "        for f in range(nfreqs):\n",
    "            gainSols = np.array([g[ai][t,f] for ai in info.subsetant])\n",
    "            visSols = np.array([vis[rg[0]][t,f] for rg in reds])\n",
    "            \n",
    "            #Fix amplitudes\n",
    "            newGainSols = gainSols * np.exp(-1.0j * np.mean(np.angle(gainSols)))\n",
    "            newGainSols = newGainSols / np.mean(np.abs(newGainSols))\n",
    "            newVisSols = visSols * np.mean(np.abs(gainSols))**2 \n",
    "\n",
    "            #Fix phases\n",
    "            degenRemoved = Mgains.dot(np.angle(newGainSols))\n",
    "            newGainSols = newGainSols * np.exp(-1.0j * Rgains.dot(degenRemoved))\n",
    "            newVisSols = newVisSols * np.exp(-1.0j * Rvis.dot(degenRemoved))\n",
    "\n",
    "            for i,ant in enumerate(info.subsetant): g[ant][t,f] = newGainSols[i]\n",
    "            for i,rg in enumerate(reds): v[rg[0]][t,f] = newVisSols[i]    \n",
    "\n",
    "    # multipy back in gainstart.\n",
    "    for ai in g.keys():\n",
    "        g[ai] *= gainstart[ai]\n",
    "\n",
    "    return {}, g, v"
   ]
  },
  {
   "cell_type": "code",
   "execution_count": 18,
   "metadata": {
    "ExecuteTime": {
     "end_time": "2017-04-06T15:20:03.433377",
     "start_time": "2017-04-06T15:20:03.365613"
    },
    "collapsed": false,
    "run_control": {
     "frozen": false,
     "read_only": false
    }
   },
   "outputs": [],
   "source": [
    "# simulate unique \"true\" visibilities\n",
    "np.random.seed(21)\n",
    "vis_true = {}\n",
    "i = 0\n",
    "for rg in reds:\n",
    "    vis_true[rg[0]] = np.array(1.0*np.random.randn(len(times),len(freqs)) \n",
    "                               + 1.0j*np.random.randn(len(times),len(freqs)), dtype=np.complex64)\n",
    "\n",
    "fcgains = {}\n",
    "for i in ants:\n",
    "    fcspectrum = np.exp(2.0j * np.pi * 5.0 * np.random.randn() * freqs)\n",
    "    fcgains[i] = np.array([fcspectrum for t in times], dtype=np.complex64)\n",
    "\n",
    "\n",
    "gain_true = {}\n",
    "for i in ants:\n",
    "    gain_true[i] = np.array(1. + (.1*np.random.randn(len(times),len(freqs)) \n",
    "                            + .1j*np.random.randn(len(times),len(freqs))), dtype=np.complex64) \n",
    "\n",
    "\n",
    "#TODO: remove degen, apply firstcal gains, plot, fix the rest of the code\n",
    "    \n",
    "g0 = {i: np.ones_like(gain_true[i]) for i in ants}\n",
    "_, gain_true, _ = removedegen2(info, gain_true, vis_true, g0)\n",
    "for i in ants: gain_true[i] *= fcgains[i]\n",
    "    \n",
    "\n",
    "# plt.figure()\n",
    "# plt.plot(np.array([np.angle(gain_true[i][0,:]) for i in ants]).T)\n",
    "\n",
    "\n",
    "\n",
    "bl2ublkey = {bl: rg[0] for rg in reds for bl in rg}\n",
    "data = {}\n",
    "for rg in reds:\n",
    "    for (i,j) in rg:\n",
    "        data[(i,j)] = np.array(np.conj(gain_true[i]) * gain_true[j] * vis_true[rg[0]], dtype=np.complex64)"
   ]
  },
  {
   "cell_type": "code",
   "execution_count": 19,
   "metadata": {
    "ExecuteTime": {
     "end_time": "2017-04-06T15:20:03.549209",
     "start_time": "2017-04-06T15:20:03.545224"
    },
    "collapsed": false,
    "run_control": {
     "frozen": false,
     "read_only": false
    }
   },
   "outputs": [],
   "source": [
    "def chisq(data, g, v, reds):\n",
    "    return np.mean(np.array([np.abs(data[(i,j)] - np.conj(g[i])*g[j]*v[rg[0]])**2 for rg in reds for (i,j) in rg]),axis=0)"
   ]
  },
  {
   "cell_type": "code",
   "execution_count": 23,
   "metadata": {
    "ExecuteTime": {
     "end_time": "2017-04-06T15:31:31.277099",
     "start_time": "2017-04-06T15:31:31.268765"
    },
    "collapsed": true
   },
   "outputs": [],
   "source": [
    "def printDegens(info, gains, vis, fcgains):\n",
    "    Rgains =  np.array([np.append(ai,1) for ai in info.antloc]) \n",
    "    Mgains = np.linalg.pinv(Rgains.T.dot(Rgains)).dot(Rgains.T) \n",
    "    ntimes, nfreqs = gains.values()[0].shape\n",
    "    \n",
    "    for t in range(ntimes):\n",
    "        for f in range(nfreqs):\n",
    "            gainSols = np.array([gains[ai][t,f]/fcgains[ai][t,f] for ai in info.subsetant])\n",
    "            visSols = np.array([vis[rg[0]][t,f] for rg in reds])\n",
    "            print np.mean(np.abs(gainSols)) - 1.0\n",
    "            #print np.mean(np.angle(gainSols))\n",
    "            #print Mgains.dot(np.angle(gainSols))\n"
   ]
  },
  {
   "cell_type": "code",
   "execution_count": 26,
   "metadata": {
    "ExecuteTime": {
     "end_time": "2017-04-06T15:31:47.004017",
     "start_time": "2017-04-06T15:31:46.638863"
    },
    "collapsed": false,
    "run_control": {
     "frozen": false,
     "read_only": false
    },
    "scrolled": false
   },
   "outputs": [
    {
     "name": "stdout",
     "output_type": "stream",
     "text": [
      "---------------------------------------------------\n",
      "[[ 6.  0.  2.  3.  0.  0.  0.  6.  0.  0.  0.  0.  2.  0.  0.  0.]\n",
      " [ 0.  0.  0.  0.  3.  0.  3.  3.  0.  0.  4.  2.  0.  0.  5.  0.]\n",
      " [ 0.  0.  7.  2.  0.  5.  0.  0.  0.  4.  0.  0.  0.  2.  0.  0.]]\n",
      "chisq: [[  9.70300703e-14   2.02919712e-13   8.07629923e-14   1.24771761e-13\n",
      "    8.15669757e-14   6.85970988e-14   1.16780229e-13   1.59862697e-13\n",
      "    8.33182603e-14   5.92997195e-14   7.89005905e-14   1.42317310e-13\n",
      "    9.78536710e-14   6.52284962e-14   1.06852258e-13   1.03153780e-13]\n",
      " [  9.92858546e-14   8.23600221e-14   1.29655631e-13   9.72197583e-14\n",
      "    1.82131098e-13   7.84051508e-14   1.00329094e-13   7.95272187e-14\n",
      "    9.36599905e-14   1.24611530e-13   7.39133757e-14   1.44963875e-13\n",
      "    9.34178678e-14   8.53321117e-14   1.20743883e-13   1.42465209e-13]\n",
      " [  1.07257539e-13   8.18229761e-14   1.35588209e-13   1.58722848e-13\n",
      "    1.32513358e-13   8.08967693e-14   1.30583505e-13   1.36418790e-13\n",
      "    8.98712596e-14   8.87749143e-14   1.62889328e-13   6.57971805e-14\n",
      "    1.22766814e-13   3.06636552e-13   8.33737715e-14   1.38510311e-13]]\n",
      "chisq: [[  1.62236286e-13   1.61546706e-13   7.02720353e-14   1.57394565e-13\n",
      "    6.17181274e-14   5.70254022e-14   1.36620478e-13   1.11286238e-13\n",
      "    9.90109145e-14   5.84572673e-14   8.11896394e-14   1.21835159e-13\n",
      "    6.38900960e-14   6.77746569e-14   1.17926502e-13   8.70672282e-14]\n",
      " [  1.01119783e-13   7.26601396e-14   8.09633868e-14   1.02419023e-13\n",
      "    9.67992369e-14   8.81801346e-14   7.82771065e-14   6.76043490e-14\n",
      "    8.56510433e-14   9.16268065e-14   9.75176903e-14   1.42249846e-13\n",
      "    9.00843256e-14   9.72434142e-14   9.96810056e-14   1.89696593e-13]\n",
      " [  7.54056987e-14   8.17158366e-14   1.44270243e-13   1.00763100e-13\n",
      "    1.29860193e-13   7.20538470e-14   9.79976259e-14   1.44246092e-13\n",
      "    7.71202560e-14   6.69075933e-14   2.02747812e-13   6.77226355e-14\n",
      "    8.68082936e-14   2.26892791e-13   8.70006852e-14   1.32607927e-13]]\n",
      "---------------------------------------------------\n",
      "---------------------------------------------------\n",
      "2.38418579102e-07\n",
      "0.0\n",
      "0.0\n",
      "1.19209289551e-07\n",
      "0.0\n",
      "-1.19209289551e-07\n",
      "1.19209289551e-07\n",
      "-2.38418579102e-07\n",
      "2.38418579102e-07\n",
      "1.19209289551e-07\n",
      "0.0\n",
      "0.0\n",
      "0.0\n",
      "0.0\n",
      "0.0\n",
      "-1.19209289551e-07\n",
      "-1.19209289551e-07\n",
      "-1.19209289551e-07\n",
      "1.19209289551e-07\n",
      "-1.19209289551e-07\n",
      "-1.19209289551e-07\n",
      "-2.38418579102e-07\n",
      "1.19209289551e-07\n",
      "0.0\n",
      "0.0\n",
      "-1.19209289551e-07\n",
      "1.19209289551e-07\n",
      "1.19209289551e-07\n",
      "1.19209289551e-07\n",
      "1.19209289551e-07\n",
      "1.19209289551e-07\n",
      "0.0\n",
      "-1.19209289551e-07\n",
      "0.0\n",
      "-1.19209289551e-07\n",
      "0.0\n",
      "-1.19209289551e-07\n",
      "1.19209289551e-07\n",
      "0.0\n",
      "-1.19209289551e-07\n",
      "1.19209289551e-07\n",
      "1.19209289551e-07\n",
      "0.0\n",
      "-1.19209289551e-07\n",
      "1.19209289551e-07\n",
      "0.0\n",
      "0.0\n",
      "-1.19209289551e-07\n",
      "---------------------------------------------------\n"
     ]
    }
   ],
   "source": [
    "\n",
    "\n",
    "m1r,g1r,v1r = Oc.redcal(data, info, uselogcal=True)\n",
    "m2r,g2r,v2r = Oc.redcal(data, info, gains=g1r, vis=v1r, uselincal=True)\n",
    "_,g3r,v3r = Oc.redcal(data, info, gains=g2r, vis=v2r, removedegen=True)\n",
    "#print m2r['chisq']\n",
    "#print m2r['iter']\n",
    "#print 'chisq:', chisq(data,g3r,v3r,reds)\n",
    "#print v2r.keys()\n",
    "\n",
    "\n",
    "# print v2r.keys()\n",
    "# print vis_true.keys()\n",
    "print '---------------------------------------------------'\n",
    "\n",
    "\n",
    "g0 = {i: np.ones_like(gain_true[i]) for i in ants}\n",
    "m1l, g1l, v1l = Oc.logcal(data, info, gainstart=fcgains)\n",
    "m2l, g2l, v2l = Oc.lincal(data, info, gainstart=g1l, visstart=v1l,maxiter=400)\n",
    "_, g3l, v3l = Oc.removedegen(info, g2l, v2l, fcgains)\n",
    "_, g3l2, v3l2 = removedegen2(info, g2l, v2l, fcgains)\n",
    "#print m2l['chisq']\n",
    "print m2l['iter']\n",
    "#print m['iter']\n",
    "\n",
    "#for i in ants: g3l[i] *= fcgains[i]\n",
    "#for i in ants: g3l2[i] *= fcgains[i]\n",
    "print 'chisq:',chisq(data,g3l,v3l,reds)\n",
    "print 'chisq:',chisq(data,g3l2,v3l2,reds)\n",
    "print '---------------------------------------------------'\n",
    "\n",
    "\n",
    "#printDegens(info, g3l2, v3l2, fcgains)\n",
    "print '---------------------------------------------------'\n",
    "printDegens(info, g3l, v3l, fcgains)\n",
    "print '---------------------------------------------------'\n"
   ]
  },
  {
   "cell_type": "code",
   "execution_count": 25,
   "metadata": {
    "ExecuteTime": {
     "end_time": "2017-04-06T15:31:31.819366",
     "start_time": "2017-04-06T15:31:31.806523"
    },
    "collapsed": false,
    "run_control": {
     "frozen": false,
     "read_only": false
    }
   },
   "outputs": [
    {
     "name": "stdout",
     "output_type": "stream",
     "text": [
      "4.32286e-06\n",
      "4.86732e-06\n",
      "1.22144e-05\n",
      "1.49339e-05\n",
      "---------------------------------------------------\n",
      "5.05762e-07\n",
      "5.96791e-07\n",
      "1.86592e-06\n",
      "1.88486e-06\n"
     ]
    }
   ],
   "source": [
    "\n",
    "print np.linalg.norm([g3l2[ant] - gain_true[ant] for ant in info.subsetant])\n",
    "print np.linalg.norm([g3l[ant] - gain_true[ant] for ant in info.subsetant])\n",
    "print np.linalg.norm([v3l2[bl] - vis_true[bl] for bl in vis_true.keys()])\n",
    "print np.linalg.norm([v3l[bl] - vis_true[bl] for bl in vis_true.keys()])\n",
    "print '---------------------------------------------------'\n",
    "print np.max(np.abs([g3l2[ant] - gain_true[ant] for ant in info.subsetant]))\n",
    "print np.max(np.abs([g3l[ant] - gain_true[ant] for ant in info.subsetant]))\n",
    "print np.max(np.abs([v3l2[bl] - vis_true[bl] for bl in vis_true.keys()]))\n",
    "print np.max(np.abs([v3l[bl] - vis_true[bl] for bl in vis_true.keys()]))\n",
    "\n"
   ]
  },
  {
   "cell_type": "code",
   "execution_count": null,
   "metadata": {
    "collapsed": true,
    "run_control": {
     "frozen": false,
     "read_only": false
    }
   },
   "outputs": [],
   "source": []
  },
  {
   "cell_type": "code",
   "execution_count": null,
   "metadata": {
    "collapsed": true
   },
   "outputs": [],
   "source": []
  },
  {
   "cell_type": "code",
   "execution_count": null,
   "metadata": {
    "collapsed": true
   },
   "outputs": [],
   "source": []
  },
  {
   "cell_type": "code",
   "execution_count": null,
   "metadata": {
    "collapsed": true
   },
   "outputs": [],
   "source": []
  }
 ],
 "metadata": {
  "kernelspec": {
   "display_name": "Python 2",
   "language": "python",
   "name": "python2"
  },
  "language_info": {
   "codemirror_mode": {
    "name": "ipython",
    "version": 2
   },
   "file_extension": ".py",
   "mimetype": "text/x-python",
   "name": "python",
   "nbconvert_exporter": "python",
   "pygments_lexer": "ipython2",
   "version": "2.7.11"
  }
 },
 "nbformat": 4,
 "nbformat_minor": 2
}
