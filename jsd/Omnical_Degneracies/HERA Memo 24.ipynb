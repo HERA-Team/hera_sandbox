{
 "cells": [
  {
   "cell_type": "markdown",
   "metadata": {
    "run_control": {
     "frozen": false,
     "read_only": false
    }
   },
   "source": [
    "$\\Huge{\\text{Omnical Degeneracy Removal}}$\n",
    "\n",
    "$\\mbox{ }$\n",
    "\n",
    "$\\LARGE{\\text{Josh Dillon and Aaron Parsons}}$\n"
   ]
  },
  {
   "cell_type": "markdown",
   "metadata": {
    "run_control": {
     "frozen": false,
     "read_only": false
    }
   },
   "source": [
    "# Overview\n",
    "\n",
    "While investigating the strange behavior of Omnical with degeneracy removal turned on, we realized that Omnical requires that Firstcal (FC), which fixes per-antenna delays, had already been applied. A \"good enough\" Firstcal prevents antenna gains from phase-wrapping over the full bandwidth, which can lead to discontinuities in the tip and tilt degeneracy terms in Omnical. \n",
    "\n",
    "Zaki is now developing a fix to this problem which will live in the HERA-Team repo at https://github.com/HERA-Team/heracal\n",
    "\n",
    "In this notebook we will recreate the problem and demonstrate the solution."
   ]
  },
  {
   "cell_type": "markdown",
   "metadata": {
    "run_control": {
     "frozen": false,
     "read_only": false
    }
   },
   "source": [
    "# Settings and Load Data"
   ]
  },
  {
   "cell_type": "code",
   "execution_count": 1,
   "metadata": {
    "ExecuteTime": {
     "end_time": "2017-03-23T14:57:58.824154",
     "start_time": "2017-03-23T14:57:58.040692"
    },
    "collapsed": true,
    "run_control": {
     "frozen": false,
     "read_only": false
    }
   },
   "outputs": [],
   "source": [
    "import numpy as np\n",
    "import matplotlib.pyplot as plt\n",
    "import aipy as a \n",
    "import capo\n",
    "import capo.miriad as miriad\n",
    "import capo.omni as omni\n",
    "from copy import deepcopy\n",
    "%matplotlib inline "
   ]
  },
  {
   "cell_type": "code",
   "execution_count": 2,
   "metadata": {
    "ExecuteTime": {
     "end_time": "2017-03-23T14:58:00.046696",
     "start_time": "2017-03-23T14:57:58.825831"
    },
    "collapsed": true,
    "run_control": {
     "frozen": false,
     "read_only": false
    }
   },
   "outputs": [],
   "source": [
    "pol = 'yy'\n",
    "xants = [81]\n",
    "meta,data,flags = miriad.read_files(['zen.2457678.39660.yy.HH.uvc'],'cross',pol)\n",
    "fcm,fcg,fcv,fcx = omni.from_npz('zen.2457678.39660.yy.HH.uvc.fc.npz')\n",
    "fcData = deepcopy(data)\n",
    "for (ant1,ant2) in fcData.keys():\n",
    "    if ant1 not in xants and ant2 not in xants:\n",
    "        fcData[(ant1,ant2)][pol] /= (fcg[pol[0]][ant1] * np.conj(fcg[pol[1]][ant2]))    \n",
    "freqs = meta['freqs']\n",
    "nint, nchan = data.values()[0].values()[0].shape\n",
    "aa = a.cal.get_aa('hsa7458_v001', freqs)"
   ]
  },
  {
   "cell_type": "markdown",
   "metadata": {
    "run_control": {
     "frozen": false,
     "read_only": false
    }
   },
   "source": [
    "# Perform Omnical"
   ]
  },
  {
   "cell_type": "code",
   "execution_count": 3,
   "metadata": {
    "ExecuteTime": {
     "end_time": "2017-03-23T14:58:00.967927",
     "start_time": "2017-03-23T14:58:00.048142"
    },
    "collapsed": false,
    "run_control": {
     "frozen": false,
     "read_only": false
    }
   },
   "outputs": [
    {
     "name": "stderr",
     "output_type": "stream",
     "text": [
      "/Users/jsdillon/anaconda/lib/python2.7/site-packages/capo/omni.py:98: VisibleDeprecationWarning: using a non-integer number instead of an integer will result in an error in the future\n",
      "  antpos[i,0], antpos[i,1], antpos[i,2] = x,y,z\n"
     ]
    }
   ],
   "source": [
    "info = omni.aa_to_info(aa, pols=[pol[0]], ex_ants=xants, crosspols=[pol])\n",
    "reds = info.get_reds()\n",
    "antNames = [i for i,pos in enumerate(aa.antpos_ideal) \n",
    "            if pos[2] != -1.0 and i not in xants]\n",
    "g0 = {pol[0]: {ant: np.ones((nint,nchan),dtype=complex) for ant in antNames}}"
   ]
  },
  {
   "cell_type": "markdown",
   "metadata": {
    "run_control": {
     "frozen": false,
     "read_only": false
    }
   },
   "source": [
    "## Omnical with removedgen=True on raw data with FC as a starting point\n",
    "This is how we had been operating with PAPER-128 and HERA."
   ]
  },
  {
   "cell_type": "code",
   "execution_count": 4,
   "metadata": {
    "ExecuteTime": {
     "end_time": "2017-03-23T14:58:28.458759",
     "start_time": "2017-03-23T14:58:03.544658"
    },
    "collapsed": true
   },
   "outputs": [],
   "source": [
    "m1, g1, v1 = omni.redcal(data, info, gains=fcg, removedegen=False)\n",
    "m2, g2, v2 = omni.redcal(data, info, vis=v1, gains=g1, \n",
    "                         uselogcal=False, removedegen=False)\n",
    "#g2[pol[0]] = {ant: g2[pol[0]][ant] / fcg[pol[0]][ant] for ant in g2[pol[0]].keys()}b"
   ]
  },
  {
   "cell_type": "code",
   "execution_count": 11,
   "metadata": {
    "ExecuteTime": {
     "end_time": "2017-03-23T15:15:08.391771",
     "start_time": "2017-03-23T15:15:08.385567"
    },
    "collapsed": false
   },
   "outputs": [
    {
     "data": {
      "text/plain": [
       "0.0"
      ]
     },
     "execution_count": 11,
     "metadata": {},
     "output_type": "execute_result"
    }
   ],
   "source": [
    "plt.figure()\n",
    "capo.plot.waterfall()"
   ]
  },
  {
   "cell_type": "code",
   "execution_count": null,
   "metadata": {
    "ExecuteTime": {
     "start_time": "2017-03-23T21:56:32.238Z"
    },
    "collapsed": true,
    "run_control": {
     "frozen": false,
     "read_only": false
    }
   },
   "outputs": [],
   "source": [
    "m1, g1, v1 = omni.redcal(data, info, gains=fcg, removedegen=True)\n",
    "m2, g2, v2 = omni.redcal(data, info, vis=v1, gains=g1, \n",
    "                         uselogcal=False, removedegen=True)\n",
    "g2[pol[0]] = {ant: g2[pol[0]][ant] / fcg[pol[0]][ant] for ant in g2[pol[0]].keys()}"
   ]
  },
  {
   "cell_type": "markdown",
   "metadata": {
    "run_control": {
     "frozen": false,
     "read_only": false
    }
   },
   "source": [
    "## Omnical with removedgen=True on FC data"
   ]
  },
  {
   "cell_type": "code",
   "execution_count": null,
   "metadata": {
    "ExecuteTime": {
     "start_time": "2017-03-23T21:56:32.239Z"
    },
    "collapsed": true,
    "run_control": {
     "frozen": false,
     "read_only": false
    }
   },
   "outputs": [],
   "source": [
    "m1t, g1t, v1t = omni.redcal(fcData, info, gains=g0, removedegen=True)\n",
    "m2t, g2t, v2t = omni.redcal(fcData, info, vis=v1t, gains=g1t, \n",
    "                            uselogcal=False, removedegen=True)"
   ]
  },
  {
   "cell_type": "markdown",
   "metadata": {
    "run_control": {
     "frozen": false,
     "read_only": false
    }
   },
   "source": [
    "## Omnical with FC data, removing dengeracies manually"
   ]
  },
  {
   "cell_type": "code",
   "execution_count": null,
   "metadata": {
    "ExecuteTime": {
     "start_time": "2017-03-23T21:56:32.240Z"
    },
    "collapsed": true,
    "run_control": {
     "frozen": false,
     "read_only": false
    }
   },
   "outputs": [],
   "source": [
    "m1f, g1f, v1f = omni.redcal(fcData, info, gains=g0, removedegen=False)\n",
    "m2f, g2f, v2f = omni.redcal(fcData, info, vis=v1f, gains=g1f, \n",
    "                            uselogcal=False, removedegen=False)"
   ]
  },
  {
   "cell_type": "markdown",
   "metadata": {
    "run_control": {
     "frozen": false,
     "read_only": false
    }
   },
   "source": [
    "### Fit out a phase gradient, average phase, and average gain."
   ]
  },
  {
   "cell_type": "code",
   "execution_count": null,
   "metadata": {
    "ExecuteTime": {
     "start_time": "2017-03-23T21:56:32.242Z"
    },
    "collapsed": true,
    "run_control": {
     "frozen": false,
     "read_only": false
    }
   },
   "outputs": [],
   "source": [
    "NTIMES, NCHAN, ALL_ANTS, POL = nint, nchan, antNames, pol\n",
    "phsgrad = np.empty((NTIMES,3,NCHAN), np.float)\n",
    "for t in xrange(NTIMES):\n",
    "    gdata = np.angle([g2f[POL[0]][i][t] for i in ALL_ANTS])\n",
    "    d,w = {}, {}\n",
    "    for i,ai in enumerate(ALL_ANTS):\n",
    "        d['%f*dphsdx+%f*dphsdy+%f*dphsdz' % tuple(aa[ai].pos)] = gdata[i]\n",
    "        w['%f*dphsdx+%f*dphsdy+%f*dphsdz' % tuple(aa[ai].pos)] = 1.\n",
    "    ls = capo.linsolve.LinearSolver(d,w)\n",
    "    sols = ls.solve()\n",
    "    phsgrad[t] = np.array([sols['dphsdx'], sols['dphsdy'], sols['dphsdz']])\n",
    "    \n",
    "pg = {POL[0]:{}}\n",
    "apg = {POL[0]:{}}\n",
    "for i in ALL_ANTS: \n",
    "    pg[POL[0]][i] = g2f[POL[0]][i] / np.exp(1j*np.dot(aa[i].pos, phsgrad))\n",
    "avgphs = np.average([np.angle(pg[POL[0]][i]) for i in ALL_ANTS], axis=0)\n",
    "avgamp = np.average([np.abs(pg[POL[0]][i]) for i in ALL_ANTS], axis=0)\n",
    "for i in ALL_ANTS: \n",
    "    apg[POL[0]][i] = pg[POL[0]][i] / np.exp(1j*avgphs) / avgamp"
   ]
  },
  {
   "cell_type": "markdown",
   "metadata": {
    "run_control": {
     "frozen": false,
     "read_only": false
    }
   },
   "source": [
    "# Results and Discussion"
   ]
  },
  {
   "cell_type": "code",
   "execution_count": null,
   "metadata": {
    "ExecuteTime": {
     "start_time": "2017-03-23T21:56:32.243Z"
    },
    "collapsed": false,
    "run_control": {
     "frozen": false,
     "read_only": false
    }
   },
   "outputs": [],
   "source": [
    "titles = ['Fig. 1: Omnical FC Data, No Degeneracy Removal',\n",
    "         'Fig. 2: FC-Intialized Omnical, Removing Degeneracies, Applying FC',\n",
    "         'Fig. 3: Omnical FC Data, Removing Degeneracies with Omnical',\n",
    "         'Fig. 4: Omnical FC Data, Manually Removing Degeneracies']\n",
    "for g,title in zip([g2f,g2,g2t,apg], titles):\n",
    "    plt.figure(figsize=(8,2.5))\n",
    "    capo.plot.waterfall(g[pol[0]][88], mode='phs',  mx=1, drng=2)\n",
    "    plt.title(title); plt.xlabel('Channel'); plt.ylabel('Time Index')\n",
    "    plt.colorbar(label='Phase (Radians)')"
   ]
  },
  {
   "cell_type": "markdown",
   "metadata": {
    "run_control": {
     "frozen": false,
     "read_only": false
    }
   },
   "source": [
    "As we can see, removing degeneracies is essential. They add what looks likes extra noise into the gains and visibilities. However, if we merely initialize Omnical with Firstcal as a starting guess, rather than apply Firstcal to the data that goes into Omnical, the built-in degeneracy removal algorithm is vulnerable to phase-wrap discontinuities that create jumps in the gains and visibilities that can be much smaller than $2\\pi$ and are therefore not trivial to pick out.\n",
    "\n",
    "If we apply Firstcal to the data before running Omnical, Omnical will properly remove the degeneracies. This has been verified by manually removing the degeneracies by fitting phase gradients gains and removing them."
   ]
  }
 ],
 "metadata": {
  "kernelspec": {
   "display_name": "Python 2",
   "language": "python",
   "name": "python2"
  },
  "language_info": {
   "codemirror_mode": {
    "name": "ipython",
    "version": 2
   },
   "file_extension": ".py",
   "mimetype": "text/x-python",
   "name": "python",
   "nbconvert_exporter": "python",
   "pygments_lexer": "ipython2",
   "version": "2.7.11"
  }
 },
 "nbformat": 4,
 "nbformat_minor": 2
}
