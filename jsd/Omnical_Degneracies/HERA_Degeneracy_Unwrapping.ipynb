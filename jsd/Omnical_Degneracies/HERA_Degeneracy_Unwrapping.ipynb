{
 "cells": [
  {
   "cell_type": "code",
   "execution_count": 1,
   "metadata": {
    "ExecuteTime": {
     "end_time": "2017-04-06T12:25:12.440229",
     "start_time": "2017-04-06T12:25:10.618936"
    },
    "collapsed": true,
    "run_control": {
     "frozen": false,
     "read_only": false
    }
   },
   "outputs": [],
   "source": [
    "import numpy as np\n",
    "import matplotlib.pyplot as plt\n",
    "import aipy as a \n",
    "import capo\n",
    "import capo.miriad as miriad\n",
    "from scipy.sparse import csr_matrix\n",
    "from tqdm import tqdm\n",
    "import capo.omni as omni\n",
    "from copy import deepcopy\n",
    "#import seaborn\n",
    "%matplotlib notebook "
   ]
  },
  {
   "cell_type": "markdown",
   "metadata": {
    "run_control": {
     "frozen": false,
     "read_only": false
    }
   },
   "source": [
    "# Array Classes"
   ]
  },
  {
   "cell_type": "code",
   "execution_count": 2,
   "metadata": {
    "ExecuteTime": {
     "end_time": "2017-04-06T12:25:12.523564",
     "start_time": "2017-04-06T12:25:12.441855"
    },
    "code_folding": [
     38,
     57
    ],
    "collapsed": false,
    "run_control": {
     "frozen": false,
     "read_only": false
    }
   },
   "outputs": [],
   "source": [
    "class InterferometricArray():\n",
    "    \"\"\"Class that takes a list of positions and can calcuate baselines and redundancies.\"\"\"\n",
    "    \n",
    "    def __init__(self, positions=[]):\n",
    "        self.positions = np.array(positions)\n",
    "        self.nant = len(positions)\n",
    "        self.antNames = range(self.nant)\n",
    "    \n",
    "    def CalculateUBLs(self, precisionFactor=1000000):\n",
    "        \"\"\"Finds the baselines, unique baselines, and related dictionaries for indexing.\"\"\"\n",
    "        self.blVectors, self.blNamePairs, self.blIndexPairs = [], [], []\n",
    "        self.index2name = {i:name for i,name in enumerate(self.antNames)}\n",
    "        self.name2index = {name:i for i,name in enumerate(self.antNames)}\n",
    "        self.name2pos = {name: self.positions[self.name2index[name]] for name in self.antNames}\n",
    "        for index1,ant1 in enumerate(self.antNames):\n",
    "            for index2,ant2 in zip(range(index1+1,self.nant), self.antNames[index1+1:]):\n",
    "                delta = np.array([int(np.round(precisionFactor*(self.positions[index1][i] - self.positions[index2][i]))) for i in range(3)])\n",
    "                if delta[1] > 0 or (delta[1] == 0 and delta[0] > 0): \n",
    "                    self.blVectors.append(tuple(delta))\n",
    "                    self.blNamePairs.append((ant1, ant2))\n",
    "                    self.blIndexPairs.append((index1, index2))\n",
    "                else: \n",
    "                    self.blVectors.append(tuple(-delta))\n",
    "                    self.blNamePairs.append((ant2, ant1))\n",
    "                    self.blIndexPairs.append((index2, index1))\n",
    "        self.ublDict = {}\n",
    "        for b in range(len(self.blVectors)):\n",
    "            if self.ublDict.has_key(self.blVectors[b]): self.ublDict[self.blVectors[b]].append(self.blNamePairs[b])\n",
    "            else: self.ublDict[self.blVectors[b]] = [self.blNamePairs[b]]\n",
    "        self.blIndexDict = {antPair: i for i,antPair in enumerate(self.blNamePairs)}\n",
    "        self.names2ublIndex = {antPair: i for i,antPairs in enumerate(self.ublDict.values()) for antPair in antPairs}\n",
    "        self.indices2ublIndex = {(self.name2index[antPair[0]],self.name2index[antPair[1]]): \n",
    "                                 i for i,antPairs in enumerate(self.ublDict.values()) for antPair in antPairs}\n",
    "        self.ublVectors = np.array([self.name2pos[antList[0][0]]-self.name2pos[antList[0][1]] for antList in self.ublDict.values()])\n",
    "        self.ublGroups = [antList for antList in self.ublDict.values()]\n",
    "        print \"With\", len(self.positions), \"antennas there are\", len(self.ublDict.items()), \"unique baselines.\"\n",
    "        self.nbl, self.nubl = len(self.blNamePairs), len(self.ublVectors)\n",
    "\n",
    "class HexagonalArray(InterferometricArray):\n",
    "    \"\"\"Generates a hexagonal array.\"\"\"\n",
    "    \n",
    "    def __init__(self, separation, hexNum, verbose=False):\n",
    "        \"\"\"Creates a hexagonal array with hexNum antennas per side separated by separation.\"\"\"\n",
    "        self.hexNum, self.separation, self.verbose = hexNum, separation, verbose\n",
    "        positions, self.rowIndices, i = [], [], 0        \n",
    "        for row in range(hexNum-1,-(hexNum),-1):\n",
    "            indices = []\n",
    "            for col in range(2*hexNum-abs(row)-1):\n",
    "                xPos = ((-(2*hexNum-abs(row))+2)/2.0 + col)*separation;\n",
    "                yPos = row*separation*3**.5/2;\n",
    "                positions.append([xPos, yPos, 0])\n",
    "                indices.append(i); i+=1\n",
    "            self.rowIndices.append(indices)\n",
    "        self.positions = np.array(positions) \n",
    "        self.nant = len(self.positions)\n",
    "        self.antNames = range(self.nant)\n",
    "\n",
    "class InterferometricArrayFromAA(InterferometricArray):\n",
    "    \n",
    "    def __init__(self, aa, xants=[]):\n",
    "        self.positions = np.array([pos for i,pos in enumerate(aa.antpos_ideal) if pos[2] != -1.0 and i not in xants])\n",
    "        self.antNames = [i for i,pos in enumerate(aa.antpos_ideal) if pos[2] != -1.0 and i not in xants]\n",
    "        self.nant = len(self.positions)\n",
    "    "
   ]
  },
  {
   "cell_type": "markdown",
   "metadata": {
    "run_control": {
     "frozen": false,
     "read_only": false
    }
   },
   "source": [
    "# Omnicalibrator Class\n"
   ]
  },
  {
   "cell_type": "code",
   "execution_count": 3,
   "metadata": {
    "ExecuteTime": {
     "end_time": "2017-04-06T12:25:13.942259",
     "start_time": "2017-04-06T12:25:12.525156"
    },
    "code_folding": [
     238
    ],
    "collapsed": false,
    "run_control": {
     "frozen": false,
     "read_only": false
    }
   },
   "outputs": [],
   "source": [
    "class OmniCalibrator():\n",
    "    \"\"\"This class contains method functions for the key steps in Omnical and stores relevant information about the array.\"\"\"\n",
    "    \n",
    "    def __init__(self, array, verbose=True):\n",
    "        self.a = array\n",
    "        self.verbose = verbose\n",
    "        antloc = np.array(self.a.positions); antloc[:,2] = 0\n",
    "        self.Rgains = np.array([np.append(ai,1) for ai in antloc]); #Get the R matrix. R = [r_i 1], where ri are the positions\n",
    "        self.Mgains = np.linalg.pinv(self.Rgains.T.dot(self.Rgains)).dot(self.Rgains.T)\n",
    "        self.Rvis = np.hstack((-self.a.ublVectors, np.zeros((self.a.nubl,1))))\n",
    "        return\n",
    "    \n",
    "    def ComputeErrors(self, obsVis, gainSols, visSols):\n",
    "        \"\"\"Computes the difference between the calibration model and the observation.\"\"\"\n",
    "        modelObs = np.array([gainSols[ant1] * np.conj(gainSols[ant2]) * visSols[self.a.indices2ublIndex[(ant1,ant2)]] \n",
    "                             for (ant1,ant2),obs in zip(self.a.blIndexPairs,obsVis)])\n",
    "        return obsVis - modelObs\n",
    "\n",
    "    def PerChannelDegeneracyCorrection(self, gainSols, visSols, degenGains, degenVis):\n",
    "        \"\"\"This function fixes the gain and phase degeneracies on a per-channel basis. Vulnerable to phase wrapping and related problems.\"\"\"\n",
    "        newGainSols, newVisSols = gainSols.copy(), visSols.copy()\n",
    "\n",
    "        #Fix amplitudes\n",
    "        newGainSols = gainSols * np.exp(1.0j * (np.mean(np.angle(degenGains)) - np.mean(np.angle(newGainSols))))\n",
    "        newGainSols = gainSols / np.mean(np.abs(gainSols)) * np.mean(np.abs(degenGains))\n",
    "        newVisSols = visSols * np.mean(np.abs(gainSols))**2 / np.mean(np.abs(degenGains))**2\n",
    "            \n",
    "        #Fix phases\n",
    "        degenRemoved = self.Mgains.dot(np.angle(newGainSols)) - self.Mgains.dot(np.angle(degenGains))\n",
    "        newGainSols = newGainSols * np.exp(-1.0j * self.Rgains.dot(degenRemoved))\n",
    "        newVisSols = newVisSols * np.exp(-1.0j * self.Rvis.dot(degenRemoved))\n",
    "        return newGainSols, newVisSols    \n",
    "    \n",
    "    def PerformLogcal(self, obsVis, degenGains, degenVis):\n",
    "        \"\"\"Performs logcal using obsVis and self.a. Degeneracies are fixed by using degenGains, degenVis.\"\"\"\n",
    "        Acoeffs, Bcoeffs, rowIndices, colIndices = [np.zeros(self.a.nbl*3) for i in range(4)]\n",
    "        for n,(ant1,ant2) in enumerate(self.a.blIndexPairs):\n",
    "            rowIndices[3*n:3*n+3] = n\n",
    "            colIndices[3*n:3*n+3] = [ant1, ant2, self.a.nant + self.a.indices2ublIndex[(ant1,ant2)]]\n",
    "            Acoeffs[3*n:3*n+3] = [1.0, 1.0, 1.0]\n",
    "            Bcoeffs[3*n:3*n+3] = [1.0, -1.0, 1.0]\n",
    "\n",
    "        logcalA = csr_matrix((Acoeffs,(rowIndices,colIndices)), shape=(self.a.nbl, self.a.nant + self.a.nubl))\n",
    "        logcalB = csr_matrix((Bcoeffs,(rowIndices,colIndices)), shape=(self.a.nbl, self.a.nant + self.a.nubl))\n",
    "        AtA = (logcalA.conj().T.dot(logcalA)).toarray()\n",
    "        BtB = (logcalB.conj().T.dot(logcalB)).toarray()\n",
    "        nZeroEigenvalues = [np.sum(np.abs(np.linalg.eigvals(XtX)<1e-10)) for XtX in [AtA, BtB]]\n",
    "        if not nZeroEigenvalues == [1,3]: print 'WARNING: Array is not omnical-able.' \n",
    "\n",
    "        xReal = (np.linalg.pinv(AtA)).dot(logcalA.conj().T.dot(np.real(np.log(obsVis))))\n",
    "        xImag = (np.linalg.pinv(BtB)).dot(logcalB.conj().T.dot(np.imag(np.log(obsVis))))\n",
    "        xHat = np.exp(xReal + 1.0j*xImag)\n",
    "        logcalGainSols, logcalVisSols = xHat[0:self.a.nant], xHat[self.a.nant:]        \n",
    "        return self.PerChannelDegeneracyCorrection(logcalGainSols, logcalVisSols, degenGains, degenVis)\n",
    "    \n",
    "    def LincalAMatrix(self, gainSols, visSols, realImagMode=False):\n",
    "        \"\"\"Calculates A used for lincal as a compressed sparse row matrix.\"\"\"\n",
    "        Acoeffs, rowIndices, colIndices = [np.zeros(self.a.nbl*12) for i in range(3)]\n",
    "        for n,(ant1,ant2) in enumerate(self.a.blIndexPairs):\n",
    "            rowIndices[12*n:12*n+6] = 2*n\n",
    "            rowIndices[12*n+6:12*n+12] = 2*n+1\n",
    "            ublIndex = self.a.indices2ublIndex[(ant1,ant2)]\n",
    "            colIndices[12*n:12*n+6] = [2*ant1, 2*ant1+1, 2*ant2, 2*ant2+1, 2*self.a.nant+2*ublIndex, 2*self.a.nant+2*ublIndex+1]\n",
    "            colIndices[12*n+6:12*n+12] = [2*ant1, 2*ant1+1, 2*ant2, 2*ant2+1, 2*self.a.nant+2*ublIndex, 2*self.a.nant+2*ublIndex+1]\n",
    "            if realImagMode: #Compute coefficients for Real/Imag version of lincal\n",
    "                gi0V0 = gainSols[ant1] * visSols[ublIndex]\n",
    "                gj0starV0 = np.conj(gainSols[ant2]) * visSols[ublIndex]\n",
    "                gi0gj0star = gainSols[ant1] * np.conj(gainSols[ant2])\n",
    "                Acoeffs[12*n:12*n+6] = [np.real(gj0starV0), -np.imag(gj0starV0), np.real(gi0V0), \n",
    "                                        np.imag(gi0V0), np.real(gi0gj0star), -np.imag(gi0gj0star)]\n",
    "                Acoeffs[12*n+6:12*n+12] = [np.imag(gj0starV0), np.real(gj0starV0), np.imag(gi0V0), \n",
    "                                           -np.real(gi0V0), np.imag(gi0gj0star), np.real(gi0gj0star)]\n",
    "            else: #Compute coefficients for Amp/Phase version of lincal\n",
    "                gi0gj0star = gainSols[ant1] * np.conj(gainSols[ant2])\n",
    "                gi0gj0starVij0 = gi0gj0star * visSols[ublIndex]\n",
    "                Acoeffs[12*n:12*n+6] = [np.real(gi0gj0starVij0), -np.imag(gi0gj0starVij0), np.real(gi0gj0starVij0), \n",
    "                                        np.imag(gi0gj0starVij0), np.real(gi0gj0star), -np.imag(gi0gj0star)]\n",
    "                Acoeffs[12*n+6:12*n+12] = [np.imag(gi0gj0starVij0), np.real(gi0gj0starVij0), np.imag(gi0gj0starVij0), \n",
    "                                           -np.real(gi0gj0starVij0), np.imag(gi0gj0star), np.real(gi0gj0star)]\n",
    "        return csr_matrix((Acoeffs,(rowIndices,colIndices)), shape=(2*self.a.nbl, 2*self.a.nant + 2*self.a.nubl))\n",
    "    \n",
    "    def PerformLincal(self, obsVis, gainStart, visStart, degenGains, degenVis, realImagMode=False, maxIter=100, convCrit=1e-14, divCrit = 1e14):\n",
    "        \"\"\"Performs lincal, either in the amp/phase mode or the real/imag mode. Projects out degeneracies and replaces them.\"\"\"\n",
    "        gainSols, visSols = gainStart.copy(), visStart.copy()\n",
    "        if self.verbose: print '\\nNow performing Lincal using the', ('Amp/Phs','Re/Imag')[realImagMode], 'method...'\n",
    "        startingChiSq = np.mean(np.abs(self.ComputeErrors(obsVis, gainSols, visSols))**2) #TODO: update with noise\n",
    "        prevChiSq = startingChiSq\n",
    "    \n",
    "        for iteration in range(maxIter):            \n",
    "            #Do all the linear algebra\n",
    "            A = self.LincalAMatrix(gainSols, visSols, realImagMode=realImagMode)\n",
    "            AtA = (A.conj().T.dot(A)).toarray()\n",
    "            error = self.ComputeErrors(obsVis, gainSols, visSols)\n",
    "            y = np.dstack((np.real(error),np.imag(error))).flatten()\n",
    "            xHat = np.linalg.pinv(AtA).dot(A.conj().T.dot(y))\n",
    "            \n",
    "            #Update solutions\n",
    "            updates = xHat[0::2] + 1.0j*xHat[1::2]\n",
    "            if realImagMode: newGainSols = gainSols + updates[0:self.a.nant]\n",
    "            else: newGainSols = gainSols * (1.0+updates[0:self.a.nant])\n",
    "            newVisSols = visSols + updates[self.a.nant:]\n",
    "\n",
    "            #Fix degeneracies if things have gone haywire\n",
    "            chiSq = np.mean(np.abs(self.ComputeErrors(obsVis, newGainSols, newVisSols))**2)\n",
    "            if chiSq > startingChiSq:\n",
    "                newGainSols, newVisSols = self.PerChannelDegeneracyCorrection(newGainSols, newVisSols, degenGains, degenVis)\n",
    "            #convergence = np.linalg.norm(np.append(newGainSols-gainSols,newVisSols-visSols)) / np.linalg.norm(np.append(newGainSols,newVisSols))\n",
    "            convergence = np.abs(prevChiSq - chiSq) / chiSq\n",
    "            if self.verbose: print iteration, ' -- chiSq =', chiSq, '    convCrit =', convergence\n",
    "            \n",
    "            #Check for convergence\n",
    "            if chiSq/startingChiSq > divCrit or iteration == maxIter-1:\n",
    "                print 'WARNING: Lincal in ' + ('Amp/Phs','Re/Imag')[realImagMode] + ' Mode did not converge in', iteration+1, 'iterations!'\n",
    "                print '    Stopped at chiSq =', chiSq, '    convCrit =', convergence\n",
    "                break\n",
    "            if convergence < convCrit : \n",
    "                if self.verbose: print ('Amp/Phs','Re/Imag')[realImagMode] + ' Mode converged in', iteration+1, 'iterations.'\n",
    "                if self.verbose: print '    Stopped at chiSq =', chiSq, '    convCrit =', convergence\n",
    "                break\n",
    "            gainSols, visSols, prevChiSq = newGainSols, newVisSols, chiSq\n",
    "        \n",
    "        return self.PerChannelDegeneracyCorrection(newGainSols, newVisSols, degenGains, degenVis)\n",
    "    \n",
    "    def OverallBandpassDegeneracyProjection(self, allGainSols, allVisSols, allGuessGains, allGuessVis):\n",
    "        \"\"\"This function corrects degeneracies, but only after unwrapping across all channels. \"\"\"\n",
    "        finalGainSols, finalVisSols, allDegenGains, allDegenVis = [np.array(this) for this in [allGainSols, allVisSols, allGuessGains, allGuessVis]]\n",
    "        #overall phase unwrapping\n",
    "        phaseShift = np.mean(np.unwrap(np.angle(finalGainSols).T).T,axis=1)\n",
    "        for ant in range(self.a.nant): finalGainSols[:,ant] *= np.exp(-1.0j * phaseShift)\n",
    "\n",
    "        allDegens = []\n",
    "        for chan in range(len(allGainSols)):\n",
    "            unwrappedGainPhases = np.array([np.unwrap(np.angle(finalGainSols[0:chan+1,ant]))[chan] for ant in range(self.a.nant)])\n",
    "            unwrappedDegenPhases = np.array([np.unwrap(np.angle(np.array(allDegenGains)[0:chan+1,ant]))[chan] for ant in range(self.a.nant)])\n",
    "            degenRemoved = self.Mgains.dot(unwrappedGainPhases) - self.Mgains.dot(unwrappedDegenPhases)\n",
    "            finalGainSols[chan,:] = finalGainSols[chan,:] * np.exp(-1.0j * self.Rgains.dot(degenRemoved))\n",
    "            finalVisSols[chan,:] = finalVisSols[chan,:] * np.exp(-1.0j * self.Rvis.dot(degenRemoved))\n",
    "\n",
    "        return finalGainSols, finalVisSols\n",
    "\n",
    "    def determineConjugationAndExemplars(self, data, v, pol='x'):\n",
    "        \"\"\"This function examines the data and guess visibility objects to build up relevant objects that say how the data is stored.\"\"\"\n",
    "        self.dataKeyConjugated = {}\n",
    "        for (ant1,ant2) in self.a.blNamePairs:\n",
    "            if data.has_key((ant1,ant2)): self.dataKeyConjugated[(ant1,ant2)] = False\n",
    "            elif data.has_key((ant2,ant1)): self.dataKeyConjugated[(ant1,ant2)] = True\n",
    "            else: raise KeyError('Cannot find baseline' + str((ant1,ant2)) + \" in observed visibility data.\")\n",
    "        \n",
    "        #Now examine the input visibility quantities\n",
    "        self.visKey2ublIndex, self.visKeyConjugated = {}, {}\n",
    "        self.ublIndex2VisKey = [None for i in range(self.a.nubl)]\n",
    "        for n,ublGroup in enumerate(self.a.ublGroups):\n",
    "            for (ant1,ant2) in ublGroup:\n",
    "                if v[pol+pol].has_key((ant1,ant2)): \n",
    "                    self.visKey2ublIndex[(ant1,ant2)] = n\n",
    "                    self.visKeyConjugated[(ant1,ant2)] = False\n",
    "                    self.ublIndex2VisKey[n] = (ant1,ant2)\n",
    "                elif v[pol+pol].has_key((ant2,ant1)): \n",
    "                    self.visKey2ublIndex[(ant2,ant1)] = n\n",
    "                    self.visKeyConjugated[(ant2,ant1)] = True\n",
    "                    self.ublIndex2VisKey[n] = (ant2,ant1)\n",
    "\n",
    "    def pullOutSingleTime(self, time, data, g, v, pol='x', defaultVis=1.0):\n",
    "        \"\"\"This function pulls out observations, gains, and visibilities from the omnical data format. \n",
    "        If a particular unique baseline doesn't appear in v, defaultVis is used instead.\"\"\"\n",
    "        nint, nchan = data.values()[0].values()[0].shape\n",
    "        allObsVis = np.ones((nchan, self.a.nbl), dtype=complex)\n",
    "        allGains = np.ones((nchan, self.a.nant), dtype=complex)\n",
    "        allVis = np.ones((nchan, self.a.nubl), dtype=complex)\n",
    "\n",
    "        #Extract observed visbility data\n",
    "        for n,(ant1,ant2) in enumerate(self.a.blNamePairs):\n",
    "            if self.dataKeyConjugated[(ant1,ant2)]: allObsVis[:,n] =  np.conj(data[(ant2,ant1)][pol+pol][time])\n",
    "            else: allObsVis[:,n] =  data[(ant1,ant2)][pol+pol][time]\n",
    "        \n",
    "        #Extract gains\n",
    "        for n,ant in enumerate(self.a.antNames): allGains[:,n] = g[pol][ant][time]\n",
    "        \n",
    "        #Extract unique visibilities\n",
    "        for n in range(self.a.nubl):\n",
    "            visKey = self.ublIndex2VisKey[n]\n",
    "            if visKey is None: allVis[:,n] *= defaultVis\n",
    "            elif self.visKeyConjugated[visKey]: allVis[:,n] = np.conj(v[pol+pol][visKey][time])\n",
    "            else: allVis[:,n] = v[pol+pol][visKey][time]\n",
    "\n",
    "        return allObsVis, allGains, allVis\n",
    "    \n",
    "    def putBackSingleTime(self, time, chans, gSol, vSol, allGainSols, allVisSols, pol='x'):\n",
    "        \"\"\"For the single time slice and the specified channels, put gain/vis solutions into omnical format.\"\"\"\n",
    "        for n,ant in enumerate(self.a.antNames):\n",
    "            gSol[pol][ant][time][chans] = allGainSols[:,n]\n",
    "\n",
    "        for n in range(self.a.nubl):\n",
    "            visKey = self.ublIndex2VisKey[n]\n",
    "            if visKey is not None:\n",
    "                if self.visKeyConjugated[visKey]: vSol[pol+pol][visKey][time][chans] = np.conj(allVisSols[:,n])\n",
    "                else: vSol[pol+pol][visKey][time][chans] = allVisSols[:,n]\n",
    "    \n",
    "    def Omnical(self, data, g0, v0, pol='x', times=[], chans=[], flags=None):\n",
    "        \"\"\"Takes in data, g0, v0. Degeneracies set by g0, v0. \n",
    "        Only works for xx or yy polarization.\n",
    "        First-Cal solution should be applied to the data before calibrations starts.\n",
    "        To calibrate only a subset of channels or times, specify their indices as a list. \n",
    "        The uncalibrated portion will be taken from g0 and v0.\"\"\"\n",
    "        \n",
    "        gSol, vSol = deepcopy(g0), deepcopy(v0)\n",
    "        nint, nchan = data.values()[0].values()[0].shape\n",
    "        if len(times) == 0: times = range(nint)\n",
    "        if len(chans) == 0: chans = range(nchan)\n",
    "        self.determineConjugationAndExemplars(data, v0, pol=pol)\n",
    "        \n",
    "        for time in times:            \n",
    "            allGainSols = np.zeros((len(chans),self.a.nant),dtype=complex)\n",
    "            allVisSols = np.zeros((len(chans),self.a.nubl),dtype=complex)\n",
    "            allObsVis, allGuessGains, allGuessVis = self.pullOutSingleTime(time, data, g0, v0, pol=pol)\n",
    "            \n",
    "            for n,chan in enumerate(chans):\n",
    "                obsVis, guessGains, guessVis = allObsVis[chan], allGuessGains[chan], allGuessVis[chan]\n",
    "                if n==0: \n",
    "                    gainStart, visStart = cal.PerformLogcal(obsVis, guessGains, guessVis)        \n",
    "                    print 'starting omnical with ones'\n",
    "                    gainStart = np.ones_like(gainStart)\n",
    "                    visStart = np.ones_like(visStart)\n",
    "                else: gainStart, visStart = allGainSols[n-1], allVisSols[n-1]\n",
    "                gainSols, visSols = cal.PerformLincal(obsVis, gainStart, visStart, guessGains, guessVis, realImagMode=True, maxIter=100)\n",
    "                allGainSols[n,:], allVisSols[n,:] = gainSols, visSols \n",
    "                #print np.mean(np.abs(cal.ComputeErrors(obsVis, gainSols, visSols))**2)\n",
    "\n",
    "            allGainSols, allVisSols = cal.OverallBandpassDegeneracyProjection(allGainSols, allVisSols, allGuessGains, allGuessVis)\n",
    "            self.putBackSingleTime(time, chans, gSol, vSol, allGainSols, allVisSols, pol=pol)\n",
    "            \n",
    "        return gSol, vSol\n",
    "\n",
    "    #FUNCTIONS FOR USING OMNICAL PACKAGE INSTEAD OF MY LINEAR ALGEBRA\n",
    "    \n",
    "    def obsVisToOmniData(self, obsVis):\n",
    "        \"\"\"TODO: document.\"\"\"\n",
    "        data = {}\n",
    "        for n,bl in enumerate(self.a.blPairs):\n",
    "            data[bl] = {'xx': np.array([obsVis[n]]).reshape((1,-1)).astype('complex64')}\n",
    "        return data\n",
    "\n",
    "    def omniToSols(self, g2, v2, omniData):\n",
    "        \"\"\"TODO: document.\"\"\"\n",
    "        gainSols = np.array([g2['x'][ant][0][0] for ant in range(self.a.nant)])\n",
    "        visSols = np.zeros(self.a.nubl, dtype=complex)\n",
    "        for n,blGroup in enumerate(self.a.ublGroups):\n",
    "            bl = blGroup[0]\n",
    "            if len(blGroup) == 1: visSols[n] = omniData[bl]['xx'][0][0] / gainSols[bl[0]] / np.conj(gainSols[bl[1]])\n",
    "            elif self.bl2exemplar.has_key(bl): visSols[n] = v2['xx'][self.bl2exemplar[bl]][0][0] \n",
    "            elif self.bl2exemplar.has_key((bl[1],bl[0])): visSols[n] = np.conj(v2['xx'][self.bl2exemplar[(bl[1],bl[0])]][0][0])\n",
    "            else: print \"WARNING: CAN'T FIND THE APPROPRIATE BASELINE!!!\"  \n",
    "        return gainSols, visSols\n",
    "\n",
    "    def solsToOmni(self, gainSols, visSols):\n",
    "        \"\"\"TODO: document.\"\"\"\n",
    "        g2 = {'x': {}}\n",
    "        for ant in range(self.a.nant): g2['x'][ant] = gainSols[ant] * np.ones(shape=(1,1),dtype='complex64')\n",
    "\n",
    "        v2 = {'xx': {}} \n",
    "        for n,blGroup in enumerate(self.a.ublGroups):\n",
    "            if len(blGroup) > 1:\n",
    "                bl = blGroup[0]\n",
    "                if self.bl2exemplar.has_key(bl): v2['xx'][self.bl2exemplar[bl]] = visSols[n] * np.ones(shape=(1,1),dtype='complex64')\n",
    "                elif self.bl2exemplar.has_key((bl[1],bl[0])): \n",
    "                    v2['xx'][self.bl2exemplar[(bl[1],bl[0])]] = np.ones(shape=(1,1),dtype='complex64') * np.conj(visSols[n])\n",
    "                else: print \"WARNING: CAN'T FIND THE APPROPRIATE BASELINE!!!\"  \n",
    "        return g2, v2\n",
    "\n",
    "    def runOmnicalPackage(self, allObsVis, maxiter=500, removeDegen=False, initFromPrevChan=False, perChannelDegenCorrection=False, \n",
    "                          overallBandpassCorrection=False, allGuessGains=None, allGuessVis=None):\n",
    "        \"\"\"Runs the omnical package, using various options for degeneracy removal post-processing.\"\"\"\n",
    "        reds = omni.compute_reds(self.a.positions.size, 'x', self.a.positions)\n",
    "        info = omni.RedundantInfo(self.a.nant)\n",
    "        info.init_from_reds(reds, self.a.positions)\n",
    "        self.bl2exemplar = {bl: blgroup[0] for blgroup in info.get_reds() for bl in blgroup}\n",
    "\n",
    "        omnicalGainSols, omnicalVisSols = [], []\n",
    "        prevGainSols, prevVisSols = None, None\n",
    "        for chan in range(nchan):\n",
    "            data = self.obsVisToOmniData(allObsVis[chan])\n",
    "            g0 = {'x': {ant: np.ones(shape=(1,1),dtype='complex64') for ant in range(self.a.nant)}}\n",
    "            if initFromPrevChan and prevGainSols is not None and prevVisSols is not None:\n",
    "                prevg2, prevv2 = self.solsToOmni(prevGainSols, prevVisSols)\n",
    "                m2, g2, v2 = omni.redcal(data, info, vis=prevv2, gains=prevg2, uselogcal=False, removedegen=removeDegen, maxiter=maxiter)\n",
    "            else: \n",
    "                m1, g1, v1 = omni.redcal(data, info, gains=g0, removedegen=removeDegen, maxiter=maxiter)\n",
    "                m2, g2, v2 = omni.redcal(data, info, vis=v1, gains=g1, uselogcal=False, removedegen=removeDegen, maxiter=maxiter)\n",
    "            gainSols, visSols = self.omniToSols(g2, v2, data)\n",
    "            #print m2['chisq'][0], m2['iter'][0]\n",
    "\n",
    "            if perChannelDegenCorrection and allGuessGains is not None and allGuessVis is not None:\n",
    "                guessGains, guessVis = allGuessGains[chan], allGuessVis[chan]\n",
    "                gainSols, visSols = self.PerChannelDegeneracyCorrection(gainSols, visSols, guessGains, guessVis)\n",
    "            prevGainSols, prevVisSols = gainSols, visSols\n",
    "            omnicalGainSols.append(gainSols); omnicalVisSols.append(visSols)\n",
    "\n",
    "        if overallBandpassCorrection and allGuessGains is not None and allGuessVis is not None:\n",
    "            omnicalGainSols, omnicalVisSols = self.OverallBandpassDegeneracyProjection(omnicalGainSols, omnicalVisSols, allGuessGains, allGuessVis)\n",
    "\n",
    "        print np.mean(np.abs(self.ComputeErrors(allObsVis[chan], omnicalGainSols[chan], omnicalVisSols[chan]))**2)\n",
    "        return omnicalGainSols, omnicalVisSols\n"
   ]
  },
  {
   "cell_type": "markdown",
   "metadata": {
    "run_control": {
     "frozen": false,
     "read_only": false
    }
   },
   "source": [
    "# Compare Omnicalibrator to Omnical on HERA Data"
   ]
  },
  {
   "cell_type": "markdown",
   "metadata": {
    "ExecuteTime": {
     "end_time": "2017-03-16T13:34:00.597093",
     "start_time": "2017-03-16T13:34:00.562737"
    },
    "run_control": {
     "frozen": false,
     "read_only": false
    }
   },
   "source": [
    "What Aaron did:\n",
    "\n",
    "zen.2457678.39660.xx.HH.uvc\n",
    "yy\n",
    "firstcal -C hsa calfile -p yy --ex_ant=81 *yy.HH.uvc\n",
    "omni_run.py -C calfile -p yy --ba=81 --fc2=[firstcal output] [same file]\n",
    "use capo.xrfi.omni_chi_2_to_flags (or something similar)"
   ]
  },
  {
   "cell_type": "code",
   "execution_count": null,
   "metadata": {
    "ExecuteTime": {
     "start_time": "2017-04-06T19:25:10.626Z"
    },
    "collapsed": false,
    "run_control": {
     "frozen": false,
     "read_only": false
    },
    "scrolled": true
   },
   "outputs": [],
   "source": [
    "pol = 'yy'\n",
    "xants = [81]\n",
    "meta,data,flags = miriad.read_files(['zen.2457678.39660.yy.HH.uvc'],'cross',pol)\n",
    "fcm,fcg,fcv,fcx = omni.from_npz('zen.2457678.39660.yy.HH.uvc.fc.npz')\n",
    "fcData = deepcopy(data)\n",
    "for (ant1,ant2) in fcData.keys():\n",
    "    if ant1 not in xants and ant2 not in xants:\n",
    "        fcData[(ant1,ant2)][pol] /= (fcg[pol[0]][ant1] * np.conj(fcg[pol[0]][ant2]))    \n",
    "freqs = meta['freqs']\n",
    "nint, nchan = data.values()[0].values()[0].shape\n",
    "aa = a.cal.get_aa('hsa7458_v001', freqs)\n"
   ]
  },
  {
   "cell_type": "markdown",
   "metadata": {
    "run_control": {
     "frozen": false,
     "read_only": false
    }
   },
   "source": [
    "## Apply Omnical Package"
   ]
  },
  {
   "cell_type": "code",
   "execution_count": null,
   "metadata": {
    "ExecuteTime": {
     "start_time": "2017-04-06T19:25:10.629Z"
    },
    "collapsed": false,
    "run_control": {
     "frozen": false,
     "read_only": false
    }
   },
   "outputs": [
    {
     "name": "stderr",
     "output_type": "stream",
     "text": [
      "/Users/jsdillon/anaconda/lib/python2.7/site-packages/capo/omni.py:119: VisibleDeprecationWarning: using a non-integer number instead of an integer will result in an error in the future\n",
      "  antpos[i,0], antpos[i,1], antpos[i,2] = x,y,z\n"
     ]
    }
   ],
   "source": [
    "info = omni.aa_to_info(aa, pols=[pol[0]], ex_ants=xants, crosspols=[pol])\n",
    "reds = info.get_reds()\n",
    "antNames = [i for i,pos in enumerate(aa.antpos_ideal) if pos[2] != -1.0 and i not in xants]\n",
    "g0 = {pol[0]: {ant: np.ones((nint,nchan),dtype=complex) for ant in antNames}}\n",
    "m1t, g1t, v1t = omni.redcal(fcData, info, gains=g0, removedegen=True, maxiter=50)\n",
    "m2t, g2t, v2t = omni.redcal(fcData, info, vis=v1t, gains=g1t, uselogcal=False, removedegen=True, maxiter=50)\n",
    "\n",
    "m1, g1, v1 = omni.redcal(fcData, info, gains=g0, removedegen=False, maxiter=50)\n",
    "m2, g2, v2 = omni.redcal(fcData, info, vis=v1, gains=g1, uselogcal=False, removedegen=False, maxiter=50)"
   ]
  },
  {
   "cell_type": "code",
   "execution_count": null,
   "metadata": {
    "ExecuteTime": {
     "end_time": "2017-03-21T16:15:32.640341",
     "start_time": "2017-03-21T16:15:32.586265"
    },
    "collapsed": false,
    "run_control": {
     "frozen": false,
     "read_only": false
    }
   },
   "outputs": [],
   "source": []
  },
  {
   "cell_type": "code",
   "execution_count": null,
   "metadata": {
    "ExecuteTime": {
     "start_time": "2017-04-06T19:25:10.630Z"
    },
    "collapsed": false,
    "run_control": {
     "frozen": false,
     "read_only": false
    }
   },
   "outputs": [],
   "source": [
    "#Aaron's degeneracy removal technique\n",
    "NTIMES, NCHAN, ALL_ANTS, POL = nint, nchan, antNames, pol\n",
    "phsgrad = np.empty((NTIMES,3,NCHAN), np.float)\n",
    "for t in xrange(NTIMES):\n",
    "    gdata = np.angle([g2[POL[0]][i][t] for i in ALL_ANTS])\n",
    "    d,w = {}, {}\n",
    "    for i,ai in enumerate(ALL_ANTS):\n",
    "        d['%f*dphsdx+%f*dphsdy+%f*dphsdz' % tuple(aa[ai].pos)] = gdata[i]\n",
    "        w['%f*dphsdx+%f*dphsdy+%f*dphsdz' % tuple(aa[ai].pos)] = 1.\n",
    "    ls = capo.linsolve.LinearSolver(d,w)\n",
    "    sols = ls.solve()\n",
    "    phsgrad[t] = np.array([sols['dphsdx'], sols['dphsdy'], sols['dphsdz']])\n",
    "    \n",
    "pg = {POL[0]:{}}\n",
    "apg = {POL[0]:{}}\n",
    "for i in ALL_ANTS: pg[POL[0]][i] = g2[POL[0]][i] / np.exp(1j*np.dot(aa[i].pos, phsgrad))\n",
    "avgphs = np.average([np.angle(pg[POL[0]][i]) for i in ALL_ANTS], axis=0)\n",
    "avgamp = np.average([np.abs(pg[POL[0]][i]) for i in ALL_ANTS], axis=0)\n",
    "for i in ALL_ANTS: apg[POL[0]][i] = pg[POL[0]][i] / np.exp(1j*avgphs) / avgamp\n"
   ]
  },
  {
   "cell_type": "code",
   "execution_count": null,
   "metadata": {
    "ExecuteTime": {
     "start_time": "2017-04-06T19:25:10.633Z"
    },
    "collapsed": false,
    "run_control": {
     "frozen": false,
     "read_only": false
    }
   },
   "outputs": [],
   "source": [
    "flags = capo.xrfi.omni_chisq_to_flags(m2['chisq'])\n",
    "plt.figure()\n",
    "plt.imshow(flags, aspect='auto', interpolation='none')\n",
    "plt.title('Omnical xrfi flagging')"
   ]
  },
  {
   "cell_type": "markdown",
   "metadata": {
    "run_control": {
     "frozen": false,
     "read_only": false
    }
   },
   "source": [
    "## Try removing degeneracies my way"
   ]
  },
  {
   "cell_type": "code",
   "execution_count": null,
   "metadata": {
    "ExecuteTime": {
     "start_time": "2017-04-06T19:25:10.634Z"
    },
    "collapsed": false,
    "run_control": {
     "frozen": false,
     "read_only": false
    }
   },
   "outputs": [],
   "source": [
    "ia = InterferometricArrayFromAA(aa, xants=xants)#[22,81])\n",
    "ia.CalculateUBLs()\n",
    "cal = OmniCalibrator(ia,verbose=False)\n",
    "cal.determineConjugationAndExemplars(fcData, v2, pol=pol[0])\n",
    "\n",
    "g2degen = deepcopy(g2)\n",
    "v2degen = deepcopy(v2)\n",
    "\n",
    "antloc = np.array(ia.positions); antloc[:,2] = 0\n",
    "Rgains = np.array([np.append(ai,1) for ai in antloc]); #Get the R matrix. R = [r_i 1], where ri are the positions\n",
    "Mgains = np.linalg.pinv(Rgains.T.dot(Rgains)).dot(Rgains.T)\n",
    "\n",
    "Projection = np.eye(ia.nant) - Rgains.dot(Mgains)\n",
    "#degenRemoved = Mgains.dot(np.angle(newGainSols)) - self.M.dot(np.angle(degenGains))\n",
    "#newGainSols = newGainSols * np.exp(-1.0j * R.dot(degenRemoved))\n",
    "        \n",
    "\n",
    "\n",
    "print Mgains.shape\n",
    "\n",
    "chans = range(nchan)\n",
    "for time in range(nint):\n",
    "    allObsVis, allGains, allVis = cal.pullOutSingleTime(time, fcData, g2, v2, pol=pol[0])\n",
    "    degenGains, degenVis = np.ones_like(allGains), np.ones_like(allVis)\n",
    "    for chan in chans:\n",
    "        allGains[chan,:], allVis[chan,:] = cal.PerChannelDegeneracyCorrection(allGains[chan,:], allVis[chan,:], degenGains[chan,:], degenVis[chan,:])\n",
    "        #allGains[chan,:] = np.abs(allGains[chan,:]) * np.exp(1.0j * Projection.dot(np.angle(allGains[chan,:])))\n",
    "        #degenRemoved = Mgains.dot(np.angle(allGains[chan,:])) - Mgains.dot(np.angle(np.ones(ia.nant)))\n",
    "        #allGains[chan,:] = allGains[chan,:] * np.exp(-1.0j * Rgains.dot(degenRemoved))\n",
    "    cal.putBackSingleTime(time, chans, g2degen, v2degen, allGains, allVis, pol=pol[0])\n",
    "\n"
   ]
  },
  {
   "cell_type": "code",
   "execution_count": null,
   "metadata": {
    "ExecuteTime": {
     "start_time": "2017-04-06T19:25:10.636Z"
    },
    "collapsed": false,
    "run_control": {
     "frozen": false,
     "read_only": false
    }
   },
   "outputs": [],
   "source": [
    "omnicalGains = g2[pol[0]][9]\n",
    "omnicalVis = v2[pol][(9, 31)]\n",
    "\n",
    "\n",
    "# plt.figure()\n",
    "# plt.subplot(211)\n",
    "# capo.plot.waterfall(omnicalGains , mode='phs', mx=1, drng=2)\n",
    "# plt.colorbar()\n",
    "\n",
    "\n",
    "\n",
    "plt.figure()\n",
    "\n",
    "plt.subplot(411)\n",
    "capo.plot.waterfall(g2[pol[0]][88], mode='phs',  mx=1, drng=2)\n",
    "plt.title('88')\n",
    "plt.colorbar()\n",
    "plt.subplot(412)\n",
    "capo.plot.waterfall(g2degen[pol[0]][88], mode='phs',  mx=1, drng=2)\n",
    "plt.colorbar()\n",
    "plt.subplot(413)\n",
    "capo.plot.waterfall(apg[pol[0]][88], mode='phs',  mx=1, drng=2)\n",
    "plt.colorbar()\n",
    "plt.subplot(414)\n",
    "capo.plot.waterfall(g2t[pol[0]][88], mode='phs',  mx=1, drng=2)\n",
    "plt.colorbar()\n"
   ]
  },
  {
   "cell_type": "code",
   "execution_count": null,
   "metadata": {
    "collapsed": true,
    "run_control": {
     "frozen": false,
     "read_only": false
    }
   },
   "outputs": [],
   "source": []
  },
  {
   "cell_type": "markdown",
   "metadata": {
    "run_control": {
     "frozen": false,
     "read_only": false
    }
   },
   "source": [
    "## Apply Omnicalibrator"
   ]
  },
  {
   "cell_type": "code",
   "execution_count": null,
   "metadata": {
    "ExecuteTime": {
     "start_time": "2017-04-06T19:25:10.638Z"
    },
    "collapsed": false,
    "run_control": {
     "frozen": false,
     "read_only": false
    }
   },
   "outputs": [],
   "source": [
    "ia = InterferometricArrayFromAA(aa, xants=xants)#[22,81])\n",
    "ia.CalculateUBLs()\n",
    "cal = OmniCalibrator(ia,verbose=False)\n",
    "\n",
    "g0 = {'y': {ant: np.ones((nint,nchan),dtype=complex) for ant in ia.antNames}}\n",
    "v0 = {'yy': {ublGroup[0]: np.ones((nint,nchan),dtype=complex) for ublGroup in ia.ublGroups}}\n",
    "gSol, vSol = cal.Omnical(fcData, g0, v0, pol='y', times = [0], chans = range(300,600))"
   ]
  },
  {
   "cell_type": "code",
   "execution_count": null,
   "metadata": {
    "ExecuteTime": {
     "start_time": "2017-04-06T19:25:10.640Z"
    },
    "collapsed": false,
    "run_control": {
     "frozen": false,
     "read_only": false
    },
    "scrolled": false
   },
   "outputs": [],
   "source": [
    "# plt.figure()\n",
    "# plt.plot(np.unwrap(np.angle(vSol['xx'][cal.ublIndex2VisKey[0]][0][300:600])))\n",
    "# plt.plot(np.unwrap(np.angle(vSol['xx'][cal.ublIndex2VisKey[1]][0][300:600])))\n",
    "# plt.plot(np.unwrap(np.angle(vSol['xx'][cal.ublIndex2VisKey[2]][0][300:600])))\n",
    "# plt.legend([cal.ublIndex2VisKey[n] for n in range(3)], loc=0)\n",
    "\n",
    "plt.figure(figsize=(12,4))\n",
    "plt.plot(range(300,600),flags[0,300:600])\n",
    "plt.plot(range(300,600),m2['chisq'][0,300:600])\n",
    "plt.xlim([300,650]);# plt.ylim([-2,2])\n",
    "\n",
    "plt.figure(figsize=(12,4))\n",
    "for antName in cal.a.antNames:\n",
    "    plt.plot(range(300,600), (np.angle(gSol['y'][antName][0][300:600])), label=antName)\n",
    "plt.xlim([300,650]); plt.ylim([-1,1])\n",
    "plt.title('My Calibration')\n",
    "plt.legend(loc=0)\n",
    "\n",
    "plt.figure(figsize=(12,4))\n",
    "for antName in cal.a.antNames:\n",
    "#    plt.plot(range(300,600), np.unwrap(np.angle(g2['y'][antName][0][300:600])), label=antName)\n",
    "    #plt.plot(range(300,600), np.unwrap(np.angle(apg['y'][antName][0][300:600])), label=antName)\n",
    "    plt.plot((np.angle(apg['y'][antName][0])), label=antName)\n",
    "plt.xlim([300,650]); \n",
    "plt.ylim([-1,1])\n",
    "plt.title(\"Omnical RemoveDegen=False + Aaron's Correction\")\n",
    "plt.legend(loc=1)\n",
    "\n",
    "\n",
    "plt.figure(figsize=(12,4))\n",
    "for antName in cal.a.antNames:\n",
    "    #plt.plot(range(300,600), np.unwrap(np.angle(g2t['y'][antName][0][300:600])), label=antName)\n",
    "    plt.plot((np.angle(g2t['y'][antName][0])), label=antName)\n",
    "plt.xlim([300,650]); \n",
    "plt.ylim([-1,1])\n",
    "plt.title('Omnical RemoveDegen=True')\n",
    "plt.legend(loc=1)\n",
    "\n",
    "\n",
    "#TODO:\n",
    "#compare g2 to apg\n",
    "\n",
    "\n",
    "\n",
    "#print g0['x'][9][0][290:310]\n",
    "#print gSol['x'][9][0][290:310]"
   ]
  },
  {
   "cell_type": "markdown",
   "metadata": {
    "run_control": {
     "frozen": false,
     "read_only": false
    }
   },
   "source": [
    "# Simulation"
   ]
  },
  {
   "cell_type": "code",
   "execution_count": null,
   "metadata": {
    "ExecuteTime": {
     "start_time": "2017-04-06T19:25:10.641Z"
    },
    "code_folding": [],
    "collapsed": false,
    "run_control": {
     "frozen": false,
     "read_only": false
    }
   },
   "outputs": [],
   "source": [
    "# #SETTINGS\n",
    "# np.random.seed(6)\n",
    "# noiseLevel = 0.0\n",
    "# gainLevel = .4 #exponential amplitude std\n",
    "# delayErrorLevel = 10.150 #in ns\n",
    "# nchan = 20\n",
    "# separation = 14.7\n",
    "# hexNum = 3\n",
    "# verbose = False\n",
    "\n",
    "# #Create array and channel independent quantities\n",
    "# ha = HexagonalArray(separation, hexNum, verbose=False)\n",
    "# ha.CalculateUBLs()\n",
    "# freqs = .1 + .1*np.arange(nchan)/nchan #in GHz\n",
    "# delayErrors = delayErrorLevel*np.random.randn(ha.nant) #in ns\n",
    "# gainAmplitudes = np.exp(gainLevel*np.random.randn(ha.nant))\n",
    "# overallVis = 1.0*(np.random.randn(ha.nubl) + 1.0j*np.random.randn(ha.nubl))\n",
    "\n",
    "\n",
    "# #overallVis = 0*overallVis +  1*np.exp(1.0j * ha.ublVectors.dot([0, 1.8, 0]))\n",
    "\n",
    "\n",
    "# #Create observation\n",
    "# allGains, allTrueVis, allObsVis = [], [], []\n",
    "# allGuessGains, allGuessVis = [], []\n",
    "# for chan in range(nchan):\n",
    "#     #Gains\n",
    "#     gains = gainAmplitudes * np.exp(2.0j*np.pi*delayErrors*(freqs[chan]))\n",
    "#     guessGains = np.ones_like(gains)\n",
    "#     allGains.append(gains); allGuessGains.append(guessGains)\n",
    "    \n",
    "#     #Visibilities\n",
    "#     trueVis = overallVis.copy()\n",
    "#     guessVis = np.ones_like(trueVis) \n",
    "#     #guessVis = overallVis.copy()\n",
    "#     allTrueVis.append(trueVis); allGuessVis.append(guessVis)\n",
    "    \n",
    "#     #Simulate Observations\n",
    "#     noiselessVis = np.array([gains[ant1] * np.conj(gains[ant2]) * trueVis[ha.indices2ublIndex[(ant1,ant2)]] for (ant1,ant2) in ha.blIndexPairs])\n",
    "#     noise = noiseLevel*(np.random.randn(ha.nbl) + 1.0j*np.random.randn(ha.nbl))\n",
    "#     obsVis = np.array(noiselessVis) + noise\n",
    "#     allObsVis.append(obsVis)\n",
    "    \n",
    "# cal = OmniCalibrator(ha, verbose=verbose)\n",
    "\n",
    "# allGainSols, allVisSols, allGainSols2, allVisSols2  = [], [], [], []\n",
    "# trueDegens, inputDegens, outputDegens, outputDegens2 = [np.zeros((nchan,4)) for i in range(4)]\n",
    "\n",
    "# for chan in tqdm(range(nchan)):\n",
    "#     obsVis, guessGains, guessVis = allObsVis[chan], allGuessGains[chan], allGuessVis[chan]\n",
    "    \n",
    "#     if chan==0: gainStart, visStart = cal.PerformLogcal(obsVis, guessGains, guessVis)        \n",
    "#     else: gainStart, visStart = allGainSols[chan-1], allVisSols[chan-1]\n",
    "#     gainSols, visSols = cal.PerformLincal(obsVis, gainStart, visStart, guessGains, guessVis, realImagMode=True, maxIter=100)\n",
    "    \n",
    "#     if chan==0: gainStart, visStart = cal.PerformLogcal(obsVis, guessGains, guessVis)\n",
    "#     else: gainStart, visStart = allGainSols2[chan-1], allVisSols2[chan-1]\n",
    "#     gainSols2, visSols2 = cal.PerformLincal(obsVis, gainStart, visStart, guessGains, guessVis, realImagMode=False, maxIter=100)\n",
    "\n",
    "#     allGainSols.append(gainSols); allVisSols.append(visSols)\n",
    "#     allGainSols2.append(gainSols2); allVisSols2.append(visSols2)\n",
    "    \n",
    "# allGainSols, allVisSols = cal.OverallBandpassDegeneracyProjection(allGainSols, allVisSols, allGuessGains, allGuessVis)\n",
    "# allGainSols2, allVisSols2 = cal.OverallBandpassDegeneracyProjection(allGainSols2, allVisSols2, allGuessGains, allGuessVis)\n",
    "\n",
    "# print np.mean(np.abs(cal.ComputeErrors(obsVis, gainSols, visSols))**2)"
   ]
  },
  {
   "cell_type": "code",
   "execution_count": null,
   "metadata": {
    "collapsed": true,
    "run_control": {
     "frozen": false,
     "read_only": false
    }
   },
   "outputs": [],
   "source": []
  },
  {
   "cell_type": "code",
   "execution_count": null,
   "metadata": {
    "ExecuteTime": {
     "end_time": "2017-03-15T13:05:34.669087",
     "start_time": "2017-03-15T13:05:34.661756"
    },
    "collapsed": false,
    "run_control": {
     "frozen": false,
     "read_only": false
    }
   },
   "outputs": [],
   "source": []
  }
 ],
 "metadata": {
  "kernelspec": {
   "display_name": "Python 2",
   "language": "python",
   "name": "python2"
  },
  "language_info": {
   "codemirror_mode": {
    "name": "ipython",
    "version": 2
   },
   "file_extension": ".py",
   "mimetype": "text/x-python",
   "name": "python",
   "nbconvert_exporter": "python",
   "pygments_lexer": "ipython2",
   "version": "2.7.11"
  }
 },
 "nbformat": 4,
 "nbformat_minor": 2
}
