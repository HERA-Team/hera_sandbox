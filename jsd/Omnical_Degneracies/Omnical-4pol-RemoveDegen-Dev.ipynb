{
 "cells": [
  {
   "cell_type": "code",
   "execution_count": 13,
   "metadata": {
    "ExecuteTime": {
     "end_time": "2017-07-08T01:02:34.101275Z",
     "start_time": "2017-07-08T01:02:34.089712Z"
    },
    "run_control": {
     "frozen": false,
     "read_only": false
    }
   },
   "outputs": [
    {
     "ename": "SyntaxError",
     "evalue": "invalid syntax (omni.py, line 372)",
     "output_type": "error",
     "traceback": [
      "\u001b[0;36m  File \u001b[0;32m\"/Users/jsdillon/anaconda2/lib/python2.7/site-packages/hera_cal-0.0.0-py2.7.egg/hera_cal/omni.py\"\u001b[0;36m, line \u001b[0;32m372\u001b[0m\n\u001b[0;31m    Rgains = np.hstack((positions), np.ones(())) np.array([np.append(pos,1.0) for pos in positions])\u001b[0m\n\u001b[0m                                                  ^\u001b[0m\n\u001b[0;31mSyntaxError\u001b[0m\u001b[0;31m:\u001b[0m invalid syntax\n"
     ]
    }
   ],
   "source": [
    "import nose.tools as nt\n",
    "import os\n",
    "import sys\n",
    "import numpy as np\n",
    "import optparse\n",
    "import shutil\n",
    "import re\n",
    "from copy import deepcopy\n",
    "import aipy\n",
    "from omnical.calib import RedundantInfo\n",
    "from pyuvdata import UVCal, UVData\n",
    "import hera_cal.omni as omni\n",
    "reload(omni)\n",
    "from hera_cal.data import DATA_PATH\n",
    "from hera_cal.calibrations import CAL_PATH"
   ]
  },
  {
   "cell_type": "code",
   "execution_count": null,
   "metadata": {
    "ExecuteTime": {
     "start_time": "2017-07-08T01:02:34.272Z"
    },
    "run_control": {
     "frozen": false,
     "read_only": false
    },
    "scrolled": true
   },
   "outputs": [
    {
     "name": "stdout",
     "output_type": "stream",
     "text": [
      "Getting reds from calfile\n",
      "   Excluding antennas: [81]\n",
      "/Users/jsdillon/anaconda2/lib/python2.7/site-packages/hera_cal-0.0.0-py2.7.egg/hera_cal/data/test_input/zen.2457698.40355.xx.HH.uvcA.first.calfits\n",
      "/Users/jsdillon/anaconda2/lib/python2.7/site-packages/hera_cal-0.0.0-py2.7.egg/hera_cal/data/test_input/zen.2457698.40355.yy.HH.uvcA.first.calfits\n",
      "   Running Omnical\n",
      "Python 2.7.13 |Anaconda custom (x86_64)| (default, Dec 20 2016, 23:05:08) \n",
      "Type \"copyright\", \"credits\" or \"license\" for more information.\n",
      "\n",
      "IPython 5.3.0 -- An enhanced Interactive Python.\n",
      "?         -> Introduction and overview of IPython's features.\n",
      "%quickref -> Quick reference.\n",
      "help      -> Python's own help system.\n",
      "object?   -> Details about 'object', use 'object??' for extra details.\n",
      "\n",
      "In [1]: positions.shape\n",
      "Out[1]: (36, 2)\n",
      "\n",
      "In [2]: np.hstack(positions, np.ones(36))\n",
      "\u001b[0;31m---------------------------------------------------------------------------\u001b[0m\n",
      "\u001b[0;31mTypeError\u001b[0m                                 Traceback (most recent call last)\n",
      "\u001b[0;32m/Users/jsdillon/anaconda2/lib/python2.7/site-packages/hera_cal-0.0.0-py2.7.egg/hera_cal/omni.pyc\u001b[0m in \u001b[0;36m<module>\u001b[0;34m()\u001b[0m\n",
      "\u001b[0;32m----> 1\u001b[0;31m \u001b[0mnp\u001b[0m\u001b[0;34m.\u001b[0m\u001b[0mhstack\u001b[0m\u001b[0;34m(\u001b[0m\u001b[0mpositions\u001b[0m\u001b[0;34m,\u001b[0m \u001b[0mnp\u001b[0m\u001b[0;34m.\u001b[0m\u001b[0mones\u001b[0m\u001b[0;34m(\u001b[0m\u001b[0;36m36\u001b[0m\u001b[0;34m)\u001b[0m\u001b[0;34m)\u001b[0m\u001b[0;34m\u001b[0m\u001b[0m\n",
      "\u001b[0m\n",
      "\u001b[0;31mTypeError\u001b[0m: hstack() takes exactly 1 argument (2 given)\n",
      "\n",
      "In [3]: np.hstack((positions, np.ones(36)))\n",
      "\u001b[0;31m---------------------------------------------------------------------------\u001b[0m\n",
      "\u001b[0;31mValueError\u001b[0m                                Traceback (most recent call last)\n",
      "\u001b[0;32m/Users/jsdillon/anaconda2/lib/python2.7/site-packages/hera_cal-0.0.0-py2.7.egg/hera_cal/omni.pyc\u001b[0m in \u001b[0;36m<module>\u001b[0;34m()\u001b[0m\n",
      "\u001b[0;32m----> 1\u001b[0;31m \u001b[0mnp\u001b[0m\u001b[0;34m.\u001b[0m\u001b[0mhstack\u001b[0m\u001b[0;34m(\u001b[0m\u001b[0;34m(\u001b[0m\u001b[0mpositions\u001b[0m\u001b[0;34m,\u001b[0m \u001b[0mnp\u001b[0m\u001b[0;34m.\u001b[0m\u001b[0mones\u001b[0m\u001b[0;34m(\u001b[0m\u001b[0;36m36\u001b[0m\u001b[0;34m)\u001b[0m\u001b[0;34m)\u001b[0m\u001b[0;34m)\u001b[0m\u001b[0;34m\u001b[0m\u001b[0m\n",
      "\u001b[0m\n",
      "\u001b[0;32m/Users/jsdillon/.local/lib/python2.7/site-packages/numpy/core/shape_base.pyc\u001b[0m in \u001b[0;36mhstack\u001b[0;34m(tup)\u001b[0m\n",
      "\u001b[1;32m    286\u001b[0m         \u001b[0;32mreturn\u001b[0m \u001b[0m_nx\u001b[0m\u001b[0;34m.\u001b[0m\u001b[0mconcatenate\u001b[0m\u001b[0;34m(\u001b[0m\u001b[0marrs\u001b[0m\u001b[0;34m,\u001b[0m \u001b[0;36m0\u001b[0m\u001b[0;34m)\u001b[0m\u001b[0;34m\u001b[0m\u001b[0m\n",
      "\u001b[1;32m    287\u001b[0m     \u001b[0;32melse\u001b[0m\u001b[0;34m:\u001b[0m\u001b[0;34m\u001b[0m\u001b[0m\n",
      "\u001b[0;32m--> 288\u001b[0;31m         \u001b[0;32mreturn\u001b[0m \u001b[0m_nx\u001b[0m\u001b[0;34m.\u001b[0m\u001b[0mconcatenate\u001b[0m\u001b[0;34m(\u001b[0m\u001b[0marrs\u001b[0m\u001b[0;34m,\u001b[0m \u001b[0;36m1\u001b[0m\u001b[0;34m)\u001b[0m\u001b[0;34m\u001b[0m\u001b[0m\n",
      "\u001b[0m\u001b[1;32m    289\u001b[0m \u001b[0;34m\u001b[0m\u001b[0m\n",
      "\u001b[1;32m    290\u001b[0m \u001b[0;32mdef\u001b[0m \u001b[0mstack\u001b[0m\u001b[0;34m(\u001b[0m\u001b[0marrays\u001b[0m\u001b[0;34m,\u001b[0m \u001b[0maxis\u001b[0m\u001b[0;34m=\u001b[0m\u001b[0;36m0\u001b[0m\u001b[0;34m)\u001b[0m\u001b[0;34m:\u001b[0m\u001b[0;34m\u001b[0m\u001b[0m\n",
      "\n",
      "\u001b[0;31mValueError\u001b[0m: all the input arrays must have same number of dimensions\n",
      "\n",
      "In [4]: np.hstack(positions, np.ones(1,36))\n",
      "\u001b[0;31m---------------------------------------------------------------------------\u001b[0m\n",
      "\u001b[0;31mTypeError\u001b[0m                                 Traceback (most recent call last)\n",
      "\u001b[0;32m/Users/jsdillon/anaconda2/lib/python2.7/site-packages/hera_cal-0.0.0-py2.7.egg/hera_cal/omni.pyc\u001b[0m in \u001b[0;36m<module>\u001b[0;34m()\u001b[0m\n",
      "\u001b[0;32m----> 1\u001b[0;31m \u001b[0mnp\u001b[0m\u001b[0;34m.\u001b[0m\u001b[0mhstack\u001b[0m\u001b[0;34m(\u001b[0m\u001b[0mpositions\u001b[0m\u001b[0;34m,\u001b[0m \u001b[0mnp\u001b[0m\u001b[0;34m.\u001b[0m\u001b[0mones\u001b[0m\u001b[0;34m(\u001b[0m\u001b[0;36m1\u001b[0m\u001b[0;34m,\u001b[0m\u001b[0;36m36\u001b[0m\u001b[0;34m)\u001b[0m\u001b[0;34m)\u001b[0m\u001b[0;34m\u001b[0m\u001b[0m\n",
      "\u001b[0m\n",
      "\u001b[0;32m/Users/jsdillon/.local/lib/python2.7/site-packages/numpy/core/numeric.pyc\u001b[0m in \u001b[0;36mones\u001b[0;34m(shape, dtype, order)\u001b[0m\n",
      "\u001b[1;32m    190\u001b[0m \u001b[0;34m\u001b[0m\u001b[0m\n",
      "\u001b[1;32m    191\u001b[0m     \"\"\"\n",
      "\u001b[0;32m--> 192\u001b[0;31m     \u001b[0ma\u001b[0m \u001b[0;34m=\u001b[0m \u001b[0mempty\u001b[0m\u001b[0;34m(\u001b[0m\u001b[0mshape\u001b[0m\u001b[0;34m,\u001b[0m \u001b[0mdtype\u001b[0m\u001b[0;34m,\u001b[0m \u001b[0morder\u001b[0m\u001b[0;34m)\u001b[0m\u001b[0;34m\u001b[0m\u001b[0m\n",
      "\u001b[0m\u001b[1;32m    193\u001b[0m     \u001b[0mmultiarray\u001b[0m\u001b[0;34m.\u001b[0m\u001b[0mcopyto\u001b[0m\u001b[0;34m(\u001b[0m\u001b[0ma\u001b[0m\u001b[0;34m,\u001b[0m \u001b[0;36m1\u001b[0m\u001b[0;34m,\u001b[0m \u001b[0mcasting\u001b[0m\u001b[0;34m=\u001b[0m\u001b[0;34m'unsafe'\u001b[0m\u001b[0;34m)\u001b[0m\u001b[0;34m\u001b[0m\u001b[0m\n",
      "\u001b[1;32m    194\u001b[0m     \u001b[0;32mreturn\u001b[0m \u001b[0ma\u001b[0m\u001b[0;34m\u001b[0m\u001b[0m\n",
      "\n",
      "\u001b[0;31mTypeError\u001b[0m: data type not understood\n",
      "\n",
      "In [5]: np.hstack((positions, np.ones((1,36))))\n",
      "\u001b[0;31m---------------------------------------------------------------------------\u001b[0m\n",
      "\u001b[0;31mValueError\u001b[0m                                Traceback (most recent call last)\n",
      "\u001b[0;32m/Users/jsdillon/anaconda2/lib/python2.7/site-packages/hera_cal-0.0.0-py2.7.egg/hera_cal/omni.pyc\u001b[0m in \u001b[0;36m<module>\u001b[0;34m()\u001b[0m\n",
      "\u001b[0;32m----> 1\u001b[0;31m \u001b[0mnp\u001b[0m\u001b[0;34m.\u001b[0m\u001b[0mhstack\u001b[0m\u001b[0;34m(\u001b[0m\u001b[0;34m(\u001b[0m\u001b[0mpositions\u001b[0m\u001b[0;34m,\u001b[0m \u001b[0mnp\u001b[0m\u001b[0;34m.\u001b[0m\u001b[0mones\u001b[0m\u001b[0;34m(\u001b[0m\u001b[0;34m(\u001b[0m\u001b[0;36m1\u001b[0m\u001b[0;34m,\u001b[0m\u001b[0;36m36\u001b[0m\u001b[0;34m)\u001b[0m\u001b[0;34m)\u001b[0m\u001b[0;34m)\u001b[0m\u001b[0;34m)\u001b[0m\u001b[0;34m\u001b[0m\u001b[0m\n",
      "\u001b[0m\n",
      "\u001b[0;32m/Users/jsdillon/.local/lib/python2.7/site-packages/numpy/core/shape_base.pyc\u001b[0m in \u001b[0;36mhstack\u001b[0;34m(tup)\u001b[0m\n",
      "\u001b[1;32m    286\u001b[0m         \u001b[0;32mreturn\u001b[0m \u001b[0m_nx\u001b[0m\u001b[0;34m.\u001b[0m\u001b[0mconcatenate\u001b[0m\u001b[0;34m(\u001b[0m\u001b[0marrs\u001b[0m\u001b[0;34m,\u001b[0m \u001b[0;36m0\u001b[0m\u001b[0;34m)\u001b[0m\u001b[0;34m\u001b[0m\u001b[0m\n",
      "\u001b[1;32m    287\u001b[0m     \u001b[0;32melse\u001b[0m\u001b[0;34m:\u001b[0m\u001b[0;34m\u001b[0m\u001b[0m\n",
      "\u001b[0;32m--> 288\u001b[0;31m         \u001b[0;32mreturn\u001b[0m \u001b[0m_nx\u001b[0m\u001b[0;34m.\u001b[0m\u001b[0mconcatenate\u001b[0m\u001b[0;34m(\u001b[0m\u001b[0marrs\u001b[0m\u001b[0;34m,\u001b[0m \u001b[0;36m1\u001b[0m\u001b[0;34m)\u001b[0m\u001b[0;34m\u001b[0m\u001b[0m\n",
      "\u001b[0m\u001b[1;32m    289\u001b[0m \u001b[0;34m\u001b[0m\u001b[0m\n",
      "\u001b[1;32m    290\u001b[0m \u001b[0;32mdef\u001b[0m \u001b[0mstack\u001b[0m\u001b[0;34m(\u001b[0m\u001b[0marrays\u001b[0m\u001b[0;34m,\u001b[0m \u001b[0maxis\u001b[0m\u001b[0;34m=\u001b[0m\u001b[0;36m0\u001b[0m\u001b[0;34m)\u001b[0m\u001b[0;34m:\u001b[0m\u001b[0;34m\u001b[0m\u001b[0m\n",
      "\n",
      "\u001b[0;31mValueError\u001b[0m: all the input array dimensions except for the concatenation axis must match exactly\n",
      "\n",
      "In [6]: np.hstack((positions, np.ones((36,1))))\n",
      "Out[6]: \n",
      "array([[-21.89999962, -12.64397049,   1.        ],\n",
      "       [ 21.89999962, -12.64397049,   1.        ],\n",
      "       [  0.        ,  25.28794098,   1.        ],\n",
      "       [ 14.60000038,  25.28794098,   1.        ],\n",
      "       [-14.60000038,  25.28794098,   1.        ],\n",
      "       [-14.60000038,   0.        ,   1.        ],\n",
      "       [ 21.89999962,  12.64397049,   1.        ],\n",
      "       [ 29.20000076,   0.        ,   1.        ],\n",
      "       [ 14.60000038, -25.28794098,   1.        ],\n",
      "       [-14.60000038, -25.28794098,   1.        ],\n",
      "       [  0.        , -25.28794098,   1.        ],\n",
      "       [  0.        ,   0.        ,   1.        ],\n",
      "       [ -7.30000019, -12.64397049,   1.        ],\n",
      "       [ -7.30000019,  12.64397049,   1.        ],\n",
      "       [-21.89999962,  12.64397049,   1.        ],\n",
      "       [-29.20000076,   0.        ,   1.        ],\n",
      "       [ 14.60000038,   0.        ,   1.        ],\n",
      "       [  7.30000019, -12.64397049,   1.        ],\n",
      "       [-21.89999962, -12.64397049,   1.        ],\n",
      "       [ 21.89999962, -12.64397049,   1.        ],\n",
      "       [-14.60000038, -25.28794098,   1.        ],\n",
      "       [ 14.60000038,  25.28794098,   1.        ],\n",
      "       [-14.60000038,  25.28794098,   1.        ],\n",
      "       [-14.60000038,   0.        ,   1.        ],\n",
      "       [ 21.89999962,  12.64397049,   1.        ],\n",
      "       [ 29.20000076,   0.        ,   1.        ],\n",
      "       [ 14.60000038, -25.28794098,   1.        ],\n",
      "       [  0.        ,  25.28794098,   1.        ],\n",
      "       [  0.        , -25.28794098,   1.        ],\n",
      "       [  0.        ,   0.        ,   1.        ],\n",
      "       [ -7.30000019, -12.64397049,   1.        ],\n",
      "       [ -7.30000019,  12.64397049,   1.        ],\n",
      "       [-21.89999962,  12.64397049,   1.        ],\n",
      "       [-29.20000076,   0.        ,   1.        ],\n",
      "       [ 14.60000038,   0.        ,   1.        ],\n",
      "       [  7.30000019, -12.64397049,   1.        ]])\n",
      "\n",
      "In [7]: np.hstack((positions, np.ones((36,1)),np.ones((36,1))))\n",
      "Out[7]: \n",
      "array([[-21.89999962, -12.64397049,   1.        ,   1.        ],\n",
      "       [ 21.89999962, -12.64397049,   1.        ,   1.        ],\n",
      "       [  0.        ,  25.28794098,   1.        ,   1.        ],\n",
      "       [ 14.60000038,  25.28794098,   1.        ,   1.        ],\n",
      "       [-14.60000038,  25.28794098,   1.        ,   1.        ],\n",
      "       [-14.60000038,   0.        ,   1.        ,   1.        ],\n",
      "       [ 21.89999962,  12.64397049,   1.        ,   1.        ],\n",
      "       [ 29.20000076,   0.        ,   1.        ,   1.        ],\n",
      "       [ 14.60000038, -25.28794098,   1.        ,   1.        ],\n",
      "       [-14.60000038, -25.28794098,   1.        ,   1.        ],\n",
      "       [  0.        , -25.28794098,   1.        ,   1.        ],\n",
      "       [  0.        ,   0.        ,   1.        ,   1.        ],\n",
      "       [ -7.30000019, -12.64397049,   1.        ,   1.        ],\n",
      "       [ -7.30000019,  12.64397049,   1.        ,   1.        ],\n",
      "       [-21.89999962,  12.64397049,   1.        ,   1.        ],\n",
      "       [-29.20000076,   0.        ,   1.        ,   1.        ],\n",
      "       [ 14.60000038,   0.        ,   1.        ,   1.        ],\n",
      "       [  7.30000019, -12.64397049,   1.        ,   1.        ],\n",
      "       [-21.89999962, -12.64397049,   1.        ,   1.        ],\n",
      "       [ 21.89999962, -12.64397049,   1.        ,   1.        ],\n",
      "       [-14.60000038, -25.28794098,   1.        ,   1.        ],\n",
      "       [ 14.60000038,  25.28794098,   1.        ,   1.        ],\n",
      "       [-14.60000038,  25.28794098,   1.        ,   1.        ],\n",
      "       [-14.60000038,   0.        ,   1.        ,   1.        ],\n",
      "       [ 21.89999962,  12.64397049,   1.        ,   1.        ],\n",
      "       [ 29.20000076,   0.        ,   1.        ,   1.        ],\n",
      "       [ 14.60000038, -25.28794098,   1.        ,   1.        ],\n",
      "       [  0.        ,  25.28794098,   1.        ,   1.        ],\n",
      "       [  0.        , -25.28794098,   1.        ,   1.        ],\n",
      "       [  0.        ,   0.        ,   1.        ,   1.        ],\n",
      "       [ -7.30000019, -12.64397049,   1.        ,   1.        ],\n",
      "       [ -7.30000019,  12.64397049,   1.        ,   1.        ],\n",
      "       [-21.89999962,  12.64397049,   1.        ,   1.        ],\n",
      "       [-29.20000076,   0.        ,   1.        ,   1.        ],\n",
      "       [ 14.60000038,   0.        ,   1.        ,   1.        ],\n",
      "       [  7.30000019, -12.64397049,   1.        ,   1.        ]])\n"
     ]
    },
    {
     "name": "stdout",
     "output_type": "stream",
     "text": [
      "\n",
      "In [8]: gainPols=='x'\n",
      "Out[8]: \n",
      "array([ True,  True,  True,  True,  True,  True,  True,  True,  True,\n",
      "        True,  True,  True,  True,  True,  True,  True,  True,  True,\n",
      "       False, False, False, False, False, False, False, False, False,\n",
      "       False, False, False, False, False, False, False, False, False], dtype=bool)\n",
      "\n",
      "In [9]: hstack((gainPols=='x',gainPols=='y'))\n",
      "\u001b[0;31m---------------------------------------------------------------------------\u001b[0m\n",
      "\u001b[0;31mNameError\u001b[0m                                 Traceback (most recent call last)\n",
      "\u001b[0;32m/Users/jsdillon/anaconda2/lib/python2.7/site-packages/hera_cal-0.0.0-py2.7.egg/hera_cal/omni.pyc\u001b[0m in \u001b[0;36m<module>\u001b[0;34m()\u001b[0m\n",
      "\u001b[0;32m----> 1\u001b[0;31m \u001b[0mhstack\u001b[0m\u001b[0;34m(\u001b[0m\u001b[0;34m(\u001b[0m\u001b[0mgainPols\u001b[0m\u001b[0;34m==\u001b[0m\u001b[0;34m'x'\u001b[0m\u001b[0;34m,\u001b[0m\u001b[0mgainPols\u001b[0m\u001b[0;34m==\u001b[0m\u001b[0;34m'y'\u001b[0m\u001b[0;34m)\u001b[0m\u001b[0;34m)\u001b[0m\u001b[0;34m\u001b[0m\u001b[0m\n",
      "\u001b[0m\n",
      "\u001b[0;31mNameError\u001b[0m: name 'hstack' is not defined\n",
      "\n",
      "In [10]: np.hstack((gainPols=='x',gainPols=='y'))\n",
      "Out[10]: \n",
      "array([ True,  True,  True,  True,  True,  True,  True,  True,  True,\n",
      "        True,  True,  True,  True,  True,  True,  True,  True,  True,\n",
      "       False, False, False, False, False, False, False, False, False,\n",
      "       False, False, False, False, False, False, False, False, False,\n",
      "       False, False, False, False, False, False, False, False, False,\n",
      "       False, False, False, False, False, False, False, False, False,\n",
      "        True,  True,  True,  True,  True,  True,  True,  True,  True,\n",
      "        True,  True,  True,  True,  True,  True,  True,  True,  True], dtype=bool)\n",
      "\n",
      "In [11]: np.vstack((gainPols=='x',gainPols=='y'))\n",
      "Out[11]: \n",
      "array([[ True,  True,  True,  True,  True,  True,  True,  True,  True,\n",
      "         True,  True,  True,  True,  True,  True,  True,  True,  True,\n",
      "        False, False, False, False, False, False, False, False, False,\n",
      "        False, False, False, False, False, False, False, False, False],\n",
      "       [False, False, False, False, False, False, False, False, False,\n",
      "        False, False, False, False, False, False, False, False, False,\n",
      "         True,  True,  True,  True,  True,  True,  True,  True,  True,\n",
      "         True,  True,  True,  True,  True,  True,  True,  True,  True]], dtype=bool)\n",
      "\n",
      "In [12]: np.vstack((gainPols=='x',gainPols=='y')).T\n",
      "Out[12]: \n",
      "array([[ True, False],\n",
      "       [ True, False],\n",
      "       [ True, False],\n",
      "       [ True, False],\n",
      "       [ True, False],\n",
      "       [ True, False],\n",
      "       [ True, False],\n",
      "       [ True, False],\n",
      "       [ True, False],\n",
      "       [ True, False],\n",
      "       [ True, False],\n",
      "       [ True, False],\n",
      "       [ True, False],\n",
      "       [ True, False],\n",
      "       [ True, False],\n",
      "       [ True, False],\n",
      "       [ True, False],\n",
      "       [ True, False],\n",
      "       [False,  True],\n",
      "       [False,  True],\n",
      "       [False,  True],\n",
      "       [False,  True],\n",
      "       [False,  True],\n",
      "       [False,  True],\n",
      "       [False,  True],\n",
      "       [False,  True],\n",
      "       [False,  True],\n",
      "       [False,  True],\n",
      "       [False,  True],\n",
      "       [False,  True],\n",
      "       [False,  True],\n",
      "       [False,  True],\n",
      "       [False,  True],\n",
      "       [False,  True],\n",
      "       [False,  True],\n",
      "       [False,  True]], dtype=bool)\n",
      "\n",
      "In [13]: np.hstack((-bl_vecs, np.zeros((len(bl_pairs),2))))\n",
      "\u001b[0;31m---------------------------------------------------------------------------\u001b[0m\n",
      "\u001b[0;31mValueError\u001b[0m                                Traceback (most recent call last)\n",
      "\u001b[0;32m/Users/jsdillon/anaconda2/lib/python2.7/site-packages/hera_cal-0.0.0-py2.7.egg/hera_cal/omni.pyc\u001b[0m in \u001b[0;36m<module>\u001b[0;34m()\u001b[0m\n",
      "\u001b[0;32m----> 1\u001b[0;31m \u001b[0mnp\u001b[0m\u001b[0;34m.\u001b[0m\u001b[0mhstack\u001b[0m\u001b[0;34m(\u001b[0m\u001b[0;34m(\u001b[0m\u001b[0;34m-\u001b[0m\u001b[0mbl_vecs\u001b[0m\u001b[0;34m,\u001b[0m \u001b[0mnp\u001b[0m\u001b[0;34m.\u001b[0m\u001b[0mzeros\u001b[0m\u001b[0;34m(\u001b[0m\u001b[0;34m(\u001b[0m\u001b[0mlen\u001b[0m\u001b[0;34m(\u001b[0m\u001b[0mbl_pairs\u001b[0m\u001b[0;34m)\u001b[0m\u001b[0;34m,\u001b[0m\u001b[0;36m2\u001b[0m\u001b[0;34m)\u001b[0m\u001b[0;34m)\u001b[0m\u001b[0;34m)\u001b[0m\u001b[0;34m)\u001b[0m\u001b[0;34m\u001b[0m\u001b[0m\n",
      "\u001b[0m\n",
      "\u001b[0;32m/Users/jsdillon/.local/lib/python2.7/site-packages/numpy/core/shape_base.pyc\u001b[0m in \u001b[0;36mhstack\u001b[0;34m(tup)\u001b[0m\n",
      "\u001b[1;32m    286\u001b[0m         \u001b[0;32mreturn\u001b[0m \u001b[0m_nx\u001b[0m\u001b[0;34m.\u001b[0m\u001b[0mconcatenate\u001b[0m\u001b[0;34m(\u001b[0m\u001b[0marrs\u001b[0m\u001b[0;34m,\u001b[0m \u001b[0;36m0\u001b[0m\u001b[0;34m)\u001b[0m\u001b[0;34m\u001b[0m\u001b[0m\n",
      "\u001b[1;32m    287\u001b[0m     \u001b[0;32melse\u001b[0m\u001b[0;34m:\u001b[0m\u001b[0;34m\u001b[0m\u001b[0m\n",
      "\u001b[0;32m--> 288\u001b[0;31m         \u001b[0;32mreturn\u001b[0m \u001b[0m_nx\u001b[0m\u001b[0;34m.\u001b[0m\u001b[0mconcatenate\u001b[0m\u001b[0;34m(\u001b[0m\u001b[0marrs\u001b[0m\u001b[0;34m,\u001b[0m \u001b[0;36m1\u001b[0m\u001b[0;34m)\u001b[0m\u001b[0;34m\u001b[0m\u001b[0m\n",
      "\u001b[0m\u001b[1;32m    289\u001b[0m \u001b[0;34m\u001b[0m\u001b[0m\n",
      "\u001b[1;32m    290\u001b[0m \u001b[0;32mdef\u001b[0m \u001b[0mstack\u001b[0m\u001b[0;34m(\u001b[0m\u001b[0marrays\u001b[0m\u001b[0;34m,\u001b[0m \u001b[0maxis\u001b[0m\u001b[0;34m=\u001b[0m\u001b[0;36m0\u001b[0m\u001b[0;34m)\u001b[0m\u001b[0;34m:\u001b[0m\u001b[0;34m\u001b[0m\u001b[0m\n",
      "\n",
      "\u001b[0;31mValueError\u001b[0m: all the input array dimensions except for the concatenation axis must match exactly\n",
      "\n",
      "In [14]: bl_vecs.shape\n",
      "Out[14]: (108, 2)\n",
      "\n",
      "In [15]: np.zeros((len(bl_pairs),2)).shape\n",
      "Out[15]: (4, 2)\n",
      "\n"
     ]
    }
   ],
   "source": [
    "\n",
    "\n",
    "# multi pol tests\n",
    "global visXX, visXY, visYX, visYY\n",
    "global fcalXX, fcalYY\n",
    "calfile = 'hsa7458_v001'\n",
    "visXX = 'zen.2457698.40355.xx.HH.uvcA'\n",
    "visXY = 'zen.2457698.40355.xy.HH.uvcA'\n",
    "visYX = 'zen.2457698.40355.yx.HH.uvcA'\n",
    "visYY = 'zen.2457698.40355.yy.HH.uvcA'\n",
    "fcalXX = 'zen.2457698.40355.xx.HH.uvcA.first.calfits'\n",
    "fcalYY = 'zen.2457698.40355.yy.HH.uvcA.first.calfits'\n",
    "if CAL_PATH not in sys.path:\n",
    "    sys.path.append(CAL_PATH)\n",
    "\n",
    "objective_file = os.path.join(DATA_PATH, 'zen.2457698.40355.HH.uvcA.omni.calfits')\n",
    "if os.path.exists(objective_file):\n",
    "    os.remove(objective_file)\n",
    "o = omni.get_optionParser('omni_run')\n",
    "visxx = os.path.join(DATA_PATH, visXX)\n",
    "visxy = os.path.join(DATA_PATH, visXY)\n",
    "visyx = os.path.join(DATA_PATH, visYX)\n",
    "visyy = os.path.join(DATA_PATH, visYY)\n",
    "fcalxx = os.path.join(DATA_PATH, 'test_input', fcalXX)\n",
    "fcalyy = os.path.join(DATA_PATH, 'test_input', fcalYY)\n",
    "\n",
    "cmd = \"-C %s -p xx,xy,yx,yy --firstcal=%s,%s --ex_ants=81 --omnipath=%s %s %s %s %s\" % (\n",
    "    calfile, fcalxx, fcalyy, DATA_PATH, visxx, visxy, visyx, visyy)\n",
    "\n",
    "opts, files = o.parse_args(cmd.split())\n",
    "history = 'history'\n",
    "omni.omni_run(files, opts, history)\n",
    "#nt.assert_true(os.path.exists(objective_file))\n",
    "# clean up\n",
    "# os.remove(objective_file)\n",
    "# visfile = re.sub('omni\\.calfits', 'vis.uvfits', objective_file)\n",
    "# xtalkfile = re.sub('omni\\.calfits', 'xtalk.uvfits', objective_file)\n",
    "# os.remove(visfile)\n",
    "# os.remove(xtalkfile)"
   ]
  },
  {
   "cell_type": "code",
   "execution_count": 12,
   "metadata": {
    "ExecuteTime": {
     "end_time": "2017-07-08T01:00:35.623499Z",
     "start_time": "2017-07-08T01:00:35.619060Z"
    }
   },
   "outputs": [
    {
     "data": {
      "text/plain": [
       "array([ 0. ,  1. ,  2. ,  0.2,  0.3])"
      ]
     },
     "execution_count": 12,
     "metadata": {},
     "output_type": "execute_result"
    }
   ],
   "source": [
    "np.append(np.arange(3),[.2,.3])"
   ]
  },
  {
   "cell_type": "code",
   "execution_count": null,
   "metadata": {
    "collapsed": true
   },
   "outputs": [],
   "source": []
  },
  {
   "cell_type": "code",
   "execution_count": null,
   "metadata": {
    "collapsed": true
   },
   "outputs": [],
   "source": []
  },
  {
   "cell_type": "code",
   "execution_count": null,
   "metadata": {
    "collapsed": true
   },
   "outputs": [],
   "source": []
  },
  {
   "cell_type": "code",
   "execution_count": null,
   "metadata": {
    "collapsed": true
   },
   "outputs": [],
   "source": []
  },
  {
   "cell_type": "code",
   "execution_count": 2,
   "metadata": {
    "ExecuteTime": {
     "end_time": "2017-07-07T21:44:12.157935Z",
     "start_time": "2017-07-07T21:44:08.488739Z"
    },
    "run_control": {
     "frozen": false,
     "read_only": false
    }
   },
   "outputs": [
    {
     "name": "stdout",
     "output_type": "stream",
     "text": [
      "Getting reds from calfile\n",
      "   Excluding antennas: [81]\n",
      "/Users/jsdillon/anaconda2/lib/python2.7/site-packages/hera_cal-0.0.0-py2.7.egg/hera_cal/data/test_input/zen.2457698.40355.xx.HH.uvcAA.first.calfits\n",
      "   Running Omnical\n",
      "['x']\n",
      "['xx']\n",
      "   Saving /Users/jsdillon/anaconda2/lib/python2.7/site-packages/hera_cal-0.0.0-py2.7.egg/hera_cal/data/test_output/zen.2457698.40355.xx.HH.uvcAA.omni.calfits\n",
      "The data are in drift mode and do not have a defined phase center. Phasing to zenith of the first timestamp.\n",
      "The data are in drift mode and do not have a defined phase center. Phasing to zenith of the first timestamp.\n"
     ]
    }
   ],
   "source": [
    "# single pol tests\n",
    "global xx_vis, calfile, xx_fcal\n",
    "xx_vis = 'zen.2457698.40355.xx.HH.uvcAA'\n",
    "calfile = 'hsa7458_v001'\n",
    "xx_fcal = 'zen.2457698.40355.xx.HH.uvcAA.first.calfits'\n",
    "\n",
    "objective_file = os.path.join(\n",
    "    DATA_PATH, 'test_output', 'zen.2457698.40355.xx.HH.uvcAA.omni.calfits')\n",
    "if os.path.exists(objective_file):\n",
    "    os.remove(objective_file)\n",
    "o = omni.get_optionParser('omni_run')\n",
    "xx_fcal4real = os.path.join(DATA_PATH, 'test_input', xx_fcal)\n",
    "xx_vis4real = os.path.join(DATA_PATH, xx_vis)\n",
    "omnipath = os.path.join(DATA_PATH, 'test_output')\n",
    "\n",
    "cmd = \"-C %s -p xx --firstcal=%s --ex_ants=81 --omnipath=%s %s\" % (\n",
    "    calfile, xx_fcal4real, omnipath, xx_vis4real)\n",
    "opts, files = o.parse_args(cmd.split())\n",
    "history = 'history'\n",
    "omni.omni_run(files, opts, history)\n",
    "nt.assert_true(os.path.exists(objective_file))\n",
    "os.remove(objective_file)"
   ]
  },
  {
   "cell_type": "code",
   "execution_count": null,
   "metadata": {
    "collapsed": true
   },
   "outputs": [],
   "source": []
  },
  {
   "cell_type": "code",
   "execution_count": null,
   "metadata": {
    "collapsed": true
   },
   "outputs": [],
   "source": []
  },
  {
   "cell_type": "code",
   "execution_count": 19,
   "metadata": {
    "ExecuteTime": {
     "end_time": "2017-07-07T22:27:09.957283Z",
     "start_time": "2017-07-07T22:27:09.147373Z"
    },
    "run_control": {
     "frozen": false,
     "read_only": false
    }
   },
   "outputs": [
    {
     "data": {
      "text/plain": [
       "array([[ -1.        ,  -1.        ,  -1.        ],\n",
       "       [ -1.        ,  -1.        ,  -1.        ],\n",
       "       [ -1.        ,  -1.        ,  -1.        ],\n",
       "       [ -1.        ,  -1.        ,  -1.        ],\n",
       "       [ -1.        ,  -1.        ,  -1.        ],\n",
       "       [ -1.        ,  -1.        ,  -1.        ],\n",
       "       [ -1.        ,  -1.        ,  -1.        ],\n",
       "       [ -1.        ,  -1.        ,  -1.        ],\n",
       "       [ -1.        ,  -1.        ,  -1.        ],\n",
       "       [-14.6       ,   0.        ,   0.        ],\n",
       "       [ 21.9       ,  12.6439709 ,   0.        ],\n",
       "       [ -1.        ,  -1.        ,  -1.        ],\n",
       "       [ -1.        ,  -1.        ,  -1.        ],\n",
       "       [ -1.        ,  -1.        ,  -1.        ],\n",
       "       [ -1.        ,  -1.        ,  -1.        ],\n",
       "       [ -1.        ,  -1.        ,  -1.        ],\n",
       "       [ -1.        ,  -1.        ,  -1.        ],\n",
       "       [ -1.        ,  -1.        ,  -1.        ],\n",
       "       [ -1.        ,  -1.        ,  -1.        ],\n",
       "       [ -1.        ,  -1.        ,  -1.        ],\n",
       "       [  0.        ,   0.        ,   0.        ],\n",
       "       [ -1.        ,  -1.        ,  -1.        ],\n",
       "       [ -7.3       ,  12.6439709 ,   0.        ],\n",
       "       [ -1.        ,  -1.        ,  -1.        ],\n",
       "       [ -1.        ,  -1.        ,  -1.        ],\n",
       "       [ -1.        ,  -1.        ,  -1.        ],\n",
       "       [ -1.        ,  -1.        ,  -1.        ],\n",
       "       [ -1.        ,  -1.        ,  -1.        ],\n",
       "       [ -1.        ,  -1.        ,  -1.        ],\n",
       "       [ -1.        ,  -1.        ,  -1.        ],\n",
       "       [ -1.        ,  -1.        ,  -1.        ],\n",
       "       [  7.3       , -12.6439709 ,   0.        ],\n",
       "       [ -1.        ,  -1.        ,  -1.        ],\n",
       "       [ -1.        ,  -1.        ,  -1.        ],\n",
       "       [ -1.        ,  -1.        ,  -1.        ],\n",
       "       [ -1.        ,  -1.        ,  -1.        ],\n",
       "       [ -1.        ,  -1.        ,  -1.        ],\n",
       "       [ -1.        ,  -1.        ,  -1.        ],\n",
       "       [ -1.        ,  -1.        ,  -1.        ],\n",
       "       [ -1.        ,  -1.        ,  -1.        ],\n",
       "       [ -1.        ,  -1.        ,  -1.        ],\n",
       "       [ -1.        ,  -1.        ,  -1.        ],\n",
       "       [ -1.        ,  -1.        ,  -1.        ],\n",
       "       [ 29.2       ,   0.        ,   0.        ],\n",
       "       [ -1.        ,  -1.        ,  -1.        ],\n",
       "       [ -1.        ,  -1.        ,  -1.        ],\n",
       "       [ -1.        ,  -1.        ,  -1.        ],\n",
       "       [ -1.        ,  -1.        ,  -1.        ],\n",
       "       [ -1.        ,  -1.        ,  -1.        ],\n",
       "       [ -1.        ,  -1.        ,  -1.        ],\n",
       "       [ -1.        ,  -1.        ,  -1.        ],\n",
       "       [ -1.        ,  -1.        ,  -1.        ],\n",
       "       [ -1.        ,  -1.        ,  -1.        ],\n",
       "       [ -7.3       , -12.6439709 ,   0.        ],\n",
       "       [ -1.        ,  -1.        ,  -1.        ],\n",
       "       [ -1.        ,  -1.        ,  -1.        ],\n",
       "       [ -1.        ,  -1.        ,  -1.        ],\n",
       "       [ -1.        ,  -1.        ,  -1.        ],\n",
       "       [ -1.        ,  -1.        ,  -1.        ],\n",
       "       [ -1.        ,  -1.        ,  -1.        ],\n",
       "       [ -1.        ,  -1.        ,  -1.        ],\n",
       "       [ -1.        ,  -1.        ,  -1.        ],\n",
       "       [ -1.        ,  -1.        ,  -1.        ],\n",
       "       [ -1.        ,  -1.        ,  -1.        ],\n",
       "       [-21.9       , -12.6439709 ,   0.        ],\n",
       "       [ 21.9       , -12.6439709 ,   0.        ],\n",
       "       [ -1.        ,  -1.        ,  -1.        ],\n",
       "       [ -1.        ,  -1.        ,  -1.        ],\n",
       "       [ -1.        ,  -1.        ,  -1.        ],\n",
       "       [ -1.        ,  -1.        ,  -1.        ],\n",
       "       [ -1.        ,  -1.        ,  -1.        ],\n",
       "       [ -1.        ,  -1.        ,  -1.        ],\n",
       "       [-14.6       ,  25.28794179,   0.        ],\n",
       "       [ -1.        ,  -1.        ,  -1.        ],\n",
       "       [ -1.        ,  -1.        ,  -1.        ],\n",
       "       [ -1.        ,  -1.        ,  -1.        ],\n",
       "       [ -1.        ,  -1.        ,  -1.        ],\n",
       "       [ -1.        ,  -1.        ,  -1.        ],\n",
       "       [ -1.        ,  -1.        ,  -1.        ],\n",
       "       [ -1.        ,  -1.        ,  -1.        ],\n",
       "       [-14.6       , -25.28794179,   0.        ],\n",
       "       [  7.3       ,  12.6439709 ,   0.        ],\n",
       "       [ -1.        ,  -1.        ,  -1.        ],\n",
       "       [ -1.        ,  -1.        ,  -1.        ],\n",
       "       [ -1.        ,  -1.        ,  -1.        ],\n",
       "       [ -1.        ,  -1.        ,  -1.        ],\n",
       "       [ -1.        ,  -1.        ,  -1.        ],\n",
       "       [ -1.        ,  -1.        ,  -1.        ],\n",
       "       [-29.2       ,   0.        ,   0.        ],\n",
       "       [ 14.6       ,   0.        ,   0.        ],\n",
       "       [ -1.        ,  -1.        ,  -1.        ],\n",
       "       [ -1.        ,  -1.        ,  -1.        ],\n",
       "       [ -1.        ,  -1.        ,  -1.        ],\n",
       "       [ -1.        ,  -1.        ,  -1.        ],\n",
       "       [ -1.        ,  -1.        ,  -1.        ],\n",
       "       [ -1.        ,  -1.        ,  -1.        ],\n",
       "       [ 14.6       , -25.28794179,   0.        ],\n",
       "       [ 14.6       ,  25.28794179,   0.        ],\n",
       "       [ -1.        ,  -1.        ,  -1.        ],\n",
       "       [ -1.        ,  -1.        ,  -1.        ],\n",
       "       [ -1.        ,  -1.        ,  -1.        ],\n",
       "       [ -1.        ,  -1.        ,  -1.        ],\n",
       "       [ -1.        ,  -1.        ,  -1.        ],\n",
       "       [ -1.        ,  -1.        ,  -1.        ],\n",
       "       [  0.        , -25.28794179,   0.        ],\n",
       "       [-21.9       ,  12.6439709 ,   0.        ],\n",
       "       [ -1.        ,  -1.        ,  -1.        ],\n",
       "       [ -1.        ,  -1.        ,  -1.        ],\n",
       "       [ -1.        ,  -1.        ,  -1.        ],\n",
       "       [ -1.        ,  -1.        ,  -1.        ],\n",
       "       [ -1.        ,  -1.        ,  -1.        ],\n",
       "       [ -1.        ,  -1.        ,  -1.        ],\n",
       "       [  0.        ,  25.28794179,   0.        ],\n",
       "       [ -1.        ,  -1.        ,  -1.        ],\n",
       "       [ -1.        ,  -1.        ,  -1.        ],\n",
       "       [ -1.        ,  -1.        ,  -1.        ],\n",
       "       [ -1.        ,  -1.        ,  -1.        ],\n",
       "       [ -1.        ,  -1.        ,  -1.        ],\n",
       "       [ -1.        ,  -1.        ,  -1.        ],\n",
       "       [ -1.        ,  -1.        ,  -1.        ],\n",
       "       [ -1.        ,  -1.        ,  -1.        ],\n",
       "       [ -1.        ,  -1.        ,  -1.        ],\n",
       "       [ -1.        ,  -1.        ,  -1.        ],\n",
       "       [ -1.        ,  -1.        ,  -1.        ],\n",
       "       [ -1.        ,  -1.        ,  -1.        ],\n",
       "       [ -1.        ,  -1.        ,  -1.        ],\n",
       "       [ -1.        ,  -1.        ,  -1.        ],\n",
       "       [ -1.        ,  -1.        ,  -1.        ]])"
      ]
     },
     "execution_count": 19,
     "metadata": {},
     "output_type": "execute_result"
    }
   ],
   "source": [
    "import aipy as a\n",
    "freqs = np.arange(.1,.2,.1/1024)\n",
    "aa = a.cal.get_aa('hsa7458_v001', freqs)\n",
    "aa."
   ]
  },
  {
   "cell_type": "code",
   "execution_count": 20,
   "metadata": {
    "ExecuteTime": {
     "end_time": "2017-07-07T22:27:18.366202Z",
     "start_time": "2017-07-07T22:27:18.362463Z"
    }
   },
   "outputs": [
    {
     "data": {
      "text/plain": [
       "(128, 3)"
      ]
     },
     "execution_count": 20,
     "metadata": {},
     "output_type": "execute_result"
    }
   ],
   "source": [
    "aa.antpos_ideal.shape"
   ]
  },
  {
   "cell_type": "code",
   "execution_count": 22,
   "metadata": {
    "ExecuteTime": {
     "end_time": "2017-07-07T22:31:21.307643Z",
     "start_time": "2017-07-07T22:31:17.304119Z"
    }
   },
   "outputs": [],
   "source": [
    "info = omni.aa_to_info(aa, pols=['x','y'], fcal=False, minV=False)"
   ]
  },
  {
   "cell_type": "code",
   "execution_count": 27,
   "metadata": {
    "ExecuteTime": {
     "end_time": "2017-07-07T22:32:37.925022Z",
     "start_time": "2017-07-07T22:32:37.920764Z"
    }
   },
   "outputs": [
    {
     "data": {
      "text/plain": [
       "(241, 3)"
      ]
     },
     "execution_count": 27,
     "metadata": {},
     "output_type": "execute_result"
    }
   ],
   "source": [
    "info.get_antpos()"
   ]
  },
  {
   "cell_type": "code",
   "execution_count": 34,
   "metadata": {
    "ExecuteTime": {
     "end_time": "2017-07-07T22:35:44.554419Z",
     "start_time": "2017-07-07T22:35:44.535512Z"
    }
   },
   "outputs": [],
   "source": [
    "test = []\n",
    "\n",
    "for n in range(128):\n",
    "    try:\n",
    "        test.append(info.get_antpos()[n,:] == info.get_antpos()[n+128,:])\n",
    "    except:\n",
    "        pass"
   ]
  },
  {
   "cell_type": "code",
   "execution_count": 40,
   "metadata": {
    "ExecuteTime": {
     "end_time": "2017-07-07T22:36:24.795499Z",
     "start_time": "2017-07-07T22:36:24.791025Z"
    }
   },
   "outputs": [
    {
     "data": {
      "text/plain": [
       "True"
      ]
     },
     "execution_count": 40,
     "metadata": {},
     "output_type": "execute_result"
    }
   ],
   "source": [
    "np.all(np.array(test)[:,0:2])"
   ]
  },
  {
   "cell_type": "code",
   "execution_count": 46,
   "metadata": {
    "ExecuteTime": {
     "end_time": "2017-07-07T23:32:06.276669Z",
     "start_time": "2017-07-07T23:32:06.272087Z"
    }
   },
   "outputs": [
    {
     "data": {
      "text/plain": [
       "array([  7.30000019,  12.64397049])"
      ]
     },
     "execution_count": 46,
     "metadata": {},
     "output_type": "execute_result"
    }
   ],
   "source": [
    "info.get_antpos()[81,0:2]"
   ]
  },
  {
   "cell_type": "code",
   "execution_count": null,
   "metadata": {
    "collapsed": true
   },
   "outputs": [],
   "source": []
  }
 ],
 "metadata": {
  "kernelspec": {
   "display_name": "Python 2",
   "language": "python",
   "name": "python2"
  }
 },
 "nbformat": 4,
 "nbformat_minor": 2
}
