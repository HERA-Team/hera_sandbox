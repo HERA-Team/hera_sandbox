{
 "cells": [
  {
   "cell_type": "code",
   "execution_count": 5,
   "metadata": {
    "ExecuteTime": {
     "end_time": "2017-04-05T13:56:57.807586",
     "start_time": "2017-04-05T13:56:57.801021"
    },
    "collapsed": true
   },
   "outputs": [],
   "source": [
    "import numpy as np\n",
    "import matplotlib.pyplot as plt\n",
    "import aipy as a \n",
    "import capo\n",
    "import capo.miriad as miriad\n",
    "from scipy.sparse import csr_matrix\n",
    "from tqdm import tqdm\n",
    "import capo.omni as omni\n",
    "from copy import deepcopy\n",
    "import capo.linsolve\n",
    "#import seaborn\n",
    "%matplotlib notebook "
   ]
  },
  {
   "cell_type": "markdown",
   "metadata": {},
   "source": [
    "# Array Code"
   ]
  },
  {
   "cell_type": "code",
   "execution_count": 87,
   "metadata": {
    "ExecuteTime": {
     "end_time": "2017-04-05T15:47:18.688329",
     "start_time": "2017-04-05T15:47:18.622143"
    },
    "collapsed": true,
    "run_control": {
     "frozen": false,
     "read_only": false
    }
   },
   "outputs": [],
   "source": [
    "class InterferometricArray():\n",
    "    \"\"\"Class that takes a list of positions and can calcuate baselines and redundancies.\"\"\"\n",
    "    \n",
    "    def __init__(self, positions=[]):\n",
    "        self.positions = np.array(positions)\n",
    "        self.nant = len(positions)\n",
    "        self.antNames = range(self.nant)\n",
    "    \n",
    "    def CalculateUBLs(self, precisionFactor=1000000):\n",
    "        \"\"\"Finds the baselines, unique baselines, and related dictionaries for indexing.\"\"\"\n",
    "        self.blVectors, self.blNamePairs, self.blIndexPairs = [], [], []\n",
    "        self.index2name = {i:name for i,name in enumerate(self.antNames)}\n",
    "        self.name2index = {name:i for i,name in enumerate(self.antNames)}\n",
    "        self.name2pos = {name: self.positions[self.name2index[name]] for name in self.antNames}\n",
    "        for index1,ant1 in enumerate(self.antNames):\n",
    "            for index2,ant2 in zip(range(index1+1,self.nant), self.antNames[index1+1:]):\n",
    "                delta = np.array([int(np.round(precisionFactor*(self.positions[index1][i] - self.positions[index2][i]))) for i in range(3)])\n",
    "                if delta[1] > 0 or (delta[1] == 0 and delta[0] > 0): \n",
    "                    self.blVectors.append(tuple(delta))\n",
    "                    self.blNamePairs.append((ant1, ant2))\n",
    "                    self.blIndexPairs.append((index1, index2))\n",
    "                else: \n",
    "                    self.blVectors.append(tuple(-delta))\n",
    "                    self.blNamePairs.append((ant2, ant1))\n",
    "                    self.blIndexPairs.append((index2, index1))\n",
    "        self.ublDict = {}\n",
    "        for b in range(len(self.blVectors)):\n",
    "            if self.ublDict.has_key(self.blVectors[b]): self.ublDict[self.blVectors[b]].append(self.blNamePairs[b])\n",
    "            else: self.ublDict[self.blVectors[b]] = [self.blNamePairs[b]]\n",
    "        self.blIndexDict = {antPair: i for i,antPair in enumerate(self.blNamePairs)}\n",
    "        self.names2ublIndex = {antPair: i for i,antPairs in enumerate(self.ublDict.values()) for antPair in antPairs}\n",
    "        self.indices2ublIndex = {(self.name2index[antPair[0]],self.name2index[antPair[1]]): \n",
    "                                 i for i,antPairs in enumerate(self.ublDict.values()) for antPair in antPairs}\n",
    "        self.ublVectors = np.array([self.name2pos[antList[0][0]]-self.name2pos[antList[0][1]] for antList in self.ublDict.values()])\n",
    "        self.ublGroups = [antList for antList in self.ublDict.values()]\n",
    "        print \"With\", len(self.positions), \"antennas there are\", len(self.ublDict.items()), \"unique baselines.\"\n",
    "        self.nbl, self.nubl = len(self.blNamePairs), len(self.ublVectors)\n",
    "\n",
    "class HexagonalArray(InterferometricArray):\n",
    "    \"\"\"Generates a hexagonal array.\"\"\"\n",
    "    \n",
    "    def __init__(self, separation, hexNum, verbose=False):\n",
    "        \"\"\"Creates a hexagonal array with hexNum antennas per side separated by separation.\"\"\"\n",
    "        self.hexNum, self.separation, self.verbose = hexNum, separation, verbose\n",
    "        positions, self.rowIndices, i = [], [], 0        \n",
    "        for row in range(hexNum-1,-(hexNum),-1):\n",
    "            indices = []\n",
    "            for col in range(2*hexNum-abs(row)-1):\n",
    "                xPos = ((-(2*hexNum-abs(row))+2)/2.0 + col)*separation;\n",
    "                yPos = row*separation*3**.5/2;\n",
    "                positions.append([xPos, yPos, 0])\n",
    "                indices.append(i); i+=1\n",
    "            self.rowIndices.append(indices)\n",
    "        self.positions = np.array(positions) \n",
    "        self.nant = len(self.positions)\n",
    "        self.antNames = range(self.nant)"
   ]
  },
  {
   "cell_type": "markdown",
   "metadata": {},
   "source": [
    "# Omnical with a single polarization"
   ]
  },
  {
   "cell_type": "code",
   "execution_count": 95,
   "metadata": {
    "ExecuteTime": {
     "end_time": "2017-04-05T15:52:12.338289",
     "start_time": "2017-04-05T15:52:12.143697"
    },
    "collapsed": false
   },
   "outputs": [
    {
     "name": "stdout",
     "output_type": "stream",
     "text": [
      "With 19 antennas there are 30 unique baselines.\n",
      "Chisq: 5.96360972319e-30\n",
      "Number of omnical degeneracies:  4\n"
     ]
    }
   ],
   "source": [
    "ha = HexagonalArray(14.7, 3)\n",
    "ha.CalculateUBLs()\n",
    "\n",
    "trueVis = {}\n",
    "for group in ha.ublGroups: \n",
    "    trueVis[group[0]] = np.random.randn() + 1.0j*np.random.randn()\n",
    "\n",
    "trueGains = {}\n",
    "for ant in ha.antNames:\n",
    "    trueGains[ant] = 1.0 + .1*(np.random.randn() + np.random.randn())\n",
    "\n",
    "obsVis, equations = {}, {}\n",
    "for group in ha.ublGroups: \n",
    "    for (i,j) in group:\n",
    "        obsVis[(i,j)] = trueGains[i] * np.conj(trueGains[j]) * trueVis[group[0]]# + .01*np.random.randn() + .01j*np.random.randn()\n",
    "        equations['g{} * g{}_ * v{}to{}'.format(i,j,group[0][0], group[0][1])] = obsVis[(i,j)]\n",
    "\n",
    "logSolver = capo.linsolve.LogProductSolver(equations)\n",
    "logSol = logSolver.solve()\n",
    "linSolver = capo.linsolve.LinProductSolver(equations, logSol)\n",
    "linSol = linSolver.solve()\n",
    "\n",
    "chiSq = 0\n",
    "for group in ha.ublGroups: \n",
    "    for (i,j) in group:\n",
    "        chiSq += np.abs(obsVis[(i,j)] - linSol['g{}'.format(i)] * np.conj(linSol['g{}'.format(j)]) \n",
    "                        * linSol['v{}to{}'.format(group[0][0], group[0][1])])**2\n",
    "print 'Chisq:', chiSq\n",
    "\n",
    "A = linSolver.ls.get_A()\n",
    "A = A.reshape((A.shape[0],A.shape[1]))\n",
    "AtA = A.T.dot(A)\n",
    "print 'Number of omnical degeneracies: ', len(AtA) - np.linalg.matrix_rank(AtA)\n",
    "\n"
   ]
  },
  {
   "cell_type": "markdown",
   "metadata": {},
   "source": [
    "# Omnical with two independent polarizations ($xx$ and $yy$ only)"
   ]
  },
  {
   "cell_type": "code",
   "execution_count": 99,
   "metadata": {
    "ExecuteTime": {
     "end_time": "2017-04-05T15:53:29.451516",
     "start_time": "2017-04-05T15:53:28.626066"
    },
    "collapsed": false
   },
   "outputs": [
    {
     "name": "stdout",
     "output_type": "stream",
     "text": [
      "With 19 antennas there are 30 unique baselines.\n",
      "Chisq: 1.56184041156e-29\n",
      "Number of omnical degeneracies:  8\n"
     ]
    }
   ],
   "source": [
    "ha = HexagonalArray(14.7, 3)\n",
    "ha.CalculateUBLs()\n",
    "antpols = ['x','y']\n",
    "vispols = ['xx','yy']\n",
    "\n",
    "trueVis = {}\n",
    "for group in ha.ublGroups: \n",
    "    trueVis[group[0]] = {pol: np.random.randn() + 1.0j*np.random.randn() for pol in vispols}\n",
    "\n",
    "trueGains = {}\n",
    "for ant in ha.antNames:\n",
    "    trueGains[ant] = {pol: 1.0 + .1*(np.random.randn() + np.random.randn()) for pol in antpols}\n",
    "\n",
    "obsVis, equations = {}, {}\n",
    "for group in ha.ublGroups: \n",
    "    for (i,j) in group:\n",
    "        obsVis[(i,j)] = {pol: trueGains[i][pol[0]] * np.conj(trueGains[j][pol[1]]) * trueVis[group[0]][pol] for pol in vispols}\n",
    "        for pol in vispols:\n",
    "            eqStr = 'g{}{} * g{}{}_ * v{}to{}{}'.format(i,pol[0],j,pol[1],group[0][0],group[0][1],pol)\n",
    "            equations[eqStr] = obsVis[(i,j)][pol]\n",
    "\n",
    "logSolver = capo.linsolve.LogProductSolver(equations)\n",
    "logSol = logSolver.solve()\n",
    "linSolver = capo.linsolve.LinProductSolver(equations, logSol)\n",
    "linSol = linSolver.solve()\n",
    "\n",
    "chiSq = 0\n",
    "for group in ha.ublGroups: \n",
    "    for (i,j) in group:\n",
    "        for pol in vispols:\n",
    "            chiSq += np.abs(obsVis[(i,j)][pol] - linSol['g{}{}'.format(i,pol[0])] * np.conj(linSol['g{}{}'.format(j,pol[1])])\n",
    "                            * linSol['v{}to{}{}'.format(group[0][0], group[0][1], pol)])**2\n",
    "print 'Chisq:', chiSq\n",
    "\n",
    "A = linSolver.ls.get_A()\n",
    "A = A.reshape((A.shape[0],A.shape[1]))\n",
    "AtA = A.T.dot(A)\n",
    "print 'Number of omnical degeneracies: ', len(AtA) - np.linalg.matrix_rank(AtA)"
   ]
  },
  {
   "cell_type": "markdown",
   "metadata": {},
   "source": [
    "# Omnical with four independent visibility polarizations ($V_{xy} \\neq V^*_{yx}$)"
   ]
  },
  {
   "cell_type": "code",
   "execution_count": 100,
   "metadata": {
    "ExecuteTime": {
     "end_time": "2017-04-05T15:53:33.488533",
     "start_time": "2017-04-05T15:53:30.496978"
    },
    "collapsed": false
   },
   "outputs": [
    {
     "name": "stdout",
     "output_type": "stream",
     "text": [
      "With 19 antennas there are 30 unique baselines.\n",
      "Chisq: 4.00161538643e-29\n",
      "Number of omnical degeneracies:  6\n"
     ]
    }
   ],
   "source": [
    "ha = HexagonalArray(14.7, 3)\n",
    "ha.CalculateUBLs()\n",
    "antpols = ['x','y']\n",
    "vispols = ['xx','yy','xy','yx']\n",
    "\n",
    "trueVis = {}\n",
    "for group in ha.ublGroups: \n",
    "    trueVis[group[0]] = {pol: np.random.randn() + 1.0j*np.random.randn() for pol in vispols}\n",
    "\n",
    "trueGains = {}\n",
    "for ant in ha.antNames:\n",
    "    trueGains[ant] = {pol: 1.0 + .01*(np.random.randn() + np.random.randn()) for pol in antpols}\n",
    "\n",
    "obsVis, equations = {}, {}\n",
    "for group in ha.ublGroups: \n",
    "    for (i,j) in group:\n",
    "        obsVis[(i,j)] = {pol: trueGains[i][pol[0]] * np.conj(trueGains[j][pol[1]]) * trueVis[group[0]][pol] for pol in vispols}\n",
    "        for pol in vispols:\n",
    "            eqStr = 'g{}{} * g{}{}_ * v{}to{}{}'.format(i,pol[0],j,pol[1],group[0][0],group[0][1],pol)\n",
    "            equations[eqStr] = obsVis[(i,j)][pol]\n",
    "\n",
    "logSolver = capo.linsolve.LogProductSolver(equations)\n",
    "logSol = logSolver.solve()\n",
    "linSolver = capo.linsolve.LinProductSolver(equations, logSol)\n",
    "linSol = linSolver.solve()\n",
    "\n",
    "chiSq = 0\n",
    "for group in ha.ublGroups: \n",
    "    for (i,j) in group:\n",
    "        for pol in vispols:\n",
    "            chiSq += np.abs(obsVis[(i,j)][pol] - linSol['g{}{}'.format(i,pol[0])] * np.conj(linSol['g{}{}'.format(j,pol[1])])\n",
    "                            * linSol['v{}to{}{}'.format(group[0][0], group[0][1], pol)])**2\n",
    "print 'Chisq:', chiSq\n",
    "\n",
    "A = linSolver.ls.get_A()\n",
    "A = A.reshape((A.shape[0],A.shape[1]))\n",
    "AtA = A.T.dot(A)\n",
    "print 'Number of omnical degeneracies: ', len(AtA) - np.linalg.matrix_rank(AtA)"
   ]
  },
  {
   "cell_type": "markdown",
   "metadata": {},
   "source": [
    "# Omnical with four independent visibility polarizations ($V_{xy} \\equiv V^*_{yx}$)"
   ]
  },
  {
   "cell_type": "code",
   "execution_count": 104,
   "metadata": {
    "ExecuteTime": {
     "end_time": "2017-04-05T16:15:15.022002",
     "start_time": "2017-04-05T16:15:12.743681"
    },
    "collapsed": false
   },
   "outputs": [
    {
     "name": "stdout",
     "output_type": "stream",
     "text": [
      "With 19 antennas there are 30 unique baselines.\n",
      "Chisq: 1.93803749858e-29\n",
      "Number of omnical degeneracies:  4\n"
     ]
    }
   ],
   "source": [
    "ha = HexagonalArray(14.7, 3)\n",
    "ha.CalculateUBLs()\n",
    "antpols = ['x','y']\n",
    "vispols = ['xx','yy','xy','yx']\n",
    "\n",
    "trueVis = {}\n",
    "for group in ha.ublGroups: \n",
    "    trueVis[group[0]] = {pol: np.random.randn() + 1.0j*np.random.randn() for pol in vispols}\n",
    "    trueVis[group[0]]['yx'] = np.conj(trueVis[group[0]]['xy'])\n",
    "\n",
    "trueGains = {}\n",
    "for ant in ha.antNames:\n",
    "    trueGains[ant] = {pol: 1.0 + .01*(np.random.randn() + np.random.randn()) for pol in antpols}\n",
    "\n",
    "obsVis, equations = {}, {}\n",
    "for group in ha.ublGroups: \n",
    "    for (i,j) in group:\n",
    "        obsVis[(i,j)] = {pol: trueGains[i][pol[0]] * np.conj(trueGains[j][pol[1]]) * trueVis[group[0]][pol] for pol in vispols}\n",
    "        for pol in vispols:\n",
    "            if pol == 'yx':\n",
    "                eqStr = 'g{}{} * g{}{}_ * v{}to{}xy_'.format(i,pol[0],j,pol[1],group[0][0],group[0][1])\n",
    "            else:\n",
    "                eqStr = 'g{}{} * g{}{}_ * v{}to{}{}'.format(i,pol[0],j,pol[1],group[0][0],group[0][1],pol)\n",
    "            equations[eqStr] = obsVis[(i,j)][pol]\n",
    "\n",
    "logSolver = capo.linsolve.LogProductSolver(equations)\n",
    "logSol = logSolver.solve()\n",
    "linSolver = capo.linsolve.LinProductSolver(equations, logSol)\n",
    "linSol = linSolver.solve()\n",
    "\n",
    "chiSq = 0\n",
    "for group in ha.ublGroups: \n",
    "    for (i,j) in group:\n",
    "        for pol in vispols:\n",
    "            if pol == 'yx':\n",
    "                chiSq += np.abs(obsVis[(i,j)][pol] - linSol['g{}{}'.format(i,pol[0])] * np.conj(linSol['g{}{}'.format(j,pol[1])])\n",
    "                                * np.conj(linSol['v{}to{}xy'.format(group[0][0], group[0][1])]))**2\n",
    "            else:\n",
    "                chiSq += np.abs(obsVis[(i,j)][pol] - linSol['g{}{}'.format(i,pol[0])] * np.conj(linSol['g{}{}'.format(j,pol[1])])\n",
    "                                * linSol['v{}to{}{}'.format(group[0][0], group[0][1], pol)])**2\n",
    "                \n",
    "                \n",
    "print 'Chisq:', chiSq\n",
    "\n",
    "A = linSolver.ls.get_A()\n",
    "A = A.reshape((A.shape[0],A.shape[1]))\n",
    "AtA = A.T.dot(A)\n",
    "print 'Number of omnical degeneracies: ', len(AtA) - np.linalg.matrix_rank(AtA)"
   ]
  },
  {
   "cell_type": "code",
   "execution_count": null,
   "metadata": {
    "collapsed": true
   },
   "outputs": [],
   "source": []
  },
  {
   "cell_type": "code",
   "execution_count": null,
   "metadata": {
    "collapsed": true
   },
   "outputs": [],
   "source": []
  }
 ],
 "metadata": {
  "kernelspec": {
   "display_name": "Python 2",
   "language": "python",
   "name": "python2"
  },
  "language_info": {
   "codemirror_mode": {
    "name": "ipython",
    "version": 2
   },
   "file_extension": ".py",
   "mimetype": "text/x-python",
   "name": "python",
   "nbconvert_exporter": "python",
   "pygments_lexer": "ipython2",
   "version": "2.7.11"
  }
 },
 "nbformat": 4,
 "nbformat_minor": 2
}
