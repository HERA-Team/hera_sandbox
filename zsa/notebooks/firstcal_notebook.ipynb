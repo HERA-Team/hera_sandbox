{
 "cells": [
  {
   "cell_type": "markdown",
   "metadata": {},
   "source": [
    "# Nightly Look at Data\n",
    "\n",
    "This notebook is a nightly look at the data. It is run and commited to <github> every night. Maybe even push it to a slack channel? Make sure to set the HERA_DATA_DIR environment variable to the directory that has the nightly data in it. "
   ]
  },
  {
   "cell_type": "code",
   "execution_count": null,
   "metadata": {
    "collapsed": false
   },
   "outputs": [],
   "source": [
    "import numpy as np, capo.omni as omni, sys,os, optparse, glob, capo, aipy as a, capo.zsa as zsa, capo.plot as plot\n",
    "%matplotlib inline\n",
    "import matplotlib.pyplot as p\n",
    "import seaborn as sns\n",
    "sns.set_context('poster')\n",
    "sns.set_style('darkgrid') \n",
    "p.rcParams['figure.figsize'] = 12, 8\n",
    "\n",
    "\n",
    "colors = [\"#006BA4\", \"#FF7F0E\", \"#2CA02C\", \"#D61D28\", \"#9467BD\", \"#8C564B\", \"#E377C2\", \"#7F7F7F\", \"#BCBD22\", \"#17BECF\"]\n",
    "symbols = [\"o\", \"v\", \"^\", \"<\", \">\", \"*\"]\n",
    "pols = ['xx','yy']\n",
    "data_dir=os.environ['HERA_DATA_DIR']\n",
    "\n",
    "#Get list of redundant antennas to look at\n",
    "aa = a.cal.get_aa('hsa7458_v000', np.array([.150]))\n",
    "#ex_ants = os.environ('EX_ANTS_X').split(',')\n",
    "info = omni.aa_to_info(aa, fcal=True) \n",
    "antstrs = []\n",
    "for k in info.get_reds(): antstrs.append(capo.zsa.list2str(k))\n",
    "antstr = '9_88,10_81,22_105,31_53,43_89,53_64,96_104,97_112,20_9,89_20,81_22,65_31,112_72,104_80'"
   ]
  },
  {
   "cell_type": "markdown",
   "metadata": {},
   "source": [
    "# Useful Information\n",
    "### Baselines in each redundant group.\n",
    "     '31_97,53_112,64_72,96_10,80_22,104_81',\n",
    "     '72_80,97_96,112_104',\n",
    "     '88_97,80_43,64_10',\n",
    "     '22_112,81_97,9_22,20_81,31_89,88_105,104_31,80_53,96_65,105_72,64_9,89_10,53_20,65_43',\n",
    "     '10_88,43_64',\n",
    "     '31_72,65_112,104_105,96_22',\n",
    "     '10_20,20_64,22_88,31_80,65_104,81_9,43_31,89_53,97_22,112_105',\n",
    "     '43_104,10_53,81_64,97_9,89_80,112_88',\n",
    "     '9_65,22_43,64_96,88_31,105_89,72_10',\n",
    "     '65_105,43_72,96_88',\n",
    "     '10_104,97_53,112_64,81_80',\n",
    "     '43_53,81_88,65_80,97_105,10_9,89_64',\n",
    "     '9_31,20_65,22_89,53_96,64_104,72_81,105_20,81_43,88_53,112_10',\n",
    "     '10_105,43_9,65_64,89_88',\n",
    "     '31_81,64_105,9_72,20_112,89_97,80_9,104_20,96_89,65_10,53_22',\n",
    "     '9_88,10_81,22_105,31_53,43_89,53_64,96_104,97_112,20_9,89_20,81_22,65_31,112_72,104_80',\n",
    "     '22_104,81_96,112_31,72_53,97_65,105_80',\n",
    "     '96_112,104_72',\n",
    "     '9_105,20_22,64_88,65_89,10_97,22_72,81_112,96_31,104_53,80_64,53_9,43_10,31_20,89_81',\n",
    "     '53_105,65_81,20_72,43_97,80_88,89_112,104_9,96_20,31_22',\n",
    "     '9_112,20_97,53_81,80_20,96_43,88_72,104_89,31_10,64_22',\n",
    "     '10_80,97_64',\n",
    "     '10_22,20_88,31_64,81_105,89_9,43_20,65_53,97_72,96_80',\n",
    "     '80_112,104_97',\n",
    "     '31_105,43_112,96_9,89_72,104_88,65_22',\n",
    "     '65_72,96_105',\n",
    "     '43_105,65_88'"
   ]
  },
  {
   "cell_type": "markdown",
   "metadata": {},
   "source": [
    "# Auto Correlations"
   ]
  },
  {
   "cell_type": "code",
   "execution_count": null,
   "metadata": {
    "collapsed": false
   },
   "outputs": [],
   "source": [
    "#Load in original data\n",
    "files = glob.glob('{0}/zen.*.*.xx.HH.uvc'.format(data_dir))\n",
    "randomfilexx = files[np.random.randint(0,len(files))]\n",
    "randomfileyy = randomfilexx.replace('xx','yy')\n",
    "_, autos, _ = capo.miriad.read_files([randomfilexx,randomfileyy], 'auto', ','.join(pols))"
   ]
  },
  {
   "cell_type": "code",
   "execution_count": null,
   "metadata": {
    "collapsed": true
   },
   "outputs": [],
   "source": [
    "#plot autos\n",
    "ant_keys = autos.keys()\n",
    "nants = len(ant_keys)\n",
    "nc = 6\n",
    "nr = int(divmod(nants,nc)[0] + np.ceil(divmod(nants,nc)[1]/float(nc)))\n",
    "integration=20\n",
    "polcolors=['r','b']\n",
    "for i,k in enumerate(ant_keys):\n",
    "    ax = p.subplot(nr,nc,i+1)\n",
    "    for ip,pol in enumerate(autos[k].keys()):\n",
    "        p.plot(np.log10(np.abs(autos[k][pol][integration])), color=polcolors[ip], label=pol[0])\n",
    "        p.text(0+ip*128, 2.3, pol[0], color=polcolors[ip], size=12)\n",
    "#    ax.get_yaxis().set_visible(False)\n",
    "    ax.get_xaxis().set_visible(False)\n",
    "    ax.tick_params(axis='both', which='major', labelsize=10)\n",
    "    p.xlim(0,1024)\n",
    "    p.ylim(-3,3)\n",
    "    p.title(k[0])\n",
    "    if divmod(i+1,nc)[1]==1: p.ylabel('Log(Jy)', size=10)\n",
    "#    leg = p.legend()\n",
    "#    text1, text2 = leg.get_texts()\n",
    "#    text1.set_color(polcolors[0])\n",
    "#    text2.set_color(polcolors[1])\n",
    "p.tight_layout()"
   ]
  },
  {
   "cell_type": "code",
   "execution_count": 1,
   "metadata": {
    "collapsed": false
   },
   "outputs": [
    {
     "ename": "NameError",
     "evalue": "name 'autos' is not defined",
     "output_type": "error",
     "traceback": [
      "\u001b[1;31m---------------------------------------------------------------------------\u001b[0m",
      "\u001b[1;31mNameError\u001b[0m                                 Traceback (most recent call last)",
      "\u001b[1;32m<ipython-input-1-ec17c351e116>\u001b[0m in \u001b[0;36m<module>\u001b[1;34m()\u001b[0m\n\u001b[1;32m----> 1\u001b[1;33m \u001b[0mPOL\u001b[0m \u001b[1;33m=\u001b[0m \u001b[0mautos\u001b[0m\u001b[1;33m.\u001b[0m\u001b[0mvalues\u001b[0m\u001b[1;33m(\u001b[0m\u001b[1;33m)\u001b[0m\u001b[1;33m[\u001b[0m\u001b[1;36m0\u001b[0m\u001b[1;33m]\u001b[0m\u001b[1;33m.\u001b[0m\u001b[0mkeys\u001b[0m\u001b[1;33m(\u001b[0m\u001b[1;33m)\u001b[0m\u001b[1;33m[\u001b[0m\u001b[1;36m0\u001b[0m\u001b[1;33m]\u001b[0m\u001b[1;33m\u001b[0m\u001b[0m\n\u001b[0m\u001b[0;32m      2\u001b[0m \u001b[0mCHUNK\u001b[0m \u001b[1;33m=\u001b[0m \u001b[1;36m256\u001b[0m\u001b[1;33m\u001b[0m\u001b[0m\n\u001b[0;32m      3\u001b[0m \u001b[0mBINS\u001b[0m \u001b[1;33m=\u001b[0m \u001b[1;36m24\u001b[0m\u001b[1;33m\u001b[0m\u001b[0m\n\u001b[0;32m      4\u001b[0m \u001b[1;31m#colors = 'bgrcmy'\u001b[0m\u001b[1;33m\u001b[0m\u001b[1;33m\u001b[0m\u001b[0m\n\u001b[0;32m      5\u001b[0m \u001b[0mN\u001b[0m \u001b[1;33m=\u001b[0m \u001b[0mnp\u001b[0m\u001b[1;33m.\u001b[0m\u001b[0mceil\u001b[0m\u001b[1;33m(\u001b[0m\u001b[0mnp\u001b[0m\u001b[1;33m.\u001b[0m\u001b[0msqrt\u001b[0m\u001b[1;33m(\u001b[0m\u001b[0mlen\u001b[0m\u001b[1;33m(\u001b[0m\u001b[0mautos\u001b[0m\u001b[1;33m)\u001b[0m\u001b[1;33m)\u001b[0m\u001b[1;33m)\u001b[0m\u001b[1;33m\u001b[0m\u001b[0m\n",
      "\u001b[1;31mNameError\u001b[0m: name 'autos' is not defined"
     ]
    }
   ],
   "source": [
    "POL = autos.values()[0].keys()[0]\n",
    "def plot_rms(data, POL='xx'):\n",
    "    CHUNK = 256\n",
    "    BINS = 24\n",
    "    rmscolors = 'bgrcmy'\n",
    "    N = np.ceil(np.sqrt(len(data)))\n",
    "    M = np.ceil(len(data) / float(N))\n",
    "    bins = np.logspace(-2,4,BINS,base=2.)\n",
    "    ants = [i for (i,_) in data]; ants.sort()\n",
    "    for cnt,i in enumerate(ants):\n",
    "        ax = p.subplot(N,M,cnt+1)\n",
    "        for j,ch in enumerate(xrange(0,1024,CHUNK)):\n",
    "            d = data[(i,i)][POL][:,ch:ch+CHUNK].flatten()\n",
    "            h,b = np.histogram(np.sqrt(d/2),bins)\n",
    "            h = 10**np.log10(h+.1)\n",
    "            b = 0.5*(b[1:] + b[:-1])\n",
    "            ax.fill_between(np.log2(b), h, .1, where=h>.1, color=rmscolors[j], alpha=.5)\n",
    "        bounds = np.where(bins < 2**0, d.size, np.where(bins > 2**2, d.size, 0))\n",
    "        ax.fill_between(np.log2(bins), bounds, .1, where=bounds>.1, color='black', alpha=.6)\n",
    "        ax.set_yscale('log')\n",
    "        p.xlim(-2,3)\n",
    "        p.ylim(d.size/1e2, d.size)\n",
    "        p.title(str(i)+POL)\n",
    "        ax.get_yaxis().set_visible(False)\n",
    "        if cnt < (N-1)*M:\n",
    "            ax.get_xaxis().set_ticklabels([])\n",
    "        else: p.xlabel(r'$V_{\\rm rms}$ [bits]')\n",
    "        p.grid()\n",
    "    #p.subplots_adjust(wspace=.05, hspace=.4)\n",
    "    p.tight_layout()\n",
    "\n",
    "for ip,pol in enumerate(autos.values()[0].keys()):\n",
    "    p.figure(ip)\n",
    "    plot_rms(autos,POL=pol)"
   ]
  },
  {
   "cell_type": "code",
   "execution_count": null,
   "metadata": {
    "collapsed": true
   },
   "outputs": [],
   "source": [
    "#delete autos namespace to free up memory.\n",
    "del(autos)"
   ]
  },
  {
   "cell_type": "markdown",
   "metadata": {},
   "source": [
    "## Firstcal delay solutions"
   ]
  },
  {
   "cell_type": "code",
   "execution_count": null,
   "metadata": {
    "collapsed": true
   },
   "outputs": [],
   "source": [
    "%%bash\n",
    "#running firstcal\n",
    "if [ ${REDO_FIRSTCAL} -gt 0 ]; then \n",
    "    for f in ${HERA_DATA_DIR}/zen.*.*.xx.HH.uvc; do ${FIRSTCAL_SCRIPT} -C hsa7458_v000 -p xx --ex_ants=${EX_ANTS_X} ${f} > /dev/null; done \n",
    "    for f in ${HERA_DATA_DIR}/zen.*.*.yy.HH.uvc; do ${FIRSTCAL_SCRIPT} -C hsa7458_v000 -p yy --ex_ants=${EX_ANTS_Y} ${f} > /dev/null; done\n",
    "fi"
   ]
  },
  {
   "cell_type": "code",
   "execution_count": null,
   "metadata": {
    "collapsed": false
   },
   "outputs": [],
   "source": [
    "def load_dmv(filestring, offsets=False, verbose=False):\n",
    "    files = glob.glob(filestring)\n",
    "    delays = {}\n",
    "    means = {}\n",
    "    medians = {}\n",
    "    vars = {}\n",
    "    if offsets: ss = 'o'\n",
    "    else: ss = 'd'\n",
    "    for f in files:\n",
    "        if verbose:\n",
    "            print 'Reading %s'%f    \n",
    "        npz = np.load(f)\n",
    "        for key in npz.files:\n",
    "            if key.startswith(ss):\n",
    "                if key not in delays.keys(): \n",
    "                    delays[key] = npz[key]\n",
    "                    continue \n",
    "                delays[key] = np.hstack((delays[key],npz[key]))\n",
    "    \n",
    "    for k in delays.keys():\n",
    "        delays[k] = np.array(delays[k]).flatten()\n",
    "        means[k] = np.mean(delays[k])\n",
    "        medians[k] = np.median(delays[k])\n",
    "        vars[k] = np.var(delays[k])\n",
    "        \n",
    "    return delays,means,medians,vars\n",
    "    \n",
    "\n",
    "delays = {}\n",
    "means = {}\n",
    "medians = {}\n",
    "vars = {}\n",
    "for pol in pols:\n",
    "    delays[pol], means[pol], medians[pol], vars[pol] = load_dmv('{0}/zen.*.{1}.HH.uvc.fc.npz'.format(data_dir,pol),offsets=False)"
   ]
  },
  {
   "cell_type": "code",
   "execution_count": null,
   "metadata": {
    "collapsed": false,
    "scrolled": false
   },
   "outputs": [],
   "source": [
    "fig = p.figure(figsize=(15,20))\n",
    "axes=[]\n",
    "for ip,pol in enumerate(delays.keys()):\n",
    "    if len(axes)!=0: axes.append(p.subplot(2,1,1+ip, sharex=axes[0]))\n",
    "    else: axes.append(p.subplot(2,1,1+ip))\n",
    "    for i,k in enumerate(delays[pol].keys()): \n",
    "        p.plot(delays[pol][k],'.', color=colors[i%10], label=k[1:]+pol[0])\n",
    "        p.fill_between(np.arange(delays[pol][k].size), means[pol][k] - vars[pol][k]**.5, means[pol][k] + vars[pol][k]**.5, alpha=.5, color=colors[i%10])\n",
    "    p.xlim(0,delays[pol][k].size + delays[pol][k].size*.2)   \n",
    "    p.ylabel('Delay (ns)')\n",
    "    p.legend()\n",
    "p.setp(axes[0].get_xticklabels(), visible=False)\n",
    "p.subplots_adjust(hspace=.02)    \n",
    "p.xlabel('Integration') \n",
    "\n",
    "axes[0].set_title('Firstcal Delay Solutions vs. Integration')"
   ]
  },
  {
   "cell_type": "code",
   "execution_count": null,
   "metadata": {
    "collapsed": false
   },
   "outputs": [],
   "source": [
    "def gaussian(x,mu,std,scale):\n",
    "    return scale/np.sqrt(np.pi*2*std) * np.exp(-.5*(x-mu)**2/(std**2))\n",
    "    \n",
    "nants = len(delays[pol].keys())\n",
    "nc = 4\n",
    "nr = int(divmod(nants,nc)[0] + np.ceil(divmod(nants,nc)[1]/float(nc)))\n",
    "\n",
    "for ip, pol in enumerate(delays.keys()):\n",
    "    fig = p.figure(ip, figsize=(16,16))\n",
    "    for i,k in enumerate(delays[pol].keys()):\n",
    "        p.subplot(nr,nc,i+1)\n",
    "        h = p.hist(delays[pol][k], bins=30)\n",
    "        p.tick_params(labelsize=10)\n",
    "        p.title(k[1:]+pol + ' ;mean:%1.2f'%means[pol][k])\n",
    "        p.grid(1)\n",
    "        mx = np.max(h[0])\n",
    "        p.plot(h[1],gaussian(h[1],means[pol][k],vars[pol][k]**.5,scale=mx))\n",
    "        p.vlines(means[pol][k], 0, mx, linestyle='--')\n",
    "        p.vlines(medians[pol][k],0,mx, linestyle='-.', color='red')\n",
    "        p.vlines(means[pol][k]-np.sqrt(vars[pol][k]),0,mx)\n",
    "        p.vlines(means[pol][k]+np.sqrt(vars[pol][k]),0,mx)\n",
    "        p.ylim(0,mx)\n",
    "#        if divmod(i,nc)[-1] == 0:  p.ylabel('Counts')\n",
    "#        if divmod(i,nc)[0] == nr-1:  p.xlabel('Delay (ns)')\n",
    "    p.tight_layout(pad=1.0)\n",
    "    fig.text(.01, .5, 'Counts', ha='center', va='center',rotation='vertical')\n",
    "    fig.text(.5, .001, 'Delays (ns)', ha='center', va='center')"
   ]
  },
  {
   "cell_type": "markdown",
   "metadata": {},
   "source": [
    "# Rewriting solutions with mean delays\n",
    "\n"
   ]
  },
  {
   "cell_type": "code",
   "execution_count": null,
   "metadata": {
    "collapsed": false,
    "scrolled": false
   },
   "outputs": [],
   "source": [
    "%%bash \n",
    "if [ ${REDO_REWRITE} -gt 0 ]; then \n",
    "    #make median files\n",
    "    for pol in xx yy; do write_median_firstcal_files.py ${HERA_DATA_DIR}/zen.*.${pol}.HH.uvc.fc.npz > /dev/null; done\n",
    "fi\n",
    "if [ ${REDO_FIRSTCAL_APPLY} -gt 0 ]; then \n",
    "    #apply solutions \n",
    "    cd ${HERA_DATA_DIR}; for pol in xx yy; do ${OMNI_APPLY_SCRIPT}  -p $pol --omnipath=\"%s.HH.uvc.median.fc.npz\" zen.*${pol}.HH.uvc --firstcal > /dev/null; done\n",
    "fi"
   ]
  },
  {
   "cell_type": "code",
   "execution_count": null,
   "metadata": {
    "collapsed": true
   },
   "outputs": [],
   "source": [
    "del(delays)\n",
    "del(means)\n",
    "del(medians)\n",
    "del(vars)"
   ]
  },
  {
   "cell_type": "code",
   "execution_count": 1,
   "metadata": {
    "collapsed": false
   },
   "outputs": [
    {
     "ename": "NameError",
     "evalue": "name 'capo' is not defined",
     "output_type": "error",
     "traceback": [
      "\u001b[1;31m---------------------------------------------------------------------------\u001b[0m",
      "\u001b[1;31mNameError\u001b[0m                                 Traceback (most recent call last)",
      "\u001b[1;32m<ipython-input-1-afc627623713>\u001b[0m in \u001b[0;36m<module>\u001b[1;34m()\u001b[0m\n\u001b[1;32m----> 1\u001b[1;33m \u001b[0m_\u001b[0m\u001b[1;33m,\u001b[0m \u001b[0mfdata\u001b[0m\u001b[1;33m,\u001b[0m \u001b[0m_\u001b[0m \u001b[1;33m=\u001b[0m \u001b[0mcapo\u001b[0m\u001b[1;33m.\u001b[0m\u001b[0mmiriad\u001b[0m\u001b[1;33m.\u001b[0m\u001b[0mread_files\u001b[0m\u001b[1;33m(\u001b[0m\u001b[0mglob\u001b[0m\u001b[1;33m.\u001b[0m\u001b[0mglob\u001b[0m\u001b[1;33m(\u001b[0m\u001b[1;34m'{0}/zen.*.*.HH.uvcF'\u001b[0m\u001b[1;33m.\u001b[0m\u001b[0mformat\u001b[0m\u001b[1;33m(\u001b[0m\u001b[0mdata_dir\u001b[0m\u001b[1;33m)\u001b[0m\u001b[1;33m)\u001b[0m\u001b[1;33m,\u001b[0m \u001b[0mantstr\u001b[0m\u001b[1;33m,\u001b[0m \u001b[1;34m','\u001b[0m\u001b[1;33m.\u001b[0m\u001b[0mjoin\u001b[0m\u001b[1;33m(\u001b[0m\u001b[0mpols\u001b[0m\u001b[1;33m)\u001b[0m\u001b[1;33m)\u001b[0m\u001b[1;33m\u001b[0m\u001b[0m\n\u001b[0m\u001b[0;32m      2\u001b[0m \u001b[0m_\u001b[0m\u001b[1;33m,\u001b[0m \u001b[0mpdata\u001b[0m\u001b[1;33m,\u001b[0m \u001b[0m_\u001b[0m \u001b[1;33m=\u001b[0m \u001b[0mcapo\u001b[0m\u001b[1;33m.\u001b[0m\u001b[0mmiriad\u001b[0m\u001b[1;33m.\u001b[0m\u001b[0mread_files\u001b[0m\u001b[1;33m(\u001b[0m\u001b[0mglob\u001b[0m\u001b[1;33m.\u001b[0m\u001b[0mglob\u001b[0m\u001b[1;33m(\u001b[0m\u001b[1;34m'{0}/zen.*.*.HH.uvc'\u001b[0m\u001b[1;33m.\u001b[0m\u001b[0mformat\u001b[0m\u001b[1;33m(\u001b[0m\u001b[0mdata_dir\u001b[0m\u001b[1;33m)\u001b[0m\u001b[1;33m)\u001b[0m\u001b[1;33m,\u001b[0m \u001b[0mantstr\u001b[0m\u001b[1;33m,\u001b[0m \u001b[1;34m','\u001b[0m\u001b[1;33m.\u001b[0m\u001b[0mjoin\u001b[0m\u001b[1;33m(\u001b[0m\u001b[0mpols\u001b[0m\u001b[1;33m)\u001b[0m\u001b[1;33m)\u001b[0m\u001b[1;33m\u001b[0m\u001b[0m\n\u001b[0;32m      3\u001b[0m \u001b[1;31m#Conjugates data correctly so all baselines are pointing in the same direction.\u001b[0m\u001b[1;33m\u001b[0m\u001b[1;33m\u001b[0m\u001b[0m\n\u001b[0;32m      4\u001b[0m \u001b[0mpdata\u001b[0m \u001b[1;33m=\u001b[0m \u001b[0mzsa\u001b[0m\u001b[1;33m.\u001b[0m\u001b[0morder_data\u001b[0m\u001b[1;33m(\u001b[0m\u001b[0mpdata\u001b[0m\u001b[1;33m,\u001b[0m\u001b[0minfo\u001b[0m\u001b[1;33m)\u001b[0m\u001b[1;33m\u001b[0m\u001b[0m\n\u001b[0;32m      5\u001b[0m \u001b[0mfdata\u001b[0m \u001b[1;33m=\u001b[0m \u001b[0mzsa\u001b[0m\u001b[1;33m.\u001b[0m\u001b[0morder_data\u001b[0m\u001b[1;33m(\u001b[0m\u001b[0mfdata\u001b[0m\u001b[1;33m,\u001b[0m\u001b[0minfo\u001b[0m\u001b[1;33m)\u001b[0m\u001b[1;33m\u001b[0m\u001b[0m\n",
      "\u001b[1;31mNameError\u001b[0m: name 'capo' is not defined"
     ]
    }
   ],
   "source": [
    "_, fdata, _ = capo.miriad.read_files(np.sort(glob.glob('{0}/zen.*.*.HH.uvcF'.format(data_dir))), antstr, ','.join(pols))\n",
    "#_, pdata, _ = capo.miriad.read_files(np.sort(glob.glob('{0}/zen.*.*.HH.uvc'.format(data_dir))), antstr, ','.join(pols))\n",
    "#Conjugates data correctly so all baselines are pointing in the same direction.\n",
    "#pdata = zsa.order_data(pdata,info)\n",
    "fdata = zsa.order_data(fdata,info)"
   ]
  },
  {
   "cell_type": "code",
   "execution_count": null,
   "metadata": {
    "collapsed": true
   },
   "outputs": [],
   "source": [
    "nbls = len(fdata.keys())"
   ]
  },
  {
   "cell_type": "code",
   "execution_count": null,
   "metadata": {
    "collapsed": false
   },
   "outputs": [],
   "source": [
    "p.figure(figsize=(12,9))\n",
    "integration_number = 12\n",
    "for i,k in enumerate(fdata.keys()):\n",
    "    for ip,pol in enumerate(fdata[k].keys()):\n",
    "        p.subplot(211+ip)\n",
    "        p.plot(np.angle(fdata[k][pol][integration_number]), label=str(k)+pol)\n",
    "        p.ylabel('Phase (radians)')\n",
    "        p.xlabel('Channel Number')\n",
    "for i in range(len(pols)):\n",
    "    p.subplot(211+i)\n",
    "    p.legend(fontsize='xx-small')\n",
    "p.subplot(211); p.title('Phase for Firstcal\\'d Redundant Baselines')\n"
   ]
  },
  {
   "cell_type": "code",
   "execution_count": null,
   "metadata": {
    "collapsed": false
   },
   "outputs": [],
   "source": [
    "nratios = (nbls * (nbls-1))/2\n",
    "nc = 3\n",
    "div,mod = divmod(nratios,nc)\n",
    "nr = int(div + np.ceil(mod/3.)) * len(pols)\n",
    "\n",
    "crosses = []\n",
    "bls = fdata.keys()\n",
    "for k in range(nbls): \n",
    "    for i in range(k+1,nbls): \n",
    "        crosses.append((bls[k],bls[i]))\n",
    "ncross = len(crosses)\n",
    "\n",
    "fig = p.figure(figsize=(16,150))\n",
    "for ip,pol in enumerate(pols):\n",
    "    for i,k in enumerate(crosses):\n",
    "        ax = p.subplot(nr,nc,i+1+ncross*ip)\n",
    "        g = 1.0\n",
    "        capo.plot.waterfall(fdata[k[0]][pol]*np.conj(fdata[k[-1]][pol])*g, mode='phs', cmap='jet', mx=np.pi, drng=2*np.pi)    \n",
    "        p.grid(0)\n",
    "#        if divmod(i,nc)[-1] != 0:  ax.yaxis.set_visible(False) \n",
    "#        if divmod(i,nc)[0] != nr-1: ax.xaxis.set_visible(False)\n",
    "        ax.yaxis.set_visible(False)\n",
    "        ax.xaxis.set_visible(False)\n",
    "#        ax.text(.5,.5,str(k)+pol,color='white', fontweight='bold', ha='center', va='center', transform=ax.transAxes)\n",
    "        p.title(str(k)+pol,color='black', fontweight='bold', fontsize=16)\n",
    "        \n",
    "p.xlabel('Channel Number')\n",
    "p.ylabel('Integration')\n",
    "p.suptitle('Phase Ratios of Redundant Visibilities: Post Firstcal', fontsize=26)\n",
    "\n",
    "cax = fig.add_axes([0.2, 0.02, 0.6, 0.01])\n",
    "p.colorbar(cax=cax, orientation='horizontal')\n",
    "p.tight_layout(rect=(0,.022,1,.975))"
   ]
  },
  {
   "cell_type": "code",
   "execution_count": null,
   "metadata": {
    "collapsed": true
   },
   "outputs": [],
   "source": [
    "#free up memory\n",
    "del(fdata)"
   ]
  },
  {
   "cell_type": "markdown",
   "metadata": {},
   "source": [
    "## Looking at omnical'd data"
   ]
  },
  {
   "cell_type": "code",
   "execution_count": null,
   "metadata": {
    "collapsed": true
   },
   "outputs": [],
   "source": [
    "%%bash\n",
    "if [ ${REDO_OMNIRUN} -gt 0 ]; then\n",
    "#do a look for each polariztion\n",
    "    cd ${HERA_DATA_DIR}; for f in zen.*xx.HH.uvc; do ${OMNI_RUN_SCRIPT} -C ${HERA_CAL_FILE} -p xx --ba=${EX_ANTS_X} ${f} --fc2=\"${f}.median.fc.npz\" > /dev/null; done\n",
    "    cd ${HERA_DATA_DIR}; for f in zen.*yy.HH.uvc; do ${OMNI_RUN_SCRIPT} -C ${HERA_CAL_FILE} -p yy --ba=${EX_ANTS_Y} ${f} --fc2=\"${f}.median.fc.npz\" > /dev/null; done\n",
    "fi\n",
    "if [ ${REDO_OMNIAPPLY} -gt 0 ]; then    \n",
    "    cd ${HERA_DATA_DIR}; ${OMNI_APPLY_SCRIPT} -p xx --omnipath=\"%s.npz\" zen.*xx.HH.uvc > /dev/null\n",
    "    cd ${HERA_DATA_DIR}; ${OMNI_APPLY_SCRIPT} -p yy --omnipath=\"%s.npz\" zen.*yy.HH.uvc > /dev/null\n",
    "fi"
   ]
  },
  {
   "cell_type": "code",
   "execution_count": null,
   "metadata": {
    "collapsed": false
   },
   "outputs": [],
   "source": [
    "_, data, _ = capo.miriad.read_files(np.sort(glob.glob('{0}/zen.*.*.HH.uvcO'.format(data_dir))), antstr, ','.join(pols))\n",
    "data = zsa.order_data(data,info)"
   ]
  },
  {
   "cell_type": "code",
   "execution_count": null,
   "metadata": {
    "collapsed": false
   },
   "outputs": [],
   "source": [
    "nratios = (nbls * (nbls-1))/2\n",
    "nc = 3\n",
    "div,mod = divmod(nratios,nc)\n",
    "nr = int(div + np.ceil(mod/3.)) * len(pols)\n",
    "\n",
    "crosses = []\n",
    "bls = data.keys()\n",
    "for k in range(nbls): \n",
    "    for i in range(k+1,nbls): \n",
    "        crosses.append((bls[k],bls[i]))\n",
    "ncross = len(crosses)\n",
    "\n",
    "fig = p.figure(figsize=(16,150))\n",
    "for ip,pol in enumerate(pols):\n",
    "    for i,k in enumerate(crosses):\n",
    "        ax = p.subplot(nr,nc,i+1+ncross*ip)\n",
    "        g = 1.0\n",
    "        capo.plot.waterfall(data[k[0]][pol]*np.conj(data[k[-1]][pol])*g, mode='phs', cmap='jet', mx=np.pi, drng=2*np.pi)    \n",
    "        p.grid(0)\n",
    "#        if divmod(i,nc)[-1] != 0:  ax.yaxis.set_visible(False) \n",
    "#        if divmod(i,nc)[0] != nr-1: ax.xaxis.set_visible(False)\n",
    "        ax.yaxis.set_visible(False)\n",
    "        ax.xaxis.set_visible(False)\n",
    "        #ax.text(.5,.5,str(k)+pol,color='white', fontweight='bold', ha='center', va='center', transform=ax.transAxes)\n",
    "        p.title(str(k)+pol,color='black', fontweight='bold', fontsize=16)\n",
    "\n",
    "        \n",
    "p.xlabel('Channel Number')\n",
    "p.ylabel('Integration')\n",
    "p.suptitle('Phase Ratios of Redundant Visibilities: Post Omnical', fontsize=26)\n",
    "cax = fig.add_axes([0.2, 0.02, 0.6, 0.01])\n",
    "p.colorbar(cax=cax, orientation='horizontal')\n",
    "p.tight_layout(rect=(0,.022,1,.975))"
   ]
  },
  {
   "cell_type": "code",
   "execution_count": null,
   "metadata": {
    "collapsed": true
   },
   "outputs": [],
   "source": [
    "#free up data namespace.\n",
    "del(data)"
   ]
  },
  {
   "cell_type": "code",
   "execution_count": null,
   "metadata": {
    "collapsed": false
   },
   "outputs": [],
   "source": [
    "files=glob.glob('{0}/zen.*.*.xx.HH.uvc'.format(data_dir))\n",
    "filexx = files[np.random.randint(0,len(files))]\n",
    "fileyy = filexx.replace('xx','yy')\n",
    "print filexx, fileyy\n",
    "_, view_data, _ = capo.miriad.read_files([filexx,fileyy], 'cross', ','.join(pols) ,verbose=False)\n",
    "_, view_data_fcal, _ = capo.miriad.read_files([filexx+'F',fileyy+'F'], 'cross', ','.join(pols) ,verbose=False)\n",
    "_, view_data_ocal, _ = capo.miriad.read_files([filexx+'O', fileyy+'O'], 'cross', ','.join(pols) ,verbose=False)\n",
    "view_data = zsa.order_data(view_data,info)\n",
    "view_data_fcal = zsa.order_data(view_data_fcal,info)\n",
    "view_data_ocal = zsa.order_data(view_data_ocal,info)"
   ]
  },
  {
   "cell_type": "code",
   "execution_count": null,
   "metadata": {
    "collapsed": false
   },
   "outputs": [],
   "source": [
    "fig = p.figure(figsize=(15,8))\n",
    "for ip,pol in enumerate(pols):\n",
    "    p.subplot(231 + 3*ip)\n",
    "    plot.omni_view(info.get_reds(), view_data, pol, int=10, chan=425, cursor=False)\n",
    "    if ip==0: p.title('Pre Calibration')\n",
    "    p.subplot(232 + 3*ip)\n",
    "    plot.omni_view(info.get_reds(), view_data_fcal, pol, int=10, chan=425, cursor=False)\n",
    "    if ip==0: p.title('Post Firstcal')\n",
    "    p.subplot(233 + 3*ip)\n",
    "    plot.omni_view(info.get_reds(), view_data_ocal, pol, int=10, chan=425, cursor=False)\n",
    "    if ip==0: p.title('Post Omnical')\n",
    "p.tight_layout(rect=(0,0,1,1))"
   ]
  },
  {
   "cell_type": "code",
   "execution_count": null,
   "metadata": {
    "collapsed": true
   },
   "outputs": [],
   "source": [
    "#Free up more memory!!\n",
    "del(view_data)\n",
    "del(view_data_fcal)\n",
    "del(view_data_ocal)"
   ]
  },
  {
   "cell_type": "markdown",
   "metadata": {},
   "source": [
    "### See omnical notebook for a look at the solutions"
   ]
  },
  {
   "cell_type": "code",
   "execution_count": null,
   "metadata": {
    "collapsed": false
   },
   "outputs": [],
   "source": [
    "# m,g,v,x = omni.from_npz(glob.glob('{0}/zen.*.*.npz'.format(data_dir)))"
   ]
  },
  {
   "cell_type": "code",
   "execution_count": null,
   "metadata": {
    "collapsed": false
   },
   "outputs": [],
   "source": [
    "# def plot_chisq(pol='x'):\n",
    "#     naxes = 19 # 1 bad antenna\n",
    "#     r = np.ceil(np.sqrt(naxes)) + 1\n",
    "#     c = np.ceil(naxes / float(r))\n",
    "#     i=0\n",
    "#     print r,c\n",
    "#     for k in m:\n",
    "#         if k.startswith('c') and k.endswith(pol):\n",
    "#             ax = p.subplot(r,c,i+1)\n",
    "#             p.title(k)\n",
    "#             p.grid(0)\n",
    "#             im = capo.plot.waterfall(m[k], mx =0, drng = 5, cmap='jet')\n",
    "#             if divmod(i,c)[-1] != 0:  ax.yaxis.set_visible(False) \n",
    "#             else: p.ylabel('Integration')\n",
    "#     #        if divmod(i,c)[0] != r-1: ax.xaxis.set_visible(False)\n",
    "#             if i < (r-1)*c:\n",
    "#                 ax.get_xaxis().set_ticklabels([])\n",
    "#             else: p.xlabel('Frequency Bins')\n",
    "#             i+=1\n",
    "#     #rect=0.2, 0.02, 0.6, 0.01\n",
    "#     #cax = fig.add_axes(rect)\n",
    "#     #p.colorbar(im,cax=cax,orientation='horizontal')\n",
    "#     p.tight_layout(rect=(0,.022,1,.975))\n",
    "\n",
    "# for ip,pol in enumerate('xy'):\n",
    "#     fig = p.figure(ip,figsize=(16,16))\n",
    "#     plot_chisq(pol=pol)\n",
    "    \n"
   ]
  },
  {
   "cell_type": "code",
   "execution_count": null,
   "metadata": {
    "collapsed": false
   },
   "outputs": [],
   "source": [
    "# p.figure(figsize=(12,10))\n",
    "# for ant in g['x'].keys():\n",
    "#     p.subplot(211)\n",
    "#     p.semilogy(range(1024),np.abs(g['x'][ant][10]),label=str(ant))\n",
    "#     p.ylim(.05,5)\n",
    "#     p.title('Omnical Gains (single integration)')\n",
    "#     p.ylabel('Log Amplitude')\n",
    "#     p.subplot(212)\n",
    "#     p.title('Omnical Gains in Phase(single integration)')\n",
    "#     p.xlabel('Channel Number')\n",
    "#     p.ylabel('Phase (radians)')\n",
    "#     p.plot(np.angle(g['x'][ant][10]),label=str(ant))"
   ]
  },
  {
   "cell_type": "code",
   "execution_count": null,
   "metadata": {
    "collapsed": true
   },
   "outputs": [],
   "source": [
    "# p.figure(figsize=(11,8))\n",
    "# fqs = np.linspace(.1,.2,1024)\n",
    "# for k in g['x']:\n",
    "#     p.plot(fqs[100:-100],np.unwrap(np.angle(g['x'][k][10,100:-100])))\n",
    "        \n",
    "# p.ylabel('Phase (radians)')\n",
    "# p.xlabel('Frequency (GHz)')\n",
    "# p.title('Unwrapped gain solutions in phase')"
   ]
  },
  {
   "cell_type": "code",
   "execution_count": null,
   "metadata": {
    "collapsed": false
   },
   "outputs": [],
   "source": [
    "# #pick some random baselines\n",
    "# bls = []\n",
    "# for k in info.get_reds():\n",
    "#     bls+=k\n",
    "# bls = np.array(bls)\n",
    "# plot_these = bls[np.random.randint(0,len(bls),5)]\n",
    "\n",
    "# #get the mappings of visibilities to the stored mdl-visibilities in the \n",
    "# redmapping = {}\n",
    "# for k in v['xx'].keys():\n",
    "#     for gp in info.get_reds():\n",
    "#         if k in gp:\n",
    "#             for kk in gp : redmapping[kk] = k\n",
    "# #get the baselines in string format.                \n",
    "# s = ''\n",
    "# for k in plot_these:\n",
    "#     s += str(k[0])+'_'+str(k[1])+','\n",
    "# s = s[:-1]"
   ]
  },
  {
   "cell_type": "code",
   "execution_count": null,
   "metadata": {
    "collapsed": true
   },
   "outputs": [],
   "source": [
    "#stack = np.concatenate([data[k]['xx'] for k in data if not 81 in k]).reshape(-1,840,1024)"
   ]
  },
  {
   "cell_type": "code",
   "execution_count": null,
   "metadata": {
    "collapsed": true
   },
   "outputs": [],
   "source": [
    "# fig = p.figure(figsize=(16,20))\n",
    "# for i,st in enumerate(stack):\n",
    "#     res = st - v['xx'][redmapping[keys[i]]]\n",
    "#     ax = p.subplot(4,5,i+1)\n",
    "#     p.title('{0}'.format(keys[i]))\n",
    "#     plot.waterfall(np.vstack((st,res)), mode='phs', cmap='jet', mx=np.pi, drng=2*np.pi)\n",
    "#     ax.get_xaxis().set_visible(False)\n",
    "#     ax.get_yaxis().set_visible(False)\n",
    "    \n",
    "# p.tight_layout(rect=(0,0,1,.96))    \n",
    "# p.suptitle('Deviations From Redundancy', fontsize=26)"
   ]
  }
 ],
 "metadata": {
  "kernelspec": {
   "display_name": "Python 2",
   "language": "python",
   "name": "python2"
  },
  "language_info": {
   "codemirror_mode": {
    "name": "ipython",
    "version": 2
   },
   "file_extension": ".py",
   "mimetype": "text/x-python",
   "name": "python",
   "nbconvert_exporter": "python",
   "pygments_lexer": "ipython2",
   "version": "2.7.12"
  }
 },
 "nbformat": 4,
 "nbformat_minor": 0
}
