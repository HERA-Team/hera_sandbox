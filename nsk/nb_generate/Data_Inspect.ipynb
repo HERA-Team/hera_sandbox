{
 "cells": [
  {
   "cell_type": "markdown",
   "metadata": {},
   "source": [
    "# Inspecting Raw Data, Metrics and Calibration Solutions"
   ]
  },
  {
   "cell_type": "code",
   "execution_count": 2,
   "metadata": {
    "collapsed": true
   },
   "outputs": [],
   "source": [
    "%matplotlib inline\n",
    "import matplotlib\n",
    "import matplotlib.pyplot as plt\n",
    "import numpy as np\n",
    "import hera_qm as hqm\n",
    "import hera_cal as hc\n",
    "import aipy\n",
    "from pyuvdata import UVCal, UVData, UVFITS\n",
    "import os\n",
    "import sys\n",
    "import glob\n",
    "from memory_profiler import memory_usage as mu\n",
    "import uvtools as uvt"
   ]
  },
  {
   "cell_type": "markdown",
   "metadata": {},
   "source": [
    "## Setup Env Vars\n"
   ]
  },
  {
   "cell_type": "code",
   "execution_count": 3,
   "metadata": {
    "collapsed": true
   },
   "outputs": [],
   "source": [
    "# get data location\n",
    "data_path = os.environ['DATA_PATH']\n",
    "calfile = os.environ['CALFILE']\n",
    "\n",
    "# get redundant info\n",
    "aa = aipy.cal.get_aa('hsa7458_v001', np.array([.150]))\n",
    "info = hc.omni.aa_to_info(aa)\n",
    "red_bls = np.array(info.get_reds())\n",
    "ants = np.unique(np.concatenate(red_bls))\n",
    "Nants = len(ants)\n",
    "Nside = int(np.ceil(np.sqrt(Nants)))\n",
    "Yside = int(np.ceil(float(Nants)/Nside))"
   ]
  },
  {
   "cell_type": "markdown",
   "metadata": {},
   "source": [
    "## Raw Autocorrelations"
   ]
  },
  {
   "cell_type": "code",
   "execution_count": 4,
   "metadata": {},
   "outputs": [
    {
     "name": "stderr",
     "output_type": "stream",
     "text": [
      "Altitude is not present in Miriad file, using known location values for HERA.\n",
      "antenna number 112 has visibilities associated with it, but it has a position of (0,0,0)\n",
      "antenna_diameters is not set. Using known values for HERA.\n"
     ]
    }
   ],
   "source": [
    "# get xx and yy files\n",
    "file_index = 0\n",
    "xxfiles = glob.glob(\"{0}/zen.2457555.5*.xx.HH.uvc\".format(data_path))\n",
    "yyfiles = glob.glob(\"{0}/zen.2457555.5*.yy.HH.uvc\".format(data_path))\n",
    "\n",
    "xxfile = xxfiles[file_index]\n",
    "yyfile = yyfiles[file_index]\n",
    "xxfile_base = os.path.basename(xxfile)\n",
    "yyfile_base = os.path.basename(yyfile)\n",
    "\n",
    "# Load data\n",
    "uvd_xx = UVData()\n",
    "uvd_xx.read_miriad(xxfile)\n",
    "uvd_yy = UVData()\n",
    "uvd_yy.read_miriad(yyfile)\n",
    "\n",
    "# Get metadata\n",
    "freqs = uvd_xx.freq_array.squeeze() / 1e6\n",
    "times = uvd_xx.time_array.reshape(uvd_xx.Nbls, uvd_xx.Ntimes)[0, :]\n",
    "Nfreqs = len(freqs)\n",
    "Ntimes = len(times)"
   ]
  },
  {
   "cell_type": "code",
   "execution_count": null,
   "metadata": {
    "collapsed": true
   },
   "outputs": [],
   "source": [
    "# plot autos\n",
    "t_index = 0\n",
    "jd = times[t_index]\n",
    "xlim = (-50, Nfreqs+50)\n",
    "ylim = (1e-2, 1e3)\n",
    "\n",
    "fig, axes = plt.subplots(Yside, Nside, figsize=(14,14), dpi=75)\n",
    "fig.subplots_adjust(wspace=0.2, hspace=0.2)\n",
    "fig.suptitle(\"JD = {0}\".format(jd))\n",
    "fig.tight_layout(rect=(0, 0, 1, 0.95))\n",
    "\n",
    "k = 0\n",
    "for i in range(Yside):\n",
    "    for j in range(Nside):\n",
    "        ax = axes[i,j]\n",
    "        ax.set_xlim(xlim)\n",
    "        ax.set_ylim(ylim)\n",
    "        if k < Nants:\n",
    "            px, = ax.plot(np.abs(uvd_xx.get_data((ants[k], ants[k]))[t_index]), color='steelblue', alpha=0.5, linewidth=3)\n",
    "            py, = ax.plot(np.abs(uvd_yy.get_data((ants[k], ants[k]))[t_index]), color='darkorange', alpha=0.5, linewidth=3)\n",
    "            ax.set_yscale('log')\n",
    "            ax.grid(True)\n",
    "            ax.set_title(str(ants[k]), fontsize=14)\n",
    "            if k == 0:\n",
    "                ax.legend([px, py], ['X', 'Y'])\n",
    "        else:\n",
    "            ax.axis('off')\n",
    "        if j != 0:\n",
    "            ax.set_yticklabels([])\n",
    "        else:\n",
    "            ax.set_ylabel('amplitude', fontsize=14)\n",
    "        if i != Yside-1:\n",
    "            ax.set_xticklabels([])\n",
    "        else:\n",
    "            ax.set_xlabel('freq channel', fontsize=14)\n",
    "\n",
    "        k += 1"
   ]
  },
  {
   "cell_type": "markdown",
   "metadata": {
    "collapsed": true
   },
   "source": [
    "## Ant Metrics"
   ]
  },
  {
   "cell_type": "code",
   "execution_count": null,
   "metadata": {
    "collapsed": true
   },
   "outputs": [],
   "source": [
    "antfile = xxfile_base.split('.')\n",
    "antfile.pop(3)\n",
    "antfile = os.path.join(data_path, '.'.join(antfile) + '.ant_metrics.json')\n",
    "ant_metrics = hqm.ant_metrics.load_antenna_metrics(antfile)"
   ]
  },
  {
   "cell_type": "code",
   "execution_count": null,
   "metadata": {
    "collapsed": true
   },
   "outputs": [],
   "source": [
    "def plot_metric(metrics, ants=None, antpols=None, title='', ylabel='Modified z-Score', xlabel=''):\n",
    "    '''Helper function for quickly plotting an individual antenna metric.'''\n",
    "\n",
    "    if ants is None:\n",
    "        ants = list(set([key[0] for key in metrics.keys()]))\n",
    "    if antpols is None:\n",
    "        antpols = list(set([key[1] for key in metrics.keys()]))\n",
    "\n",
    "    for antpol in antpols:\n",
    "        for i,ant in enumerate(ants):\n",
    "            metric = 0\n",
    "            if metrics.has_key((ant,antpol)):\n",
    "                metric = metrics[(ant,antpol)]\n",
    "            plt.plot(i,metric,'.')\n",
    "            plt.annotate(str(ant)+antpol,xy=(i,metrics[(ant,antpol)]))\n",
    "        plt.gca().set_prop_cycle(None)\n",
    "    plt.title(title)\n",
    "    plt.ylabel(ylabel)\n",
    "    plt.xlabel(xlabel)"
   ]
  },
  {
   "cell_type": "code",
   "execution_count": null,
   "metadata": {
    "collapsed": true
   },
   "outputs": [],
   "source": [
    "plt.figure()\n",
    "plot_metric(ant_metrics['final_mod_z_scores']['meanVij'], \n",
    "            title = 'Mean Vij Modified z-Score')\n",
    "\n",
    "plt.figure()\n",
    "plot_metric(ant_metrics['final_mod_z_scores']['redCorr'],\n",
    "            title = 'Redundant Visibility Correlation Modified z-Score')\n",
    "\n",
    "plt.figure()\n",
    "plot_metric(ant_metrics['final_mod_z_scores']['meanVijXPol'], antpols=['x'],\n",
    "            title = 'Modified z-score of (Vxy+Vyx)/(Vxx+Vyy)')\n",
    "\n",
    "plt.figure()\n",
    "plot_metric(ant_metrics['final_mod_z_scores']['redCorrXPol'], antpols=['x'],\n",
    "            title = 'Modified z-Score of Power Correlation Ratio Cross/Same')\n"
   ]
  },
  {
   "cell_type": "markdown",
   "metadata": {},
   "source": [
    "## Firstcal Solutions and Metrics"
   ]
  },
  {
   "cell_type": "code",
   "execution_count": null,
   "metadata": {
    "collapsed": true
   },
   "outputs": [],
   "source": [
    "fcfile_xx = os.path.join(data_path, xxfile_base + '.first.calfits')\n",
    "fcfile_yy = os.path.join(data_path, yyfile_base + '.first.calfits')\n",
    "FC_xx = hqm.firstcal_metrics.FirstCal_Metrics(fcfile_xx)\n",
    "FC_yy = hqm.firstcal_metrics.FirstCal_Metrics(fcfile_yy)\n",
    "\n",
    "FC_xx.load_metrics(fcfile_xx + '.firstcal_metrics.json')\n",
    "FC_yy.load_metrics(fcfile_yy + '.firstcal_metrics.json')"
   ]
  },
  {
   "cell_type": "code",
   "execution_count": null,
   "metadata": {
    "collapsed": true
   },
   "outputs": [],
   "source": [
    "# print good or bad sols\n",
    "print \"Good firstcal solution on XX pol :\",FC_xx.metrics['good_sol']\n",
    "print \"Good firstcal solution on YY pol :\",FC_yy.metrics['good_sol']\n",
    "print \"\"\n",
    "print \"Bad Ants on XX pol : \", FC_xx.metrics['bad_ants']\n",
    "print \"Bad Ants on YY pol : \", FC_yy.metrics['bad_ants']"
   ]
  },
  {
   "cell_type": "code",
   "execution_count": null,
   "metadata": {
    "collapsed": true
   },
   "outputs": [],
   "source": [
    "FC_xx.plot_delays()"
   ]
  },
  {
   "cell_type": "code",
   "execution_count": null,
   "metadata": {
    "collapsed": true
   },
   "outputs": [],
   "source": [
    "FC_yy.plot_delays()"
   ]
  },
  {
   "cell_type": "code",
   "execution_count": null,
   "metadata": {
    "collapsed": true
   },
   "outputs": [],
   "source": [
    "FC_xx.plot_stds(xaxis='ant')"
   ]
  },
  {
   "cell_type": "code",
   "execution_count": null,
   "metadata": {
    "collapsed": true
   },
   "outputs": [],
   "source": [
    "FC_yy.plot_stds(xaxis='ant')"
   ]
  },
  {
   "cell_type": "markdown",
   "metadata": {
    "collapsed": true
   },
   "source": [
    "## Omnical Solutions and Metrics"
   ]
  },
  {
   "cell_type": "code",
   "execution_count": null,
   "metadata": {
    "collapsed": true
   },
   "outputs": [],
   "source": [
    "# get files\n",
    "ocfile_xx = os.path.join(data_path, xxfile_base + '.omni.calfits')\n",
    "ocmodfile_xx = os.path.join(data_path, xxfile_base + '.vis.uvfits')\n",
    "ocmetfile_xx = ocfile_xx + '.omni_metrics.json'\n",
    "ocfile_yy = os.path.join(data_path, yyfile_base + '.omni.calfits')\n",
    "ocmodfile_yy = os.path.join(data_path, yyfile_base + '.vis.uvfits')\n",
    "ocmetfile_yy = ocfile_yy + '.omni_metrics.json'\n",
    "\n",
    "# load omnical gain solutions and metrics\n",
    "OM_xx = hqm.omnical_metrics.OmniCal_Metrics(ocfile_xx)\n",
    "OM_yy = hqm.omnical_metrics.OmniCal_Metrics(ocfile_yy)\n",
    "OM_xx.load_metrics(ocmetfile_xx)\n",
    "OM_yy.load_metrics(ocmetfile_yy)\n",
    "OM_xx.firstcal_delays, OM_xx.firstcal_gains = hqm.omnical_metrics.load_firstcal_gains(fcfile_xx)\n",
    "OM_yy.firstcal_delays, OM_yy.firstcal_gains = hqm.omnical_metrics.load_firstcal_gains(fcfile_yy)\n",
    "\n",
    "# load omnical model vis\n",
    "uvom_xx = UVFITS()\n",
    "uvom_xx.read_uvfits(ocmodfile_xx)\n",
    "uvom_yy = UVFITS()\n",
    "uvom_yy.read_uvfits(ocmodfile_yy)"
   ]
  },
  {
   "cell_type": "code",
   "execution_count": null,
   "metadata": {
    "collapsed": true
   },
   "outputs": [],
   "source": [
    "# print good or bad sols\n",
    "print \"Good omnical phase noise solution on XX pol :\",OM_xx.metrics['phs_noise_good_sol']\n",
    "print \"omnical phase noise bad ants :\", OM_xx.metrics['phs_noise_bad_ants']\n",
    "print \"\"\n",
    "print \"Good omnical phase std solution on XX pol :\",OM_xx.metrics['phs_std_good_sol']\n",
    "print \"omnical phase std bad ants :\", OM_xx.metrics['phs_std_bad_ants']"
   ]
  },
  {
   "cell_type": "code",
   "execution_count": null,
   "metadata": {
    "collapsed": true
   },
   "outputs": [],
   "source": [
    "# print good or bad sols\n",
    "print \"Good omnical phase noise solution on YY pol :\",OM_yy.metrics['phs_noise_good_sol']\n",
    "print \"omnical phase noise bad ants :\", OM_yy.metrics['phs_noise_bad_ants']\n",
    "print \"\"\n",
    "print \"Good omnical phase std solution on YY pol :\",OM_yy.metrics['phs_std_good_sol']\n",
    "print \"omnical phase std bad ants :\", OM_yy.metrics['phs_std_bad_ants']"
   ]
  },
  {
   "cell_type": "code",
   "execution_count": null,
   "metadata": {
    "collapsed": true
   },
   "outputs": [],
   "source": [
    "# look at XX gain solutions\n",
    "OM_xx.plot_gains(divide_fc=True, plot_type='phs')\n",
    "OM_xx.plot_gains(divide_fc=True, plot_type='amp')"
   ]
  },
  {
   "cell_type": "code",
   "execution_count": null,
   "metadata": {
    "collapsed": true
   },
   "outputs": [],
   "source": [
    "# look at YY gain solutions\n",
    "OM_yy.plot_gains(divide_fc=True, plot_type='phs')\n",
    "OM_yy.plot_gains(divide_fc=True, plot_type='amp')"
   ]
  },
  {
   "cell_type": "code",
   "execution_count": null,
   "metadata": {
    "collapsed": true
   },
   "outputs": [],
   "source": [
    "# look at xx metrics\n",
    "hqm.omnical_metrics.plot_phs_metric(OM_xx.metrics, plot_type='std')\n",
    "hqm.omnical_metrics.plot_phs_metric(OM_xx.metrics, plot_type='ft')"
   ]
  },
  {
   "cell_type": "code",
   "execution_count": null,
   "metadata": {
    "collapsed": true
   },
   "outputs": [],
   "source": [
    "# look at yy metrics\n",
    "hqm.omnical_metrics.plot_phs_metric(OM_yy.metrics, plot_type='std')\n",
    "hqm.omnical_metrics.plot_phs_metric(OM_yy.metrics, plot_type='ft')"
   ]
  }
 ],
 "metadata": {
  "kernelspec": {
   "display_name": "Python 2",
   "language": "python",
   "name": "python2"
  },
  "language_info": {
   "codemirror_mode": {
    "name": "ipython",
    "version": 2
   },
   "file_extension": ".py",
   "mimetype": "text/x-python",
   "name": "python",
   "nbconvert_exporter": "python",
   "pygments_lexer": "ipython2",
   "version": "2.7.13"
  }
 },
 "nbformat": 4,
 "nbformat_minor": 2
}
