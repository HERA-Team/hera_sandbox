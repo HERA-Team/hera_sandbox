{
 "cells": [
  {
   "cell_type": "code",
   "execution_count": 1,
   "metadata": {},
   "outputs": [],
   "source": [
    "%matplotlib inline\n",
    "from __future__ import print_function, division, absolute_import\n",
    "\n",
    "import numpy as np\n",
    "import matplotlib.pyplot as plt\n",
    "from pyuvdata import UVData"
   ]
  },
  {
   "cell_type": "markdown",
   "metadata": {},
   "source": [
    "# Partial Reading\n",
    "UVH5 supports \"select-on-read\" type operations like miriad and uvdata. It also allows for reading in just the metadata from a file without actually touching the data."
   ]
  },
  {
   "cell_type": "code",
   "execution_count": 2,
   "metadata": {},
   "outputs": [
    {
     "name": "stderr",
     "output_type": "stream",
     "text": [
      "Mean of empty slice.\n",
      "invalid value encountered in double_scalars\n"
     ]
    },
    {
     "name": "stdout",
     "output_type": "stream",
     "text": [
      "File exists; clobbering\n"
     ]
    }
   ],
   "source": [
    "# read in miriad file to convert to uvh5\n",
    "uvd = UVData()\n",
    "infile = '/lustre/aoc/projects/hera/H1C_IDR2/IDR2_1/2458098/zen.2458098.12552.xx.HH.uvOCRS'\n",
    "outfile = '/lustre/aoc/projects/hera/plaplant/test/uvh5_partial_io/zen.2458098.12552.xx.HH.h5'\n",
    "uvd.read_miriad(infile)\n",
    "uvd.write_uvh5(outfile, clobber=True)"
   ]
  },
  {
   "cell_type": "code",
   "execution_count": 3,
   "metadata": {},
   "outputs": [
    {
     "name": "stdout",
     "output_type": "stream",
     "text": [
      "Ntimes:  60\n",
      "Nfreqs:  1024\n",
      "Nants_data:  52\n",
      "uvw_array:  [[ 0.00000000e+00  0.00000000e+00  0.00000000e+00]\n",
      " [ 1.46078427e+01  5.57885268e-02 -9.77542666e-03]\n",
      " [ 2.92156851e+01  1.11577054e-01 -1.95842754e-02]\n",
      " ...\n",
      " [ 0.00000000e+00  0.00000000e+00  0.00000000e+00]\n",
      " [ 1.46078392e+01  5.57866607e-02  1.41013574e-04]\n",
      " [ 0.00000000e+00  0.00000000e+00  0.00000000e+00]]\n",
      "ant_1_array:  [  0   0   0 ... 142 142 143]\n",
      "data_array:  None\n"
     ]
    }
   ],
   "source": [
    "# read in just the file metadata\n",
    "uvd2 = UVData()\n",
    "uvd2.read_uvh5(outfile, read_data=False)\n",
    "\n",
    "# print out some metadata\n",
    "print(\"Ntimes: \", uvd2.Ntimes)\n",
    "print(\"Nfreqs: \", uvd2.Nfreqs)\n",
    "print(\"Nants_data: \", uvd2.Nants_data)\n",
    "print(\"uvw_array: \", uvd2.uvw_array)\n",
    "print(\"ant_1_array: \", uvd2.ant_1_array)\n",
    "\n",
    "# try to print data array\n",
    "print(\"data_array: \", uvd2.data_array)"
   ]
  },
  {
   "cell_type": "code",
   "execution_count": 4,
   "metadata": {},
   "outputs": [
    {
     "name": "stdout",
     "output_type": "stream",
     "text": [
      "Nants_data:  2\n",
      "data_array shape:  (60, 1, 1024, 1)\n"
     ]
    }
   ],
   "source": [
    "# perform select-on-read, like uvfits or miriad\n",
    "# read certain baselines (i.e., waterfalls)\n",
    "bl = (0, 1, 'xx')\n",
    "uvd2.read_uvh5(outfile, bls=[bl])\n",
    "\n",
    "# show updated metadata\n",
    "print(\"Nants_data: \", uvd2.Nants_data)\n",
    "print(\"data_array shape: \", uvd2.data_array.shape)"
   ]
  },
  {
   "cell_type": "code",
   "execution_count": 5,
   "metadata": {},
   "outputs": [
    {
     "name": "stdout",
     "output_type": "stream",
     "text": [
      "Nants_data:  52\n",
      "Nfreqs:  512\n",
      "data_array shape:  (82680, 1, 512, 1)\n"
     ]
    }
   ],
   "source": [
    "# read certain frequencies\n",
    "freq_chans = np.arange(512)\n",
    "uvd2.read_uvh5(outfile, freq_chans=freq_chans)\n",
    "\n",
    "# show updated metadata\n",
    "print(\"Nants_data: \", uvd2.Nants_data)\n",
    "print(\"Nfreqs: \", uvd2.Nfreqs)\n",
    "print(\"data_array shape: \", uvd2.data_array.shape)"
   ]
  },
  {
   "cell_type": "code",
   "execution_count": 6,
   "metadata": {},
   "outputs": [
    {
     "name": "stdout",
     "output_type": "stream",
     "text": [
      "Ntimes:  30\n",
      "data_array shape:  (41340, 1, 1024, 1)\n"
     ]
    }
   ],
   "source": [
    "# read certain times\n",
    "uvd2.read_uvh5(outfile, read_data=False)\n",
    "times = np.unique(uvd2.time_array)\n",
    "Ntimes = len(times)\n",
    "uvd2.read_uvh5(outfile, times=times[:(Ntimes // 2)])\n",
    "\n",
    "# show updated metadata\n",
    "print(\"Ntimes: \", uvd2.Ntimes)\n",
    "print(\"data_array shape: \", uvd2.data_array.shape)"
   ]
  },
  {
   "cell_type": "code",
   "execution_count": 7,
   "metadata": {},
   "outputs": [
    {
     "name": "stdout",
     "output_type": "stream",
     "text": [
      "Ntimes:  30\n",
      "Nfreqs:  512\n",
      "data_array shape:  (41340, 1, 512, 1)\n"
     ]
    }
   ],
   "source": [
    "# select along multiple axes\n",
    "uvd2.read_uvh5(outfile, times=times[:(Ntimes // 2)], freq_chans=freq_chans)\n",
    "\n",
    "# show updated metadata\n",
    "print(\"Ntimes: \", uvd2.Ntimes)\n",
    "print(\"Nfreqs: \", uvd2.Nfreqs)\n",
    "print(\"data_array shape: \", uvd2.data_array.shape)"
   ]
  },
  {
   "cell_type": "markdown",
   "metadata": {},
   "source": [
    "# Partial Writing\n",
    "New for UVH5, we are now able to write data out in parts. It requires first initializing an empty file using an object that has the proper metadata of the final object. Then, the user writes the data out in parts, without needing to save all of the intermediate data in memory."
   ]
  },
  {
   "cell_type": "code",
   "execution_count": 8,
   "metadata": {},
   "outputs": [
    {
     "name": "stdout",
     "output_type": "stream",
     "text": [
      "File exists; clobbering\n"
     ]
    }
   ],
   "source": [
    "# create a new file on disk from object's metadata\n",
    "uvd2 = UVData()\n",
    "uvd2.read_uvh5(outfile, read_data=False)\n",
    "\n",
    "partfile = '/lustre/aoc/projects/hera/plaplant/test/uvh5_partial_io/zen.2458098.12552.xx.HH.partial.h5'\n",
    "uvd2.initialize_uvh5_file(partfile, clobber=True)"
   ]
  },
  {
   "cell_type": "code",
   "execution_count": 9,
   "metadata": {},
   "outputs": [],
   "source": [
    "# read in the lower half of the band and apply different scalings to both\n",
    "Nfreqs = uvd2.Nfreqs\n",
    "Hfreqs = Nfreqs // 2\n",
    "freq_inds1 = np.arange(Hfreqs)\n",
    "freq_inds2 = np.arange(Hfreqs, Nfreqs)\n",
    "uvd3 = UVData()\n",
    "uvd3.read_uvh5(outfile, freq_chans=freq_inds1)\n",
    "data_array = 0.5 * uvd3.data_array\n",
    "flag_array = uvd3.flag_array\n",
    "nsample_array = uvd3.nsample_array\n",
    "\n",
    "uvd2.write_uvh5_part(partfile, data_array, flag_array, nsample_array, freq_chans=freq_inds1)\n",
    "\n",
    "uvd3.read_uvh5(outfile, freq_chans=freq_inds2)\n",
    "data_array = 2.0 * uvd3.data_array\n",
    "flag_array = uvd3.flag_array\n",
    "nsample_array = uvd3.nsample_array\n",
    "\n",
    "uvd2.write_uvh5_part(partfile, data_array, flag_array, nsample_array, freq_chans=freq_inds2)"
   ]
  },
  {
   "cell_type": "code",
   "execution_count": null,
   "metadata": {},
   "outputs": [],
   "source": []
  }
 ],
 "metadata": {
  "kernelspec": {
   "display_name": "Python 2",
   "language": "python",
   "name": "python2"
  },
  "language_info": {
   "codemirror_mode": {
    "name": "ipython",
    "version": 2
   },
   "file_extension": ".py",
   "mimetype": "text/x-python",
   "name": "python",
   "nbconvert_exporter": "python",
   "pygments_lexer": "ipython2",
   "version": "2.7.15"
  }
 },
 "nbformat": 4,
 "nbformat_minor": 2
}
